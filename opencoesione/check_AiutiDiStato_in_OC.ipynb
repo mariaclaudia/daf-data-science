{
 "cells": [
  {
   "cell_type": "markdown",
   "metadata": {},
   "source": [
    "\n",
    "## Find data for soggetti in lista aiuti MISE"
   ]
  },
  {
   "cell_type": "code",
   "execution_count": null,
   "metadata": {},
   "outputs": [],
   "source": [
    "## Runs with \"daf\" enviroment in repo\n",
    "\n",
    "%config Completer.use_jedi = False #fix TAB slowness with big frames\n",
    "\n",
    "import numpy as np\n",
    "import pandas as pd\n",
    "import seaborn as sns\n",
    "import glob\n",
    "import gc #garbage collector\n",
    "from matplotlib import pyplot as plt\n",
    "plt.rcParams[\"figure.figsize\"] = (20,12)\n",
    "\n",
    "def load_and_stack_data(prefix):\n",
    "    fileList = glob.glob('./../pac_opencoesione/%s*.csv' % prefix)\n",
    "    \n",
    "    if prefix == 'progetti':\n",
    "        dtypesDict = pd.read_csv(\n",
    "            './openCoesione_dtypes.csv', index_col='Variabile', squeeze=True).to_dict()\n",
    "        dateCols = [name for name in dtypesDict.keys() if dtypesDict[name] == 'datetime64']\n",
    "        for name in dateCols: del dtypesDict[name]\n",
    "        frames = list(map(lambda f: pd.read_csv(\n",
    "            f, sep=';', dtype=dtypesDict, index_col=0, na_values=[' ', '  ']), fileList))\n",
    "        data = pd.concat(frames, axis=0)\n",
    "        data[dateCols] = data[dateCols].apply(lambda x: pd.to_datetime(x, infer_datetime_format=True))\n",
    "        \n",
    "        # drop duplicates including index when checking\n",
    "        indexColName = data.index.name\n",
    "        data.reset_index(inplace=True)\n",
    "        data.drop_duplicates(inplace=True)\n",
    "        data.set_index(indexColName, inplace=True)\n",
    "        \n",
    "        # clean remaining duplicate indexes by picking the row that has fewer N/A\n",
    "        bDuplicate = data.index.duplicated(keep=False)\n",
    "        if any(bDuplicate):\n",
    "            print('%i duplicate indexes found' % sum(bDuplicate))\n",
    "            duplRows = data[bDuplicate].copy()\n",
    "            duplRows['NumberNA'] = duplRows.isna().sum(axis=1)\n",
    "            duplRows.sort_values('NumberNA', inplace=True)\n",
    "            # recomibine into final frame\n",
    "            data = pd.concat([data[~bDuplicate], duplRows[duplRows.index.duplicated(keep='first')]])\n",
    "        \n",
    "    else:\n",
    "        # infer types for other datasets (temporary)\n",
    "        frames = list(map(lambda f: pd.read_csv(f, sep=';', index_col=False), fileList))\n",
    "        data = pd.concat(frames, axis=0)\n",
    "        \n",
    "        # drop duplicates excluding index\n",
    "        data.drop_duplicates(inplace=True)\n",
    "        \n",
    "    print('Imported %s' % prefix)\n",
    "    return data\n",
    "\n"
   ]
  },
  {
   "cell_type": "code",
   "execution_count": null,
   "metadata": {},
   "outputs": [],
   "source": [
    "listaMise =  pd.read_csv('./../mise_aiuti/data/D_general/ListIvaCodFisc.csv', sep=';', index_col=False)\n",
    "\n",
    "# load soggetti from OpenCoesione\n",
    "soggetti = load_and_stack_data('soggetti')"
   ]
  },
  {
   "cell_type": "code",
   "execution_count": null,
   "metadata": {},
   "outputs": [],
   "source": [
    "print('Numero Match: %i' % len(listaMise.values[listaMise.isin(soggetti.OC_CODICE_FISCALE_SOGG.values)]))\n",
    "\n",
    "datiCompletiMatch = soggetti[soggetti.OC_CODICE_FISCALE_SOGG.isin(listaMise.CODICE_FISCALE_BENEFICIARIO)]\n",
    "print(datiCompletiMatch.head(20))\n",
    "\n"
   ]
  },
  {
   "cell_type": "code",
   "execution_count": null,
   "metadata": {},
   "outputs": [],
   "source": [
    "datiCompletiMatch.COD_COMUNE_SEDE_SOGG.\n",
    "\n",
    "\n"
   ]
  },
  {
   "cell_type": "markdown",
   "metadata": {},
   "source": [
    "## Soggetti con piu' progetti"
   ]
  },
  {
   "cell_type": "code",
   "execution_count": null,
   "metadata": {},
   "outputs": [],
   "source": [
    "print(datiCompletiMatch.groupby('OC_CODICE_FISCALE_SOGG')['COD_LOCALE_PROGETTO'].nunique().sort_values(ascending=False))\n"
   ]
  }
 ],
 "metadata": {
  "kernelspec": {
   "display_name": "Python 3",
   "language": "python",
   "name": "python3"
  },
  "language_info": {
   "codemirror_mode": {
    "name": "ipython",
    "version": 3
   },
   "file_extension": ".py",
   "mimetype": "text/x-python",
   "name": "python",
   "nbconvert_exporter": "python",
   "pygments_lexer": "ipython3",
   "version": "3.6.4"
  }
 },
 "nbformat": 4,
 "nbformat_minor": 2
}
