{
 "cells": [
  {
   "cell_type": "markdown",
   "metadata": {},
   "source": [
    "# Analisi Costi Servizi Regioni\n",
    "\n"
   ]
  },
  {
   "cell_type": "code",
   "execution_count": 13,
   "metadata": {},
   "outputs": [
    {
     "data": {
      "text/html": [
       "<script>requirejs.config({paths: { 'plotly': ['https://cdn.plot.ly/plotly-latest.min']},});if(!window.Plotly) {{require(['plotly'],function(plotly) {window.Plotly=plotly;});}}</script>"
      ],
      "text/vnd.plotly.v1+html": [
       "<script>requirejs.config({paths: { 'plotly': ['https://cdn.plot.ly/plotly-latest.min']},});if(!window.Plotly) {{require(['plotly'],function(plotly) {window.Plotly=plotly;});}}</script>"
      ]
     },
     "metadata": {},
     "output_type": "display_data"
    }
   ],
   "source": [
    "import numpy as np\n",
    "import pandas as pd\n",
    "\n",
    "# set the max number of columns to display\n",
    "pd.options.display.max_columns = 98\n",
    "\n",
    "import matplotlib.pyplot as plt\n",
    "import seaborn as sns\n",
    "sns.set(color_codes=True)\n",
    "\n",
    "import plotly.offline as py\n",
    "import plotly.plotly as py_on\n",
    "import plotly.graph_objs as go\n",
    "from plotly import tools\n",
    "import plotly.figure_factory as ff\n",
    "py.init_notebook_mode(connected=True)\n",
    "\n",
    "from IPython.display import Image\n",
    "from IPython.display import display"
   ]
  },
  {
   "cell_type": "code",
   "execution_count": 50,
   "metadata": {
    "scrolled": true
   },
   "outputs": [
    {
     "data": {
      "text/plain": [
       "(26799, 86)"
      ]
     },
     "execution_count": 50,
     "metadata": {},
     "output_type": "execute_result"
    }
   ],
   "source": [
    "df = pd.read_csv('./data/opencivitas_spesa_storica_dati_irpef.csv')\n",
    "df.shape"
   ]
  },
  {
   "cell_type": "markdown",
   "metadata": {},
   "source": [
    "## Quali sono i costi medi/cittadino per regione per l'erogazione dei servizi primari?\n",
    "\n",
    "Dati i serivizi primari:\n",
    "\n",
    "- entrate tributarie\n",
    "- ufficio tecnico\n",
    "- anagrafe, stato civile, leva e servizio statistico\n",
    "- altri servizi generali\n",
    "- polizia locale\n",
    "- istruzione pubblica\n",
    "- viabilita'\n",
    "- trasporto pubblico e servizi connessi\n",
    "- gestione del territorio\n",
    "- ambiente\n",
    "- settore sociale\n",
    "- asili nido\n",
    "\n",
    "i grafici sotto mostrano i costi per servizio nelle varie regioni mediati per il periodo 2010-2013"
   ]
  },
  {
   "cell_type": "code",
   "execution_count": 242,
   "metadata": {
    "scrolled": true
   },
   "outputs": [],
   "source": [
    "#group by Anno and Regione\n",
    "df_regioni = df.groupby(['ANNO', \"Regione\"]).sum().reset_index()\n",
    "\n",
    "# select the columns\n",
    "dimensioni = ['ANNO', 'Regione', 'tot_contribuenti']\n",
    "costi_columns = [c for c in df.columns if c.startswith('costo')]\n",
    "costi_columns.remove('costo spesa totale')\n",
    "\n",
    "#select the columns in the df\n",
    "df_costi = df_regioni[dimensioni + costi_columns]\n",
    "\n",
    "# divide che costs values for the number of tax payers\n",
    "df_costi_medi = df_costi.copy()\n",
    "df_costi_medi[costi_columns] = df_costi_medi[costi_columns].div(df_costi_medi['tot_contribuenti'], axis='index')\n",
    "\n",
    "df_costi_medi = df_costi_medi.drop('tot_contribuenti', axis=1)\n",
    "df_costi_medi['costo spesa totale'] = df_costi_medi[costi_columns].sum(axis=1)\n",
    "\n",
    "costi_columns.append('costo spesa totale')\n",
    "# group by region and performing average\n",
    "df_costi_medi_per_regione = df_costi_medi.groupby('Regione')[costi_columns].mean().sort_values('costo spesa totale')"
   ]
  },
  {
   "cell_type": "code",
   "execution_count": 244,
   "metadata": {},
   "outputs": [
    {
     "data": {
      "text/html": [
       "<div>\n",
       "<style scoped>\n",
       "    .dataframe tbody tr th:only-of-type {\n",
       "        vertical-align: middle;\n",
       "    }\n",
       "\n",
       "    .dataframe tbody tr th {\n",
       "        vertical-align: top;\n",
       "    }\n",
       "\n",
       "    .dataframe thead th {\n",
       "        text-align: right;\n",
       "    }\n",
       "</style>\n",
       "<table border=\"1\" class=\"dataframe\">\n",
       "  <thead>\n",
       "    <tr style=\"text-align: right;\">\n",
       "      <th></th>\n",
       "      <th>costo riscossione tributi</th>\n",
       "      <th>costo ufficio tecnico</th>\n",
       "      <th>costo anagrafe, stato civile</th>\n",
       "      <th>costo altri servizi</th>\n",
       "      <th>costo polizia locale</th>\n",
       "      <th>costo istruzione</th>\n",
       "      <th>costo viabilita'</th>\n",
       "      <th>costo trasporti</th>\n",
       "      <th>costo territorio</th>\n",
       "      <th>costo ambiente</th>\n",
       "      <th>costo sociale</th>\n",
       "      <th>costo asili nido</th>\n",
       "      <th>costo spesa totale</th>\n",
       "    </tr>\n",
       "    <tr>\n",
       "      <th>Regione</th>\n",
       "      <th></th>\n",
       "      <th></th>\n",
       "      <th></th>\n",
       "      <th></th>\n",
       "      <th></th>\n",
       "      <th></th>\n",
       "      <th></th>\n",
       "      <th></th>\n",
       "      <th></th>\n",
       "      <th></th>\n",
       "      <th></th>\n",
       "      <th></th>\n",
       "      <th></th>\n",
       "    </tr>\n",
       "  </thead>\n",
       "  <tbody>\n",
       "    <tr>\n",
       "      <th>VENETO</th>\n",
       "      <td>11.084672</td>\n",
       "      <td>31.693977</td>\n",
       "      <td>14.762789</td>\n",
       "      <td>146.162686</td>\n",
       "      <td>48.691066</td>\n",
       "      <td>84.656457</td>\n",
       "      <td>61.413526</td>\n",
       "      <td>11.207582</td>\n",
       "      <td>39.666359</td>\n",
       "      <td>184.905641</td>\n",
       "      <td>126.974123</td>\n",
       "      <td>20.995138</td>\n",
       "      <td>782.214015</td>\n",
       "    </tr>\n",
       "    <tr>\n",
       "      <th>MOLISE</th>\n",
       "      <td>20.720887</td>\n",
       "      <td>39.354594</td>\n",
       "      <td>21.326302</td>\n",
       "      <td>193.014745</td>\n",
       "      <td>54.359665</td>\n",
       "      <td>72.207841</td>\n",
       "      <td>79.848151</td>\n",
       "      <td>7.234048</td>\n",
       "      <td>60.013242</td>\n",
       "      <td>155.186889</td>\n",
       "      <td>80.914531</td>\n",
       "      <td>9.994548</td>\n",
       "      <td>794.175443</td>\n",
       "    </tr>\n",
       "    <tr>\n",
       "      <th>MARCHE</th>\n",
       "      <td>14.597413</td>\n",
       "      <td>29.819152</td>\n",
       "      <td>15.474976</td>\n",
       "      <td>152.872783</td>\n",
       "      <td>51.683453</td>\n",
       "      <td>81.720788</td>\n",
       "      <td>77.674364</td>\n",
       "      <td>7.147200</td>\n",
       "      <td>41.831939</td>\n",
       "      <td>193.694287</td>\n",
       "      <td>129.489230</td>\n",
       "      <td>25.797289</td>\n",
       "      <td>821.802875</td>\n",
       "    </tr>\n",
       "    <tr>\n",
       "      <th>CALABRIA</th>\n",
       "      <td>20.508344</td>\n",
       "      <td>38.139118</td>\n",
       "      <td>23.950893</td>\n",
       "      <td>186.735104</td>\n",
       "      <td>61.616060</td>\n",
       "      <td>71.721040</td>\n",
       "      <td>80.815920</td>\n",
       "      <td>2.209128</td>\n",
       "      <td>55.982947</td>\n",
       "      <td>209.201620</td>\n",
       "      <td>77.072928</td>\n",
       "      <td>2.220012</td>\n",
       "      <td>830.173114</td>\n",
       "    </tr>\n",
       "    <tr>\n",
       "      <th>PUGLIA</th>\n",
       "      <td>18.688936</td>\n",
       "      <td>21.927928</td>\n",
       "      <td>16.791903</td>\n",
       "      <td>140.775046</td>\n",
       "      <td>70.839701</td>\n",
       "      <td>64.323161</td>\n",
       "      <td>52.593495</td>\n",
       "      <td>15.620074</td>\n",
       "      <td>41.066548</td>\n",
       "      <td>251.180290</td>\n",
       "      <td>130.268003</td>\n",
       "      <td>14.802565</td>\n",
       "      <td>838.877650</td>\n",
       "    </tr>\n",
       "    <tr>\n",
       "      <th>LOMBARDIA</th>\n",
       "      <td>14.847999</td>\n",
       "      <td>24.355504</td>\n",
       "      <td>15.092079</td>\n",
       "      <td>152.841185</td>\n",
       "      <td>67.960048</td>\n",
       "      <td>116.870741</td>\n",
       "      <td>62.945801</td>\n",
       "      <td>19.865863</td>\n",
       "      <td>39.501300</td>\n",
       "      <td>181.195804</td>\n",
       "      <td>146.989217</td>\n",
       "      <td>32.463867</td>\n",
       "      <td>874.929410</td>\n",
       "    </tr>\n",
       "    <tr>\n",
       "      <th>PIEMONTE</th>\n",
       "      <td>15.235273</td>\n",
       "      <td>32.806478</td>\n",
       "      <td>17.814466</td>\n",
       "      <td>154.202273</td>\n",
       "      <td>74.297550</td>\n",
       "      <td>102.963358</td>\n",
       "      <td>77.497780</td>\n",
       "      <td>6.478790</td>\n",
       "      <td>36.472448</td>\n",
       "      <td>213.154636</td>\n",
       "      <td>128.641755</td>\n",
       "      <td>27.369419</td>\n",
       "      <td>886.934225</td>\n",
       "    </tr>\n",
       "    <tr>\n",
       "      <th>UMBRIA</th>\n",
       "      <td>14.447178</td>\n",
       "      <td>28.003018</td>\n",
       "      <td>14.471039</td>\n",
       "      <td>176.255054</td>\n",
       "      <td>58.783458</td>\n",
       "      <td>80.048851</td>\n",
       "      <td>73.584750</td>\n",
       "      <td>33.881305</td>\n",
       "      <td>57.461002</td>\n",
       "      <td>238.899896</td>\n",
       "      <td>103.703217</td>\n",
       "      <td>30.645849</td>\n",
       "      <td>910.184618</td>\n",
       "    </tr>\n",
       "    <tr>\n",
       "      <th>BASILICATA</th>\n",
       "      <td>15.441171</td>\n",
       "      <td>46.807453</td>\n",
       "      <td>22.477394</td>\n",
       "      <td>187.631085</td>\n",
       "      <td>63.291452</td>\n",
       "      <td>90.875943</td>\n",
       "      <td>68.646211</td>\n",
       "      <td>33.018372</td>\n",
       "      <td>54.464884</td>\n",
       "      <td>201.372293</td>\n",
       "      <td>120.614137</td>\n",
       "      <td>12.083911</td>\n",
       "      <td>916.724306</td>\n",
       "    </tr>\n",
       "    <tr>\n",
       "      <th>EMILIA-ROMAGNA</th>\n",
       "      <td>14.337231</td>\n",
       "      <td>23.098782</td>\n",
       "      <td>12.890340</td>\n",
       "      <td>153.764935</td>\n",
       "      <td>60.422031</td>\n",
       "      <td>119.593441</td>\n",
       "      <td>72.124605</td>\n",
       "      <td>7.352456</td>\n",
       "      <td>54.614948</td>\n",
       "      <td>202.369405</td>\n",
       "      <td>155.961986</td>\n",
       "      <td>42.856425</td>\n",
       "      <td>919.386586</td>\n",
       "    </tr>\n",
       "    <tr>\n",
       "      <th>TOSCANA</th>\n",
       "      <td>17.539985</td>\n",
       "      <td>30.153718</td>\n",
       "      <td>13.715420</td>\n",
       "      <td>158.891377</td>\n",
       "      <td>77.524150</td>\n",
       "      <td>102.643335</td>\n",
       "      <td>62.826566</td>\n",
       "      <td>19.746799</td>\n",
       "      <td>62.867444</td>\n",
       "      <td>263.935662</td>\n",
       "      <td>133.735519</td>\n",
       "      <td>38.553774</td>\n",
       "      <td>982.133748</td>\n",
       "    </tr>\n",
       "    <tr>\n",
       "      <th>ABRUZZO</th>\n",
       "      <td>17.423472</td>\n",
       "      <td>36.620024</td>\n",
       "      <td>16.781293</td>\n",
       "      <td>149.762903</td>\n",
       "      <td>57.418323</td>\n",
       "      <td>82.357690</td>\n",
       "      <td>78.551839</td>\n",
       "      <td>11.990721</td>\n",
       "      <td>64.826164</td>\n",
       "      <td>289.988585</td>\n",
       "      <td>188.469176</td>\n",
       "      <td>18.490433</td>\n",
       "      <td>1012.680623</td>\n",
       "    </tr>\n",
       "    <tr>\n",
       "      <th>LIGURIA</th>\n",
       "      <td>18.770204</td>\n",
       "      <td>32.612452</td>\n",
       "      <td>19.604564</td>\n",
       "      <td>190.854112</td>\n",
       "      <td>90.888141</td>\n",
       "      <td>91.647559</td>\n",
       "      <td>61.268911</td>\n",
       "      <td>36.940914</td>\n",
       "      <td>70.058851</td>\n",
       "      <td>266.152539</td>\n",
       "      <td>127.040495</td>\n",
       "      <td>39.359859</td>\n",
       "      <td>1045.198601</td>\n",
       "    </tr>\n",
       "    <tr>\n",
       "      <th>CAMPANIA</th>\n",
       "      <td>19.907792</td>\n",
       "      <td>29.281917</td>\n",
       "      <td>21.298577</td>\n",
       "      <td>243.965967</td>\n",
       "      <td>100.975719</td>\n",
       "      <td>70.425622</td>\n",
       "      <td>64.493396</td>\n",
       "      <td>36.438460</td>\n",
       "      <td>46.795132</td>\n",
       "      <td>342.831727</td>\n",
       "      <td>107.041627</td>\n",
       "      <td>19.269098</td>\n",
       "      <td>1102.725034</td>\n",
       "    </tr>\n",
       "    <tr>\n",
       "      <th>LAZIO</th>\n",
       "      <td>20.994917</td>\n",
       "      <td>37.886343</td>\n",
       "      <td>17.924800</td>\n",
       "      <td>223.185456</td>\n",
       "      <td>135.822589</td>\n",
       "      <td>152.921130</td>\n",
       "      <td>77.543526</td>\n",
       "      <td>108.982032</td>\n",
       "      <td>65.460281</td>\n",
       "      <td>330.974841</td>\n",
       "      <td>171.796238</td>\n",
       "      <td>79.875303</td>\n",
       "      <td>1423.367455</td>\n",
       "    </tr>\n",
       "  </tbody>\n",
       "</table>\n",
       "</div>"
      ],
      "text/plain": [
       "                costo riscossione tributi  costo ufficio tecnico  \\\n",
       "Regione                                                            \n",
       "VENETO                          11.084672              31.693977   \n",
       "MOLISE                          20.720887              39.354594   \n",
       "MARCHE                          14.597413              29.819152   \n",
       "CALABRIA                        20.508344              38.139118   \n",
       "PUGLIA                          18.688936              21.927928   \n",
       "LOMBARDIA                       14.847999              24.355504   \n",
       "PIEMONTE                        15.235273              32.806478   \n",
       "UMBRIA                          14.447178              28.003018   \n",
       "BASILICATA                      15.441171              46.807453   \n",
       "EMILIA-ROMAGNA                  14.337231              23.098782   \n",
       "TOSCANA                         17.539985              30.153718   \n",
       "ABRUZZO                         17.423472              36.620024   \n",
       "LIGURIA                         18.770204              32.612452   \n",
       "CAMPANIA                        19.907792              29.281917   \n",
       "LAZIO                           20.994917              37.886343   \n",
       "\n",
       "                costo anagrafe, stato civile  costo altri servizi  \\\n",
       "Regione                                                             \n",
       "VENETO                             14.762789           146.162686   \n",
       "MOLISE                             21.326302           193.014745   \n",
       "MARCHE                             15.474976           152.872783   \n",
       "CALABRIA                           23.950893           186.735104   \n",
       "PUGLIA                             16.791903           140.775046   \n",
       "LOMBARDIA                          15.092079           152.841185   \n",
       "PIEMONTE                           17.814466           154.202273   \n",
       "UMBRIA                             14.471039           176.255054   \n",
       "BASILICATA                         22.477394           187.631085   \n",
       "EMILIA-ROMAGNA                     12.890340           153.764935   \n",
       "TOSCANA                            13.715420           158.891377   \n",
       "ABRUZZO                            16.781293           149.762903   \n",
       "LIGURIA                            19.604564           190.854112   \n",
       "CAMPANIA                           21.298577           243.965967   \n",
       "LAZIO                              17.924800           223.185456   \n",
       "\n",
       "                costo polizia locale  costo istruzione  costo viabilita'  \\\n",
       "Regione                                                                    \n",
       "VENETO                     48.691066         84.656457         61.413526   \n",
       "MOLISE                     54.359665         72.207841         79.848151   \n",
       "MARCHE                     51.683453         81.720788         77.674364   \n",
       "CALABRIA                   61.616060         71.721040         80.815920   \n",
       "PUGLIA                     70.839701         64.323161         52.593495   \n",
       "LOMBARDIA                  67.960048        116.870741         62.945801   \n",
       "PIEMONTE                   74.297550        102.963358         77.497780   \n",
       "UMBRIA                     58.783458         80.048851         73.584750   \n",
       "BASILICATA                 63.291452         90.875943         68.646211   \n",
       "EMILIA-ROMAGNA             60.422031        119.593441         72.124605   \n",
       "TOSCANA                    77.524150        102.643335         62.826566   \n",
       "ABRUZZO                    57.418323         82.357690         78.551839   \n",
       "LIGURIA                    90.888141         91.647559         61.268911   \n",
       "CAMPANIA                  100.975719         70.425622         64.493396   \n",
       "LAZIO                     135.822589        152.921130         77.543526   \n",
       "\n",
       "                costo trasporti  costo territorio  costo ambiente  \\\n",
       "Regione                                                             \n",
       "VENETO                11.207582         39.666359      184.905641   \n",
       "MOLISE                 7.234048         60.013242      155.186889   \n",
       "MARCHE                 7.147200         41.831939      193.694287   \n",
       "CALABRIA               2.209128         55.982947      209.201620   \n",
       "PUGLIA                15.620074         41.066548      251.180290   \n",
       "LOMBARDIA             19.865863         39.501300      181.195804   \n",
       "PIEMONTE               6.478790         36.472448      213.154636   \n",
       "UMBRIA                33.881305         57.461002      238.899896   \n",
       "BASILICATA            33.018372         54.464884      201.372293   \n",
       "EMILIA-ROMAGNA         7.352456         54.614948      202.369405   \n",
       "TOSCANA               19.746799         62.867444      263.935662   \n",
       "ABRUZZO               11.990721         64.826164      289.988585   \n",
       "LIGURIA               36.940914         70.058851      266.152539   \n",
       "CAMPANIA              36.438460         46.795132      342.831727   \n",
       "LAZIO                108.982032         65.460281      330.974841   \n",
       "\n",
       "                costo sociale  costo asili nido  costo spesa totale  \n",
       "Regione                                                              \n",
       "VENETO             126.974123         20.995138          782.214015  \n",
       "MOLISE              80.914531          9.994548          794.175443  \n",
       "MARCHE             129.489230         25.797289          821.802875  \n",
       "CALABRIA            77.072928          2.220012          830.173114  \n",
       "PUGLIA             130.268003         14.802565          838.877650  \n",
       "LOMBARDIA          146.989217         32.463867          874.929410  \n",
       "PIEMONTE           128.641755         27.369419          886.934225  \n",
       "UMBRIA             103.703217         30.645849          910.184618  \n",
       "BASILICATA         120.614137         12.083911          916.724306  \n",
       "EMILIA-ROMAGNA     155.961986         42.856425          919.386586  \n",
       "TOSCANA            133.735519         38.553774          982.133748  \n",
       "ABRUZZO            188.469176         18.490433         1012.680623  \n",
       "LIGURIA            127.040495         39.359859         1045.198601  \n",
       "CAMPANIA           107.041627         19.269098         1102.725034  \n",
       "LAZIO              171.796238         79.875303         1423.367455  "
      ]
     },
     "execution_count": 244,
     "metadata": {},
     "output_type": "execute_result"
    }
   ],
   "source": [
    "df_costi_medi_per_regione"
   ]
  },
  {
   "cell_type": "code",
   "execution_count": 227,
   "metadata": {},
   "outputs": [
    {
     "data": {
      "text/html": [
       "<div>\n",
       "<style scoped>\n",
       "    .dataframe tbody tr th:only-of-type {\n",
       "        vertical-align: middle;\n",
       "    }\n",
       "\n",
       "    .dataframe tbody tr th {\n",
       "        vertical-align: top;\n",
       "    }\n",
       "\n",
       "    .dataframe thead th {\n",
       "        text-align: right;\n",
       "    }\n",
       "</style>\n",
       "<table border=\"1\" class=\"dataframe\">\n",
       "  <thead>\n",
       "    <tr style=\"text-align: right;\">\n",
       "      <th></th>\n",
       "      <th></th>\n",
       "      <th>costo riscossione tributi</th>\n",
       "      <th>tot costo riscossione tributi</th>\n",
       "      <th>costo ufficio tecnico</th>\n",
       "      <th>tot costo ufficio tecnico</th>\n",
       "      <th>costo anagrafe, stato civile</th>\n",
       "      <th>tot costo anagrafe, stato civile</th>\n",
       "      <th>costo altri servizi</th>\n",
       "      <th>tot costo altri servizi</th>\n",
       "      <th>costo polizia locale</th>\n",
       "      <th>tot costo polizia locale</th>\n",
       "      <th>costo istruzione</th>\n",
       "      <th>tot costo istruzione</th>\n",
       "      <th>costo viabilita'</th>\n",
       "      <th>tot costo viabilita'</th>\n",
       "      <th>costo trasporti</th>\n",
       "      <th>tot costo trasporti</th>\n",
       "      <th>costo territorio</th>\n",
       "      <th>tot costo territorio</th>\n",
       "      <th>costo ambiente</th>\n",
       "      <th>tot costo ambiente</th>\n",
       "      <th>costo sociale</th>\n",
       "      <th>tot costo sociale</th>\n",
       "      <th>costo asili nido</th>\n",
       "      <th>tot costo asili nido</th>\n",
       "      <th>costo spesa totale</th>\n",
       "      <th>tot costo spesa totale</th>\n",
       "      <th>Addizionale comunale dovuta Ammontare</th>\n",
       "      <th>Addizionale comunale dovuta Frequenza</th>\n",
       "      <th>Addizionale regionale dovuta Ammontare</th>\n",
       "      <th>Addizionale regionale dovuta Frequenza</th>\n",
       "      <th>Anno di imposta</th>\n",
       "      <th>Codice Istat Comune</th>\n",
       "      <th>Codice Istat Regione</th>\n",
       "      <th>Imposta netta Ammontare</th>\n",
       "      <th>Imposta netta Frequenza</th>\n",
       "      <th>Numero contribuenti</th>\n",
       "      <th>Reddito complessivo da 0 a 10000 euro Ammontare</th>\n",
       "      <th>Reddito complessivo da 0 a 10000 euro Frequenza</th>\n",
       "      <th>Reddito complessivo da 10000 a 15000 euro Ammontare</th>\n",
       "      <th>Reddito complessivo da 10000 a 15000 euro Frequenza</th>\n",
       "      <th>Reddito complessivo da 15000 a 26000 euro Ammontare</th>\n",
       "      <th>Reddito complessivo da 15000 a 26000 euro Frequenza</th>\n",
       "      <th>Reddito complessivo da 26000 a 55000 euro Ammontare</th>\n",
       "      <th>Reddito complessivo da 26000 a 55000 euro Frequenza</th>\n",
       "      <th>Reddito complessivo da 55000 a 75000 euro Ammontare</th>\n",
       "      <th>Reddito complessivo da 55000 a 75000 euro Frequenza</th>\n",
       "      <th>Reddito complessivo da 75000 a 120000 euro Ammontare</th>\n",
       "      <th>Reddito complessivo da 75000 a 120000 euro Frequenza</th>\n",
       "      <th>Reddito complessivo oltre 120000 euro Ammontare</th>\n",
       "      <th>Reddito complessivo oltre 120000 euro Frequenza</th>\n",
       "      <th>Reddito da fabbricati Ammontare</th>\n",
       "      <th>Reddito da fabbricati Frequenza</th>\n",
       "      <th>Reddito da lavoro dipendente e assimilati Ammontare</th>\n",
       "      <th>Reddito da lavoro dipendente e assimilati Frequenza</th>\n",
       "      <th>Reddito da pensione Ammontare</th>\n",
       "      <th>Reddito da pensione Frequenza</th>\n",
       "      <th>Reddito imponibile Ammontare</th>\n",
       "      <th>Reddito imponibile Frequenza</th>\n",
       "      <th>Reddito imponibile addizionale Ammontare</th>\n",
       "      <th>Reddito imponibile addizionale Frequenza</th>\n",
       "      <th>Reddito imponibile addizionale IRPEF Ammontare</th>\n",
       "      <th>Reddito imponibile addizionale IRPEF Frequenza</th>\n",
       "      <th>tot_contribuenti</th>\n",
       "      <th>Reddito lavoro autonomo Ammontare</th>\n",
       "      <th>Reddito lavoro autonomo Frequenza</th>\n",
       "      <th>Reddito da partecipazione Ammontare</th>\n",
       "      <th>Reddito da partecipazione Frequenza</th>\n",
       "      <th>Reddito imprenditore ordinario Ammontare</th>\n",
       "      <th>Reddito imprenditore ordinario Frequenza</th>\n",
       "      <th>Reddito imprenditore semplificata Ammontare</th>\n",
       "      <th>Reddito imprenditore semplificata Frequenza</th>\n",
       "      <th>Cod Istat</th>\n",
       "      <th>Reddito minore o uguale a zero Frequenza</th>\n",
       "      <th>Reddito minore o uguale a zero Ammontare</th>\n",
       "    </tr>\n",
       "    <tr>\n",
       "      <th>ANNO</th>\n",
       "      <th>Regione</th>\n",
       "      <th></th>\n",
       "      <th></th>\n",
       "      <th></th>\n",
       "      <th></th>\n",
       "      <th></th>\n",
       "      <th></th>\n",
       "      <th></th>\n",
       "      <th></th>\n",
       "      <th></th>\n",
       "      <th></th>\n",
       "      <th></th>\n",
       "      <th></th>\n",
       "      <th></th>\n",
       "      <th></th>\n",
       "      <th></th>\n",
       "      <th></th>\n",
       "      <th></th>\n",
       "      <th></th>\n",
       "      <th></th>\n",
       "      <th></th>\n",
       "      <th></th>\n",
       "      <th></th>\n",
       "      <th></th>\n",
       "      <th></th>\n",
       "      <th></th>\n",
       "      <th></th>\n",
       "      <th></th>\n",
       "      <th></th>\n",
       "      <th></th>\n",
       "      <th></th>\n",
       "      <th></th>\n",
       "      <th></th>\n",
       "      <th></th>\n",
       "      <th></th>\n",
       "      <th></th>\n",
       "      <th></th>\n",
       "      <th></th>\n",
       "      <th></th>\n",
       "      <th></th>\n",
       "      <th></th>\n",
       "      <th></th>\n",
       "      <th></th>\n",
       "      <th></th>\n",
       "      <th></th>\n",
       "      <th></th>\n",
       "      <th></th>\n",
       "      <th></th>\n",
       "      <th></th>\n",
       "      <th></th>\n",
       "      <th></th>\n",
       "      <th></th>\n",
       "      <th></th>\n",
       "      <th></th>\n",
       "      <th></th>\n",
       "      <th></th>\n",
       "      <th></th>\n",
       "      <th></th>\n",
       "      <th></th>\n",
       "      <th></th>\n",
       "      <th></th>\n",
       "      <th></th>\n",
       "      <th></th>\n",
       "      <th></th>\n",
       "      <th></th>\n",
       "      <th></th>\n",
       "      <th></th>\n",
       "      <th></th>\n",
       "      <th></th>\n",
       "      <th></th>\n",
       "      <th></th>\n",
       "      <th></th>\n",
       "      <th></th>\n",
       "      <th></th>\n",
       "      <th></th>\n",
       "    </tr>\n",
       "  </thead>\n",
       "  <tbody>\n",
       "    <tr>\n",
       "      <th rowspan=\"5\" valign=\"top\">2010</th>\n",
       "      <th>ABRUZZO</th>\n",
       "      <td>14115910.9</td>\n",
       "      <td>1.516369e+11</td>\n",
       "      <td>30604086.8</td>\n",
       "      <td>3.124725e+11</td>\n",
       "      <td>15145860.8</td>\n",
       "      <td>1.680622e+11</td>\n",
       "      <td>1.459611e+08</td>\n",
       "      <td>1.947881e+12</td>\n",
       "      <td>53457976.0</td>\n",
       "      <td>8.056761e+11</td>\n",
       "      <td>7.805163e+07</td>\n",
       "      <td>1.088429e+12</td>\n",
       "      <td>65036746.0</td>\n",
       "      <td>6.749067e+11</td>\n",
       "      <td>5.374294e+06</td>\n",
       "      <td>3.006942e+11</td>\n",
       "      <td>5.782442e+07</td>\n",
       "      <td>5.099244e+11</td>\n",
       "      <td>1.978720e+08</td>\n",
       "      <td>2.319535e+12</td>\n",
       "      <td>1.984301e+08</td>\n",
       "      <td>1.425315e+12</td>\n",
       "      <td>21677930.0</td>\n",
       "      <td>4.401488e+11</td>\n",
       "      <td>8.835521e+08</td>\n",
       "      <td>1.014468e+13</td>\n",
       "      <td>0.0</td>\n",
       "      <td>0.0</td>\n",
       "      <td>0.0</td>\n",
       "      <td>0.0</td>\n",
       "      <td>613050.0</td>\n",
       "      <td>0.0</td>\n",
       "      <td>0.0</td>\n",
       "      <td>0.0</td>\n",
       "      <td>0.0</td>\n",
       "      <td>0.0</td>\n",
       "      <td>1.785423e+09</td>\n",
       "      <td>363828.0</td>\n",
       "      <td>1.851948e+09</td>\n",
       "      <td>148657.0</td>\n",
       "      <td>5.011355e+09</td>\n",
       "      <td>253790.0</td>\n",
       "      <td>4.426246e+09</td>\n",
       "      <td>130637.0</td>\n",
       "      <td>7.244688e+08</td>\n",
       "      <td>11363.0</td>\n",
       "      <td>7.608778e+08</td>\n",
       "      <td>8334.0</td>\n",
       "      <td>5.148789e+08</td>\n",
       "      <td>2638.0</td>\n",
       "      <td>0.0</td>\n",
       "      <td>0.0</td>\n",
       "      <td>0.0</td>\n",
       "      <td>0.0</td>\n",
       "      <td>0.0</td>\n",
       "      <td>0.0</td>\n",
       "      <td>0.0</td>\n",
       "      <td>0.0</td>\n",
       "      <td>0.0</td>\n",
       "      <td>0.0</td>\n",
       "      <td>1.328758e+10</td>\n",
       "      <td>644840.0</td>\n",
       "      <td>924141.0</td>\n",
       "      <td>0.0</td>\n",
       "      <td>0.0</td>\n",
       "      <td>0.0</td>\n",
       "      <td>0.0</td>\n",
       "      <td>0.0</td>\n",
       "      <td>0.0</td>\n",
       "      <td>0.0</td>\n",
       "      <td>0.0</td>\n",
       "      <td>20594555.0</td>\n",
       "      <td>4894.0</td>\n",
       "      <td>-51369393.0</td>\n",
       "    </tr>\n",
       "    <tr>\n",
       "      <th>BASILICATA</th>\n",
       "      <td>4203514.7</td>\n",
       "      <td>6.512929e+10</td>\n",
       "      <td>18523564.5</td>\n",
       "      <td>1.342095e+11</td>\n",
       "      <td>8921269.0</td>\n",
       "      <td>7.218408e+10</td>\n",
       "      <td>7.532999e+07</td>\n",
       "      <td>8.366307e+11</td>\n",
       "      <td>24395617.0</td>\n",
       "      <td>3.460445e+11</td>\n",
       "      <td>3.497958e+07</td>\n",
       "      <td>4.674891e+11</td>\n",
       "      <td>23253516.0</td>\n",
       "      <td>2.898780e+11</td>\n",
       "      <td>1.428948e+07</td>\n",
       "      <td>1.291506e+11</td>\n",
       "      <td>1.069100e+07</td>\n",
       "      <td>2.190167e+11</td>\n",
       "      <td>7.273174e+07</td>\n",
       "      <td>9.962594e+11</td>\n",
       "      <td>4.639258e+07</td>\n",
       "      <td>6.121847e+11</td>\n",
       "      <td>5329620.0</td>\n",
       "      <td>1.890475e+11</td>\n",
       "      <td>3.390415e+08</td>\n",
       "      <td>4.357224e+12</td>\n",
       "      <td>0.0</td>\n",
       "      <td>0.0</td>\n",
       "      <td>0.0</td>\n",
       "      <td>0.0</td>\n",
       "      <td>263310.0</td>\n",
       "      <td>0.0</td>\n",
       "      <td>0.0</td>\n",
       "      <td>0.0</td>\n",
       "      <td>0.0</td>\n",
       "      <td>0.0</td>\n",
       "      <td>8.640381e+08</td>\n",
       "      <td>172899.0</td>\n",
       "      <td>7.611564e+08</td>\n",
       "      <td>61313.0</td>\n",
       "      <td>1.863997e+09</td>\n",
       "      <td>94948.0</td>\n",
       "      <td>1.570506e+09</td>\n",
       "      <td>47053.0</td>\n",
       "      <td>2.110695e+08</td>\n",
       "      <td>3317.0</td>\n",
       "      <td>2.455821e+08</td>\n",
       "      <td>2677.0</td>\n",
       "      <td>1.467972e+08</td>\n",
       "      <td>802.0</td>\n",
       "      <td>0.0</td>\n",
       "      <td>0.0</td>\n",
       "      <td>0.0</td>\n",
       "      <td>0.0</td>\n",
       "      <td>0.0</td>\n",
       "      <td>0.0</td>\n",
       "      <td>0.0</td>\n",
       "      <td>0.0</td>\n",
       "      <td>0.0</td>\n",
       "      <td>0.0</td>\n",
       "      <td>4.833544e+09</td>\n",
       "      <td>246750.0</td>\n",
       "      <td>384844.0</td>\n",
       "      <td>0.0</td>\n",
       "      <td>0.0</td>\n",
       "      <td>0.0</td>\n",
       "      <td>0.0</td>\n",
       "      <td>0.0</td>\n",
       "      <td>0.0</td>\n",
       "      <td>0.0</td>\n",
       "      <td>0.0</td>\n",
       "      <td>9992546.0</td>\n",
       "      <td>1835.0</td>\n",
       "      <td>-17274977.0</td>\n",
       "    </tr>\n",
       "    <tr>\n",
       "      <th>CALABRIA</th>\n",
       "      <td>17407586.7</td>\n",
       "      <td>2.033426e+11</td>\n",
       "      <td>45654926.1</td>\n",
       "      <td>4.190205e+11</td>\n",
       "      <td>29098065.5</td>\n",
       "      <td>2.253686e+11</td>\n",
       "      <td>2.472262e+08</td>\n",
       "      <td>2.612076e+12</td>\n",
       "      <td>77766412.0</td>\n",
       "      <td>1.080398e+12</td>\n",
       "      <td>9.387676e+07</td>\n",
       "      <td>1.459565e+12</td>\n",
       "      <td>90691509.0</td>\n",
       "      <td>9.050389e+11</td>\n",
       "      <td>2.441664e+06</td>\n",
       "      <td>4.032260e+11</td>\n",
       "      <td>5.697400e+07</td>\n",
       "      <td>6.838003e+11</td>\n",
       "      <td>2.321927e+08</td>\n",
       "      <td>3.110459e+12</td>\n",
       "      <td>9.802297e+07</td>\n",
       "      <td>1.911325e+12</td>\n",
       "      <td>4263298.0</td>\n",
       "      <td>5.902323e+11</td>\n",
       "      <td>9.956161e+08</td>\n",
       "      <td>1.360385e+13</td>\n",
       "      <td>0.0</td>\n",
       "      <td>0.0</td>\n",
       "      <td>0.0</td>\n",
       "      <td>0.0</td>\n",
       "      <td>822090.0</td>\n",
       "      <td>0.0</td>\n",
       "      <td>0.0</td>\n",
       "      <td>0.0</td>\n",
       "      <td>0.0</td>\n",
       "      <td>0.0</td>\n",
       "      <td>2.993674e+09</td>\n",
       "      <td>606452.0</td>\n",
       "      <td>2.211097e+09</td>\n",
       "      <td>178817.0</td>\n",
       "      <td>5.231303e+09</td>\n",
       "      <td>263901.0</td>\n",
       "      <td>4.866120e+09</td>\n",
       "      <td>146221.0</td>\n",
       "      <td>7.396068e+08</td>\n",
       "      <td>11533.0</td>\n",
       "      <td>7.202095e+08</td>\n",
       "      <td>7998.0</td>\n",
       "      <td>3.584661e+08</td>\n",
       "      <td>1947.0</td>\n",
       "      <td>0.0</td>\n",
       "      <td>0.0</td>\n",
       "      <td>0.0</td>\n",
       "      <td>0.0</td>\n",
       "      <td>0.0</td>\n",
       "      <td>0.0</td>\n",
       "      <td>0.0</td>\n",
       "      <td>0.0</td>\n",
       "      <td>0.0</td>\n",
       "      <td>0.0</td>\n",
       "      <td>1.449646e+10</td>\n",
       "      <td>740693.0</td>\n",
       "      <td>1224610.0</td>\n",
       "      <td>0.0</td>\n",
       "      <td>0.0</td>\n",
       "      <td>0.0</td>\n",
       "      <td>0.0</td>\n",
       "      <td>0.0</td>\n",
       "      <td>0.0</td>\n",
       "      <td>0.0</td>\n",
       "      <td>0.0</td>\n",
       "      <td>34021670.0</td>\n",
       "      <td>7741.0</td>\n",
       "      <td>-91069842.0</td>\n",
       "    </tr>\n",
       "    <tr>\n",
       "      <th>CAMPANIA</th>\n",
       "      <td>53397293.6</td>\n",
       "      <td>2.739408e+11</td>\n",
       "      <td>93517908.4</td>\n",
       "      <td>5.644995e+11</td>\n",
       "      <td>67576063.8</td>\n",
       "      <td>3.036140e+11</td>\n",
       "      <td>8.575981e+08</td>\n",
       "      <td>3.518958e+12</td>\n",
       "      <td>312637272.0</td>\n",
       "      <td>1.455500e+12</td>\n",
       "      <td>2.462255e+08</td>\n",
       "      <td>1.966309e+12</td>\n",
       "      <td>187997101.0</td>\n",
       "      <td>1.219258e+12</td>\n",
       "      <td>1.023459e+08</td>\n",
       "      <td>5.432214e+11</td>\n",
       "      <td>1.428012e+08</td>\n",
       "      <td>9.212077e+11</td>\n",
       "      <td>9.650124e+08</td>\n",
       "      <td>4.190374e+12</td>\n",
       "      <td>3.523497e+08</td>\n",
       "      <td>2.574914e+12</td>\n",
       "      <td>49010288.0</td>\n",
       "      <td>7.951540e+11</td>\n",
       "      <td>3.430469e+09</td>\n",
       "      <td>1.832695e+13</td>\n",
       "      <td>0.0</td>\n",
       "      <td>0.0</td>\n",
       "      <td>0.0</td>\n",
       "      <td>0.0</td>\n",
       "      <td>1107510.0</td>\n",
       "      <td>0.0</td>\n",
       "      <td>0.0</td>\n",
       "      <td>0.0</td>\n",
       "      <td>0.0</td>\n",
       "      <td>0.0</td>\n",
       "      <td>6.336397e+09</td>\n",
       "      <td>1317263.0</td>\n",
       "      <td>5.671870e+09</td>\n",
       "      <td>455390.0</td>\n",
       "      <td>1.537715e+10</td>\n",
       "      <td>774120.0</td>\n",
       "      <td>1.567818e+10</td>\n",
       "      <td>462896.0</td>\n",
       "      <td>2.502611e+09</td>\n",
       "      <td>39116.0</td>\n",
       "      <td>2.854848e+09</td>\n",
       "      <td>31285.0</td>\n",
       "      <td>2.052905e+09</td>\n",
       "      <td>10291.0</td>\n",
       "      <td>0.0</td>\n",
       "      <td>0.0</td>\n",
       "      <td>0.0</td>\n",
       "      <td>0.0</td>\n",
       "      <td>0.0</td>\n",
       "      <td>0.0</td>\n",
       "      <td>0.0</td>\n",
       "      <td>0.0</td>\n",
       "      <td>0.0</td>\n",
       "      <td>0.0</td>\n",
       "      <td>4.383305e+10</td>\n",
       "      <td>2051444.0</td>\n",
       "      <td>3112076.0</td>\n",
       "      <td>0.0</td>\n",
       "      <td>0.0</td>\n",
       "      <td>0.0</td>\n",
       "      <td>0.0</td>\n",
       "      <td>0.0</td>\n",
       "      <td>0.0</td>\n",
       "      <td>0.0</td>\n",
       "      <td>0.0</td>\n",
       "      <td>34894546.0</td>\n",
       "      <td>21715.0</td>\n",
       "      <td>-218897429.0</td>\n",
       "    </tr>\n",
       "    <tr>\n",
       "      <th>EMILIA-ROMAGNA</th>\n",
       "      <td>41231030.4</td>\n",
       "      <td>1.730152e+11</td>\n",
       "      <td>69902635.6</td>\n",
       "      <td>3.565260e+11</td>\n",
       "      <td>39029405.1</td>\n",
       "      <td>1.917562e+11</td>\n",
       "      <td>5.709721e+08</td>\n",
       "      <td>2.222500e+12</td>\n",
       "      <td>194921514.0</td>\n",
       "      <td>9.192633e+11</td>\n",
       "      <td>4.095212e+08</td>\n",
       "      <td>1.241880e+12</td>\n",
       "      <td>222996903.0</td>\n",
       "      <td>7.700575e+11</td>\n",
       "      <td>2.575422e+07</td>\n",
       "      <td>3.430872e+11</td>\n",
       "      <td>1.771800e+08</td>\n",
       "      <td>5.818154e+11</td>\n",
       "      <td>6.375780e+08</td>\n",
       "      <td>2.646552e+12</td>\n",
       "      <td>4.912576e+08</td>\n",
       "      <td>1.626262e+12</td>\n",
       "      <td>190724505.0</td>\n",
       "      <td>5.022026e+11</td>\n",
       "      <td>3.071069e+09</td>\n",
       "      <td>1.157492e+13</td>\n",
       "      <td>0.0</td>\n",
       "      <td>0.0</td>\n",
       "      <td>0.0</td>\n",
       "      <td>0.0</td>\n",
       "      <td>699480.0</td>\n",
       "      <td>0.0</td>\n",
       "      <td>0.0</td>\n",
       "      <td>0.0</td>\n",
       "      <td>0.0</td>\n",
       "      <td>0.0</td>\n",
       "      <td>4.473219e+09</td>\n",
       "      <td>883703.0</td>\n",
       "      <td>6.783704e+09</td>\n",
       "      <td>538386.0</td>\n",
       "      <td>2.319222e+10</td>\n",
       "      <td>1161045.0</td>\n",
       "      <td>2.144194e+10</td>\n",
       "      <td>621490.0</td>\n",
       "      <td>4.450732e+09</td>\n",
       "      <td>69976.0</td>\n",
       "      <td>4.625253e+09</td>\n",
       "      <td>50260.0</td>\n",
       "      <td>5.016247e+09</td>\n",
       "      <td>24287.0</td>\n",
       "      <td>0.0</td>\n",
       "      <td>0.0</td>\n",
       "      <td>0.0</td>\n",
       "      <td>0.0</td>\n",
       "      <td>0.0</td>\n",
       "      <td>0.0</td>\n",
       "      <td>0.0</td>\n",
       "      <td>0.0</td>\n",
       "      <td>0.0</td>\n",
       "      <td>0.0</td>\n",
       "      <td>6.366514e+10</td>\n",
       "      <td>2694920.0</td>\n",
       "      <td>3362567.0</td>\n",
       "      <td>0.0</td>\n",
       "      <td>0.0</td>\n",
       "      <td>0.0</td>\n",
       "      <td>0.0</td>\n",
       "      <td>0.0</td>\n",
       "      <td>0.0</td>\n",
       "      <td>0.0</td>\n",
       "      <td>0.0</td>\n",
       "      <td>14239910.0</td>\n",
       "      <td>13420.0</td>\n",
       "      <td>-135444286.0</td>\n",
       "    </tr>\n",
       "  </tbody>\n",
       "</table>\n",
       "</div>"
      ],
      "text/plain": [
       "                     costo riscossione tributi  tot costo riscossione tributi  \\\n",
       "ANNO Regione                                                                    \n",
       "2010 ABRUZZO                        14115910.9                   1.516369e+11   \n",
       "     BASILICATA                      4203514.7                   6.512929e+10   \n",
       "     CALABRIA                       17407586.7                   2.033426e+11   \n",
       "     CAMPANIA                       53397293.6                   2.739408e+11   \n",
       "     EMILIA-ROMAGNA                 41231030.4                   1.730152e+11   \n",
       "\n",
       "                     costo ufficio tecnico  tot costo ufficio tecnico  \\\n",
       "ANNO Regione                                                            \n",
       "2010 ABRUZZO                    30604086.8               3.124725e+11   \n",
       "     BASILICATA                 18523564.5               1.342095e+11   \n",
       "     CALABRIA                   45654926.1               4.190205e+11   \n",
       "     CAMPANIA                   93517908.4               5.644995e+11   \n",
       "     EMILIA-ROMAGNA             69902635.6               3.565260e+11   \n",
       "\n",
       "                     costo anagrafe, stato civile  \\\n",
       "ANNO Regione                                        \n",
       "2010 ABRUZZO                           15145860.8   \n",
       "     BASILICATA                         8921269.0   \n",
       "     CALABRIA                          29098065.5   \n",
       "     CAMPANIA                          67576063.8   \n",
       "     EMILIA-ROMAGNA                    39029405.1   \n",
       "\n",
       "                     tot costo anagrafe, stato civile  costo altri servizi  \\\n",
       "ANNO Regione                                                                 \n",
       "2010 ABRUZZO                             1.680622e+11         1.459611e+08   \n",
       "     BASILICATA                          7.218408e+10         7.532999e+07   \n",
       "     CALABRIA                            2.253686e+11         2.472262e+08   \n",
       "     CAMPANIA                            3.036140e+11         8.575981e+08   \n",
       "     EMILIA-ROMAGNA                      1.917562e+11         5.709721e+08   \n",
       "\n",
       "                     tot costo altri servizi  costo polizia locale  \\\n",
       "ANNO Regione                                                         \n",
       "2010 ABRUZZO                    1.947881e+12            53457976.0   \n",
       "     BASILICATA                 8.366307e+11            24395617.0   \n",
       "     CALABRIA                   2.612076e+12            77766412.0   \n",
       "     CAMPANIA                   3.518958e+12           312637272.0   \n",
       "     EMILIA-ROMAGNA             2.222500e+12           194921514.0   \n",
       "\n",
       "                     tot costo polizia locale  costo istruzione  \\\n",
       "ANNO Regione                                                      \n",
       "2010 ABRUZZO                     8.056761e+11      7.805163e+07   \n",
       "     BASILICATA                  3.460445e+11      3.497958e+07   \n",
       "     CALABRIA                    1.080398e+12      9.387676e+07   \n",
       "     CAMPANIA                    1.455500e+12      2.462255e+08   \n",
       "     EMILIA-ROMAGNA              9.192633e+11      4.095212e+08   \n",
       "\n",
       "                     tot costo istruzione  costo viabilita'  \\\n",
       "ANNO Regione                                                  \n",
       "2010 ABRUZZO                 1.088429e+12        65036746.0   \n",
       "     BASILICATA              4.674891e+11        23253516.0   \n",
       "     CALABRIA                1.459565e+12        90691509.0   \n",
       "     CAMPANIA                1.966309e+12       187997101.0   \n",
       "     EMILIA-ROMAGNA          1.241880e+12       222996903.0   \n",
       "\n",
       "                     tot costo viabilita'  costo trasporti  \\\n",
       "ANNO Regione                                                 \n",
       "2010 ABRUZZO                 6.749067e+11     5.374294e+06   \n",
       "     BASILICATA              2.898780e+11     1.428948e+07   \n",
       "     CALABRIA                9.050389e+11     2.441664e+06   \n",
       "     CAMPANIA                1.219258e+12     1.023459e+08   \n",
       "     EMILIA-ROMAGNA          7.700575e+11     2.575422e+07   \n",
       "\n",
       "                     tot costo trasporti  costo territorio  \\\n",
       "ANNO Regione                                                 \n",
       "2010 ABRUZZO                3.006942e+11      5.782442e+07   \n",
       "     BASILICATA             1.291506e+11      1.069100e+07   \n",
       "     CALABRIA               4.032260e+11      5.697400e+07   \n",
       "     CAMPANIA               5.432214e+11      1.428012e+08   \n",
       "     EMILIA-ROMAGNA         3.430872e+11      1.771800e+08   \n",
       "\n",
       "                     tot costo territorio  costo ambiente  tot costo ambiente  \\\n",
       "ANNO Regione                                                                    \n",
       "2010 ABRUZZO                 5.099244e+11    1.978720e+08        2.319535e+12   \n",
       "     BASILICATA              2.190167e+11    7.273174e+07        9.962594e+11   \n",
       "     CALABRIA                6.838003e+11    2.321927e+08        3.110459e+12   \n",
       "     CAMPANIA                9.212077e+11    9.650124e+08        4.190374e+12   \n",
       "     EMILIA-ROMAGNA          5.818154e+11    6.375780e+08        2.646552e+12   \n",
       "\n",
       "                     costo sociale  tot costo sociale  costo asili nido  \\\n",
       "ANNO Regione                                                              \n",
       "2010 ABRUZZO          1.984301e+08       1.425315e+12        21677930.0   \n",
       "     BASILICATA       4.639258e+07       6.121847e+11         5329620.0   \n",
       "     CALABRIA         9.802297e+07       1.911325e+12         4263298.0   \n",
       "     CAMPANIA         3.523497e+08       2.574914e+12        49010288.0   \n",
       "     EMILIA-ROMAGNA   4.912576e+08       1.626262e+12       190724505.0   \n",
       "\n",
       "                     tot costo asili nido  costo spesa totale  \\\n",
       "ANNO Regione                                                    \n",
       "2010 ABRUZZO                 4.401488e+11        8.835521e+08   \n",
       "     BASILICATA              1.890475e+11        3.390415e+08   \n",
       "     CALABRIA                5.902323e+11        9.956161e+08   \n",
       "     CAMPANIA                7.951540e+11        3.430469e+09   \n",
       "     EMILIA-ROMAGNA          5.022026e+11        3.071069e+09   \n",
       "\n",
       "                     tot costo spesa totale  \\\n",
       "ANNO Regione                                  \n",
       "2010 ABRUZZO                   1.014468e+13   \n",
       "     BASILICATA                4.357224e+12   \n",
       "     CALABRIA                  1.360385e+13   \n",
       "     CAMPANIA                  1.832695e+13   \n",
       "     EMILIA-ROMAGNA            1.157492e+13   \n",
       "\n",
       "                     Addizionale comunale dovuta Ammontare  \\\n",
       "ANNO Regione                                                 \n",
       "2010 ABRUZZO                                           0.0   \n",
       "     BASILICATA                                        0.0   \n",
       "     CALABRIA                                          0.0   \n",
       "     CAMPANIA                                          0.0   \n",
       "     EMILIA-ROMAGNA                                    0.0   \n",
       "\n",
       "                     Addizionale comunale dovuta Frequenza  \\\n",
       "ANNO Regione                                                 \n",
       "2010 ABRUZZO                                           0.0   \n",
       "     BASILICATA                                        0.0   \n",
       "     CALABRIA                                          0.0   \n",
       "     CAMPANIA                                          0.0   \n",
       "     EMILIA-ROMAGNA                                    0.0   \n",
       "\n",
       "                     Addizionale regionale dovuta Ammontare  \\\n",
       "ANNO Regione                                                  \n",
       "2010 ABRUZZO                                            0.0   \n",
       "     BASILICATA                                         0.0   \n",
       "     CALABRIA                                           0.0   \n",
       "     CAMPANIA                                           0.0   \n",
       "     EMILIA-ROMAGNA                                     0.0   \n",
       "\n",
       "                     Addizionale regionale dovuta Frequenza  Anno di imposta  \\\n",
       "ANNO Regione                                                                   \n",
       "2010 ABRUZZO                                            0.0         613050.0   \n",
       "     BASILICATA                                         0.0         263310.0   \n",
       "     CALABRIA                                           0.0         822090.0   \n",
       "     CAMPANIA                                           0.0        1107510.0   \n",
       "     EMILIA-ROMAGNA                                     0.0         699480.0   \n",
       "\n",
       "                     Codice Istat Comune  Codice Istat Regione  \\\n",
       "ANNO Regione                                                     \n",
       "2010 ABRUZZO                         0.0                   0.0   \n",
       "     BASILICATA                      0.0                   0.0   \n",
       "     CALABRIA                        0.0                   0.0   \n",
       "     CAMPANIA                        0.0                   0.0   \n",
       "     EMILIA-ROMAGNA                  0.0                   0.0   \n",
       "\n",
       "                     Imposta netta Ammontare  Imposta netta Frequenza  \\\n",
       "ANNO Regione                                                            \n",
       "2010 ABRUZZO                             0.0                      0.0   \n",
       "     BASILICATA                          0.0                      0.0   \n",
       "     CALABRIA                            0.0                      0.0   \n",
       "     CAMPANIA                            0.0                      0.0   \n",
       "     EMILIA-ROMAGNA                      0.0                      0.0   \n",
       "\n",
       "                     Numero contribuenti  \\\n",
       "ANNO Regione                               \n",
       "2010 ABRUZZO                         0.0   \n",
       "     BASILICATA                      0.0   \n",
       "     CALABRIA                        0.0   \n",
       "     CAMPANIA                        0.0   \n",
       "     EMILIA-ROMAGNA                  0.0   \n",
       "\n",
       "                     Reddito complessivo da 0 a 10000 euro Ammontare  \\\n",
       "ANNO Regione                                                           \n",
       "2010 ABRUZZO                                            1.785423e+09   \n",
       "     BASILICATA                                         8.640381e+08   \n",
       "     CALABRIA                                           2.993674e+09   \n",
       "     CAMPANIA                                           6.336397e+09   \n",
       "     EMILIA-ROMAGNA                                     4.473219e+09   \n",
       "\n",
       "                     Reddito complessivo da 0 a 10000 euro Frequenza  \\\n",
       "ANNO Regione                                                           \n",
       "2010 ABRUZZO                                                363828.0   \n",
       "     BASILICATA                                             172899.0   \n",
       "     CALABRIA                                               606452.0   \n",
       "     CAMPANIA                                              1317263.0   \n",
       "     EMILIA-ROMAGNA                                         883703.0   \n",
       "\n",
       "                     Reddito complessivo da 10000 a 15000 euro Ammontare  \\\n",
       "ANNO Regione                                                               \n",
       "2010 ABRUZZO                                              1.851948e+09     \n",
       "     BASILICATA                                           7.611564e+08     \n",
       "     CALABRIA                                             2.211097e+09     \n",
       "     CAMPANIA                                             5.671870e+09     \n",
       "     EMILIA-ROMAGNA                                       6.783704e+09     \n",
       "\n",
       "                     Reddito complessivo da 10000 a 15000 euro Frequenza  \\\n",
       "ANNO Regione                                                               \n",
       "2010 ABRUZZO                                                  148657.0     \n",
       "     BASILICATA                                                61313.0     \n",
       "     CALABRIA                                                 178817.0     \n",
       "     CAMPANIA                                                 455390.0     \n",
       "     EMILIA-ROMAGNA                                           538386.0     \n",
       "\n",
       "                     Reddito complessivo da 15000 a 26000 euro Ammontare  \\\n",
       "ANNO Regione                                                               \n",
       "2010 ABRUZZO                                              5.011355e+09     \n",
       "     BASILICATA                                           1.863997e+09     \n",
       "     CALABRIA                                             5.231303e+09     \n",
       "     CAMPANIA                                             1.537715e+10     \n",
       "     EMILIA-ROMAGNA                                       2.319222e+10     \n",
       "\n",
       "                     Reddito complessivo da 15000 a 26000 euro Frequenza  \\\n",
       "ANNO Regione                                                               \n",
       "2010 ABRUZZO                                                  253790.0     \n",
       "     BASILICATA                                                94948.0     \n",
       "     CALABRIA                                                 263901.0     \n",
       "     CAMPANIA                                                 774120.0     \n",
       "     EMILIA-ROMAGNA                                          1161045.0     \n",
       "\n",
       "                     Reddito complessivo da 26000 a 55000 euro Ammontare  \\\n",
       "ANNO Regione                                                               \n",
       "2010 ABRUZZO                                              4.426246e+09     \n",
       "     BASILICATA                                           1.570506e+09     \n",
       "     CALABRIA                                             4.866120e+09     \n",
       "     CAMPANIA                                             1.567818e+10     \n",
       "     EMILIA-ROMAGNA                                       2.144194e+10     \n",
       "\n",
       "                     Reddito complessivo da 26000 a 55000 euro Frequenza  \\\n",
       "ANNO Regione                                                               \n",
       "2010 ABRUZZO                                                  130637.0     \n",
       "     BASILICATA                                                47053.0     \n",
       "     CALABRIA                                                 146221.0     \n",
       "     CAMPANIA                                                 462896.0     \n",
       "     EMILIA-ROMAGNA                                           621490.0     \n",
       "\n",
       "                     Reddito complessivo da 55000 a 75000 euro Ammontare  \\\n",
       "ANNO Regione                                                               \n",
       "2010 ABRUZZO                                              7.244688e+08     \n",
       "     BASILICATA                                           2.110695e+08     \n",
       "     CALABRIA                                             7.396068e+08     \n",
       "     CAMPANIA                                             2.502611e+09     \n",
       "     EMILIA-ROMAGNA                                       4.450732e+09     \n",
       "\n",
       "                     Reddito complessivo da 55000 a 75000 euro Frequenza  \\\n",
       "ANNO Regione                                                               \n",
       "2010 ABRUZZO                                                   11363.0     \n",
       "     BASILICATA                                                 3317.0     \n",
       "     CALABRIA                                                  11533.0     \n",
       "     CAMPANIA                                                  39116.0     \n",
       "     EMILIA-ROMAGNA                                            69976.0     \n",
       "\n",
       "                     Reddito complessivo da 75000 a 120000 euro Ammontare  \\\n",
       "ANNO Regione                                                                \n",
       "2010 ABRUZZO                                              7.608778e+08      \n",
       "     BASILICATA                                           2.455821e+08      \n",
       "     CALABRIA                                             7.202095e+08      \n",
       "     CAMPANIA                                             2.854848e+09      \n",
       "     EMILIA-ROMAGNA                                       4.625253e+09      \n",
       "\n",
       "                     Reddito complessivo da 75000 a 120000 euro Frequenza  \\\n",
       "ANNO Regione                                                                \n",
       "2010 ABRUZZO                                                    8334.0      \n",
       "     BASILICATA                                                 2677.0      \n",
       "     CALABRIA                                                   7998.0      \n",
       "     CAMPANIA                                                  31285.0      \n",
       "     EMILIA-ROMAGNA                                            50260.0      \n",
       "\n",
       "                     Reddito complessivo oltre 120000 euro Ammontare  \\\n",
       "ANNO Regione                                                           \n",
       "2010 ABRUZZO                                            5.148789e+08   \n",
       "     BASILICATA                                         1.467972e+08   \n",
       "     CALABRIA                                           3.584661e+08   \n",
       "     CAMPANIA                                           2.052905e+09   \n",
       "     EMILIA-ROMAGNA                                     5.016247e+09   \n",
       "\n",
       "                     Reddito complessivo oltre 120000 euro Frequenza  \\\n",
       "ANNO Regione                                                           \n",
       "2010 ABRUZZO                                                  2638.0   \n",
       "     BASILICATA                                                802.0   \n",
       "     CALABRIA                                                 1947.0   \n",
       "     CAMPANIA                                                10291.0   \n",
       "     EMILIA-ROMAGNA                                          24287.0   \n",
       "\n",
       "                     Reddito da fabbricati Ammontare  \\\n",
       "ANNO Regione                                           \n",
       "2010 ABRUZZO                                     0.0   \n",
       "     BASILICATA                                  0.0   \n",
       "     CALABRIA                                    0.0   \n",
       "     CAMPANIA                                    0.0   \n",
       "     EMILIA-ROMAGNA                              0.0   \n",
       "\n",
       "                     Reddito da fabbricati Frequenza  \\\n",
       "ANNO Regione                                           \n",
       "2010 ABRUZZO                                     0.0   \n",
       "     BASILICATA                                  0.0   \n",
       "     CALABRIA                                    0.0   \n",
       "     CAMPANIA                                    0.0   \n",
       "     EMILIA-ROMAGNA                              0.0   \n",
       "\n",
       "                     Reddito da lavoro dipendente e assimilati Ammontare  \\\n",
       "ANNO Regione                                                               \n",
       "2010 ABRUZZO                                                       0.0     \n",
       "     BASILICATA                                                    0.0     \n",
       "     CALABRIA                                                      0.0     \n",
       "     CAMPANIA                                                      0.0     \n",
       "     EMILIA-ROMAGNA                                                0.0     \n",
       "\n",
       "                     Reddito da lavoro dipendente e assimilati Frequenza  \\\n",
       "ANNO Regione                                                               \n",
       "2010 ABRUZZO                                                       0.0     \n",
       "     BASILICATA                                                    0.0     \n",
       "     CALABRIA                                                      0.0     \n",
       "     CAMPANIA                                                      0.0     \n",
       "     EMILIA-ROMAGNA                                                0.0     \n",
       "\n",
       "                     Reddito da pensione Ammontare  \\\n",
       "ANNO Regione                                         \n",
       "2010 ABRUZZO                                   0.0   \n",
       "     BASILICATA                                0.0   \n",
       "     CALABRIA                                  0.0   \n",
       "     CAMPANIA                                  0.0   \n",
       "     EMILIA-ROMAGNA                            0.0   \n",
       "\n",
       "                     Reddito da pensione Frequenza  \\\n",
       "ANNO Regione                                         \n",
       "2010 ABRUZZO                                   0.0   \n",
       "     BASILICATA                                0.0   \n",
       "     CALABRIA                                  0.0   \n",
       "     CAMPANIA                                  0.0   \n",
       "     EMILIA-ROMAGNA                            0.0   \n",
       "\n",
       "                     Reddito imponibile Ammontare  \\\n",
       "ANNO Regione                                        \n",
       "2010 ABRUZZO                                  0.0   \n",
       "     BASILICATA                               0.0   \n",
       "     CALABRIA                                 0.0   \n",
       "     CAMPANIA                                 0.0   \n",
       "     EMILIA-ROMAGNA                           0.0   \n",
       "\n",
       "                     Reddito imponibile Frequenza  \\\n",
       "ANNO Regione                                        \n",
       "2010 ABRUZZO                                  0.0   \n",
       "     BASILICATA                               0.0   \n",
       "     CALABRIA                                 0.0   \n",
       "     CAMPANIA                                 0.0   \n",
       "     EMILIA-ROMAGNA                           0.0   \n",
       "\n",
       "                     Reddito imponibile addizionale Ammontare  \\\n",
       "ANNO Regione                                                    \n",
       "2010 ABRUZZO                                              0.0   \n",
       "     BASILICATA                                           0.0   \n",
       "     CALABRIA                                             0.0   \n",
       "     CAMPANIA                                             0.0   \n",
       "     EMILIA-ROMAGNA                                       0.0   \n",
       "\n",
       "                     Reddito imponibile addizionale Frequenza  \\\n",
       "ANNO Regione                                                    \n",
       "2010 ABRUZZO                                              0.0   \n",
       "     BASILICATA                                           0.0   \n",
       "     CALABRIA                                             0.0   \n",
       "     CAMPANIA                                             0.0   \n",
       "     EMILIA-ROMAGNA                                       0.0   \n",
       "\n",
       "                     Reddito imponibile addizionale IRPEF Ammontare  \\\n",
       "ANNO Regione                                                          \n",
       "2010 ABRUZZO                                           1.328758e+10   \n",
       "     BASILICATA                                        4.833544e+09   \n",
       "     CALABRIA                                          1.449646e+10   \n",
       "     CAMPANIA                                          4.383305e+10   \n",
       "     EMILIA-ROMAGNA                                    6.366514e+10   \n",
       "\n",
       "                     Reddito imponibile addizionale IRPEF Frequenza  \\\n",
       "ANNO Regione                                                          \n",
       "2010 ABRUZZO                                               644840.0   \n",
       "     BASILICATA                                            246750.0   \n",
       "     CALABRIA                                              740693.0   \n",
       "     CAMPANIA                                             2051444.0   \n",
       "     EMILIA-ROMAGNA                                       2694920.0   \n",
       "\n",
       "                     tot_contribuenti  Reddito lavoro autonomo Ammontare  \\\n",
       "ANNO Regione                                                               \n",
       "2010 ABRUZZO                 924141.0                                0.0   \n",
       "     BASILICATA              384844.0                                0.0   \n",
       "     CALABRIA               1224610.0                                0.0   \n",
       "     CAMPANIA               3112076.0                                0.0   \n",
       "     EMILIA-ROMAGNA         3362567.0                                0.0   \n",
       "\n",
       "                     Reddito lavoro autonomo Frequenza  \\\n",
       "ANNO Regione                                             \n",
       "2010 ABRUZZO                                       0.0   \n",
       "     BASILICATA                                    0.0   \n",
       "     CALABRIA                                      0.0   \n",
       "     CAMPANIA                                      0.0   \n",
       "     EMILIA-ROMAGNA                                0.0   \n",
       "\n",
       "                     Reddito da partecipazione Ammontare  \\\n",
       "ANNO Regione                                               \n",
       "2010 ABRUZZO                                         0.0   \n",
       "     BASILICATA                                      0.0   \n",
       "     CALABRIA                                        0.0   \n",
       "     CAMPANIA                                        0.0   \n",
       "     EMILIA-ROMAGNA                                  0.0   \n",
       "\n",
       "                     Reddito da partecipazione Frequenza  \\\n",
       "ANNO Regione                                               \n",
       "2010 ABRUZZO                                         0.0   \n",
       "     BASILICATA                                      0.0   \n",
       "     CALABRIA                                        0.0   \n",
       "     CAMPANIA                                        0.0   \n",
       "     EMILIA-ROMAGNA                                  0.0   \n",
       "\n",
       "                     Reddito imprenditore ordinario Ammontare  \\\n",
       "ANNO Regione                                                    \n",
       "2010 ABRUZZO                                              0.0   \n",
       "     BASILICATA                                           0.0   \n",
       "     CALABRIA                                             0.0   \n",
       "     CAMPANIA                                             0.0   \n",
       "     EMILIA-ROMAGNA                                       0.0   \n",
       "\n",
       "                     Reddito imprenditore ordinario Frequenza  \\\n",
       "ANNO Regione                                                    \n",
       "2010 ABRUZZO                                              0.0   \n",
       "     BASILICATA                                           0.0   \n",
       "     CALABRIA                                             0.0   \n",
       "     CAMPANIA                                             0.0   \n",
       "     EMILIA-ROMAGNA                                       0.0   \n",
       "\n",
       "                     Reddito imprenditore semplificata Ammontare  \\\n",
       "ANNO Regione                                                       \n",
       "2010 ABRUZZO                                                 0.0   \n",
       "     BASILICATA                                              0.0   \n",
       "     CALABRIA                                                0.0   \n",
       "     CAMPANIA                                                0.0   \n",
       "     EMILIA-ROMAGNA                                          0.0   \n",
       "\n",
       "                     Reddito imprenditore semplificata Frequenza   Cod Istat  \\\n",
       "ANNO Regione                                                                   \n",
       "2010 ABRUZZO                                                 0.0  20594555.0   \n",
       "     BASILICATA                                              0.0   9992546.0   \n",
       "     CALABRIA                                                0.0  34021670.0   \n",
       "     CAMPANIA                                                0.0  34894546.0   \n",
       "     EMILIA-ROMAGNA                                          0.0  14239910.0   \n",
       "\n",
       "                     Reddito minore o uguale a zero Frequenza  \\\n",
       "ANNO Regione                                                    \n",
       "2010 ABRUZZO                                           4894.0   \n",
       "     BASILICATA                                        1835.0   \n",
       "     CALABRIA                                          7741.0   \n",
       "     CAMPANIA                                         21715.0   \n",
       "     EMILIA-ROMAGNA                                   13420.0   \n",
       "\n",
       "                     Reddito minore o uguale a zero Ammontare  \n",
       "ANNO Regione                                                   \n",
       "2010 ABRUZZO                                      -51369393.0  \n",
       "     BASILICATA                                   -17274977.0  \n",
       "     CALABRIA                                     -91069842.0  \n",
       "     CAMPANIA                                    -218897429.0  \n",
       "     EMILIA-ROMAGNA                              -135444286.0  "
      ]
     },
     "execution_count": 227,
     "metadata": {},
     "output_type": "execute_result"
    }
   ],
   "source": [
    "#group by Anno and Regione\n",
    "df_regioni = df.groupby(['ANNO', \"Regione\"]).sum()\n"
   ]
  },
  {
   "cell_type": "markdown",
   "metadata": {},
   "source": [
    "La tabella mostra come la regione con in costi piu' bassi in base al numero dei contribuenti sia il **Molise** mentre quella con i costi piu' alti sia il **Lazio**."
   ]
  },
  {
   "cell_type": "code",
   "execution_count": 199,
   "metadata": {},
   "outputs": [],
   "source": [
    "df_costi_medi_per_regione = df_costi_medi_per_regione.drop('costo spesa totale', axis=1)\n"
   ]
  },
  {
   "cell_type": "code",
   "execution_count": 202,
   "metadata": {},
   "outputs": [
    {
     "data": {
      "text/plain": [
       "Regione\n",
       "MOLISE             794.175443\n",
       "VENETO             782.214015\n",
       "MARCHE             821.802875\n",
       "CALABRIA           830.173114\n",
       "PUGLIA             838.877650\n",
       "LOMBARDIA          874.929410\n",
       "PIEMONTE           886.934225\n",
       "EMILIA-ROMAGNA     919.386586\n",
       "BASILICATA         916.724306\n",
       "UMBRIA             910.184618\n",
       "ABRUZZO           1012.680623\n",
       "TOSCANA            982.133748\n",
       "LIGURIA           1045.198601\n",
       "CAMPANIA          1102.725034\n",
       "LAZIO             1423.367455\n",
       "dtype: float64"
      ]
     },
     "execution_count": 202,
     "metadata": {},
     "output_type": "execute_result"
    }
   ],
   "source": [
    "df_costi_medi_per_regione.sum(axis=1)"
   ]
  },
  {
   "cell_type": "code",
   "execution_count": null,
   "metadata": {},
   "outputs": [],
   "source": []
  },
  {
   "cell_type": "code",
   "execution_count": 230,
   "metadata": {},
   "outputs": [
    {
     "data": {
      "application/vnd.plotly.v1+json": {
       "data": [
        {
         "name": "costo riscossione tributi",
         "type": "bar",
         "x": [
          "MOLISE",
          "VENETO",
          "MARCHE",
          "CALABRIA",
          "PUGLIA",
          "LOMBARDIA",
          "PIEMONTE",
          "EMILIA-ROMAGNA",
          "BASILICATA",
          "UMBRIA",
          "ABRUZZO",
          "TOSCANA",
          "LIGURIA",
          "CAMPANIA",
          "LAZIO"
         ],
         "y": [
          20.72088654064901,
          11.0846717352385,
          14.597413224334764,
          20.508343669503525,
          18.68893609399528,
          14.847999351299713,
          15.235273074113582,
          14.3372310161846,
          15.4411711815229,
          14.447178098379231,
          17.423471901442387,
          17.53998458086152,
          18.77020433423437,
          19.90779194205848,
          20.99491660605029
         ]
        },
        {
         "name": "costo ufficio tecnico",
         "type": "bar",
         "x": [
          "MOLISE",
          "VENETO",
          "MARCHE",
          "CALABRIA",
          "PUGLIA",
          "LOMBARDIA",
          "PIEMONTE",
          "EMILIA-ROMAGNA",
          "BASILICATA",
          "UMBRIA",
          "ABRUZZO",
          "TOSCANA",
          "LIGURIA",
          "CAMPANIA",
          "LAZIO"
         ],
         "y": [
          39.35459352969984,
          31.693976760132973,
          29.81915230537633,
          38.139118294925886,
          21.927927722313953,
          24.35550407243199,
          32.806477689243465,
          23.098782165255386,
          46.80745320194108,
          28.003017754758957,
          36.620023928730426,
          30.153717634072475,
          32.61245219011672,
          29.28191685495514,
          37.88634302786489
         ]
        },
        {
         "name": "costo anagrafe, stato civile",
         "type": "bar",
         "x": [
          "MOLISE",
          "VENETO",
          "MARCHE",
          "CALABRIA",
          "PUGLIA",
          "LOMBARDIA",
          "PIEMONTE",
          "EMILIA-ROMAGNA",
          "BASILICATA",
          "UMBRIA",
          "ABRUZZO",
          "TOSCANA",
          "LIGURIA",
          "CAMPANIA",
          "LAZIO"
         ],
         "y": [
          21.326301983618897,
          14.762788625976832,
          15.474976358412968,
          23.950893190336515,
          16.79190290362758,
          15.092079014748954,
          17.81446627202407,
          12.890340466338753,
          22.477393545742558,
          14.471039076151545,
          16.781293144386062,
          13.71541983923846,
          19.60456384001482,
          21.298577177050348,
          17.924800256575637
         ]
        },
        {
         "name": "costo altri servizi",
         "type": "bar",
         "x": [
          "MOLISE",
          "VENETO",
          "MARCHE",
          "CALABRIA",
          "PUGLIA",
          "LOMBARDIA",
          "PIEMONTE",
          "EMILIA-ROMAGNA",
          "BASILICATA",
          "UMBRIA",
          "ABRUZZO",
          "TOSCANA",
          "LIGURIA",
          "CAMPANIA",
          "LAZIO"
         ],
         "y": [
          193.01474499753738,
          146.16268620196996,
          152.8727826358795,
          186.73510391587365,
          140.77504579049267,
          152.84118463162855,
          154.2022725594822,
          153.76493486150213,
          187.63108520231168,
          176.25505422825375,
          149.76290291116507,
          158.8913766439551,
          190.85411163801854,
          243.9659673405835,
          223.1854556382007
         ]
        },
        {
         "name": "costo polizia locale",
         "type": "bar",
         "x": [
          "MOLISE",
          "VENETO",
          "MARCHE",
          "CALABRIA",
          "PUGLIA",
          "LOMBARDIA",
          "PIEMONTE",
          "EMILIA-ROMAGNA",
          "BASILICATA",
          "UMBRIA",
          "ABRUZZO",
          "TOSCANA",
          "LIGURIA",
          "CAMPANIA",
          "LAZIO"
         ],
         "y": [
          54.35966474809818,
          48.69106642470439,
          51.683453139800434,
          61.61606033149426,
          70.83970138731355,
          67.96004843225828,
          74.29755013109413,
          60.42203076924895,
          63.29145205988487,
          58.783458354883166,
          57.41832271695052,
          77.52415029563457,
          90.88814067433444,
          100.97571884638234,
          135.822588683391
         ]
        },
        {
         "name": "costo istruzione",
         "type": "bar",
         "x": [
          "MOLISE",
          "VENETO",
          "MARCHE",
          "CALABRIA",
          "PUGLIA",
          "LOMBARDIA",
          "PIEMONTE",
          "EMILIA-ROMAGNA",
          "BASILICATA",
          "UMBRIA",
          "ABRUZZO",
          "TOSCANA",
          "LIGURIA",
          "CAMPANIA",
          "LAZIO"
         ],
         "y": [
          72.20784096535466,
          84.6564567631133,
          81.7207880135964,
          71.7210400175546,
          64.32316079305224,
          116.87074096680982,
          102.96335842629657,
          119.59344094677066,
          90.87594323290996,
          80.04885144264617,
          82.35768988435709,
          102.64333472274747,
          91.64755929032373,
          70.4256216231833,
          152.92112950448816
         ]
        },
        {
         "name": "costo viabilita'",
         "type": "bar",
         "x": [
          "MOLISE",
          "VENETO",
          "MARCHE",
          "CALABRIA",
          "PUGLIA",
          "LOMBARDIA",
          "PIEMONTE",
          "EMILIA-ROMAGNA",
          "BASILICATA",
          "UMBRIA",
          "ABRUZZO",
          "TOSCANA",
          "LIGURIA",
          "CAMPANIA",
          "LAZIO"
         ],
         "y": [
          79.84815099482968,
          61.413526040617995,
          77.67436420786576,
          80.81591964270895,
          52.59349517202214,
          62.945801019729835,
          77.49777955971786,
          72.12460496659948,
          68.64621073843907,
          73.58474956076964,
          78.5518393554056,
          62.8265657079601,
          61.268910647041146,
          64.49339634083259,
          77.54352643785985
         ]
        },
        {
         "name": "costo trasporti",
         "type": "bar",
         "x": [
          "MOLISE",
          "VENETO",
          "MARCHE",
          "CALABRIA",
          "PUGLIA",
          "LOMBARDIA",
          "PIEMONTE",
          "EMILIA-ROMAGNA",
          "BASILICATA",
          "UMBRIA",
          "ABRUZZO",
          "TOSCANA",
          "LIGURIA",
          "CAMPANIA",
          "LAZIO"
         ],
         "y": [
          7.234048218369606,
          11.207581704943223,
          7.147199569848209,
          2.2091275639296404,
          15.620073934231426,
          19.865863323176647,
          6.478789611925212,
          7.352455937706525,
          33.018372133254736,
          33.88130540127387,
          11.990720822650045,
          19.74679886472476,
          36.94091404815751,
          36.4384601021592,
          108.982031542057
         ]
        },
        {
         "name": "costo territorio",
         "type": "bar",
         "x": [
          "MOLISE",
          "VENETO",
          "MARCHE",
          "CALABRIA",
          "PUGLIA",
          "LOMBARDIA",
          "PIEMONTE",
          "EMILIA-ROMAGNA",
          "BASILICATA",
          "UMBRIA",
          "ABRUZZO",
          "TOSCANA",
          "LIGURIA",
          "CAMPANIA",
          "LAZIO"
         ],
         "y": [
          60.01324237464911,
          39.666358500250226,
          41.831939061738886,
          55.98294705561386,
          41.06654846944279,
          39.501300389791325,
          36.47244786361449,
          54.614948103539966,
          54.464883747878254,
          57.46100208099509,
          64.82616387715692,
          62.86744399133351,
          70.05885114295172,
          46.79513238281494,
          65.46028070979304
         ]
        },
        {
         "name": "costo ambiente",
         "type": "bar",
         "x": [
          "MOLISE",
          "VENETO",
          "MARCHE",
          "CALABRIA",
          "PUGLIA",
          "LOMBARDIA",
          "PIEMONTE",
          "EMILIA-ROMAGNA",
          "BASILICATA",
          "UMBRIA",
          "ABRUZZO",
          "TOSCANA",
          "LIGURIA",
          "CAMPANIA",
          "LAZIO"
         ],
         "y": [
          155.18688928051967,
          184.90564149852537,
          193.69428699196033,
          209.2016203234903,
          251.1802897946709,
          181.19580377264833,
          213.15463627299806,
          202.36940539757188,
          201.3722929933232,
          238.89989557834554,
          289.98858547753616,
          263.93566157677594,
          266.15253931752096,
          342.83172683177287,
          330.9748414907243
         ]
        },
        {
         "name": "costo sociale",
         "type": "bar",
         "x": [
          "MOLISE",
          "VENETO",
          "MARCHE",
          "CALABRIA",
          "PUGLIA",
          "LOMBARDIA",
          "PIEMONTE",
          "EMILIA-ROMAGNA",
          "BASILICATA",
          "UMBRIA",
          "ABRUZZO",
          "TOSCANA",
          "LIGURIA",
          "CAMPANIA",
          "LAZIO"
         ],
         "y": [
          80.91453131004386,
          126.97412323134162,
          129.48922993341625,
          77.07292791946382,
          130.2680031494337,
          146.9892174611636,
          128.64175489292637,
          155.96198617554057,
          120.61413679767271,
          103.70321739425059,
          188.46917561010144,
          133.73551920982976,
          127.04049530205582,
          107.04162725532487,
          171.79623772520216
         ]
        },
        {
         "name": "costo asili nido",
         "type": "bar",
         "x": [
          "MOLISE",
          "VENETO",
          "MARCHE",
          "CALABRIA",
          "PUGLIA",
          "LOMBARDIA",
          "PIEMONTE",
          "EMILIA-ROMAGNA",
          "BASILICATA",
          "UMBRIA",
          "ABRUZZO",
          "TOSCANA",
          "LIGURIA",
          "CAMPANIA",
          "LAZIO"
         ],
         "y": [
          9.994548036869011,
          20.995137598429793,
          25.797289191265076,
          2.220012454126878,
          14.802564640833017,
          32.46386716094706,
          27.36941902670645,
          42.856425344603956,
          12.08391131481865,
          30.645849077531935,
          18.490433027763185,
          38.553774434304586,
          39.359858559624236,
          19.269097649185994,
          79.8753034399784
         ]
        }
       ],
       "layout": {
        "barmode": "stack"
       }
      },
      "text/html": [
       "<div id=\"8fa81310-9264-4e24-8a5c-43d007a0d0b4\" style=\"height: 525px; width: 100%;\" class=\"plotly-graph-div\"></div><script type=\"text/javascript\">require([\"plotly\"], function(Plotly) { window.PLOTLYENV=window.PLOTLYENV || {};window.PLOTLYENV.BASE_URL=\"https://plot.ly\";Plotly.newPlot(\"8fa81310-9264-4e24-8a5c-43d007a0d0b4\", [{\"type\": \"bar\", \"x\": [\"MOLISE\", \"VENETO\", \"MARCHE\", \"CALABRIA\", \"PUGLIA\", \"LOMBARDIA\", \"PIEMONTE\", \"EMILIA-ROMAGNA\", \"BASILICATA\", \"UMBRIA\", \"ABRUZZO\", \"TOSCANA\", \"LIGURIA\", \"CAMPANIA\", \"LAZIO\"], \"y\": [20.72088654064901, 11.0846717352385, 14.597413224334764, 20.508343669503525, 18.68893609399528, 14.847999351299713, 15.235273074113582, 14.3372310161846, 15.4411711815229, 14.447178098379231, 17.423471901442387, 17.53998458086152, 18.77020433423437, 19.90779194205848, 20.99491660605029], \"name\": \"costo riscossione tributi\"}, {\"type\": \"bar\", \"x\": [\"MOLISE\", \"VENETO\", \"MARCHE\", \"CALABRIA\", \"PUGLIA\", \"LOMBARDIA\", \"PIEMONTE\", \"EMILIA-ROMAGNA\", \"BASILICATA\", \"UMBRIA\", \"ABRUZZO\", \"TOSCANA\", \"LIGURIA\", \"CAMPANIA\", \"LAZIO\"], \"y\": [39.35459352969984, 31.693976760132973, 29.81915230537633, 38.139118294925886, 21.927927722313953, 24.35550407243199, 32.806477689243465, 23.098782165255386, 46.80745320194108, 28.003017754758957, 36.620023928730426, 30.153717634072475, 32.61245219011672, 29.28191685495514, 37.88634302786489], \"name\": \"costo ufficio tecnico\"}, {\"type\": \"bar\", \"x\": [\"MOLISE\", \"VENETO\", \"MARCHE\", \"CALABRIA\", \"PUGLIA\", \"LOMBARDIA\", \"PIEMONTE\", \"EMILIA-ROMAGNA\", \"BASILICATA\", \"UMBRIA\", \"ABRUZZO\", \"TOSCANA\", \"LIGURIA\", \"CAMPANIA\", \"LAZIO\"], \"y\": [21.326301983618897, 14.762788625976832, 15.474976358412968, 23.950893190336515, 16.79190290362758, 15.092079014748954, 17.81446627202407, 12.890340466338753, 22.477393545742558, 14.471039076151545, 16.781293144386062, 13.71541983923846, 19.60456384001482, 21.298577177050348, 17.924800256575637], \"name\": \"costo anagrafe, stato civile\"}, {\"type\": \"bar\", \"x\": [\"MOLISE\", \"VENETO\", \"MARCHE\", \"CALABRIA\", \"PUGLIA\", \"LOMBARDIA\", \"PIEMONTE\", \"EMILIA-ROMAGNA\", \"BASILICATA\", \"UMBRIA\", \"ABRUZZO\", \"TOSCANA\", \"LIGURIA\", \"CAMPANIA\", \"LAZIO\"], \"y\": [193.01474499753738, 146.16268620196996, 152.8727826358795, 186.73510391587365, 140.77504579049267, 152.84118463162855, 154.2022725594822, 153.76493486150213, 187.63108520231168, 176.25505422825375, 149.76290291116507, 158.8913766439551, 190.85411163801854, 243.9659673405835, 223.1854556382007], \"name\": \"costo altri servizi\"}, {\"type\": \"bar\", \"x\": [\"MOLISE\", \"VENETO\", \"MARCHE\", \"CALABRIA\", \"PUGLIA\", \"LOMBARDIA\", \"PIEMONTE\", \"EMILIA-ROMAGNA\", \"BASILICATA\", \"UMBRIA\", \"ABRUZZO\", \"TOSCANA\", \"LIGURIA\", \"CAMPANIA\", \"LAZIO\"], \"y\": [54.35966474809818, 48.69106642470439, 51.683453139800434, 61.61606033149426, 70.83970138731355, 67.96004843225828, 74.29755013109413, 60.42203076924895, 63.29145205988487, 58.783458354883166, 57.41832271695052, 77.52415029563457, 90.88814067433444, 100.97571884638234, 135.822588683391], \"name\": \"costo polizia locale\"}, {\"type\": \"bar\", \"x\": [\"MOLISE\", \"VENETO\", \"MARCHE\", \"CALABRIA\", \"PUGLIA\", \"LOMBARDIA\", \"PIEMONTE\", \"EMILIA-ROMAGNA\", \"BASILICATA\", \"UMBRIA\", \"ABRUZZO\", \"TOSCANA\", \"LIGURIA\", \"CAMPANIA\", \"LAZIO\"], \"y\": [72.20784096535466, 84.6564567631133, 81.7207880135964, 71.7210400175546, 64.32316079305224, 116.87074096680982, 102.96335842629657, 119.59344094677066, 90.87594323290996, 80.04885144264617, 82.35768988435709, 102.64333472274747, 91.64755929032373, 70.4256216231833, 152.92112950448816], \"name\": \"costo istruzione\"}, {\"type\": \"bar\", \"x\": [\"MOLISE\", \"VENETO\", \"MARCHE\", \"CALABRIA\", \"PUGLIA\", \"LOMBARDIA\", \"PIEMONTE\", \"EMILIA-ROMAGNA\", \"BASILICATA\", \"UMBRIA\", \"ABRUZZO\", \"TOSCANA\", \"LIGURIA\", \"CAMPANIA\", \"LAZIO\"], \"y\": [79.84815099482968, 61.413526040617995, 77.67436420786576, 80.81591964270895, 52.59349517202214, 62.945801019729835, 77.49777955971786, 72.12460496659948, 68.64621073843907, 73.58474956076964, 78.5518393554056, 62.8265657079601, 61.268910647041146, 64.49339634083259, 77.54352643785985], \"name\": \"costo viabilita'\"}, {\"type\": \"bar\", \"x\": [\"MOLISE\", \"VENETO\", \"MARCHE\", \"CALABRIA\", \"PUGLIA\", \"LOMBARDIA\", \"PIEMONTE\", \"EMILIA-ROMAGNA\", \"BASILICATA\", \"UMBRIA\", \"ABRUZZO\", \"TOSCANA\", \"LIGURIA\", \"CAMPANIA\", \"LAZIO\"], \"y\": [7.234048218369606, 11.207581704943223, 7.147199569848209, 2.2091275639296404, 15.620073934231426, 19.865863323176647, 6.478789611925212, 7.352455937706525, 33.018372133254736, 33.88130540127387, 11.990720822650045, 19.74679886472476, 36.94091404815751, 36.4384601021592, 108.982031542057], \"name\": \"costo trasporti\"}, {\"type\": \"bar\", \"x\": [\"MOLISE\", \"VENETO\", \"MARCHE\", \"CALABRIA\", \"PUGLIA\", \"LOMBARDIA\", \"PIEMONTE\", \"EMILIA-ROMAGNA\", \"BASILICATA\", \"UMBRIA\", \"ABRUZZO\", \"TOSCANA\", \"LIGURIA\", \"CAMPANIA\", \"LAZIO\"], \"y\": [60.01324237464911, 39.666358500250226, 41.831939061738886, 55.98294705561386, 41.06654846944279, 39.501300389791325, 36.47244786361449, 54.614948103539966, 54.464883747878254, 57.46100208099509, 64.82616387715692, 62.86744399133351, 70.05885114295172, 46.79513238281494, 65.46028070979304], \"name\": \"costo territorio\"}, {\"type\": \"bar\", \"x\": [\"MOLISE\", \"VENETO\", \"MARCHE\", \"CALABRIA\", \"PUGLIA\", \"LOMBARDIA\", \"PIEMONTE\", \"EMILIA-ROMAGNA\", \"BASILICATA\", \"UMBRIA\", \"ABRUZZO\", \"TOSCANA\", \"LIGURIA\", \"CAMPANIA\", \"LAZIO\"], \"y\": [155.18688928051967, 184.90564149852537, 193.69428699196033, 209.2016203234903, 251.1802897946709, 181.19580377264833, 213.15463627299806, 202.36940539757188, 201.3722929933232, 238.89989557834554, 289.98858547753616, 263.93566157677594, 266.15253931752096, 342.83172683177287, 330.9748414907243], \"name\": \"costo ambiente\"}, {\"type\": \"bar\", \"x\": [\"MOLISE\", \"VENETO\", \"MARCHE\", \"CALABRIA\", \"PUGLIA\", \"LOMBARDIA\", \"PIEMONTE\", \"EMILIA-ROMAGNA\", \"BASILICATA\", \"UMBRIA\", \"ABRUZZO\", \"TOSCANA\", \"LIGURIA\", \"CAMPANIA\", \"LAZIO\"], \"y\": [80.91453131004386, 126.97412323134162, 129.48922993341625, 77.07292791946382, 130.2680031494337, 146.9892174611636, 128.64175489292637, 155.96198617554057, 120.61413679767271, 103.70321739425059, 188.46917561010144, 133.73551920982976, 127.04049530205582, 107.04162725532487, 171.79623772520216], \"name\": \"costo sociale\"}, {\"type\": \"bar\", \"x\": [\"MOLISE\", \"VENETO\", \"MARCHE\", \"CALABRIA\", \"PUGLIA\", \"LOMBARDIA\", \"PIEMONTE\", \"EMILIA-ROMAGNA\", \"BASILICATA\", \"UMBRIA\", \"ABRUZZO\", \"TOSCANA\", \"LIGURIA\", \"CAMPANIA\", \"LAZIO\"], \"y\": [9.994548036869011, 20.995137598429793, 25.797289191265076, 2.220012454126878, 14.802564640833017, 32.46386716094706, 27.36941902670645, 42.856425344603956, 12.08391131481865, 30.645849077531935, 18.490433027763185, 38.553774434304586, 39.359858559624236, 19.269097649185994, 79.8753034399784], \"name\": \"costo asili nido\"}], {\"barmode\": \"stack\"}, {\"showLink\": true, \"linkText\": \"Export to plot.ly\"})});</script>"
      ],
      "text/vnd.plotly.v1+html": [
       "<div id=\"8fa81310-9264-4e24-8a5c-43d007a0d0b4\" style=\"height: 525px; width: 100%;\" class=\"plotly-graph-div\"></div><script type=\"text/javascript\">require([\"plotly\"], function(Plotly) { window.PLOTLYENV=window.PLOTLYENV || {};window.PLOTLYENV.BASE_URL=\"https://plot.ly\";Plotly.newPlot(\"8fa81310-9264-4e24-8a5c-43d007a0d0b4\", [{\"type\": \"bar\", \"x\": [\"MOLISE\", \"VENETO\", \"MARCHE\", \"CALABRIA\", \"PUGLIA\", \"LOMBARDIA\", \"PIEMONTE\", \"EMILIA-ROMAGNA\", \"BASILICATA\", \"UMBRIA\", \"ABRUZZO\", \"TOSCANA\", \"LIGURIA\", \"CAMPANIA\", \"LAZIO\"], \"y\": [20.72088654064901, 11.0846717352385, 14.597413224334764, 20.508343669503525, 18.68893609399528, 14.847999351299713, 15.235273074113582, 14.3372310161846, 15.4411711815229, 14.447178098379231, 17.423471901442387, 17.53998458086152, 18.77020433423437, 19.90779194205848, 20.99491660605029], \"name\": \"costo riscossione tributi\"}, {\"type\": \"bar\", \"x\": [\"MOLISE\", \"VENETO\", \"MARCHE\", \"CALABRIA\", \"PUGLIA\", \"LOMBARDIA\", \"PIEMONTE\", \"EMILIA-ROMAGNA\", \"BASILICATA\", \"UMBRIA\", \"ABRUZZO\", \"TOSCANA\", \"LIGURIA\", \"CAMPANIA\", \"LAZIO\"], \"y\": [39.35459352969984, 31.693976760132973, 29.81915230537633, 38.139118294925886, 21.927927722313953, 24.35550407243199, 32.806477689243465, 23.098782165255386, 46.80745320194108, 28.003017754758957, 36.620023928730426, 30.153717634072475, 32.61245219011672, 29.28191685495514, 37.88634302786489], \"name\": \"costo ufficio tecnico\"}, {\"type\": \"bar\", \"x\": [\"MOLISE\", \"VENETO\", \"MARCHE\", \"CALABRIA\", \"PUGLIA\", \"LOMBARDIA\", \"PIEMONTE\", \"EMILIA-ROMAGNA\", \"BASILICATA\", \"UMBRIA\", \"ABRUZZO\", \"TOSCANA\", \"LIGURIA\", \"CAMPANIA\", \"LAZIO\"], \"y\": [21.326301983618897, 14.762788625976832, 15.474976358412968, 23.950893190336515, 16.79190290362758, 15.092079014748954, 17.81446627202407, 12.890340466338753, 22.477393545742558, 14.471039076151545, 16.781293144386062, 13.71541983923846, 19.60456384001482, 21.298577177050348, 17.924800256575637], \"name\": \"costo anagrafe, stato civile\"}, {\"type\": \"bar\", \"x\": [\"MOLISE\", \"VENETO\", \"MARCHE\", \"CALABRIA\", \"PUGLIA\", \"LOMBARDIA\", \"PIEMONTE\", \"EMILIA-ROMAGNA\", \"BASILICATA\", \"UMBRIA\", \"ABRUZZO\", \"TOSCANA\", \"LIGURIA\", \"CAMPANIA\", \"LAZIO\"], \"y\": [193.01474499753738, 146.16268620196996, 152.8727826358795, 186.73510391587365, 140.77504579049267, 152.84118463162855, 154.2022725594822, 153.76493486150213, 187.63108520231168, 176.25505422825375, 149.76290291116507, 158.8913766439551, 190.85411163801854, 243.9659673405835, 223.1854556382007], \"name\": \"costo altri servizi\"}, {\"type\": \"bar\", \"x\": [\"MOLISE\", \"VENETO\", \"MARCHE\", \"CALABRIA\", \"PUGLIA\", \"LOMBARDIA\", \"PIEMONTE\", \"EMILIA-ROMAGNA\", \"BASILICATA\", \"UMBRIA\", \"ABRUZZO\", \"TOSCANA\", \"LIGURIA\", \"CAMPANIA\", \"LAZIO\"], \"y\": [54.35966474809818, 48.69106642470439, 51.683453139800434, 61.61606033149426, 70.83970138731355, 67.96004843225828, 74.29755013109413, 60.42203076924895, 63.29145205988487, 58.783458354883166, 57.41832271695052, 77.52415029563457, 90.88814067433444, 100.97571884638234, 135.822588683391], \"name\": \"costo polizia locale\"}, {\"type\": \"bar\", \"x\": [\"MOLISE\", \"VENETO\", \"MARCHE\", \"CALABRIA\", \"PUGLIA\", \"LOMBARDIA\", \"PIEMONTE\", \"EMILIA-ROMAGNA\", \"BASILICATA\", \"UMBRIA\", \"ABRUZZO\", \"TOSCANA\", \"LIGURIA\", \"CAMPANIA\", \"LAZIO\"], \"y\": [72.20784096535466, 84.6564567631133, 81.7207880135964, 71.7210400175546, 64.32316079305224, 116.87074096680982, 102.96335842629657, 119.59344094677066, 90.87594323290996, 80.04885144264617, 82.35768988435709, 102.64333472274747, 91.64755929032373, 70.4256216231833, 152.92112950448816], \"name\": \"costo istruzione\"}, {\"type\": \"bar\", \"x\": [\"MOLISE\", \"VENETO\", \"MARCHE\", \"CALABRIA\", \"PUGLIA\", \"LOMBARDIA\", \"PIEMONTE\", \"EMILIA-ROMAGNA\", \"BASILICATA\", \"UMBRIA\", \"ABRUZZO\", \"TOSCANA\", \"LIGURIA\", \"CAMPANIA\", \"LAZIO\"], \"y\": [79.84815099482968, 61.413526040617995, 77.67436420786576, 80.81591964270895, 52.59349517202214, 62.945801019729835, 77.49777955971786, 72.12460496659948, 68.64621073843907, 73.58474956076964, 78.5518393554056, 62.8265657079601, 61.268910647041146, 64.49339634083259, 77.54352643785985], \"name\": \"costo viabilita'\"}, {\"type\": \"bar\", \"x\": [\"MOLISE\", \"VENETO\", \"MARCHE\", \"CALABRIA\", \"PUGLIA\", \"LOMBARDIA\", \"PIEMONTE\", \"EMILIA-ROMAGNA\", \"BASILICATA\", \"UMBRIA\", \"ABRUZZO\", \"TOSCANA\", \"LIGURIA\", \"CAMPANIA\", \"LAZIO\"], \"y\": [7.234048218369606, 11.207581704943223, 7.147199569848209, 2.2091275639296404, 15.620073934231426, 19.865863323176647, 6.478789611925212, 7.352455937706525, 33.018372133254736, 33.88130540127387, 11.990720822650045, 19.74679886472476, 36.94091404815751, 36.4384601021592, 108.982031542057], \"name\": \"costo trasporti\"}, {\"type\": \"bar\", \"x\": [\"MOLISE\", \"VENETO\", \"MARCHE\", \"CALABRIA\", \"PUGLIA\", \"LOMBARDIA\", \"PIEMONTE\", \"EMILIA-ROMAGNA\", \"BASILICATA\", \"UMBRIA\", \"ABRUZZO\", \"TOSCANA\", \"LIGURIA\", \"CAMPANIA\", \"LAZIO\"], \"y\": [60.01324237464911, 39.666358500250226, 41.831939061738886, 55.98294705561386, 41.06654846944279, 39.501300389791325, 36.47244786361449, 54.614948103539966, 54.464883747878254, 57.46100208099509, 64.82616387715692, 62.86744399133351, 70.05885114295172, 46.79513238281494, 65.46028070979304], \"name\": \"costo territorio\"}, {\"type\": \"bar\", \"x\": [\"MOLISE\", \"VENETO\", \"MARCHE\", \"CALABRIA\", \"PUGLIA\", \"LOMBARDIA\", \"PIEMONTE\", \"EMILIA-ROMAGNA\", \"BASILICATA\", \"UMBRIA\", \"ABRUZZO\", \"TOSCANA\", \"LIGURIA\", \"CAMPANIA\", \"LAZIO\"], \"y\": [155.18688928051967, 184.90564149852537, 193.69428699196033, 209.2016203234903, 251.1802897946709, 181.19580377264833, 213.15463627299806, 202.36940539757188, 201.3722929933232, 238.89989557834554, 289.98858547753616, 263.93566157677594, 266.15253931752096, 342.83172683177287, 330.9748414907243], \"name\": \"costo ambiente\"}, {\"type\": \"bar\", \"x\": [\"MOLISE\", \"VENETO\", \"MARCHE\", \"CALABRIA\", \"PUGLIA\", \"LOMBARDIA\", \"PIEMONTE\", \"EMILIA-ROMAGNA\", \"BASILICATA\", \"UMBRIA\", \"ABRUZZO\", \"TOSCANA\", \"LIGURIA\", \"CAMPANIA\", \"LAZIO\"], \"y\": [80.91453131004386, 126.97412323134162, 129.48922993341625, 77.07292791946382, 130.2680031494337, 146.9892174611636, 128.64175489292637, 155.96198617554057, 120.61413679767271, 103.70321739425059, 188.46917561010144, 133.73551920982976, 127.04049530205582, 107.04162725532487, 171.79623772520216], \"name\": \"costo sociale\"}, {\"type\": \"bar\", \"x\": [\"MOLISE\", \"VENETO\", \"MARCHE\", \"CALABRIA\", \"PUGLIA\", \"LOMBARDIA\", \"PIEMONTE\", \"EMILIA-ROMAGNA\", \"BASILICATA\", \"UMBRIA\", \"ABRUZZO\", \"TOSCANA\", \"LIGURIA\", \"CAMPANIA\", \"LAZIO\"], \"y\": [9.994548036869011, 20.995137598429793, 25.797289191265076, 2.220012454126878, 14.802564640833017, 32.46386716094706, 27.36941902670645, 42.856425344603956, 12.08391131481865, 30.645849077531935, 18.490433027763185, 38.553774434304586, 39.359858559624236, 19.269097649185994, 79.8753034399784], \"name\": \"costo asili nido\"}], {\"barmode\": \"stack\"}, {\"showLink\": true, \"linkText\": \"Export to plot.ly\"})});</script>"
      ]
     },
     "metadata": {},
     "output_type": "display_data"
    }
   ],
   "source": [
    "data = []\n",
    "\n",
    "for c in df_costi_medi_per_regione.columns[:-1]:\n",
    "    trace = go.Bar(\n",
    "        x = df_costi_medi_per_regione.index.values,\n",
    "        y = df_costi_medi_per_regione[c],\n",
    "        name = c\n",
    "    )\n",
    "    data.append(trace)\n",
    "\n",
    "layout = go.Layout(\n",
    "    barmode='stack'\n",
    ")\n",
    "\n",
    "fig = go.Figure(data=data, layout=layout)\n",
    "py.iplot(fig)"
   ]
  },
  {
   "cell_type": "code",
   "execution_count": null,
   "metadata": {},
   "outputs": [],
   "source": []
  },
  {
   "cell_type": "code",
   "execution_count": null,
   "metadata": {},
   "outputs": [],
   "source": []
  },
  {
   "cell_type": "code",
   "execution_count": null,
   "metadata": {},
   "outputs": [],
   "source": []
  },
  {
   "cell_type": "code",
   "execution_count": null,
   "metadata": {},
   "outputs": [],
   "source": []
  },
  {
   "cell_type": "code",
   "execution_count": 159,
   "metadata": {
    "scrolled": false
   },
   "outputs": [
    {
     "data": {
      "application/vnd.plotly.v1+json": {
       "data": [
        {
         "marker": {
          "size": [
           17.423471901442387
          ]
         },
         "mode": "markers",
         "name": "ABRUZZO",
         "text": [
          "costo riscossione tributi"
         ],
         "type": "scatter",
         "x": [
          17.423471901442387
         ],
         "y": [
          17.423471901442387
         ]
        },
        {
         "marker": {
          "size": [
           15.4411711815229
          ]
         },
         "mode": "markers",
         "name": "BASILICATA",
         "text": [
          "costo riscossione tributi"
         ],
         "type": "scatter",
         "x": [
          15.4411711815229
         ],
         "y": [
          15.4411711815229
         ]
        },
        {
         "marker": {
          "size": [
           20.508343669503525
          ]
         },
         "mode": "markers",
         "name": "CALABRIA",
         "text": [
          "costo riscossione tributi"
         ],
         "type": "scatter",
         "x": [
          20.508343669503525
         ],
         "y": [
          20.508343669503525
         ]
        },
        {
         "marker": {
          "size": [
           19.90779194205848
          ]
         },
         "mode": "markers",
         "name": "CAMPANIA",
         "text": [
          "costo riscossione tributi"
         ],
         "type": "scatter",
         "x": [
          19.90779194205848
         ],
         "y": [
          19.90779194205848
         ]
        },
        {
         "marker": {
          "size": [
           14.3372310161846
          ]
         },
         "mode": "markers",
         "name": "EMILIA-ROMAGNA",
         "text": [
          "costo riscossione tributi"
         ],
         "type": "scatter",
         "x": [
          14.3372310161846
         ],
         "y": [
          14.3372310161846
         ]
        },
        {
         "marker": {
          "size": [
           20.99491660605029
          ]
         },
         "mode": "markers",
         "name": "LAZIO",
         "text": [
          "costo riscossione tributi"
         ],
         "type": "scatter",
         "x": [
          20.99491660605029
         ],
         "y": [
          20.99491660605029
         ]
        },
        {
         "marker": {
          "size": [
           18.77020433423437
          ]
         },
         "mode": "markers",
         "name": "LIGURIA",
         "text": [
          "costo riscossione tributi"
         ],
         "type": "scatter",
         "x": [
          18.77020433423437
         ],
         "y": [
          18.77020433423437
         ]
        },
        {
         "marker": {
          "size": [
           14.847999351299713
          ]
         },
         "mode": "markers",
         "name": "LOMBARDIA",
         "text": [
          "costo riscossione tributi"
         ],
         "type": "scatter",
         "x": [
          14.847999351299713
         ],
         "y": [
          14.847999351299713
         ]
        },
        {
         "marker": {
          "size": [
           14.597413224334764
          ]
         },
         "mode": "markers",
         "name": "MARCHE",
         "text": [
          "costo riscossione tributi"
         ],
         "type": "scatter",
         "x": [
          14.597413224334764
         ],
         "y": [
          14.597413224334764
         ]
        },
        {
         "marker": {
          "size": [
           20.72088654064901
          ]
         },
         "mode": "markers",
         "name": "MOLISE",
         "text": [
          "costo riscossione tributi"
         ],
         "type": "scatter",
         "x": [
          20.72088654064901
         ],
         "y": [
          20.72088654064901
         ]
        },
        {
         "marker": {
          "size": [
           15.235273074113582
          ]
         },
         "mode": "markers",
         "name": "PIEMONTE",
         "text": [
          "costo riscossione tributi"
         ],
         "type": "scatter",
         "x": [
          15.235273074113582
         ],
         "y": [
          15.235273074113582
         ]
        },
        {
         "marker": {
          "size": [
           18.68893609399528
          ]
         },
         "mode": "markers",
         "name": "PUGLIA",
         "text": [
          "costo riscossione tributi"
         ],
         "type": "scatter",
         "x": [
          18.68893609399528
         ],
         "y": [
          18.68893609399528
         ]
        },
        {
         "marker": {
          "size": [
           17.53998458086152
          ]
         },
         "mode": "markers",
         "name": "TOSCANA",
         "text": [
          "costo riscossione tributi"
         ],
         "type": "scatter",
         "x": [
          17.53998458086152
         ],
         "y": [
          17.53998458086152
         ]
        },
        {
         "marker": {
          "size": [
           14.447178098379231
          ]
         },
         "mode": "markers",
         "name": "UMBRIA",
         "text": [
          "costo riscossione tributi"
         ],
         "type": "scatter",
         "x": [
          14.447178098379231
         ],
         "y": [
          14.447178098379231
         ]
        },
        {
         "marker": {
          "size": [
           11.0846717352385
          ]
         },
         "mode": "markers",
         "name": "VENETO",
         "text": [
          "costo riscossione tributi"
         ],
         "type": "scatter",
         "x": [
          11.0846717352385
         ],
         "y": [
          11.0846717352385
         ]
        }
       ],
       "layout": {
        "title": "Costo Riscossione Tributi"
       }
      },
      "text/html": [
       "<div id=\"8c3d2989-dd47-4c47-8cd3-78198937b7cd\" style=\"height: 525px; width: 100%;\" class=\"plotly-graph-div\"></div><script type=\"text/javascript\">require([\"plotly\"], function(Plotly) { window.PLOTLYENV=window.PLOTLYENV || {};window.PLOTLYENV.BASE_URL=\"https://plot.ly\";Plotly.newPlot(\"8c3d2989-dd47-4c47-8cd3-78198937b7cd\", [{\"type\": \"scatter\", \"x\": [17.423471901442387], \"y\": [17.423471901442387], \"text\": [\"costo riscossione tributi\"], \"mode\": \"markers\", \"marker\": {\"size\": [17.423471901442387]}, \"name\": \"ABRUZZO\"}, {\"type\": \"scatter\", \"x\": [15.4411711815229], \"y\": [15.4411711815229], \"text\": [\"costo riscossione tributi\"], \"mode\": \"markers\", \"marker\": {\"size\": [15.4411711815229]}, \"name\": \"BASILICATA\"}, {\"type\": \"scatter\", \"x\": [20.508343669503525], \"y\": [20.508343669503525], \"text\": [\"costo riscossione tributi\"], \"mode\": \"markers\", \"marker\": {\"size\": [20.508343669503525]}, \"name\": \"CALABRIA\"}, {\"type\": \"scatter\", \"x\": [19.90779194205848], \"y\": [19.90779194205848], \"text\": [\"costo riscossione tributi\"], \"mode\": \"markers\", \"marker\": {\"size\": [19.90779194205848]}, \"name\": \"CAMPANIA\"}, {\"type\": \"scatter\", \"x\": [14.3372310161846], \"y\": [14.3372310161846], \"text\": [\"costo riscossione tributi\"], \"mode\": \"markers\", \"marker\": {\"size\": [14.3372310161846]}, \"name\": \"EMILIA-ROMAGNA\"}, {\"type\": \"scatter\", \"x\": [20.99491660605029], \"y\": [20.99491660605029], \"text\": [\"costo riscossione tributi\"], \"mode\": \"markers\", \"marker\": {\"size\": [20.99491660605029]}, \"name\": \"LAZIO\"}, {\"type\": \"scatter\", \"x\": [18.77020433423437], \"y\": [18.77020433423437], \"text\": [\"costo riscossione tributi\"], \"mode\": \"markers\", \"marker\": {\"size\": [18.77020433423437]}, \"name\": \"LIGURIA\"}, {\"type\": \"scatter\", \"x\": [14.847999351299713], \"y\": [14.847999351299713], \"text\": [\"costo riscossione tributi\"], \"mode\": \"markers\", \"marker\": {\"size\": [14.847999351299713]}, \"name\": \"LOMBARDIA\"}, {\"type\": \"scatter\", \"x\": [14.597413224334764], \"y\": [14.597413224334764], \"text\": [\"costo riscossione tributi\"], \"mode\": \"markers\", \"marker\": {\"size\": [14.597413224334764]}, \"name\": \"MARCHE\"}, {\"type\": \"scatter\", \"x\": [20.72088654064901], \"y\": [20.72088654064901], \"text\": [\"costo riscossione tributi\"], \"mode\": \"markers\", \"marker\": {\"size\": [20.72088654064901]}, \"name\": \"MOLISE\"}, {\"type\": \"scatter\", \"x\": [15.235273074113582], \"y\": [15.235273074113582], \"text\": [\"costo riscossione tributi\"], \"mode\": \"markers\", \"marker\": {\"size\": [15.235273074113582]}, \"name\": \"PIEMONTE\"}, {\"type\": \"scatter\", \"x\": [18.68893609399528], \"y\": [18.68893609399528], \"text\": [\"costo riscossione tributi\"], \"mode\": \"markers\", \"marker\": {\"size\": [18.68893609399528]}, \"name\": \"PUGLIA\"}, {\"type\": \"scatter\", \"x\": [17.53998458086152], \"y\": [17.53998458086152], \"text\": [\"costo riscossione tributi\"], \"mode\": \"markers\", \"marker\": {\"size\": [17.53998458086152]}, \"name\": \"TOSCANA\"}, {\"type\": \"scatter\", \"x\": [14.447178098379231], \"y\": [14.447178098379231], \"text\": [\"costo riscossione tributi\"], \"mode\": \"markers\", \"marker\": {\"size\": [14.447178098379231]}, \"name\": \"UMBRIA\"}, {\"type\": \"scatter\", \"x\": [11.0846717352385], \"y\": [11.0846717352385], \"text\": [\"costo riscossione tributi\"], \"mode\": \"markers\", \"marker\": {\"size\": [11.0846717352385]}, \"name\": \"VENETO\"}], {\"title\": \"Costo Riscossione Tributi\"}, {\"showLink\": true, \"linkText\": \"Export to plot.ly\"})});</script>"
      ],
      "text/vnd.plotly.v1+html": [
       "<div id=\"8c3d2989-dd47-4c47-8cd3-78198937b7cd\" style=\"height: 525px; width: 100%;\" class=\"plotly-graph-div\"></div><script type=\"text/javascript\">require([\"plotly\"], function(Plotly) { window.PLOTLYENV=window.PLOTLYENV || {};window.PLOTLYENV.BASE_URL=\"https://plot.ly\";Plotly.newPlot(\"8c3d2989-dd47-4c47-8cd3-78198937b7cd\", [{\"type\": \"scatter\", \"x\": [17.423471901442387], \"y\": [17.423471901442387], \"text\": [\"costo riscossione tributi\"], \"mode\": \"markers\", \"marker\": {\"size\": [17.423471901442387]}, \"name\": \"ABRUZZO\"}, {\"type\": \"scatter\", \"x\": [15.4411711815229], \"y\": [15.4411711815229], \"text\": [\"costo riscossione tributi\"], \"mode\": \"markers\", \"marker\": {\"size\": [15.4411711815229]}, \"name\": \"BASILICATA\"}, {\"type\": \"scatter\", \"x\": [20.508343669503525], \"y\": [20.508343669503525], \"text\": [\"costo riscossione tributi\"], \"mode\": \"markers\", \"marker\": {\"size\": [20.508343669503525]}, \"name\": \"CALABRIA\"}, {\"type\": \"scatter\", \"x\": [19.90779194205848], \"y\": [19.90779194205848], \"text\": [\"costo riscossione tributi\"], \"mode\": \"markers\", \"marker\": {\"size\": [19.90779194205848]}, \"name\": \"CAMPANIA\"}, {\"type\": \"scatter\", \"x\": [14.3372310161846], \"y\": [14.3372310161846], \"text\": [\"costo riscossione tributi\"], \"mode\": \"markers\", \"marker\": {\"size\": [14.3372310161846]}, \"name\": \"EMILIA-ROMAGNA\"}, {\"type\": \"scatter\", \"x\": [20.99491660605029], \"y\": [20.99491660605029], \"text\": [\"costo riscossione tributi\"], \"mode\": \"markers\", \"marker\": {\"size\": [20.99491660605029]}, \"name\": \"LAZIO\"}, {\"type\": \"scatter\", \"x\": [18.77020433423437], \"y\": [18.77020433423437], \"text\": [\"costo riscossione tributi\"], \"mode\": \"markers\", \"marker\": {\"size\": [18.77020433423437]}, \"name\": \"LIGURIA\"}, {\"type\": \"scatter\", \"x\": [14.847999351299713], \"y\": [14.847999351299713], \"text\": [\"costo riscossione tributi\"], \"mode\": \"markers\", \"marker\": {\"size\": [14.847999351299713]}, \"name\": \"LOMBARDIA\"}, {\"type\": \"scatter\", \"x\": [14.597413224334764], \"y\": [14.597413224334764], \"text\": [\"costo riscossione tributi\"], \"mode\": \"markers\", \"marker\": {\"size\": [14.597413224334764]}, \"name\": \"MARCHE\"}, {\"type\": \"scatter\", \"x\": [20.72088654064901], \"y\": [20.72088654064901], \"text\": [\"costo riscossione tributi\"], \"mode\": \"markers\", \"marker\": {\"size\": [20.72088654064901]}, \"name\": \"MOLISE\"}, {\"type\": \"scatter\", \"x\": [15.235273074113582], \"y\": [15.235273074113582], \"text\": [\"costo riscossione tributi\"], \"mode\": \"markers\", \"marker\": {\"size\": [15.235273074113582]}, \"name\": \"PIEMONTE\"}, {\"type\": \"scatter\", \"x\": [18.68893609399528], \"y\": [18.68893609399528], \"text\": [\"costo riscossione tributi\"], \"mode\": \"markers\", \"marker\": {\"size\": [18.68893609399528]}, \"name\": \"PUGLIA\"}, {\"type\": \"scatter\", \"x\": [17.53998458086152], \"y\": [17.53998458086152], \"text\": [\"costo riscossione tributi\"], \"mode\": \"markers\", \"marker\": {\"size\": [17.53998458086152]}, \"name\": \"TOSCANA\"}, {\"type\": \"scatter\", \"x\": [14.447178098379231], \"y\": [14.447178098379231], \"text\": [\"costo riscossione tributi\"], \"mode\": \"markers\", \"marker\": {\"size\": [14.447178098379231]}, \"name\": \"UMBRIA\"}, {\"type\": \"scatter\", \"x\": [11.0846717352385], \"y\": [11.0846717352385], \"text\": [\"costo riscossione tributi\"], \"mode\": \"markers\", \"marker\": {\"size\": [11.0846717352385]}, \"name\": \"VENETO\"}], {\"title\": \"Costo Riscossione Tributi\"}, {\"showLink\": true, \"linkText\": \"Export to plot.ly\"})});</script>"
      ]
     },
     "metadata": {},
     "output_type": "display_data"
    },
    {
     "data": {
      "application/vnd.plotly.v1+json": {
       "data": [
        {
         "marker": {
          "size": [
           36.620023928730426
          ]
         },
         "mode": "markers",
         "name": "ABRUZZO",
         "text": [
          "costo ufficio tecnico"
         ],
         "type": "scatter",
         "x": [
          36.620023928730426
         ],
         "y": [
          36.620023928730426
         ]
        },
        {
         "marker": {
          "size": [
           46.80745320194108
          ]
         },
         "mode": "markers",
         "name": "BASILICATA",
         "text": [
          "costo ufficio tecnico"
         ],
         "type": "scatter",
         "x": [
          46.80745320194108
         ],
         "y": [
          46.80745320194108
         ]
        },
        {
         "marker": {
          "size": [
           38.139118294925886
          ]
         },
         "mode": "markers",
         "name": "CALABRIA",
         "text": [
          "costo ufficio tecnico"
         ],
         "type": "scatter",
         "x": [
          38.139118294925886
         ],
         "y": [
          38.139118294925886
         ]
        },
        {
         "marker": {
          "size": [
           29.28191685495514
          ]
         },
         "mode": "markers",
         "name": "CAMPANIA",
         "text": [
          "costo ufficio tecnico"
         ],
         "type": "scatter",
         "x": [
          29.28191685495514
         ],
         "y": [
          29.28191685495514
         ]
        },
        {
         "marker": {
          "size": [
           23.098782165255386
          ]
         },
         "mode": "markers",
         "name": "EMILIA-ROMAGNA",
         "text": [
          "costo ufficio tecnico"
         ],
         "type": "scatter",
         "x": [
          23.098782165255386
         ],
         "y": [
          23.098782165255386
         ]
        },
        {
         "marker": {
          "size": [
           37.88634302786489
          ]
         },
         "mode": "markers",
         "name": "LAZIO",
         "text": [
          "costo ufficio tecnico"
         ],
         "type": "scatter",
         "x": [
          37.88634302786489
         ],
         "y": [
          37.88634302786489
         ]
        },
        {
         "marker": {
          "size": [
           32.61245219011672
          ]
         },
         "mode": "markers",
         "name": "LIGURIA",
         "text": [
          "costo ufficio tecnico"
         ],
         "type": "scatter",
         "x": [
          32.61245219011672
         ],
         "y": [
          32.61245219011672
         ]
        },
        {
         "marker": {
          "size": [
           24.35550407243199
          ]
         },
         "mode": "markers",
         "name": "LOMBARDIA",
         "text": [
          "costo ufficio tecnico"
         ],
         "type": "scatter",
         "x": [
          24.35550407243199
         ],
         "y": [
          24.35550407243199
         ]
        },
        {
         "marker": {
          "size": [
           29.81915230537633
          ]
         },
         "mode": "markers",
         "name": "MARCHE",
         "text": [
          "costo ufficio tecnico"
         ],
         "type": "scatter",
         "x": [
          29.81915230537633
         ],
         "y": [
          29.81915230537633
         ]
        },
        {
         "marker": {
          "size": [
           39.35459352969984
          ]
         },
         "mode": "markers",
         "name": "MOLISE",
         "text": [
          "costo ufficio tecnico"
         ],
         "type": "scatter",
         "x": [
          39.35459352969984
         ],
         "y": [
          39.35459352969984
         ]
        },
        {
         "marker": {
          "size": [
           32.806477689243465
          ]
         },
         "mode": "markers",
         "name": "PIEMONTE",
         "text": [
          "costo ufficio tecnico"
         ],
         "type": "scatter",
         "x": [
          32.806477689243465
         ],
         "y": [
          32.806477689243465
         ]
        },
        {
         "marker": {
          "size": [
           21.927927722313953
          ]
         },
         "mode": "markers",
         "name": "PUGLIA",
         "text": [
          "costo ufficio tecnico"
         ],
         "type": "scatter",
         "x": [
          21.927927722313953
         ],
         "y": [
          21.927927722313953
         ]
        },
        {
         "marker": {
          "size": [
           30.153717634072475
          ]
         },
         "mode": "markers",
         "name": "TOSCANA",
         "text": [
          "costo ufficio tecnico"
         ],
         "type": "scatter",
         "x": [
          30.153717634072475
         ],
         "y": [
          30.153717634072475
         ]
        },
        {
         "marker": {
          "size": [
           28.003017754758957
          ]
         },
         "mode": "markers",
         "name": "UMBRIA",
         "text": [
          "costo ufficio tecnico"
         ],
         "type": "scatter",
         "x": [
          28.003017754758957
         ],
         "y": [
          28.003017754758957
         ]
        },
        {
         "marker": {
          "size": [
           31.693976760132973
          ]
         },
         "mode": "markers",
         "name": "VENETO",
         "text": [
          "costo ufficio tecnico"
         ],
         "type": "scatter",
         "x": [
          31.693976760132973
         ],
         "y": [
          31.693976760132973
         ]
        }
       ],
       "layout": {
        "title": "Costo Ufficio Tecnico"
       }
      },
      "text/html": [
       "<div id=\"44632a23-1753-49dd-b326-68286d373489\" style=\"height: 525px; width: 100%;\" class=\"plotly-graph-div\"></div><script type=\"text/javascript\">require([\"plotly\"], function(Plotly) { window.PLOTLYENV=window.PLOTLYENV || {};window.PLOTLYENV.BASE_URL=\"https://plot.ly\";Plotly.newPlot(\"44632a23-1753-49dd-b326-68286d373489\", [{\"type\": \"scatter\", \"x\": [36.620023928730426], \"y\": [36.620023928730426], \"text\": [\"costo ufficio tecnico\"], \"mode\": \"markers\", \"marker\": {\"size\": [36.620023928730426]}, \"name\": \"ABRUZZO\"}, {\"type\": \"scatter\", \"x\": [46.80745320194108], \"y\": [46.80745320194108], \"text\": [\"costo ufficio tecnico\"], \"mode\": \"markers\", \"marker\": {\"size\": [46.80745320194108]}, \"name\": \"BASILICATA\"}, {\"type\": \"scatter\", \"x\": [38.139118294925886], \"y\": [38.139118294925886], \"text\": [\"costo ufficio tecnico\"], \"mode\": \"markers\", \"marker\": {\"size\": [38.139118294925886]}, \"name\": \"CALABRIA\"}, {\"type\": \"scatter\", \"x\": [29.28191685495514], \"y\": [29.28191685495514], \"text\": [\"costo ufficio tecnico\"], \"mode\": \"markers\", \"marker\": {\"size\": [29.28191685495514]}, \"name\": \"CAMPANIA\"}, {\"type\": \"scatter\", \"x\": [23.098782165255386], \"y\": [23.098782165255386], \"text\": [\"costo ufficio tecnico\"], \"mode\": \"markers\", \"marker\": {\"size\": [23.098782165255386]}, \"name\": \"EMILIA-ROMAGNA\"}, {\"type\": \"scatter\", \"x\": [37.88634302786489], \"y\": [37.88634302786489], \"text\": [\"costo ufficio tecnico\"], \"mode\": \"markers\", \"marker\": {\"size\": [37.88634302786489]}, \"name\": \"LAZIO\"}, {\"type\": \"scatter\", \"x\": [32.61245219011672], \"y\": [32.61245219011672], \"text\": [\"costo ufficio tecnico\"], \"mode\": \"markers\", \"marker\": {\"size\": [32.61245219011672]}, \"name\": \"LIGURIA\"}, {\"type\": \"scatter\", \"x\": [24.35550407243199], \"y\": [24.35550407243199], \"text\": [\"costo ufficio tecnico\"], \"mode\": \"markers\", \"marker\": {\"size\": [24.35550407243199]}, \"name\": \"LOMBARDIA\"}, {\"type\": \"scatter\", \"x\": [29.81915230537633], \"y\": [29.81915230537633], \"text\": [\"costo ufficio tecnico\"], \"mode\": \"markers\", \"marker\": {\"size\": [29.81915230537633]}, \"name\": \"MARCHE\"}, {\"type\": \"scatter\", \"x\": [39.35459352969984], \"y\": [39.35459352969984], \"text\": [\"costo ufficio tecnico\"], \"mode\": \"markers\", \"marker\": {\"size\": [39.35459352969984]}, \"name\": \"MOLISE\"}, {\"type\": \"scatter\", \"x\": [32.806477689243465], \"y\": [32.806477689243465], \"text\": [\"costo ufficio tecnico\"], \"mode\": \"markers\", \"marker\": {\"size\": [32.806477689243465]}, \"name\": \"PIEMONTE\"}, {\"type\": \"scatter\", \"x\": [21.927927722313953], \"y\": [21.927927722313953], \"text\": [\"costo ufficio tecnico\"], \"mode\": \"markers\", \"marker\": {\"size\": [21.927927722313953]}, \"name\": \"PUGLIA\"}, {\"type\": \"scatter\", \"x\": [30.153717634072475], \"y\": [30.153717634072475], \"text\": [\"costo ufficio tecnico\"], \"mode\": \"markers\", \"marker\": {\"size\": [30.153717634072475]}, \"name\": \"TOSCANA\"}, {\"type\": \"scatter\", \"x\": [28.003017754758957], \"y\": [28.003017754758957], \"text\": [\"costo ufficio tecnico\"], \"mode\": \"markers\", \"marker\": {\"size\": [28.003017754758957]}, \"name\": \"UMBRIA\"}, {\"type\": \"scatter\", \"x\": [31.693976760132973], \"y\": [31.693976760132973], \"text\": [\"costo ufficio tecnico\"], \"mode\": \"markers\", \"marker\": {\"size\": [31.693976760132973]}, \"name\": \"VENETO\"}], {\"title\": \"Costo Ufficio Tecnico\"}, {\"showLink\": true, \"linkText\": \"Export to plot.ly\"})});</script>"
      ],
      "text/vnd.plotly.v1+html": [
       "<div id=\"44632a23-1753-49dd-b326-68286d373489\" style=\"height: 525px; width: 100%;\" class=\"plotly-graph-div\"></div><script type=\"text/javascript\">require([\"plotly\"], function(Plotly) { window.PLOTLYENV=window.PLOTLYENV || {};window.PLOTLYENV.BASE_URL=\"https://plot.ly\";Plotly.newPlot(\"44632a23-1753-49dd-b326-68286d373489\", [{\"type\": \"scatter\", \"x\": [36.620023928730426], \"y\": [36.620023928730426], \"text\": [\"costo ufficio tecnico\"], \"mode\": \"markers\", \"marker\": {\"size\": [36.620023928730426]}, \"name\": \"ABRUZZO\"}, {\"type\": \"scatter\", \"x\": [46.80745320194108], \"y\": [46.80745320194108], \"text\": [\"costo ufficio tecnico\"], \"mode\": \"markers\", \"marker\": {\"size\": [46.80745320194108]}, \"name\": \"BASILICATA\"}, {\"type\": \"scatter\", \"x\": [38.139118294925886], \"y\": [38.139118294925886], \"text\": [\"costo ufficio tecnico\"], \"mode\": \"markers\", \"marker\": {\"size\": [38.139118294925886]}, \"name\": \"CALABRIA\"}, {\"type\": \"scatter\", \"x\": [29.28191685495514], \"y\": [29.28191685495514], \"text\": [\"costo ufficio tecnico\"], \"mode\": \"markers\", \"marker\": {\"size\": [29.28191685495514]}, \"name\": \"CAMPANIA\"}, {\"type\": \"scatter\", \"x\": [23.098782165255386], \"y\": [23.098782165255386], \"text\": [\"costo ufficio tecnico\"], \"mode\": \"markers\", \"marker\": {\"size\": [23.098782165255386]}, \"name\": \"EMILIA-ROMAGNA\"}, {\"type\": \"scatter\", \"x\": [37.88634302786489], \"y\": [37.88634302786489], \"text\": [\"costo ufficio tecnico\"], \"mode\": \"markers\", \"marker\": {\"size\": [37.88634302786489]}, \"name\": \"LAZIO\"}, {\"type\": \"scatter\", \"x\": [32.61245219011672], \"y\": [32.61245219011672], \"text\": [\"costo ufficio tecnico\"], \"mode\": \"markers\", \"marker\": {\"size\": [32.61245219011672]}, \"name\": \"LIGURIA\"}, {\"type\": \"scatter\", \"x\": [24.35550407243199], \"y\": [24.35550407243199], \"text\": [\"costo ufficio tecnico\"], \"mode\": \"markers\", \"marker\": {\"size\": [24.35550407243199]}, \"name\": \"LOMBARDIA\"}, {\"type\": \"scatter\", \"x\": [29.81915230537633], \"y\": [29.81915230537633], \"text\": [\"costo ufficio tecnico\"], \"mode\": \"markers\", \"marker\": {\"size\": [29.81915230537633]}, \"name\": \"MARCHE\"}, {\"type\": \"scatter\", \"x\": [39.35459352969984], \"y\": [39.35459352969984], \"text\": [\"costo ufficio tecnico\"], \"mode\": \"markers\", \"marker\": {\"size\": [39.35459352969984]}, \"name\": \"MOLISE\"}, {\"type\": \"scatter\", \"x\": [32.806477689243465], \"y\": [32.806477689243465], \"text\": [\"costo ufficio tecnico\"], \"mode\": \"markers\", \"marker\": {\"size\": [32.806477689243465]}, \"name\": \"PIEMONTE\"}, {\"type\": \"scatter\", \"x\": [21.927927722313953], \"y\": [21.927927722313953], \"text\": [\"costo ufficio tecnico\"], \"mode\": \"markers\", \"marker\": {\"size\": [21.927927722313953]}, \"name\": \"PUGLIA\"}, {\"type\": \"scatter\", \"x\": [30.153717634072475], \"y\": [30.153717634072475], \"text\": [\"costo ufficio tecnico\"], \"mode\": \"markers\", \"marker\": {\"size\": [30.153717634072475]}, \"name\": \"TOSCANA\"}, {\"type\": \"scatter\", \"x\": [28.003017754758957], \"y\": [28.003017754758957], \"text\": [\"costo ufficio tecnico\"], \"mode\": \"markers\", \"marker\": {\"size\": [28.003017754758957]}, \"name\": \"UMBRIA\"}, {\"type\": \"scatter\", \"x\": [31.693976760132973], \"y\": [31.693976760132973], \"text\": [\"costo ufficio tecnico\"], \"mode\": \"markers\", \"marker\": {\"size\": [31.693976760132973]}, \"name\": \"VENETO\"}], {\"title\": \"Costo Ufficio Tecnico\"}, {\"showLink\": true, \"linkText\": \"Export to plot.ly\"})});</script>"
      ]
     },
     "metadata": {},
     "output_type": "display_data"
    },
    {
     "data": {
      "application/vnd.plotly.v1+json": {
       "data": [
        {
         "marker": {
          "size": [
           16.781293144386062
          ]
         },
         "mode": "markers",
         "name": "ABRUZZO",
         "text": [
          "costo anagrafe, stato civile"
         ],
         "type": "scatter",
         "x": [
          16.781293144386062
         ],
         "y": [
          16.781293144386062
         ]
        },
        {
         "marker": {
          "size": [
           22.477393545742558
          ]
         },
         "mode": "markers",
         "name": "BASILICATA",
         "text": [
          "costo anagrafe, stato civile"
         ],
         "type": "scatter",
         "x": [
          22.477393545742558
         ],
         "y": [
          22.477393545742558
         ]
        },
        {
         "marker": {
          "size": [
           23.950893190336515
          ]
         },
         "mode": "markers",
         "name": "CALABRIA",
         "text": [
          "costo anagrafe, stato civile"
         ],
         "type": "scatter",
         "x": [
          23.950893190336515
         ],
         "y": [
          23.950893190336515
         ]
        },
        {
         "marker": {
          "size": [
           21.298577177050348
          ]
         },
         "mode": "markers",
         "name": "CAMPANIA",
         "text": [
          "costo anagrafe, stato civile"
         ],
         "type": "scatter",
         "x": [
          21.298577177050348
         ],
         "y": [
          21.298577177050348
         ]
        },
        {
         "marker": {
          "size": [
           12.890340466338753
          ]
         },
         "mode": "markers",
         "name": "EMILIA-ROMAGNA",
         "text": [
          "costo anagrafe, stato civile"
         ],
         "type": "scatter",
         "x": [
          12.890340466338753
         ],
         "y": [
          12.890340466338753
         ]
        },
        {
         "marker": {
          "size": [
           17.924800256575637
          ]
         },
         "mode": "markers",
         "name": "LAZIO",
         "text": [
          "costo anagrafe, stato civile"
         ],
         "type": "scatter",
         "x": [
          17.924800256575637
         ],
         "y": [
          17.924800256575637
         ]
        },
        {
         "marker": {
          "size": [
           19.60456384001482
          ]
         },
         "mode": "markers",
         "name": "LIGURIA",
         "text": [
          "costo anagrafe, stato civile"
         ],
         "type": "scatter",
         "x": [
          19.60456384001482
         ],
         "y": [
          19.60456384001482
         ]
        },
        {
         "marker": {
          "size": [
           15.092079014748954
          ]
         },
         "mode": "markers",
         "name": "LOMBARDIA",
         "text": [
          "costo anagrafe, stato civile"
         ],
         "type": "scatter",
         "x": [
          15.092079014748954
         ],
         "y": [
          15.092079014748954
         ]
        },
        {
         "marker": {
          "size": [
           15.474976358412968
          ]
         },
         "mode": "markers",
         "name": "MARCHE",
         "text": [
          "costo anagrafe, stato civile"
         ],
         "type": "scatter",
         "x": [
          15.474976358412968
         ],
         "y": [
          15.474976358412968
         ]
        },
        {
         "marker": {
          "size": [
           21.326301983618897
          ]
         },
         "mode": "markers",
         "name": "MOLISE",
         "text": [
          "costo anagrafe, stato civile"
         ],
         "type": "scatter",
         "x": [
          21.326301983618897
         ],
         "y": [
          21.326301983618897
         ]
        },
        {
         "marker": {
          "size": [
           17.81446627202407
          ]
         },
         "mode": "markers",
         "name": "PIEMONTE",
         "text": [
          "costo anagrafe, stato civile"
         ],
         "type": "scatter",
         "x": [
          17.81446627202407
         ],
         "y": [
          17.81446627202407
         ]
        },
        {
         "marker": {
          "size": [
           16.79190290362758
          ]
         },
         "mode": "markers",
         "name": "PUGLIA",
         "text": [
          "costo anagrafe, stato civile"
         ],
         "type": "scatter",
         "x": [
          16.79190290362758
         ],
         "y": [
          16.79190290362758
         ]
        },
        {
         "marker": {
          "size": [
           13.71541983923846
          ]
         },
         "mode": "markers",
         "name": "TOSCANA",
         "text": [
          "costo anagrafe, stato civile"
         ],
         "type": "scatter",
         "x": [
          13.71541983923846
         ],
         "y": [
          13.71541983923846
         ]
        },
        {
         "marker": {
          "size": [
           14.471039076151545
          ]
         },
         "mode": "markers",
         "name": "UMBRIA",
         "text": [
          "costo anagrafe, stato civile"
         ],
         "type": "scatter",
         "x": [
          14.471039076151545
         ],
         "y": [
          14.471039076151545
         ]
        },
        {
         "marker": {
          "size": [
           14.762788625976832
          ]
         },
         "mode": "markers",
         "name": "VENETO",
         "text": [
          "costo anagrafe, stato civile"
         ],
         "type": "scatter",
         "x": [
          14.762788625976832
         ],
         "y": [
          14.762788625976832
         ]
        }
       ],
       "layout": {
        "title": "Costo Anagrafe, Stato Civile"
       }
      },
      "text/html": [
       "<div id=\"2fb2f6ed-a889-4ad2-85ba-f1c46e8637be\" style=\"height: 525px; width: 100%;\" class=\"plotly-graph-div\"></div><script type=\"text/javascript\">require([\"plotly\"], function(Plotly) { window.PLOTLYENV=window.PLOTLYENV || {};window.PLOTLYENV.BASE_URL=\"https://plot.ly\";Plotly.newPlot(\"2fb2f6ed-a889-4ad2-85ba-f1c46e8637be\", [{\"type\": \"scatter\", \"x\": [16.781293144386062], \"y\": [16.781293144386062], \"text\": [\"costo anagrafe, stato civile\"], \"mode\": \"markers\", \"marker\": {\"size\": [16.781293144386062]}, \"name\": \"ABRUZZO\"}, {\"type\": \"scatter\", \"x\": [22.477393545742558], \"y\": [22.477393545742558], \"text\": [\"costo anagrafe, stato civile\"], \"mode\": \"markers\", \"marker\": {\"size\": [22.477393545742558]}, \"name\": \"BASILICATA\"}, {\"type\": \"scatter\", \"x\": [23.950893190336515], \"y\": [23.950893190336515], \"text\": [\"costo anagrafe, stato civile\"], \"mode\": \"markers\", \"marker\": {\"size\": [23.950893190336515]}, \"name\": \"CALABRIA\"}, {\"type\": \"scatter\", \"x\": [21.298577177050348], \"y\": [21.298577177050348], \"text\": [\"costo anagrafe, stato civile\"], \"mode\": \"markers\", \"marker\": {\"size\": [21.298577177050348]}, \"name\": \"CAMPANIA\"}, {\"type\": \"scatter\", \"x\": [12.890340466338753], \"y\": [12.890340466338753], \"text\": [\"costo anagrafe, stato civile\"], \"mode\": \"markers\", \"marker\": {\"size\": [12.890340466338753]}, \"name\": \"EMILIA-ROMAGNA\"}, {\"type\": \"scatter\", \"x\": [17.924800256575637], \"y\": [17.924800256575637], \"text\": [\"costo anagrafe, stato civile\"], \"mode\": \"markers\", \"marker\": {\"size\": [17.924800256575637]}, \"name\": \"LAZIO\"}, {\"type\": \"scatter\", \"x\": [19.60456384001482], \"y\": [19.60456384001482], \"text\": [\"costo anagrafe, stato civile\"], \"mode\": \"markers\", \"marker\": {\"size\": [19.60456384001482]}, \"name\": \"LIGURIA\"}, {\"type\": \"scatter\", \"x\": [15.092079014748954], \"y\": [15.092079014748954], \"text\": [\"costo anagrafe, stato civile\"], \"mode\": \"markers\", \"marker\": {\"size\": [15.092079014748954]}, \"name\": \"LOMBARDIA\"}, {\"type\": \"scatter\", \"x\": [15.474976358412968], \"y\": [15.474976358412968], \"text\": [\"costo anagrafe, stato civile\"], \"mode\": \"markers\", \"marker\": {\"size\": [15.474976358412968]}, \"name\": \"MARCHE\"}, {\"type\": \"scatter\", \"x\": [21.326301983618897], \"y\": [21.326301983618897], \"text\": [\"costo anagrafe, stato civile\"], \"mode\": \"markers\", \"marker\": {\"size\": [21.326301983618897]}, \"name\": \"MOLISE\"}, {\"type\": \"scatter\", \"x\": [17.81446627202407], \"y\": [17.81446627202407], \"text\": [\"costo anagrafe, stato civile\"], \"mode\": \"markers\", \"marker\": {\"size\": [17.81446627202407]}, \"name\": \"PIEMONTE\"}, {\"type\": \"scatter\", \"x\": [16.79190290362758], \"y\": [16.79190290362758], \"text\": [\"costo anagrafe, stato civile\"], \"mode\": \"markers\", \"marker\": {\"size\": [16.79190290362758]}, \"name\": \"PUGLIA\"}, {\"type\": \"scatter\", \"x\": [13.71541983923846], \"y\": [13.71541983923846], \"text\": [\"costo anagrafe, stato civile\"], \"mode\": \"markers\", \"marker\": {\"size\": [13.71541983923846]}, \"name\": \"TOSCANA\"}, {\"type\": \"scatter\", \"x\": [14.471039076151545], \"y\": [14.471039076151545], \"text\": [\"costo anagrafe, stato civile\"], \"mode\": \"markers\", \"marker\": {\"size\": [14.471039076151545]}, \"name\": \"UMBRIA\"}, {\"type\": \"scatter\", \"x\": [14.762788625976832], \"y\": [14.762788625976832], \"text\": [\"costo anagrafe, stato civile\"], \"mode\": \"markers\", \"marker\": {\"size\": [14.762788625976832]}, \"name\": \"VENETO\"}], {\"title\": \"Costo Anagrafe, Stato Civile\"}, {\"showLink\": true, \"linkText\": \"Export to plot.ly\"})});</script>"
      ],
      "text/vnd.plotly.v1+html": [
       "<div id=\"2fb2f6ed-a889-4ad2-85ba-f1c46e8637be\" style=\"height: 525px; width: 100%;\" class=\"plotly-graph-div\"></div><script type=\"text/javascript\">require([\"plotly\"], function(Plotly) { window.PLOTLYENV=window.PLOTLYENV || {};window.PLOTLYENV.BASE_URL=\"https://plot.ly\";Plotly.newPlot(\"2fb2f6ed-a889-4ad2-85ba-f1c46e8637be\", [{\"type\": \"scatter\", \"x\": [16.781293144386062], \"y\": [16.781293144386062], \"text\": [\"costo anagrafe, stato civile\"], \"mode\": \"markers\", \"marker\": {\"size\": [16.781293144386062]}, \"name\": \"ABRUZZO\"}, {\"type\": \"scatter\", \"x\": [22.477393545742558], \"y\": [22.477393545742558], \"text\": [\"costo anagrafe, stato civile\"], \"mode\": \"markers\", \"marker\": {\"size\": [22.477393545742558]}, \"name\": \"BASILICATA\"}, {\"type\": \"scatter\", \"x\": [23.950893190336515], \"y\": [23.950893190336515], \"text\": [\"costo anagrafe, stato civile\"], \"mode\": \"markers\", \"marker\": {\"size\": [23.950893190336515]}, \"name\": \"CALABRIA\"}, {\"type\": \"scatter\", \"x\": [21.298577177050348], \"y\": [21.298577177050348], \"text\": [\"costo anagrafe, stato civile\"], \"mode\": \"markers\", \"marker\": {\"size\": [21.298577177050348]}, \"name\": \"CAMPANIA\"}, {\"type\": \"scatter\", \"x\": [12.890340466338753], \"y\": [12.890340466338753], \"text\": [\"costo anagrafe, stato civile\"], \"mode\": \"markers\", \"marker\": {\"size\": [12.890340466338753]}, \"name\": \"EMILIA-ROMAGNA\"}, {\"type\": \"scatter\", \"x\": [17.924800256575637], \"y\": [17.924800256575637], \"text\": [\"costo anagrafe, stato civile\"], \"mode\": \"markers\", \"marker\": {\"size\": [17.924800256575637]}, \"name\": \"LAZIO\"}, {\"type\": \"scatter\", \"x\": [19.60456384001482], \"y\": [19.60456384001482], \"text\": [\"costo anagrafe, stato civile\"], \"mode\": \"markers\", \"marker\": {\"size\": [19.60456384001482]}, \"name\": \"LIGURIA\"}, {\"type\": \"scatter\", \"x\": [15.092079014748954], \"y\": [15.092079014748954], \"text\": [\"costo anagrafe, stato civile\"], \"mode\": \"markers\", \"marker\": {\"size\": [15.092079014748954]}, \"name\": \"LOMBARDIA\"}, {\"type\": \"scatter\", \"x\": [15.474976358412968], \"y\": [15.474976358412968], \"text\": [\"costo anagrafe, stato civile\"], \"mode\": \"markers\", \"marker\": {\"size\": [15.474976358412968]}, \"name\": \"MARCHE\"}, {\"type\": \"scatter\", \"x\": [21.326301983618897], \"y\": [21.326301983618897], \"text\": [\"costo anagrafe, stato civile\"], \"mode\": \"markers\", \"marker\": {\"size\": [21.326301983618897]}, \"name\": \"MOLISE\"}, {\"type\": \"scatter\", \"x\": [17.81446627202407], \"y\": [17.81446627202407], \"text\": [\"costo anagrafe, stato civile\"], \"mode\": \"markers\", \"marker\": {\"size\": [17.81446627202407]}, \"name\": \"PIEMONTE\"}, {\"type\": \"scatter\", \"x\": [16.79190290362758], \"y\": [16.79190290362758], \"text\": [\"costo anagrafe, stato civile\"], \"mode\": \"markers\", \"marker\": {\"size\": [16.79190290362758]}, \"name\": \"PUGLIA\"}, {\"type\": \"scatter\", \"x\": [13.71541983923846], \"y\": [13.71541983923846], \"text\": [\"costo anagrafe, stato civile\"], \"mode\": \"markers\", \"marker\": {\"size\": [13.71541983923846]}, \"name\": \"TOSCANA\"}, {\"type\": \"scatter\", \"x\": [14.471039076151545], \"y\": [14.471039076151545], \"text\": [\"costo anagrafe, stato civile\"], \"mode\": \"markers\", \"marker\": {\"size\": [14.471039076151545]}, \"name\": \"UMBRIA\"}, {\"type\": \"scatter\", \"x\": [14.762788625976832], \"y\": [14.762788625976832], \"text\": [\"costo anagrafe, stato civile\"], \"mode\": \"markers\", \"marker\": {\"size\": [14.762788625976832]}, \"name\": \"VENETO\"}], {\"title\": \"Costo Anagrafe, Stato Civile\"}, {\"showLink\": true, \"linkText\": \"Export to plot.ly\"})});</script>"
      ]
     },
     "metadata": {},
     "output_type": "display_data"
    },
    {
     "data": {
      "application/vnd.plotly.v1+json": {
       "data": [
        {
         "marker": {
          "size": [
           149.76290291116507
          ]
         },
         "mode": "markers",
         "name": "ABRUZZO",
         "text": [
          "costo altri servizi"
         ],
         "type": "scatter",
         "x": [
          149.76290291116507
         ],
         "y": [
          149.76290291116507
         ]
        },
        {
         "marker": {
          "size": [
           187.63108520231168
          ]
         },
         "mode": "markers",
         "name": "BASILICATA",
         "text": [
          "costo altri servizi"
         ],
         "type": "scatter",
         "x": [
          187.63108520231168
         ],
         "y": [
          187.63108520231168
         ]
        },
        {
         "marker": {
          "size": [
           186.73510391587365
          ]
         },
         "mode": "markers",
         "name": "CALABRIA",
         "text": [
          "costo altri servizi"
         ],
         "type": "scatter",
         "x": [
          186.73510391587365
         ],
         "y": [
          186.73510391587365
         ]
        },
        {
         "marker": {
          "size": [
           243.9659673405835
          ]
         },
         "mode": "markers",
         "name": "CAMPANIA",
         "text": [
          "costo altri servizi"
         ],
         "type": "scatter",
         "x": [
          243.9659673405835
         ],
         "y": [
          243.9659673405835
         ]
        },
        {
         "marker": {
          "size": [
           153.76493486150213
          ]
         },
         "mode": "markers",
         "name": "EMILIA-ROMAGNA",
         "text": [
          "costo altri servizi"
         ],
         "type": "scatter",
         "x": [
          153.76493486150213
         ],
         "y": [
          153.76493486150213
         ]
        },
        {
         "marker": {
          "size": [
           223.1854556382007
          ]
         },
         "mode": "markers",
         "name": "LAZIO",
         "text": [
          "costo altri servizi"
         ],
         "type": "scatter",
         "x": [
          223.1854556382007
         ],
         "y": [
          223.1854556382007
         ]
        },
        {
         "marker": {
          "size": [
           190.85411163801854
          ]
         },
         "mode": "markers",
         "name": "LIGURIA",
         "text": [
          "costo altri servizi"
         ],
         "type": "scatter",
         "x": [
          190.85411163801854
         ],
         "y": [
          190.85411163801854
         ]
        },
        {
         "marker": {
          "size": [
           152.84118463162855
          ]
         },
         "mode": "markers",
         "name": "LOMBARDIA",
         "text": [
          "costo altri servizi"
         ],
         "type": "scatter",
         "x": [
          152.84118463162855
         ],
         "y": [
          152.84118463162855
         ]
        },
        {
         "marker": {
          "size": [
           152.8727826358795
          ]
         },
         "mode": "markers",
         "name": "MARCHE",
         "text": [
          "costo altri servizi"
         ],
         "type": "scatter",
         "x": [
          152.8727826358795
         ],
         "y": [
          152.8727826358795
         ]
        },
        {
         "marker": {
          "size": [
           193.01474499753738
          ]
         },
         "mode": "markers",
         "name": "MOLISE",
         "text": [
          "costo altri servizi"
         ],
         "type": "scatter",
         "x": [
          193.01474499753738
         ],
         "y": [
          193.01474499753738
         ]
        },
        {
         "marker": {
          "size": [
           154.2022725594822
          ]
         },
         "mode": "markers",
         "name": "PIEMONTE",
         "text": [
          "costo altri servizi"
         ],
         "type": "scatter",
         "x": [
          154.2022725594822
         ],
         "y": [
          154.2022725594822
         ]
        },
        {
         "marker": {
          "size": [
           140.77504579049267
          ]
         },
         "mode": "markers",
         "name": "PUGLIA",
         "text": [
          "costo altri servizi"
         ],
         "type": "scatter",
         "x": [
          140.77504579049267
         ],
         "y": [
          140.77504579049267
         ]
        },
        {
         "marker": {
          "size": [
           158.8913766439551
          ]
         },
         "mode": "markers",
         "name": "TOSCANA",
         "text": [
          "costo altri servizi"
         ],
         "type": "scatter",
         "x": [
          158.8913766439551
         ],
         "y": [
          158.8913766439551
         ]
        },
        {
         "marker": {
          "size": [
           176.25505422825375
          ]
         },
         "mode": "markers",
         "name": "UMBRIA",
         "text": [
          "costo altri servizi"
         ],
         "type": "scatter",
         "x": [
          176.25505422825375
         ],
         "y": [
          176.25505422825375
         ]
        },
        {
         "marker": {
          "size": [
           146.16268620196996
          ]
         },
         "mode": "markers",
         "name": "VENETO",
         "text": [
          "costo altri servizi"
         ],
         "type": "scatter",
         "x": [
          146.16268620196996
         ],
         "y": [
          146.16268620196996
         ]
        }
       ],
       "layout": {
        "title": "Costo Altri Servizi"
       }
      },
      "text/html": [
       "<div id=\"cf28cee0-9093-41d2-bd7f-70786d2a2524\" style=\"height: 525px; width: 100%;\" class=\"plotly-graph-div\"></div><script type=\"text/javascript\">require([\"plotly\"], function(Plotly) { window.PLOTLYENV=window.PLOTLYENV || {};window.PLOTLYENV.BASE_URL=\"https://plot.ly\";Plotly.newPlot(\"cf28cee0-9093-41d2-bd7f-70786d2a2524\", [{\"type\": \"scatter\", \"x\": [149.76290291116507], \"y\": [149.76290291116507], \"text\": [\"costo altri servizi\"], \"mode\": \"markers\", \"marker\": {\"size\": [149.76290291116507]}, \"name\": \"ABRUZZO\"}, {\"type\": \"scatter\", \"x\": [187.63108520231168], \"y\": [187.63108520231168], \"text\": [\"costo altri servizi\"], \"mode\": \"markers\", \"marker\": {\"size\": [187.63108520231168]}, \"name\": \"BASILICATA\"}, {\"type\": \"scatter\", \"x\": [186.73510391587365], \"y\": [186.73510391587365], \"text\": [\"costo altri servizi\"], \"mode\": \"markers\", \"marker\": {\"size\": [186.73510391587365]}, \"name\": \"CALABRIA\"}, {\"type\": \"scatter\", \"x\": [243.9659673405835], \"y\": [243.9659673405835], \"text\": [\"costo altri servizi\"], \"mode\": \"markers\", \"marker\": {\"size\": [243.9659673405835]}, \"name\": \"CAMPANIA\"}, {\"type\": \"scatter\", \"x\": [153.76493486150213], \"y\": [153.76493486150213], \"text\": [\"costo altri servizi\"], \"mode\": \"markers\", \"marker\": {\"size\": [153.76493486150213]}, \"name\": \"EMILIA-ROMAGNA\"}, {\"type\": \"scatter\", \"x\": [223.1854556382007], \"y\": [223.1854556382007], \"text\": [\"costo altri servizi\"], \"mode\": \"markers\", \"marker\": {\"size\": [223.1854556382007]}, \"name\": \"LAZIO\"}, {\"type\": \"scatter\", \"x\": [190.85411163801854], \"y\": [190.85411163801854], \"text\": [\"costo altri servizi\"], \"mode\": \"markers\", \"marker\": {\"size\": [190.85411163801854]}, \"name\": \"LIGURIA\"}, {\"type\": \"scatter\", \"x\": [152.84118463162855], \"y\": [152.84118463162855], \"text\": [\"costo altri servizi\"], \"mode\": \"markers\", \"marker\": {\"size\": [152.84118463162855]}, \"name\": \"LOMBARDIA\"}, {\"type\": \"scatter\", \"x\": [152.8727826358795], \"y\": [152.8727826358795], \"text\": [\"costo altri servizi\"], \"mode\": \"markers\", \"marker\": {\"size\": [152.8727826358795]}, \"name\": \"MARCHE\"}, {\"type\": \"scatter\", \"x\": [193.01474499753738], \"y\": [193.01474499753738], \"text\": [\"costo altri servizi\"], \"mode\": \"markers\", \"marker\": {\"size\": [193.01474499753738]}, \"name\": \"MOLISE\"}, {\"type\": \"scatter\", \"x\": [154.2022725594822], \"y\": [154.2022725594822], \"text\": [\"costo altri servizi\"], \"mode\": \"markers\", \"marker\": {\"size\": [154.2022725594822]}, \"name\": \"PIEMONTE\"}, {\"type\": \"scatter\", \"x\": [140.77504579049267], \"y\": [140.77504579049267], \"text\": [\"costo altri servizi\"], \"mode\": \"markers\", \"marker\": {\"size\": [140.77504579049267]}, \"name\": \"PUGLIA\"}, {\"type\": \"scatter\", \"x\": [158.8913766439551], \"y\": [158.8913766439551], \"text\": [\"costo altri servizi\"], \"mode\": \"markers\", \"marker\": {\"size\": [158.8913766439551]}, \"name\": \"TOSCANA\"}, {\"type\": \"scatter\", \"x\": [176.25505422825375], \"y\": [176.25505422825375], \"text\": [\"costo altri servizi\"], \"mode\": \"markers\", \"marker\": {\"size\": [176.25505422825375]}, \"name\": \"UMBRIA\"}, {\"type\": \"scatter\", \"x\": [146.16268620196996], \"y\": [146.16268620196996], \"text\": [\"costo altri servizi\"], \"mode\": \"markers\", \"marker\": {\"size\": [146.16268620196996]}, \"name\": \"VENETO\"}], {\"title\": \"Costo Altri Servizi\"}, {\"showLink\": true, \"linkText\": \"Export to plot.ly\"})});</script>"
      ],
      "text/vnd.plotly.v1+html": [
       "<div id=\"cf28cee0-9093-41d2-bd7f-70786d2a2524\" style=\"height: 525px; width: 100%;\" class=\"plotly-graph-div\"></div><script type=\"text/javascript\">require([\"plotly\"], function(Plotly) { window.PLOTLYENV=window.PLOTLYENV || {};window.PLOTLYENV.BASE_URL=\"https://plot.ly\";Plotly.newPlot(\"cf28cee0-9093-41d2-bd7f-70786d2a2524\", [{\"type\": \"scatter\", \"x\": [149.76290291116507], \"y\": [149.76290291116507], \"text\": [\"costo altri servizi\"], \"mode\": \"markers\", \"marker\": {\"size\": [149.76290291116507]}, \"name\": \"ABRUZZO\"}, {\"type\": \"scatter\", \"x\": [187.63108520231168], \"y\": [187.63108520231168], \"text\": [\"costo altri servizi\"], \"mode\": \"markers\", \"marker\": {\"size\": [187.63108520231168]}, \"name\": \"BASILICATA\"}, {\"type\": \"scatter\", \"x\": [186.73510391587365], \"y\": [186.73510391587365], \"text\": [\"costo altri servizi\"], \"mode\": \"markers\", \"marker\": {\"size\": [186.73510391587365]}, \"name\": \"CALABRIA\"}, {\"type\": \"scatter\", \"x\": [243.9659673405835], \"y\": [243.9659673405835], \"text\": [\"costo altri servizi\"], \"mode\": \"markers\", \"marker\": {\"size\": [243.9659673405835]}, \"name\": \"CAMPANIA\"}, {\"type\": \"scatter\", \"x\": [153.76493486150213], \"y\": [153.76493486150213], \"text\": [\"costo altri servizi\"], \"mode\": \"markers\", \"marker\": {\"size\": [153.76493486150213]}, \"name\": \"EMILIA-ROMAGNA\"}, {\"type\": \"scatter\", \"x\": [223.1854556382007], \"y\": [223.1854556382007], \"text\": [\"costo altri servizi\"], \"mode\": \"markers\", \"marker\": {\"size\": [223.1854556382007]}, \"name\": \"LAZIO\"}, {\"type\": \"scatter\", \"x\": [190.85411163801854], \"y\": [190.85411163801854], \"text\": [\"costo altri servizi\"], \"mode\": \"markers\", \"marker\": {\"size\": [190.85411163801854]}, \"name\": \"LIGURIA\"}, {\"type\": \"scatter\", \"x\": [152.84118463162855], \"y\": [152.84118463162855], \"text\": [\"costo altri servizi\"], \"mode\": \"markers\", \"marker\": {\"size\": [152.84118463162855]}, \"name\": \"LOMBARDIA\"}, {\"type\": \"scatter\", \"x\": [152.8727826358795], \"y\": [152.8727826358795], \"text\": [\"costo altri servizi\"], \"mode\": \"markers\", \"marker\": {\"size\": [152.8727826358795]}, \"name\": \"MARCHE\"}, {\"type\": \"scatter\", \"x\": [193.01474499753738], \"y\": [193.01474499753738], \"text\": [\"costo altri servizi\"], \"mode\": \"markers\", \"marker\": {\"size\": [193.01474499753738]}, \"name\": \"MOLISE\"}, {\"type\": \"scatter\", \"x\": [154.2022725594822], \"y\": [154.2022725594822], \"text\": [\"costo altri servizi\"], \"mode\": \"markers\", \"marker\": {\"size\": [154.2022725594822]}, \"name\": \"PIEMONTE\"}, {\"type\": \"scatter\", \"x\": [140.77504579049267], \"y\": [140.77504579049267], \"text\": [\"costo altri servizi\"], \"mode\": \"markers\", \"marker\": {\"size\": [140.77504579049267]}, \"name\": \"PUGLIA\"}, {\"type\": \"scatter\", \"x\": [158.8913766439551], \"y\": [158.8913766439551], \"text\": [\"costo altri servizi\"], \"mode\": \"markers\", \"marker\": {\"size\": [158.8913766439551]}, \"name\": \"TOSCANA\"}, {\"type\": \"scatter\", \"x\": [176.25505422825375], \"y\": [176.25505422825375], \"text\": [\"costo altri servizi\"], \"mode\": \"markers\", \"marker\": {\"size\": [176.25505422825375]}, \"name\": \"UMBRIA\"}, {\"type\": \"scatter\", \"x\": [146.16268620196996], \"y\": [146.16268620196996], \"text\": [\"costo altri servizi\"], \"mode\": \"markers\", \"marker\": {\"size\": [146.16268620196996]}, \"name\": \"VENETO\"}], {\"title\": \"Costo Altri Servizi\"}, {\"showLink\": true, \"linkText\": \"Export to plot.ly\"})});</script>"
      ]
     },
     "metadata": {},
     "output_type": "display_data"
    },
    {
     "data": {
      "application/vnd.plotly.v1+json": {
       "data": [
        {
         "marker": {
          "size": [
           57.41832271695052
          ]
         },
         "mode": "markers",
         "name": "ABRUZZO",
         "text": [
          "costo polizia locale"
         ],
         "type": "scatter",
         "x": [
          57.41832271695052
         ],
         "y": [
          57.41832271695052
         ]
        },
        {
         "marker": {
          "size": [
           63.29145205988487
          ]
         },
         "mode": "markers",
         "name": "BASILICATA",
         "text": [
          "costo polizia locale"
         ],
         "type": "scatter",
         "x": [
          63.29145205988487
         ],
         "y": [
          63.29145205988487
         ]
        },
        {
         "marker": {
          "size": [
           61.61606033149426
          ]
         },
         "mode": "markers",
         "name": "CALABRIA",
         "text": [
          "costo polizia locale"
         ],
         "type": "scatter",
         "x": [
          61.61606033149426
         ],
         "y": [
          61.61606033149426
         ]
        },
        {
         "marker": {
          "size": [
           100.97571884638234
          ]
         },
         "mode": "markers",
         "name": "CAMPANIA",
         "text": [
          "costo polizia locale"
         ],
         "type": "scatter",
         "x": [
          100.97571884638234
         ],
         "y": [
          100.97571884638234
         ]
        },
        {
         "marker": {
          "size": [
           60.42203076924895
          ]
         },
         "mode": "markers",
         "name": "EMILIA-ROMAGNA",
         "text": [
          "costo polizia locale"
         ],
         "type": "scatter",
         "x": [
          60.42203076924895
         ],
         "y": [
          60.42203076924895
         ]
        },
        {
         "marker": {
          "size": [
           135.822588683391
          ]
         },
         "mode": "markers",
         "name": "LAZIO",
         "text": [
          "costo polizia locale"
         ],
         "type": "scatter",
         "x": [
          135.822588683391
         ],
         "y": [
          135.822588683391
         ]
        },
        {
         "marker": {
          "size": [
           90.88814067433444
          ]
         },
         "mode": "markers",
         "name": "LIGURIA",
         "text": [
          "costo polizia locale"
         ],
         "type": "scatter",
         "x": [
          90.88814067433444
         ],
         "y": [
          90.88814067433444
         ]
        },
        {
         "marker": {
          "size": [
           67.96004843225828
          ]
         },
         "mode": "markers",
         "name": "LOMBARDIA",
         "text": [
          "costo polizia locale"
         ],
         "type": "scatter",
         "x": [
          67.96004843225828
         ],
         "y": [
          67.96004843225828
         ]
        },
        {
         "marker": {
          "size": [
           51.683453139800434
          ]
         },
         "mode": "markers",
         "name": "MARCHE",
         "text": [
          "costo polizia locale"
         ],
         "type": "scatter",
         "x": [
          51.683453139800434
         ],
         "y": [
          51.683453139800434
         ]
        },
        {
         "marker": {
          "size": [
           54.35966474809818
          ]
         },
         "mode": "markers",
         "name": "MOLISE",
         "text": [
          "costo polizia locale"
         ],
         "type": "scatter",
         "x": [
          54.35966474809818
         ],
         "y": [
          54.35966474809818
         ]
        },
        {
         "marker": {
          "size": [
           74.29755013109413
          ]
         },
         "mode": "markers",
         "name": "PIEMONTE",
         "text": [
          "costo polizia locale"
         ],
         "type": "scatter",
         "x": [
          74.29755013109413
         ],
         "y": [
          74.29755013109413
         ]
        },
        {
         "marker": {
          "size": [
           70.83970138731355
          ]
         },
         "mode": "markers",
         "name": "PUGLIA",
         "text": [
          "costo polizia locale"
         ],
         "type": "scatter",
         "x": [
          70.83970138731355
         ],
         "y": [
          70.83970138731355
         ]
        },
        {
         "marker": {
          "size": [
           77.52415029563457
          ]
         },
         "mode": "markers",
         "name": "TOSCANA",
         "text": [
          "costo polizia locale"
         ],
         "type": "scatter",
         "x": [
          77.52415029563457
         ],
         "y": [
          77.52415029563457
         ]
        },
        {
         "marker": {
          "size": [
           58.783458354883166
          ]
         },
         "mode": "markers",
         "name": "UMBRIA",
         "text": [
          "costo polizia locale"
         ],
         "type": "scatter",
         "x": [
          58.783458354883166
         ],
         "y": [
          58.783458354883166
         ]
        },
        {
         "marker": {
          "size": [
           48.69106642470439
          ]
         },
         "mode": "markers",
         "name": "VENETO",
         "text": [
          "costo polizia locale"
         ],
         "type": "scatter",
         "x": [
          48.69106642470439
         ],
         "y": [
          48.69106642470439
         ]
        }
       ],
       "layout": {
        "title": "Costo Polizia Locale"
       }
      },
      "text/html": [
       "<div id=\"70d00118-416e-4b50-844e-9f18bd827141\" style=\"height: 525px; width: 100%;\" class=\"plotly-graph-div\"></div><script type=\"text/javascript\">require([\"plotly\"], function(Plotly) { window.PLOTLYENV=window.PLOTLYENV || {};window.PLOTLYENV.BASE_URL=\"https://plot.ly\";Plotly.newPlot(\"70d00118-416e-4b50-844e-9f18bd827141\", [{\"type\": \"scatter\", \"x\": [57.41832271695052], \"y\": [57.41832271695052], \"text\": [\"costo polizia locale\"], \"mode\": \"markers\", \"marker\": {\"size\": [57.41832271695052]}, \"name\": \"ABRUZZO\"}, {\"type\": \"scatter\", \"x\": [63.29145205988487], \"y\": [63.29145205988487], \"text\": [\"costo polizia locale\"], \"mode\": \"markers\", \"marker\": {\"size\": [63.29145205988487]}, \"name\": \"BASILICATA\"}, {\"type\": \"scatter\", \"x\": [61.61606033149426], \"y\": [61.61606033149426], \"text\": [\"costo polizia locale\"], \"mode\": \"markers\", \"marker\": {\"size\": [61.61606033149426]}, \"name\": \"CALABRIA\"}, {\"type\": \"scatter\", \"x\": [100.97571884638234], \"y\": [100.97571884638234], \"text\": [\"costo polizia locale\"], \"mode\": \"markers\", \"marker\": {\"size\": [100.97571884638234]}, \"name\": \"CAMPANIA\"}, {\"type\": \"scatter\", \"x\": [60.42203076924895], \"y\": [60.42203076924895], \"text\": [\"costo polizia locale\"], \"mode\": \"markers\", \"marker\": {\"size\": [60.42203076924895]}, \"name\": \"EMILIA-ROMAGNA\"}, {\"type\": \"scatter\", \"x\": [135.822588683391], \"y\": [135.822588683391], \"text\": [\"costo polizia locale\"], \"mode\": \"markers\", \"marker\": {\"size\": [135.822588683391]}, \"name\": \"LAZIO\"}, {\"type\": \"scatter\", \"x\": [90.88814067433444], \"y\": [90.88814067433444], \"text\": [\"costo polizia locale\"], \"mode\": \"markers\", \"marker\": {\"size\": [90.88814067433444]}, \"name\": \"LIGURIA\"}, {\"type\": \"scatter\", \"x\": [67.96004843225828], \"y\": [67.96004843225828], \"text\": [\"costo polizia locale\"], \"mode\": \"markers\", \"marker\": {\"size\": [67.96004843225828]}, \"name\": \"LOMBARDIA\"}, {\"type\": \"scatter\", \"x\": [51.683453139800434], \"y\": [51.683453139800434], \"text\": [\"costo polizia locale\"], \"mode\": \"markers\", \"marker\": {\"size\": [51.683453139800434]}, \"name\": \"MARCHE\"}, {\"type\": \"scatter\", \"x\": [54.35966474809818], \"y\": [54.35966474809818], \"text\": [\"costo polizia locale\"], \"mode\": \"markers\", \"marker\": {\"size\": [54.35966474809818]}, \"name\": \"MOLISE\"}, {\"type\": \"scatter\", \"x\": [74.29755013109413], \"y\": [74.29755013109413], \"text\": [\"costo polizia locale\"], \"mode\": \"markers\", \"marker\": {\"size\": [74.29755013109413]}, \"name\": \"PIEMONTE\"}, {\"type\": \"scatter\", \"x\": [70.83970138731355], \"y\": [70.83970138731355], \"text\": [\"costo polizia locale\"], \"mode\": \"markers\", \"marker\": {\"size\": [70.83970138731355]}, \"name\": \"PUGLIA\"}, {\"type\": \"scatter\", \"x\": [77.52415029563457], \"y\": [77.52415029563457], \"text\": [\"costo polizia locale\"], \"mode\": \"markers\", \"marker\": {\"size\": [77.52415029563457]}, \"name\": \"TOSCANA\"}, {\"type\": \"scatter\", \"x\": [58.783458354883166], \"y\": [58.783458354883166], \"text\": [\"costo polizia locale\"], \"mode\": \"markers\", \"marker\": {\"size\": [58.783458354883166]}, \"name\": \"UMBRIA\"}, {\"type\": \"scatter\", \"x\": [48.69106642470439], \"y\": [48.69106642470439], \"text\": [\"costo polizia locale\"], \"mode\": \"markers\", \"marker\": {\"size\": [48.69106642470439]}, \"name\": \"VENETO\"}], {\"title\": \"Costo Polizia Locale\"}, {\"showLink\": true, \"linkText\": \"Export to plot.ly\"})});</script>"
      ],
      "text/vnd.plotly.v1+html": [
       "<div id=\"70d00118-416e-4b50-844e-9f18bd827141\" style=\"height: 525px; width: 100%;\" class=\"plotly-graph-div\"></div><script type=\"text/javascript\">require([\"plotly\"], function(Plotly) { window.PLOTLYENV=window.PLOTLYENV || {};window.PLOTLYENV.BASE_URL=\"https://plot.ly\";Plotly.newPlot(\"70d00118-416e-4b50-844e-9f18bd827141\", [{\"type\": \"scatter\", \"x\": [57.41832271695052], \"y\": [57.41832271695052], \"text\": [\"costo polizia locale\"], \"mode\": \"markers\", \"marker\": {\"size\": [57.41832271695052]}, \"name\": \"ABRUZZO\"}, {\"type\": \"scatter\", \"x\": [63.29145205988487], \"y\": [63.29145205988487], \"text\": [\"costo polizia locale\"], \"mode\": \"markers\", \"marker\": {\"size\": [63.29145205988487]}, \"name\": \"BASILICATA\"}, {\"type\": \"scatter\", \"x\": [61.61606033149426], \"y\": [61.61606033149426], \"text\": [\"costo polizia locale\"], \"mode\": \"markers\", \"marker\": {\"size\": [61.61606033149426]}, \"name\": \"CALABRIA\"}, {\"type\": \"scatter\", \"x\": [100.97571884638234], \"y\": [100.97571884638234], \"text\": [\"costo polizia locale\"], \"mode\": \"markers\", \"marker\": {\"size\": [100.97571884638234]}, \"name\": \"CAMPANIA\"}, {\"type\": \"scatter\", \"x\": [60.42203076924895], \"y\": [60.42203076924895], \"text\": [\"costo polizia locale\"], \"mode\": \"markers\", \"marker\": {\"size\": [60.42203076924895]}, \"name\": \"EMILIA-ROMAGNA\"}, {\"type\": \"scatter\", \"x\": [135.822588683391], \"y\": [135.822588683391], \"text\": [\"costo polizia locale\"], \"mode\": \"markers\", \"marker\": {\"size\": [135.822588683391]}, \"name\": \"LAZIO\"}, {\"type\": \"scatter\", \"x\": [90.88814067433444], \"y\": [90.88814067433444], \"text\": [\"costo polizia locale\"], \"mode\": \"markers\", \"marker\": {\"size\": [90.88814067433444]}, \"name\": \"LIGURIA\"}, {\"type\": \"scatter\", \"x\": [67.96004843225828], \"y\": [67.96004843225828], \"text\": [\"costo polizia locale\"], \"mode\": \"markers\", \"marker\": {\"size\": [67.96004843225828]}, \"name\": \"LOMBARDIA\"}, {\"type\": \"scatter\", \"x\": [51.683453139800434], \"y\": [51.683453139800434], \"text\": [\"costo polizia locale\"], \"mode\": \"markers\", \"marker\": {\"size\": [51.683453139800434]}, \"name\": \"MARCHE\"}, {\"type\": \"scatter\", \"x\": [54.35966474809818], \"y\": [54.35966474809818], \"text\": [\"costo polizia locale\"], \"mode\": \"markers\", \"marker\": {\"size\": [54.35966474809818]}, \"name\": \"MOLISE\"}, {\"type\": \"scatter\", \"x\": [74.29755013109413], \"y\": [74.29755013109413], \"text\": [\"costo polizia locale\"], \"mode\": \"markers\", \"marker\": {\"size\": [74.29755013109413]}, \"name\": \"PIEMONTE\"}, {\"type\": \"scatter\", \"x\": [70.83970138731355], \"y\": [70.83970138731355], \"text\": [\"costo polizia locale\"], \"mode\": \"markers\", \"marker\": {\"size\": [70.83970138731355]}, \"name\": \"PUGLIA\"}, {\"type\": \"scatter\", \"x\": [77.52415029563457], \"y\": [77.52415029563457], \"text\": [\"costo polizia locale\"], \"mode\": \"markers\", \"marker\": {\"size\": [77.52415029563457]}, \"name\": \"TOSCANA\"}, {\"type\": \"scatter\", \"x\": [58.783458354883166], \"y\": [58.783458354883166], \"text\": [\"costo polizia locale\"], \"mode\": \"markers\", \"marker\": {\"size\": [58.783458354883166]}, \"name\": \"UMBRIA\"}, {\"type\": \"scatter\", \"x\": [48.69106642470439], \"y\": [48.69106642470439], \"text\": [\"costo polizia locale\"], \"mode\": \"markers\", \"marker\": {\"size\": [48.69106642470439]}, \"name\": \"VENETO\"}], {\"title\": \"Costo Polizia Locale\"}, {\"showLink\": true, \"linkText\": \"Export to plot.ly\"})});</script>"
      ]
     },
     "metadata": {},
     "output_type": "display_data"
    },
    {
     "data": {
      "application/vnd.plotly.v1+json": {
       "data": [
        {
         "marker": {
          "size": [
           82.35768988435709
          ]
         },
         "mode": "markers",
         "name": "ABRUZZO",
         "text": [
          "costo istruzione"
         ],
         "type": "scatter",
         "x": [
          82.35768988435709
         ],
         "y": [
          82.35768988435709
         ]
        },
        {
         "marker": {
          "size": [
           90.87594323290996
          ]
         },
         "mode": "markers",
         "name": "BASILICATA",
         "text": [
          "costo istruzione"
         ],
         "type": "scatter",
         "x": [
          90.87594323290996
         ],
         "y": [
          90.87594323290996
         ]
        },
        {
         "marker": {
          "size": [
           71.7210400175546
          ]
         },
         "mode": "markers",
         "name": "CALABRIA",
         "text": [
          "costo istruzione"
         ],
         "type": "scatter",
         "x": [
          71.7210400175546
         ],
         "y": [
          71.7210400175546
         ]
        },
        {
         "marker": {
          "size": [
           70.4256216231833
          ]
         },
         "mode": "markers",
         "name": "CAMPANIA",
         "text": [
          "costo istruzione"
         ],
         "type": "scatter",
         "x": [
          70.4256216231833
         ],
         "y": [
          70.4256216231833
         ]
        },
        {
         "marker": {
          "size": [
           119.59344094677066
          ]
         },
         "mode": "markers",
         "name": "EMILIA-ROMAGNA",
         "text": [
          "costo istruzione"
         ],
         "type": "scatter",
         "x": [
          119.59344094677066
         ],
         "y": [
          119.59344094677066
         ]
        },
        {
         "marker": {
          "size": [
           152.92112950448816
          ]
         },
         "mode": "markers",
         "name": "LAZIO",
         "text": [
          "costo istruzione"
         ],
         "type": "scatter",
         "x": [
          152.92112950448816
         ],
         "y": [
          152.92112950448816
         ]
        },
        {
         "marker": {
          "size": [
           91.64755929032373
          ]
         },
         "mode": "markers",
         "name": "LIGURIA",
         "text": [
          "costo istruzione"
         ],
         "type": "scatter",
         "x": [
          91.64755929032373
         ],
         "y": [
          91.64755929032373
         ]
        },
        {
         "marker": {
          "size": [
           116.87074096680982
          ]
         },
         "mode": "markers",
         "name": "LOMBARDIA",
         "text": [
          "costo istruzione"
         ],
         "type": "scatter",
         "x": [
          116.87074096680982
         ],
         "y": [
          116.87074096680982
         ]
        },
        {
         "marker": {
          "size": [
           81.7207880135964
          ]
         },
         "mode": "markers",
         "name": "MARCHE",
         "text": [
          "costo istruzione"
         ],
         "type": "scatter",
         "x": [
          81.7207880135964
         ],
         "y": [
          81.7207880135964
         ]
        },
        {
         "marker": {
          "size": [
           72.20784096535466
          ]
         },
         "mode": "markers",
         "name": "MOLISE",
         "text": [
          "costo istruzione"
         ],
         "type": "scatter",
         "x": [
          72.20784096535466
         ],
         "y": [
          72.20784096535466
         ]
        },
        {
         "marker": {
          "size": [
           102.96335842629657
          ]
         },
         "mode": "markers",
         "name": "PIEMONTE",
         "text": [
          "costo istruzione"
         ],
         "type": "scatter",
         "x": [
          102.96335842629657
         ],
         "y": [
          102.96335842629657
         ]
        },
        {
         "marker": {
          "size": [
           64.32316079305224
          ]
         },
         "mode": "markers",
         "name": "PUGLIA",
         "text": [
          "costo istruzione"
         ],
         "type": "scatter",
         "x": [
          64.32316079305224
         ],
         "y": [
          64.32316079305224
         ]
        },
        {
         "marker": {
          "size": [
           102.64333472274747
          ]
         },
         "mode": "markers",
         "name": "TOSCANA",
         "text": [
          "costo istruzione"
         ],
         "type": "scatter",
         "x": [
          102.64333472274747
         ],
         "y": [
          102.64333472274747
         ]
        },
        {
         "marker": {
          "size": [
           80.04885144264617
          ]
         },
         "mode": "markers",
         "name": "UMBRIA",
         "text": [
          "costo istruzione"
         ],
         "type": "scatter",
         "x": [
          80.04885144264617
         ],
         "y": [
          80.04885144264617
         ]
        },
        {
         "marker": {
          "size": [
           84.6564567631133
          ]
         },
         "mode": "markers",
         "name": "VENETO",
         "text": [
          "costo istruzione"
         ],
         "type": "scatter",
         "x": [
          84.6564567631133
         ],
         "y": [
          84.6564567631133
         ]
        }
       ],
       "layout": {
        "title": "Costo Istruzione"
       }
      },
      "text/html": [
       "<div id=\"5d5ce305-3590-4801-a684-46011ea98458\" style=\"height: 525px; width: 100%;\" class=\"plotly-graph-div\"></div><script type=\"text/javascript\">require([\"plotly\"], function(Plotly) { window.PLOTLYENV=window.PLOTLYENV || {};window.PLOTLYENV.BASE_URL=\"https://plot.ly\";Plotly.newPlot(\"5d5ce305-3590-4801-a684-46011ea98458\", [{\"type\": \"scatter\", \"x\": [82.35768988435709], \"y\": [82.35768988435709], \"text\": [\"costo istruzione\"], \"mode\": \"markers\", \"marker\": {\"size\": [82.35768988435709]}, \"name\": \"ABRUZZO\"}, {\"type\": \"scatter\", \"x\": [90.87594323290996], \"y\": [90.87594323290996], \"text\": [\"costo istruzione\"], \"mode\": \"markers\", \"marker\": {\"size\": [90.87594323290996]}, \"name\": \"BASILICATA\"}, {\"type\": \"scatter\", \"x\": [71.7210400175546], \"y\": [71.7210400175546], \"text\": [\"costo istruzione\"], \"mode\": \"markers\", \"marker\": {\"size\": [71.7210400175546]}, \"name\": \"CALABRIA\"}, {\"type\": \"scatter\", \"x\": [70.4256216231833], \"y\": [70.4256216231833], \"text\": [\"costo istruzione\"], \"mode\": \"markers\", \"marker\": {\"size\": [70.4256216231833]}, \"name\": \"CAMPANIA\"}, {\"type\": \"scatter\", \"x\": [119.59344094677066], \"y\": [119.59344094677066], \"text\": [\"costo istruzione\"], \"mode\": \"markers\", \"marker\": {\"size\": [119.59344094677066]}, \"name\": \"EMILIA-ROMAGNA\"}, {\"type\": \"scatter\", \"x\": [152.92112950448816], \"y\": [152.92112950448816], \"text\": [\"costo istruzione\"], \"mode\": \"markers\", \"marker\": {\"size\": [152.92112950448816]}, \"name\": \"LAZIO\"}, {\"type\": \"scatter\", \"x\": [91.64755929032373], \"y\": [91.64755929032373], \"text\": [\"costo istruzione\"], \"mode\": \"markers\", \"marker\": {\"size\": [91.64755929032373]}, \"name\": \"LIGURIA\"}, {\"type\": \"scatter\", \"x\": [116.87074096680982], \"y\": [116.87074096680982], \"text\": [\"costo istruzione\"], \"mode\": \"markers\", \"marker\": {\"size\": [116.87074096680982]}, \"name\": \"LOMBARDIA\"}, {\"type\": \"scatter\", \"x\": [81.7207880135964], \"y\": [81.7207880135964], \"text\": [\"costo istruzione\"], \"mode\": \"markers\", \"marker\": {\"size\": [81.7207880135964]}, \"name\": \"MARCHE\"}, {\"type\": \"scatter\", \"x\": [72.20784096535466], \"y\": [72.20784096535466], \"text\": [\"costo istruzione\"], \"mode\": \"markers\", \"marker\": {\"size\": [72.20784096535466]}, \"name\": \"MOLISE\"}, {\"type\": \"scatter\", \"x\": [102.96335842629657], \"y\": [102.96335842629657], \"text\": [\"costo istruzione\"], \"mode\": \"markers\", \"marker\": {\"size\": [102.96335842629657]}, \"name\": \"PIEMONTE\"}, {\"type\": \"scatter\", \"x\": [64.32316079305224], \"y\": [64.32316079305224], \"text\": [\"costo istruzione\"], \"mode\": \"markers\", \"marker\": {\"size\": [64.32316079305224]}, \"name\": \"PUGLIA\"}, {\"type\": \"scatter\", \"x\": [102.64333472274747], \"y\": [102.64333472274747], \"text\": [\"costo istruzione\"], \"mode\": \"markers\", \"marker\": {\"size\": [102.64333472274747]}, \"name\": \"TOSCANA\"}, {\"type\": \"scatter\", \"x\": [80.04885144264617], \"y\": [80.04885144264617], \"text\": [\"costo istruzione\"], \"mode\": \"markers\", \"marker\": {\"size\": [80.04885144264617]}, \"name\": \"UMBRIA\"}, {\"type\": \"scatter\", \"x\": [84.6564567631133], \"y\": [84.6564567631133], \"text\": [\"costo istruzione\"], \"mode\": \"markers\", \"marker\": {\"size\": [84.6564567631133]}, \"name\": \"VENETO\"}], {\"title\": \"Costo Istruzione\"}, {\"showLink\": true, \"linkText\": \"Export to plot.ly\"})});</script>"
      ],
      "text/vnd.plotly.v1+html": [
       "<div id=\"5d5ce305-3590-4801-a684-46011ea98458\" style=\"height: 525px; width: 100%;\" class=\"plotly-graph-div\"></div><script type=\"text/javascript\">require([\"plotly\"], function(Plotly) { window.PLOTLYENV=window.PLOTLYENV || {};window.PLOTLYENV.BASE_URL=\"https://plot.ly\";Plotly.newPlot(\"5d5ce305-3590-4801-a684-46011ea98458\", [{\"type\": \"scatter\", \"x\": [82.35768988435709], \"y\": [82.35768988435709], \"text\": [\"costo istruzione\"], \"mode\": \"markers\", \"marker\": {\"size\": [82.35768988435709]}, \"name\": \"ABRUZZO\"}, {\"type\": \"scatter\", \"x\": [90.87594323290996], \"y\": [90.87594323290996], \"text\": [\"costo istruzione\"], \"mode\": \"markers\", \"marker\": {\"size\": [90.87594323290996]}, \"name\": \"BASILICATA\"}, {\"type\": \"scatter\", \"x\": [71.7210400175546], \"y\": [71.7210400175546], \"text\": [\"costo istruzione\"], \"mode\": \"markers\", \"marker\": {\"size\": [71.7210400175546]}, \"name\": \"CALABRIA\"}, {\"type\": \"scatter\", \"x\": [70.4256216231833], \"y\": [70.4256216231833], \"text\": [\"costo istruzione\"], \"mode\": \"markers\", \"marker\": {\"size\": [70.4256216231833]}, \"name\": \"CAMPANIA\"}, {\"type\": \"scatter\", \"x\": [119.59344094677066], \"y\": [119.59344094677066], \"text\": [\"costo istruzione\"], \"mode\": \"markers\", \"marker\": {\"size\": [119.59344094677066]}, \"name\": \"EMILIA-ROMAGNA\"}, {\"type\": \"scatter\", \"x\": [152.92112950448816], \"y\": [152.92112950448816], \"text\": [\"costo istruzione\"], \"mode\": \"markers\", \"marker\": {\"size\": [152.92112950448816]}, \"name\": \"LAZIO\"}, {\"type\": \"scatter\", \"x\": [91.64755929032373], \"y\": [91.64755929032373], \"text\": [\"costo istruzione\"], \"mode\": \"markers\", \"marker\": {\"size\": [91.64755929032373]}, \"name\": \"LIGURIA\"}, {\"type\": \"scatter\", \"x\": [116.87074096680982], \"y\": [116.87074096680982], \"text\": [\"costo istruzione\"], \"mode\": \"markers\", \"marker\": {\"size\": [116.87074096680982]}, \"name\": \"LOMBARDIA\"}, {\"type\": \"scatter\", \"x\": [81.7207880135964], \"y\": [81.7207880135964], \"text\": [\"costo istruzione\"], \"mode\": \"markers\", \"marker\": {\"size\": [81.7207880135964]}, \"name\": \"MARCHE\"}, {\"type\": \"scatter\", \"x\": [72.20784096535466], \"y\": [72.20784096535466], \"text\": [\"costo istruzione\"], \"mode\": \"markers\", \"marker\": {\"size\": [72.20784096535466]}, \"name\": \"MOLISE\"}, {\"type\": \"scatter\", \"x\": [102.96335842629657], \"y\": [102.96335842629657], \"text\": [\"costo istruzione\"], \"mode\": \"markers\", \"marker\": {\"size\": [102.96335842629657]}, \"name\": \"PIEMONTE\"}, {\"type\": \"scatter\", \"x\": [64.32316079305224], \"y\": [64.32316079305224], \"text\": [\"costo istruzione\"], \"mode\": \"markers\", \"marker\": {\"size\": [64.32316079305224]}, \"name\": \"PUGLIA\"}, {\"type\": \"scatter\", \"x\": [102.64333472274747], \"y\": [102.64333472274747], \"text\": [\"costo istruzione\"], \"mode\": \"markers\", \"marker\": {\"size\": [102.64333472274747]}, \"name\": \"TOSCANA\"}, {\"type\": \"scatter\", \"x\": [80.04885144264617], \"y\": [80.04885144264617], \"text\": [\"costo istruzione\"], \"mode\": \"markers\", \"marker\": {\"size\": [80.04885144264617]}, \"name\": \"UMBRIA\"}, {\"type\": \"scatter\", \"x\": [84.6564567631133], \"y\": [84.6564567631133], \"text\": [\"costo istruzione\"], \"mode\": \"markers\", \"marker\": {\"size\": [84.6564567631133]}, \"name\": \"VENETO\"}], {\"title\": \"Costo Istruzione\"}, {\"showLink\": true, \"linkText\": \"Export to plot.ly\"})});</script>"
      ]
     },
     "metadata": {},
     "output_type": "display_data"
    },
    {
     "data": {
      "application/vnd.plotly.v1+json": {
       "data": [
        {
         "marker": {
          "size": [
           78.5518393554056
          ]
         },
         "mode": "markers",
         "name": "ABRUZZO",
         "text": [
          "costo viabilita'"
         ],
         "type": "scatter",
         "x": [
          78.5518393554056
         ],
         "y": [
          78.5518393554056
         ]
        },
        {
         "marker": {
          "size": [
           68.64621073843907
          ]
         },
         "mode": "markers",
         "name": "BASILICATA",
         "text": [
          "costo viabilita'"
         ],
         "type": "scatter",
         "x": [
          68.64621073843907
         ],
         "y": [
          68.64621073843907
         ]
        },
        {
         "marker": {
          "size": [
           80.81591964270895
          ]
         },
         "mode": "markers",
         "name": "CALABRIA",
         "text": [
          "costo viabilita'"
         ],
         "type": "scatter",
         "x": [
          80.81591964270895
         ],
         "y": [
          80.81591964270895
         ]
        },
        {
         "marker": {
          "size": [
           64.49339634083259
          ]
         },
         "mode": "markers",
         "name": "CAMPANIA",
         "text": [
          "costo viabilita'"
         ],
         "type": "scatter",
         "x": [
          64.49339634083259
         ],
         "y": [
          64.49339634083259
         ]
        },
        {
         "marker": {
          "size": [
           72.12460496659948
          ]
         },
         "mode": "markers",
         "name": "EMILIA-ROMAGNA",
         "text": [
          "costo viabilita'"
         ],
         "type": "scatter",
         "x": [
          72.12460496659948
         ],
         "y": [
          72.12460496659948
         ]
        },
        {
         "marker": {
          "size": [
           77.54352643785985
          ]
         },
         "mode": "markers",
         "name": "LAZIO",
         "text": [
          "costo viabilita'"
         ],
         "type": "scatter",
         "x": [
          77.54352643785985
         ],
         "y": [
          77.54352643785985
         ]
        },
        {
         "marker": {
          "size": [
           61.268910647041146
          ]
         },
         "mode": "markers",
         "name": "LIGURIA",
         "text": [
          "costo viabilita'"
         ],
         "type": "scatter",
         "x": [
          61.268910647041146
         ],
         "y": [
          61.268910647041146
         ]
        },
        {
         "marker": {
          "size": [
           62.945801019729835
          ]
         },
         "mode": "markers",
         "name": "LOMBARDIA",
         "text": [
          "costo viabilita'"
         ],
         "type": "scatter",
         "x": [
          62.945801019729835
         ],
         "y": [
          62.945801019729835
         ]
        },
        {
         "marker": {
          "size": [
           77.67436420786576
          ]
         },
         "mode": "markers",
         "name": "MARCHE",
         "text": [
          "costo viabilita'"
         ],
         "type": "scatter",
         "x": [
          77.67436420786576
         ],
         "y": [
          77.67436420786576
         ]
        },
        {
         "marker": {
          "size": [
           79.84815099482968
          ]
         },
         "mode": "markers",
         "name": "MOLISE",
         "text": [
          "costo viabilita'"
         ],
         "type": "scatter",
         "x": [
          79.84815099482968
         ],
         "y": [
          79.84815099482968
         ]
        },
        {
         "marker": {
          "size": [
           77.49777955971786
          ]
         },
         "mode": "markers",
         "name": "PIEMONTE",
         "text": [
          "costo viabilita'"
         ],
         "type": "scatter",
         "x": [
          77.49777955971786
         ],
         "y": [
          77.49777955971786
         ]
        },
        {
         "marker": {
          "size": [
           52.59349517202214
          ]
         },
         "mode": "markers",
         "name": "PUGLIA",
         "text": [
          "costo viabilita'"
         ],
         "type": "scatter",
         "x": [
          52.59349517202214
         ],
         "y": [
          52.59349517202214
         ]
        },
        {
         "marker": {
          "size": [
           62.8265657079601
          ]
         },
         "mode": "markers",
         "name": "TOSCANA",
         "text": [
          "costo viabilita'"
         ],
         "type": "scatter",
         "x": [
          62.8265657079601
         ],
         "y": [
          62.8265657079601
         ]
        },
        {
         "marker": {
          "size": [
           73.58474956076964
          ]
         },
         "mode": "markers",
         "name": "UMBRIA",
         "text": [
          "costo viabilita'"
         ],
         "type": "scatter",
         "x": [
          73.58474956076964
         ],
         "y": [
          73.58474956076964
         ]
        },
        {
         "marker": {
          "size": [
           61.413526040617995
          ]
         },
         "mode": "markers",
         "name": "VENETO",
         "text": [
          "costo viabilita'"
         ],
         "type": "scatter",
         "x": [
          61.413526040617995
         ],
         "y": [
          61.413526040617995
         ]
        }
       ],
       "layout": {
        "title": "Costo Viabilita'"
       }
      },
      "text/html": [
       "<div id=\"5752ce62-6d17-4889-bfaa-557df01280e8\" style=\"height: 525px; width: 100%;\" class=\"plotly-graph-div\"></div><script type=\"text/javascript\">require([\"plotly\"], function(Plotly) { window.PLOTLYENV=window.PLOTLYENV || {};window.PLOTLYENV.BASE_URL=\"https://plot.ly\";Plotly.newPlot(\"5752ce62-6d17-4889-bfaa-557df01280e8\", [{\"type\": \"scatter\", \"x\": [78.5518393554056], \"y\": [78.5518393554056], \"text\": [\"costo viabilita'\"], \"mode\": \"markers\", \"marker\": {\"size\": [78.5518393554056]}, \"name\": \"ABRUZZO\"}, {\"type\": \"scatter\", \"x\": [68.64621073843907], \"y\": [68.64621073843907], \"text\": [\"costo viabilita'\"], \"mode\": \"markers\", \"marker\": {\"size\": [68.64621073843907]}, \"name\": \"BASILICATA\"}, {\"type\": \"scatter\", \"x\": [80.81591964270895], \"y\": [80.81591964270895], \"text\": [\"costo viabilita'\"], \"mode\": \"markers\", \"marker\": {\"size\": [80.81591964270895]}, \"name\": \"CALABRIA\"}, {\"type\": \"scatter\", \"x\": [64.49339634083259], \"y\": [64.49339634083259], \"text\": [\"costo viabilita'\"], \"mode\": \"markers\", \"marker\": {\"size\": [64.49339634083259]}, \"name\": \"CAMPANIA\"}, {\"type\": \"scatter\", \"x\": [72.12460496659948], \"y\": [72.12460496659948], \"text\": [\"costo viabilita'\"], \"mode\": \"markers\", \"marker\": {\"size\": [72.12460496659948]}, \"name\": \"EMILIA-ROMAGNA\"}, {\"type\": \"scatter\", \"x\": [77.54352643785985], \"y\": [77.54352643785985], \"text\": [\"costo viabilita'\"], \"mode\": \"markers\", \"marker\": {\"size\": [77.54352643785985]}, \"name\": \"LAZIO\"}, {\"type\": \"scatter\", \"x\": [61.268910647041146], \"y\": [61.268910647041146], \"text\": [\"costo viabilita'\"], \"mode\": \"markers\", \"marker\": {\"size\": [61.268910647041146]}, \"name\": \"LIGURIA\"}, {\"type\": \"scatter\", \"x\": [62.945801019729835], \"y\": [62.945801019729835], \"text\": [\"costo viabilita'\"], \"mode\": \"markers\", \"marker\": {\"size\": [62.945801019729835]}, \"name\": \"LOMBARDIA\"}, {\"type\": \"scatter\", \"x\": [77.67436420786576], \"y\": [77.67436420786576], \"text\": [\"costo viabilita'\"], \"mode\": \"markers\", \"marker\": {\"size\": [77.67436420786576]}, \"name\": \"MARCHE\"}, {\"type\": \"scatter\", \"x\": [79.84815099482968], \"y\": [79.84815099482968], \"text\": [\"costo viabilita'\"], \"mode\": \"markers\", \"marker\": {\"size\": [79.84815099482968]}, \"name\": \"MOLISE\"}, {\"type\": \"scatter\", \"x\": [77.49777955971786], \"y\": [77.49777955971786], \"text\": [\"costo viabilita'\"], \"mode\": \"markers\", \"marker\": {\"size\": [77.49777955971786]}, \"name\": \"PIEMONTE\"}, {\"type\": \"scatter\", \"x\": [52.59349517202214], \"y\": [52.59349517202214], \"text\": [\"costo viabilita'\"], \"mode\": \"markers\", \"marker\": {\"size\": [52.59349517202214]}, \"name\": \"PUGLIA\"}, {\"type\": \"scatter\", \"x\": [62.8265657079601], \"y\": [62.8265657079601], \"text\": [\"costo viabilita'\"], \"mode\": \"markers\", \"marker\": {\"size\": [62.8265657079601]}, \"name\": \"TOSCANA\"}, {\"type\": \"scatter\", \"x\": [73.58474956076964], \"y\": [73.58474956076964], \"text\": [\"costo viabilita'\"], \"mode\": \"markers\", \"marker\": {\"size\": [73.58474956076964]}, \"name\": \"UMBRIA\"}, {\"type\": \"scatter\", \"x\": [61.413526040617995], \"y\": [61.413526040617995], \"text\": [\"costo viabilita'\"], \"mode\": \"markers\", \"marker\": {\"size\": [61.413526040617995]}, \"name\": \"VENETO\"}], {\"title\": \"Costo Viabilita'\"}, {\"showLink\": true, \"linkText\": \"Export to plot.ly\"})});</script>"
      ],
      "text/vnd.plotly.v1+html": [
       "<div id=\"5752ce62-6d17-4889-bfaa-557df01280e8\" style=\"height: 525px; width: 100%;\" class=\"plotly-graph-div\"></div><script type=\"text/javascript\">require([\"plotly\"], function(Plotly) { window.PLOTLYENV=window.PLOTLYENV || {};window.PLOTLYENV.BASE_URL=\"https://plot.ly\";Plotly.newPlot(\"5752ce62-6d17-4889-bfaa-557df01280e8\", [{\"type\": \"scatter\", \"x\": [78.5518393554056], \"y\": [78.5518393554056], \"text\": [\"costo viabilita'\"], \"mode\": \"markers\", \"marker\": {\"size\": [78.5518393554056]}, \"name\": \"ABRUZZO\"}, {\"type\": \"scatter\", \"x\": [68.64621073843907], \"y\": [68.64621073843907], \"text\": [\"costo viabilita'\"], \"mode\": \"markers\", \"marker\": {\"size\": [68.64621073843907]}, \"name\": \"BASILICATA\"}, {\"type\": \"scatter\", \"x\": [80.81591964270895], \"y\": [80.81591964270895], \"text\": [\"costo viabilita'\"], \"mode\": \"markers\", \"marker\": {\"size\": [80.81591964270895]}, \"name\": \"CALABRIA\"}, {\"type\": \"scatter\", \"x\": [64.49339634083259], \"y\": [64.49339634083259], \"text\": [\"costo viabilita'\"], \"mode\": \"markers\", \"marker\": {\"size\": [64.49339634083259]}, \"name\": \"CAMPANIA\"}, {\"type\": \"scatter\", \"x\": [72.12460496659948], \"y\": [72.12460496659948], \"text\": [\"costo viabilita'\"], \"mode\": \"markers\", \"marker\": {\"size\": [72.12460496659948]}, \"name\": \"EMILIA-ROMAGNA\"}, {\"type\": \"scatter\", \"x\": [77.54352643785985], \"y\": [77.54352643785985], \"text\": [\"costo viabilita'\"], \"mode\": \"markers\", \"marker\": {\"size\": [77.54352643785985]}, \"name\": \"LAZIO\"}, {\"type\": \"scatter\", \"x\": [61.268910647041146], \"y\": [61.268910647041146], \"text\": [\"costo viabilita'\"], \"mode\": \"markers\", \"marker\": {\"size\": [61.268910647041146]}, \"name\": \"LIGURIA\"}, {\"type\": \"scatter\", \"x\": [62.945801019729835], \"y\": [62.945801019729835], \"text\": [\"costo viabilita'\"], \"mode\": \"markers\", \"marker\": {\"size\": [62.945801019729835]}, \"name\": \"LOMBARDIA\"}, {\"type\": \"scatter\", \"x\": [77.67436420786576], \"y\": [77.67436420786576], \"text\": [\"costo viabilita'\"], \"mode\": \"markers\", \"marker\": {\"size\": [77.67436420786576]}, \"name\": \"MARCHE\"}, {\"type\": \"scatter\", \"x\": [79.84815099482968], \"y\": [79.84815099482968], \"text\": [\"costo viabilita'\"], \"mode\": \"markers\", \"marker\": {\"size\": [79.84815099482968]}, \"name\": \"MOLISE\"}, {\"type\": \"scatter\", \"x\": [77.49777955971786], \"y\": [77.49777955971786], \"text\": [\"costo viabilita'\"], \"mode\": \"markers\", \"marker\": {\"size\": [77.49777955971786]}, \"name\": \"PIEMONTE\"}, {\"type\": \"scatter\", \"x\": [52.59349517202214], \"y\": [52.59349517202214], \"text\": [\"costo viabilita'\"], \"mode\": \"markers\", \"marker\": {\"size\": [52.59349517202214]}, \"name\": \"PUGLIA\"}, {\"type\": \"scatter\", \"x\": [62.8265657079601], \"y\": [62.8265657079601], \"text\": [\"costo viabilita'\"], \"mode\": \"markers\", \"marker\": {\"size\": [62.8265657079601]}, \"name\": \"TOSCANA\"}, {\"type\": \"scatter\", \"x\": [73.58474956076964], \"y\": [73.58474956076964], \"text\": [\"costo viabilita'\"], \"mode\": \"markers\", \"marker\": {\"size\": [73.58474956076964]}, \"name\": \"UMBRIA\"}, {\"type\": \"scatter\", \"x\": [61.413526040617995], \"y\": [61.413526040617995], \"text\": [\"costo viabilita'\"], \"mode\": \"markers\", \"marker\": {\"size\": [61.413526040617995]}, \"name\": \"VENETO\"}], {\"title\": \"Costo Viabilita'\"}, {\"showLink\": true, \"linkText\": \"Export to plot.ly\"})});</script>"
      ]
     },
     "metadata": {},
     "output_type": "display_data"
    },
    {
     "data": {
      "application/vnd.plotly.v1+json": {
       "data": [
        {
         "marker": {
          "size": [
           11.990720822650045
          ]
         },
         "mode": "markers",
         "name": "ABRUZZO",
         "text": [
          "costo trasporti"
         ],
         "type": "scatter",
         "x": [
          11.990720822650045
         ],
         "y": [
          11.990720822650045
         ]
        },
        {
         "marker": {
          "size": [
           33.018372133254736
          ]
         },
         "mode": "markers",
         "name": "BASILICATA",
         "text": [
          "costo trasporti"
         ],
         "type": "scatter",
         "x": [
          33.018372133254736
         ],
         "y": [
          33.018372133254736
         ]
        },
        {
         "marker": {
          "size": [
           2.2091275639296404
          ]
         },
         "mode": "markers",
         "name": "CALABRIA",
         "text": [
          "costo trasporti"
         ],
         "type": "scatter",
         "x": [
          2.2091275639296404
         ],
         "y": [
          2.2091275639296404
         ]
        },
        {
         "marker": {
          "size": [
           36.4384601021592
          ]
         },
         "mode": "markers",
         "name": "CAMPANIA",
         "text": [
          "costo trasporti"
         ],
         "type": "scatter",
         "x": [
          36.4384601021592
         ],
         "y": [
          36.4384601021592
         ]
        },
        {
         "marker": {
          "size": [
           7.352455937706525
          ]
         },
         "mode": "markers",
         "name": "EMILIA-ROMAGNA",
         "text": [
          "costo trasporti"
         ],
         "type": "scatter",
         "x": [
          7.352455937706525
         ],
         "y": [
          7.352455937706525
         ]
        },
        {
         "marker": {
          "size": [
           108.982031542057
          ]
         },
         "mode": "markers",
         "name": "LAZIO",
         "text": [
          "costo trasporti"
         ],
         "type": "scatter",
         "x": [
          108.982031542057
         ],
         "y": [
          108.982031542057
         ]
        },
        {
         "marker": {
          "size": [
           36.94091404815751
          ]
         },
         "mode": "markers",
         "name": "LIGURIA",
         "text": [
          "costo trasporti"
         ],
         "type": "scatter",
         "x": [
          36.94091404815751
         ],
         "y": [
          36.94091404815751
         ]
        },
        {
         "marker": {
          "size": [
           19.865863323176647
          ]
         },
         "mode": "markers",
         "name": "LOMBARDIA",
         "text": [
          "costo trasporti"
         ],
         "type": "scatter",
         "x": [
          19.865863323176647
         ],
         "y": [
          19.865863323176647
         ]
        },
        {
         "marker": {
          "size": [
           7.147199569848209
          ]
         },
         "mode": "markers",
         "name": "MARCHE",
         "text": [
          "costo trasporti"
         ],
         "type": "scatter",
         "x": [
          7.147199569848209
         ],
         "y": [
          7.147199569848209
         ]
        },
        {
         "marker": {
          "size": [
           7.234048218369606
          ]
         },
         "mode": "markers",
         "name": "MOLISE",
         "text": [
          "costo trasporti"
         ],
         "type": "scatter",
         "x": [
          7.234048218369606
         ],
         "y": [
          7.234048218369606
         ]
        },
        {
         "marker": {
          "size": [
           6.478789611925212
          ]
         },
         "mode": "markers",
         "name": "PIEMONTE",
         "text": [
          "costo trasporti"
         ],
         "type": "scatter",
         "x": [
          6.478789611925212
         ],
         "y": [
          6.478789611925212
         ]
        },
        {
         "marker": {
          "size": [
           15.620073934231426
          ]
         },
         "mode": "markers",
         "name": "PUGLIA",
         "text": [
          "costo trasporti"
         ],
         "type": "scatter",
         "x": [
          15.620073934231426
         ],
         "y": [
          15.620073934231426
         ]
        },
        {
         "marker": {
          "size": [
           19.74679886472476
          ]
         },
         "mode": "markers",
         "name": "TOSCANA",
         "text": [
          "costo trasporti"
         ],
         "type": "scatter",
         "x": [
          19.74679886472476
         ],
         "y": [
          19.74679886472476
         ]
        },
        {
         "marker": {
          "size": [
           33.88130540127387
          ]
         },
         "mode": "markers",
         "name": "UMBRIA",
         "text": [
          "costo trasporti"
         ],
         "type": "scatter",
         "x": [
          33.88130540127387
         ],
         "y": [
          33.88130540127387
         ]
        },
        {
         "marker": {
          "size": [
           11.207581704943223
          ]
         },
         "mode": "markers",
         "name": "VENETO",
         "text": [
          "costo trasporti"
         ],
         "type": "scatter",
         "x": [
          11.207581704943223
         ],
         "y": [
          11.207581704943223
         ]
        }
       ],
       "layout": {
        "title": "Costo Trasporti"
       }
      },
      "text/html": [
       "<div id=\"558b2884-750c-422c-9384-9f9ca0056989\" style=\"height: 525px; width: 100%;\" class=\"plotly-graph-div\"></div><script type=\"text/javascript\">require([\"plotly\"], function(Plotly) { window.PLOTLYENV=window.PLOTLYENV || {};window.PLOTLYENV.BASE_URL=\"https://plot.ly\";Plotly.newPlot(\"558b2884-750c-422c-9384-9f9ca0056989\", [{\"type\": \"scatter\", \"x\": [11.990720822650045], \"y\": [11.990720822650045], \"text\": [\"costo trasporti\"], \"mode\": \"markers\", \"marker\": {\"size\": [11.990720822650045]}, \"name\": \"ABRUZZO\"}, {\"type\": \"scatter\", \"x\": [33.018372133254736], \"y\": [33.018372133254736], \"text\": [\"costo trasporti\"], \"mode\": \"markers\", \"marker\": {\"size\": [33.018372133254736]}, \"name\": \"BASILICATA\"}, {\"type\": \"scatter\", \"x\": [2.2091275639296404], \"y\": [2.2091275639296404], \"text\": [\"costo trasporti\"], \"mode\": \"markers\", \"marker\": {\"size\": [2.2091275639296404]}, \"name\": \"CALABRIA\"}, {\"type\": \"scatter\", \"x\": [36.4384601021592], \"y\": [36.4384601021592], \"text\": [\"costo trasporti\"], \"mode\": \"markers\", \"marker\": {\"size\": [36.4384601021592]}, \"name\": \"CAMPANIA\"}, {\"type\": \"scatter\", \"x\": [7.352455937706525], \"y\": [7.352455937706525], \"text\": [\"costo trasporti\"], \"mode\": \"markers\", \"marker\": {\"size\": [7.352455937706525]}, \"name\": \"EMILIA-ROMAGNA\"}, {\"type\": \"scatter\", \"x\": [108.982031542057], \"y\": [108.982031542057], \"text\": [\"costo trasporti\"], \"mode\": \"markers\", \"marker\": {\"size\": [108.982031542057]}, \"name\": \"LAZIO\"}, {\"type\": \"scatter\", \"x\": [36.94091404815751], \"y\": [36.94091404815751], \"text\": [\"costo trasporti\"], \"mode\": \"markers\", \"marker\": {\"size\": [36.94091404815751]}, \"name\": \"LIGURIA\"}, {\"type\": \"scatter\", \"x\": [19.865863323176647], \"y\": [19.865863323176647], \"text\": [\"costo trasporti\"], \"mode\": \"markers\", \"marker\": {\"size\": [19.865863323176647]}, \"name\": \"LOMBARDIA\"}, {\"type\": \"scatter\", \"x\": [7.147199569848209], \"y\": [7.147199569848209], \"text\": [\"costo trasporti\"], \"mode\": \"markers\", \"marker\": {\"size\": [7.147199569848209]}, \"name\": \"MARCHE\"}, {\"type\": \"scatter\", \"x\": [7.234048218369606], \"y\": [7.234048218369606], \"text\": [\"costo trasporti\"], \"mode\": \"markers\", \"marker\": {\"size\": [7.234048218369606]}, \"name\": \"MOLISE\"}, {\"type\": \"scatter\", \"x\": [6.478789611925212], \"y\": [6.478789611925212], \"text\": [\"costo trasporti\"], \"mode\": \"markers\", \"marker\": {\"size\": [6.478789611925212]}, \"name\": \"PIEMONTE\"}, {\"type\": \"scatter\", \"x\": [15.620073934231426], \"y\": [15.620073934231426], \"text\": [\"costo trasporti\"], \"mode\": \"markers\", \"marker\": {\"size\": [15.620073934231426]}, \"name\": \"PUGLIA\"}, {\"type\": \"scatter\", \"x\": [19.74679886472476], \"y\": [19.74679886472476], \"text\": [\"costo trasporti\"], \"mode\": \"markers\", \"marker\": {\"size\": [19.74679886472476]}, \"name\": \"TOSCANA\"}, {\"type\": \"scatter\", \"x\": [33.88130540127387], \"y\": [33.88130540127387], \"text\": [\"costo trasporti\"], \"mode\": \"markers\", \"marker\": {\"size\": [33.88130540127387]}, \"name\": \"UMBRIA\"}, {\"type\": \"scatter\", \"x\": [11.207581704943223], \"y\": [11.207581704943223], \"text\": [\"costo trasporti\"], \"mode\": \"markers\", \"marker\": {\"size\": [11.207581704943223]}, \"name\": \"VENETO\"}], {\"title\": \"Costo Trasporti\"}, {\"showLink\": true, \"linkText\": \"Export to plot.ly\"})});</script>"
      ],
      "text/vnd.plotly.v1+html": [
       "<div id=\"558b2884-750c-422c-9384-9f9ca0056989\" style=\"height: 525px; width: 100%;\" class=\"plotly-graph-div\"></div><script type=\"text/javascript\">require([\"plotly\"], function(Plotly) { window.PLOTLYENV=window.PLOTLYENV || {};window.PLOTLYENV.BASE_URL=\"https://plot.ly\";Plotly.newPlot(\"558b2884-750c-422c-9384-9f9ca0056989\", [{\"type\": \"scatter\", \"x\": [11.990720822650045], \"y\": [11.990720822650045], \"text\": [\"costo trasporti\"], \"mode\": \"markers\", \"marker\": {\"size\": [11.990720822650045]}, \"name\": \"ABRUZZO\"}, {\"type\": \"scatter\", \"x\": [33.018372133254736], \"y\": [33.018372133254736], \"text\": [\"costo trasporti\"], \"mode\": \"markers\", \"marker\": {\"size\": [33.018372133254736]}, \"name\": \"BASILICATA\"}, {\"type\": \"scatter\", \"x\": [2.2091275639296404], \"y\": [2.2091275639296404], \"text\": [\"costo trasporti\"], \"mode\": \"markers\", \"marker\": {\"size\": [2.2091275639296404]}, \"name\": \"CALABRIA\"}, {\"type\": \"scatter\", \"x\": [36.4384601021592], \"y\": [36.4384601021592], \"text\": [\"costo trasporti\"], \"mode\": \"markers\", \"marker\": {\"size\": [36.4384601021592]}, \"name\": \"CAMPANIA\"}, {\"type\": \"scatter\", \"x\": [7.352455937706525], \"y\": [7.352455937706525], \"text\": [\"costo trasporti\"], \"mode\": \"markers\", \"marker\": {\"size\": [7.352455937706525]}, \"name\": \"EMILIA-ROMAGNA\"}, {\"type\": \"scatter\", \"x\": [108.982031542057], \"y\": [108.982031542057], \"text\": [\"costo trasporti\"], \"mode\": \"markers\", \"marker\": {\"size\": [108.982031542057]}, \"name\": \"LAZIO\"}, {\"type\": \"scatter\", \"x\": [36.94091404815751], \"y\": [36.94091404815751], \"text\": [\"costo trasporti\"], \"mode\": \"markers\", \"marker\": {\"size\": [36.94091404815751]}, \"name\": \"LIGURIA\"}, {\"type\": \"scatter\", \"x\": [19.865863323176647], \"y\": [19.865863323176647], \"text\": [\"costo trasporti\"], \"mode\": \"markers\", \"marker\": {\"size\": [19.865863323176647]}, \"name\": \"LOMBARDIA\"}, {\"type\": \"scatter\", \"x\": [7.147199569848209], \"y\": [7.147199569848209], \"text\": [\"costo trasporti\"], \"mode\": \"markers\", \"marker\": {\"size\": [7.147199569848209]}, \"name\": \"MARCHE\"}, {\"type\": \"scatter\", \"x\": [7.234048218369606], \"y\": [7.234048218369606], \"text\": [\"costo trasporti\"], \"mode\": \"markers\", \"marker\": {\"size\": [7.234048218369606]}, \"name\": \"MOLISE\"}, {\"type\": \"scatter\", \"x\": [6.478789611925212], \"y\": [6.478789611925212], \"text\": [\"costo trasporti\"], \"mode\": \"markers\", \"marker\": {\"size\": [6.478789611925212]}, \"name\": \"PIEMONTE\"}, {\"type\": \"scatter\", \"x\": [15.620073934231426], \"y\": [15.620073934231426], \"text\": [\"costo trasporti\"], \"mode\": \"markers\", \"marker\": {\"size\": [15.620073934231426]}, \"name\": \"PUGLIA\"}, {\"type\": \"scatter\", \"x\": [19.74679886472476], \"y\": [19.74679886472476], \"text\": [\"costo trasporti\"], \"mode\": \"markers\", \"marker\": {\"size\": [19.74679886472476]}, \"name\": \"TOSCANA\"}, {\"type\": \"scatter\", \"x\": [33.88130540127387], \"y\": [33.88130540127387], \"text\": [\"costo trasporti\"], \"mode\": \"markers\", \"marker\": {\"size\": [33.88130540127387]}, \"name\": \"UMBRIA\"}, {\"type\": \"scatter\", \"x\": [11.207581704943223], \"y\": [11.207581704943223], \"text\": [\"costo trasporti\"], \"mode\": \"markers\", \"marker\": {\"size\": [11.207581704943223]}, \"name\": \"VENETO\"}], {\"title\": \"Costo Trasporti\"}, {\"showLink\": true, \"linkText\": \"Export to plot.ly\"})});</script>"
      ]
     },
     "metadata": {},
     "output_type": "display_data"
    },
    {
     "data": {
      "application/vnd.plotly.v1+json": {
       "data": [
        {
         "marker": {
          "size": [
           64.82616387715692
          ]
         },
         "mode": "markers",
         "name": "ABRUZZO",
         "text": [
          "costo territorio"
         ],
         "type": "scatter",
         "x": [
          64.82616387715692
         ],
         "y": [
          64.82616387715692
         ]
        },
        {
         "marker": {
          "size": [
           54.464883747878254
          ]
         },
         "mode": "markers",
         "name": "BASILICATA",
         "text": [
          "costo territorio"
         ],
         "type": "scatter",
         "x": [
          54.464883747878254
         ],
         "y": [
          54.464883747878254
         ]
        },
        {
         "marker": {
          "size": [
           55.98294705561386
          ]
         },
         "mode": "markers",
         "name": "CALABRIA",
         "text": [
          "costo territorio"
         ],
         "type": "scatter",
         "x": [
          55.98294705561386
         ],
         "y": [
          55.98294705561386
         ]
        },
        {
         "marker": {
          "size": [
           46.79513238281494
          ]
         },
         "mode": "markers",
         "name": "CAMPANIA",
         "text": [
          "costo territorio"
         ],
         "type": "scatter",
         "x": [
          46.79513238281494
         ],
         "y": [
          46.79513238281494
         ]
        },
        {
         "marker": {
          "size": [
           54.614948103539966
          ]
         },
         "mode": "markers",
         "name": "EMILIA-ROMAGNA",
         "text": [
          "costo territorio"
         ],
         "type": "scatter",
         "x": [
          54.614948103539966
         ],
         "y": [
          54.614948103539966
         ]
        },
        {
         "marker": {
          "size": [
           65.46028070979304
          ]
         },
         "mode": "markers",
         "name": "LAZIO",
         "text": [
          "costo territorio"
         ],
         "type": "scatter",
         "x": [
          65.46028070979304
         ],
         "y": [
          65.46028070979304
         ]
        },
        {
         "marker": {
          "size": [
           70.05885114295172
          ]
         },
         "mode": "markers",
         "name": "LIGURIA",
         "text": [
          "costo territorio"
         ],
         "type": "scatter",
         "x": [
          70.05885114295172
         ],
         "y": [
          70.05885114295172
         ]
        },
        {
         "marker": {
          "size": [
           39.501300389791325
          ]
         },
         "mode": "markers",
         "name": "LOMBARDIA",
         "text": [
          "costo territorio"
         ],
         "type": "scatter",
         "x": [
          39.501300389791325
         ],
         "y": [
          39.501300389791325
         ]
        },
        {
         "marker": {
          "size": [
           41.831939061738886
          ]
         },
         "mode": "markers",
         "name": "MARCHE",
         "text": [
          "costo territorio"
         ],
         "type": "scatter",
         "x": [
          41.831939061738886
         ],
         "y": [
          41.831939061738886
         ]
        },
        {
         "marker": {
          "size": [
           60.01324237464911
          ]
         },
         "mode": "markers",
         "name": "MOLISE",
         "text": [
          "costo territorio"
         ],
         "type": "scatter",
         "x": [
          60.01324237464911
         ],
         "y": [
          60.01324237464911
         ]
        },
        {
         "marker": {
          "size": [
           36.47244786361449
          ]
         },
         "mode": "markers",
         "name": "PIEMONTE",
         "text": [
          "costo territorio"
         ],
         "type": "scatter",
         "x": [
          36.47244786361449
         ],
         "y": [
          36.47244786361449
         ]
        },
        {
         "marker": {
          "size": [
           41.06654846944279
          ]
         },
         "mode": "markers",
         "name": "PUGLIA",
         "text": [
          "costo territorio"
         ],
         "type": "scatter",
         "x": [
          41.06654846944279
         ],
         "y": [
          41.06654846944279
         ]
        },
        {
         "marker": {
          "size": [
           62.86744399133351
          ]
         },
         "mode": "markers",
         "name": "TOSCANA",
         "text": [
          "costo territorio"
         ],
         "type": "scatter",
         "x": [
          62.86744399133351
         ],
         "y": [
          62.86744399133351
         ]
        },
        {
         "marker": {
          "size": [
           57.46100208099509
          ]
         },
         "mode": "markers",
         "name": "UMBRIA",
         "text": [
          "costo territorio"
         ],
         "type": "scatter",
         "x": [
          57.46100208099509
         ],
         "y": [
          57.46100208099509
         ]
        },
        {
         "marker": {
          "size": [
           39.666358500250226
          ]
         },
         "mode": "markers",
         "name": "VENETO",
         "text": [
          "costo territorio"
         ],
         "type": "scatter",
         "x": [
          39.666358500250226
         ],
         "y": [
          39.666358500250226
         ]
        }
       ],
       "layout": {
        "title": "Costo Territorio"
       }
      },
      "text/html": [
       "<div id=\"d5b30c05-f2fa-4e14-bc05-4a3152e57bf9\" style=\"height: 525px; width: 100%;\" class=\"plotly-graph-div\"></div><script type=\"text/javascript\">require([\"plotly\"], function(Plotly) { window.PLOTLYENV=window.PLOTLYENV || {};window.PLOTLYENV.BASE_URL=\"https://plot.ly\";Plotly.newPlot(\"d5b30c05-f2fa-4e14-bc05-4a3152e57bf9\", [{\"type\": \"scatter\", \"x\": [64.82616387715692], \"y\": [64.82616387715692], \"text\": [\"costo territorio\"], \"mode\": \"markers\", \"marker\": {\"size\": [64.82616387715692]}, \"name\": \"ABRUZZO\"}, {\"type\": \"scatter\", \"x\": [54.464883747878254], \"y\": [54.464883747878254], \"text\": [\"costo territorio\"], \"mode\": \"markers\", \"marker\": {\"size\": [54.464883747878254]}, \"name\": \"BASILICATA\"}, {\"type\": \"scatter\", \"x\": [55.98294705561386], \"y\": [55.98294705561386], \"text\": [\"costo territorio\"], \"mode\": \"markers\", \"marker\": {\"size\": [55.98294705561386]}, \"name\": \"CALABRIA\"}, {\"type\": \"scatter\", \"x\": [46.79513238281494], \"y\": [46.79513238281494], \"text\": [\"costo territorio\"], \"mode\": \"markers\", \"marker\": {\"size\": [46.79513238281494]}, \"name\": \"CAMPANIA\"}, {\"type\": \"scatter\", \"x\": [54.614948103539966], \"y\": [54.614948103539966], \"text\": [\"costo territorio\"], \"mode\": \"markers\", \"marker\": {\"size\": [54.614948103539966]}, \"name\": \"EMILIA-ROMAGNA\"}, {\"type\": \"scatter\", \"x\": [65.46028070979304], \"y\": [65.46028070979304], \"text\": [\"costo territorio\"], \"mode\": \"markers\", \"marker\": {\"size\": [65.46028070979304]}, \"name\": \"LAZIO\"}, {\"type\": \"scatter\", \"x\": [70.05885114295172], \"y\": [70.05885114295172], \"text\": [\"costo territorio\"], \"mode\": \"markers\", \"marker\": {\"size\": [70.05885114295172]}, \"name\": \"LIGURIA\"}, {\"type\": \"scatter\", \"x\": [39.501300389791325], \"y\": [39.501300389791325], \"text\": [\"costo territorio\"], \"mode\": \"markers\", \"marker\": {\"size\": [39.501300389791325]}, \"name\": \"LOMBARDIA\"}, {\"type\": \"scatter\", \"x\": [41.831939061738886], \"y\": [41.831939061738886], \"text\": [\"costo territorio\"], \"mode\": \"markers\", \"marker\": {\"size\": [41.831939061738886]}, \"name\": \"MARCHE\"}, {\"type\": \"scatter\", \"x\": [60.01324237464911], \"y\": [60.01324237464911], \"text\": [\"costo territorio\"], \"mode\": \"markers\", \"marker\": {\"size\": [60.01324237464911]}, \"name\": \"MOLISE\"}, {\"type\": \"scatter\", \"x\": [36.47244786361449], \"y\": [36.47244786361449], \"text\": [\"costo territorio\"], \"mode\": \"markers\", \"marker\": {\"size\": [36.47244786361449]}, \"name\": \"PIEMONTE\"}, {\"type\": \"scatter\", \"x\": [41.06654846944279], \"y\": [41.06654846944279], \"text\": [\"costo territorio\"], \"mode\": \"markers\", \"marker\": {\"size\": [41.06654846944279]}, \"name\": \"PUGLIA\"}, {\"type\": \"scatter\", \"x\": [62.86744399133351], \"y\": [62.86744399133351], \"text\": [\"costo territorio\"], \"mode\": \"markers\", \"marker\": {\"size\": [62.86744399133351]}, \"name\": \"TOSCANA\"}, {\"type\": \"scatter\", \"x\": [57.46100208099509], \"y\": [57.46100208099509], \"text\": [\"costo territorio\"], \"mode\": \"markers\", \"marker\": {\"size\": [57.46100208099509]}, \"name\": \"UMBRIA\"}, {\"type\": \"scatter\", \"x\": [39.666358500250226], \"y\": [39.666358500250226], \"text\": [\"costo territorio\"], \"mode\": \"markers\", \"marker\": {\"size\": [39.666358500250226]}, \"name\": \"VENETO\"}], {\"title\": \"Costo Territorio\"}, {\"showLink\": true, \"linkText\": \"Export to plot.ly\"})});</script>"
      ],
      "text/vnd.plotly.v1+html": [
       "<div id=\"d5b30c05-f2fa-4e14-bc05-4a3152e57bf9\" style=\"height: 525px; width: 100%;\" class=\"plotly-graph-div\"></div><script type=\"text/javascript\">require([\"plotly\"], function(Plotly) { window.PLOTLYENV=window.PLOTLYENV || {};window.PLOTLYENV.BASE_URL=\"https://plot.ly\";Plotly.newPlot(\"d5b30c05-f2fa-4e14-bc05-4a3152e57bf9\", [{\"type\": \"scatter\", \"x\": [64.82616387715692], \"y\": [64.82616387715692], \"text\": [\"costo territorio\"], \"mode\": \"markers\", \"marker\": {\"size\": [64.82616387715692]}, \"name\": \"ABRUZZO\"}, {\"type\": \"scatter\", \"x\": [54.464883747878254], \"y\": [54.464883747878254], \"text\": [\"costo territorio\"], \"mode\": \"markers\", \"marker\": {\"size\": [54.464883747878254]}, \"name\": \"BASILICATA\"}, {\"type\": \"scatter\", \"x\": [55.98294705561386], \"y\": [55.98294705561386], \"text\": [\"costo territorio\"], \"mode\": \"markers\", \"marker\": {\"size\": [55.98294705561386]}, \"name\": \"CALABRIA\"}, {\"type\": \"scatter\", \"x\": [46.79513238281494], \"y\": [46.79513238281494], \"text\": [\"costo territorio\"], \"mode\": \"markers\", \"marker\": {\"size\": [46.79513238281494]}, \"name\": \"CAMPANIA\"}, {\"type\": \"scatter\", \"x\": [54.614948103539966], \"y\": [54.614948103539966], \"text\": [\"costo territorio\"], \"mode\": \"markers\", \"marker\": {\"size\": [54.614948103539966]}, \"name\": \"EMILIA-ROMAGNA\"}, {\"type\": \"scatter\", \"x\": [65.46028070979304], \"y\": [65.46028070979304], \"text\": [\"costo territorio\"], \"mode\": \"markers\", \"marker\": {\"size\": [65.46028070979304]}, \"name\": \"LAZIO\"}, {\"type\": \"scatter\", \"x\": [70.05885114295172], \"y\": [70.05885114295172], \"text\": [\"costo territorio\"], \"mode\": \"markers\", \"marker\": {\"size\": [70.05885114295172]}, \"name\": \"LIGURIA\"}, {\"type\": \"scatter\", \"x\": [39.501300389791325], \"y\": [39.501300389791325], \"text\": [\"costo territorio\"], \"mode\": \"markers\", \"marker\": {\"size\": [39.501300389791325]}, \"name\": \"LOMBARDIA\"}, {\"type\": \"scatter\", \"x\": [41.831939061738886], \"y\": [41.831939061738886], \"text\": [\"costo territorio\"], \"mode\": \"markers\", \"marker\": {\"size\": [41.831939061738886]}, \"name\": \"MARCHE\"}, {\"type\": \"scatter\", \"x\": [60.01324237464911], \"y\": [60.01324237464911], \"text\": [\"costo territorio\"], \"mode\": \"markers\", \"marker\": {\"size\": [60.01324237464911]}, \"name\": \"MOLISE\"}, {\"type\": \"scatter\", \"x\": [36.47244786361449], \"y\": [36.47244786361449], \"text\": [\"costo territorio\"], \"mode\": \"markers\", \"marker\": {\"size\": [36.47244786361449]}, \"name\": \"PIEMONTE\"}, {\"type\": \"scatter\", \"x\": [41.06654846944279], \"y\": [41.06654846944279], \"text\": [\"costo territorio\"], \"mode\": \"markers\", \"marker\": {\"size\": [41.06654846944279]}, \"name\": \"PUGLIA\"}, {\"type\": \"scatter\", \"x\": [62.86744399133351], \"y\": [62.86744399133351], \"text\": [\"costo territorio\"], \"mode\": \"markers\", \"marker\": {\"size\": [62.86744399133351]}, \"name\": \"TOSCANA\"}, {\"type\": \"scatter\", \"x\": [57.46100208099509], \"y\": [57.46100208099509], \"text\": [\"costo territorio\"], \"mode\": \"markers\", \"marker\": {\"size\": [57.46100208099509]}, \"name\": \"UMBRIA\"}, {\"type\": \"scatter\", \"x\": [39.666358500250226], \"y\": [39.666358500250226], \"text\": [\"costo territorio\"], \"mode\": \"markers\", \"marker\": {\"size\": [39.666358500250226]}, \"name\": \"VENETO\"}], {\"title\": \"Costo Territorio\"}, {\"showLink\": true, \"linkText\": \"Export to plot.ly\"})});</script>"
      ]
     },
     "metadata": {},
     "output_type": "display_data"
    },
    {
     "data": {
      "application/vnd.plotly.v1+json": {
       "data": [
        {
         "marker": {
          "size": [
           289.98858547753616
          ]
         },
         "mode": "markers",
         "name": "ABRUZZO",
         "text": [
          "costo ambiente"
         ],
         "type": "scatter",
         "x": [
          289.98858547753616
         ],
         "y": [
          289.98858547753616
         ]
        },
        {
         "marker": {
          "size": [
           201.3722929933232
          ]
         },
         "mode": "markers",
         "name": "BASILICATA",
         "text": [
          "costo ambiente"
         ],
         "type": "scatter",
         "x": [
          201.3722929933232
         ],
         "y": [
          201.3722929933232
         ]
        },
        {
         "marker": {
          "size": [
           209.2016203234903
          ]
         },
         "mode": "markers",
         "name": "CALABRIA",
         "text": [
          "costo ambiente"
         ],
         "type": "scatter",
         "x": [
          209.2016203234903
         ],
         "y": [
          209.2016203234903
         ]
        },
        {
         "marker": {
          "size": [
           342.83172683177287
          ]
         },
         "mode": "markers",
         "name": "CAMPANIA",
         "text": [
          "costo ambiente"
         ],
         "type": "scatter",
         "x": [
          342.83172683177287
         ],
         "y": [
          342.83172683177287
         ]
        },
        {
         "marker": {
          "size": [
           202.36940539757188
          ]
         },
         "mode": "markers",
         "name": "EMILIA-ROMAGNA",
         "text": [
          "costo ambiente"
         ],
         "type": "scatter",
         "x": [
          202.36940539757188
         ],
         "y": [
          202.36940539757188
         ]
        },
        {
         "marker": {
          "size": [
           330.9748414907243
          ]
         },
         "mode": "markers",
         "name": "LAZIO",
         "text": [
          "costo ambiente"
         ],
         "type": "scatter",
         "x": [
          330.9748414907243
         ],
         "y": [
          330.9748414907243
         ]
        },
        {
         "marker": {
          "size": [
           266.15253931752096
          ]
         },
         "mode": "markers",
         "name": "LIGURIA",
         "text": [
          "costo ambiente"
         ],
         "type": "scatter",
         "x": [
          266.15253931752096
         ],
         "y": [
          266.15253931752096
         ]
        },
        {
         "marker": {
          "size": [
           181.19580377264833
          ]
         },
         "mode": "markers",
         "name": "LOMBARDIA",
         "text": [
          "costo ambiente"
         ],
         "type": "scatter",
         "x": [
          181.19580377264833
         ],
         "y": [
          181.19580377264833
         ]
        },
        {
         "marker": {
          "size": [
           193.69428699196033
          ]
         },
         "mode": "markers",
         "name": "MARCHE",
         "text": [
          "costo ambiente"
         ],
         "type": "scatter",
         "x": [
          193.69428699196033
         ],
         "y": [
          193.69428699196033
         ]
        },
        {
         "marker": {
          "size": [
           155.18688928051967
          ]
         },
         "mode": "markers",
         "name": "MOLISE",
         "text": [
          "costo ambiente"
         ],
         "type": "scatter",
         "x": [
          155.18688928051967
         ],
         "y": [
          155.18688928051967
         ]
        },
        {
         "marker": {
          "size": [
           213.15463627299806
          ]
         },
         "mode": "markers",
         "name": "PIEMONTE",
         "text": [
          "costo ambiente"
         ],
         "type": "scatter",
         "x": [
          213.15463627299806
         ],
         "y": [
          213.15463627299806
         ]
        },
        {
         "marker": {
          "size": [
           251.1802897946709
          ]
         },
         "mode": "markers",
         "name": "PUGLIA",
         "text": [
          "costo ambiente"
         ],
         "type": "scatter",
         "x": [
          251.1802897946709
         ],
         "y": [
          251.1802897946709
         ]
        },
        {
         "marker": {
          "size": [
           263.93566157677594
          ]
         },
         "mode": "markers",
         "name": "TOSCANA",
         "text": [
          "costo ambiente"
         ],
         "type": "scatter",
         "x": [
          263.93566157677594
         ],
         "y": [
          263.93566157677594
         ]
        },
        {
         "marker": {
          "size": [
           238.89989557834554
          ]
         },
         "mode": "markers",
         "name": "UMBRIA",
         "text": [
          "costo ambiente"
         ],
         "type": "scatter",
         "x": [
          238.89989557834554
         ],
         "y": [
          238.89989557834554
         ]
        },
        {
         "marker": {
          "size": [
           184.90564149852537
          ]
         },
         "mode": "markers",
         "name": "VENETO",
         "text": [
          "costo ambiente"
         ],
         "type": "scatter",
         "x": [
          184.90564149852537
         ],
         "y": [
          184.90564149852537
         ]
        }
       ],
       "layout": {
        "title": "Costo Ambiente"
       }
      },
      "text/html": [
       "<div id=\"8026aa75-341f-47fc-b1b7-dec5436a9c10\" style=\"height: 525px; width: 100%;\" class=\"plotly-graph-div\"></div><script type=\"text/javascript\">require([\"plotly\"], function(Plotly) { window.PLOTLYENV=window.PLOTLYENV || {};window.PLOTLYENV.BASE_URL=\"https://plot.ly\";Plotly.newPlot(\"8026aa75-341f-47fc-b1b7-dec5436a9c10\", [{\"type\": \"scatter\", \"x\": [289.98858547753616], \"y\": [289.98858547753616], \"text\": [\"costo ambiente\"], \"mode\": \"markers\", \"marker\": {\"size\": [289.98858547753616]}, \"name\": \"ABRUZZO\"}, {\"type\": \"scatter\", \"x\": [201.3722929933232], \"y\": [201.3722929933232], \"text\": [\"costo ambiente\"], \"mode\": \"markers\", \"marker\": {\"size\": [201.3722929933232]}, \"name\": \"BASILICATA\"}, {\"type\": \"scatter\", \"x\": [209.2016203234903], \"y\": [209.2016203234903], \"text\": [\"costo ambiente\"], \"mode\": \"markers\", \"marker\": {\"size\": [209.2016203234903]}, \"name\": \"CALABRIA\"}, {\"type\": \"scatter\", \"x\": [342.83172683177287], \"y\": [342.83172683177287], \"text\": [\"costo ambiente\"], \"mode\": \"markers\", \"marker\": {\"size\": [342.83172683177287]}, \"name\": \"CAMPANIA\"}, {\"type\": \"scatter\", \"x\": [202.36940539757188], \"y\": [202.36940539757188], \"text\": [\"costo ambiente\"], \"mode\": \"markers\", \"marker\": {\"size\": [202.36940539757188]}, \"name\": \"EMILIA-ROMAGNA\"}, {\"type\": \"scatter\", \"x\": [330.9748414907243], \"y\": [330.9748414907243], \"text\": [\"costo ambiente\"], \"mode\": \"markers\", \"marker\": {\"size\": [330.9748414907243]}, \"name\": \"LAZIO\"}, {\"type\": \"scatter\", \"x\": [266.15253931752096], \"y\": [266.15253931752096], \"text\": [\"costo ambiente\"], \"mode\": \"markers\", \"marker\": {\"size\": [266.15253931752096]}, \"name\": \"LIGURIA\"}, {\"type\": \"scatter\", \"x\": [181.19580377264833], \"y\": [181.19580377264833], \"text\": [\"costo ambiente\"], \"mode\": \"markers\", \"marker\": {\"size\": [181.19580377264833]}, \"name\": \"LOMBARDIA\"}, {\"type\": \"scatter\", \"x\": [193.69428699196033], \"y\": [193.69428699196033], \"text\": [\"costo ambiente\"], \"mode\": \"markers\", \"marker\": {\"size\": [193.69428699196033]}, \"name\": \"MARCHE\"}, {\"type\": \"scatter\", \"x\": [155.18688928051967], \"y\": [155.18688928051967], \"text\": [\"costo ambiente\"], \"mode\": \"markers\", \"marker\": {\"size\": [155.18688928051967]}, \"name\": \"MOLISE\"}, {\"type\": \"scatter\", \"x\": [213.15463627299806], \"y\": [213.15463627299806], \"text\": [\"costo ambiente\"], \"mode\": \"markers\", \"marker\": {\"size\": [213.15463627299806]}, \"name\": \"PIEMONTE\"}, {\"type\": \"scatter\", \"x\": [251.1802897946709], \"y\": [251.1802897946709], \"text\": [\"costo ambiente\"], \"mode\": \"markers\", \"marker\": {\"size\": [251.1802897946709]}, \"name\": \"PUGLIA\"}, {\"type\": \"scatter\", \"x\": [263.93566157677594], \"y\": [263.93566157677594], \"text\": [\"costo ambiente\"], \"mode\": \"markers\", \"marker\": {\"size\": [263.93566157677594]}, \"name\": \"TOSCANA\"}, {\"type\": \"scatter\", \"x\": [238.89989557834554], \"y\": [238.89989557834554], \"text\": [\"costo ambiente\"], \"mode\": \"markers\", \"marker\": {\"size\": [238.89989557834554]}, \"name\": \"UMBRIA\"}, {\"type\": \"scatter\", \"x\": [184.90564149852537], \"y\": [184.90564149852537], \"text\": [\"costo ambiente\"], \"mode\": \"markers\", \"marker\": {\"size\": [184.90564149852537]}, \"name\": \"VENETO\"}], {\"title\": \"Costo Ambiente\"}, {\"showLink\": true, \"linkText\": \"Export to plot.ly\"})});</script>"
      ],
      "text/vnd.plotly.v1+html": [
       "<div id=\"8026aa75-341f-47fc-b1b7-dec5436a9c10\" style=\"height: 525px; width: 100%;\" class=\"plotly-graph-div\"></div><script type=\"text/javascript\">require([\"plotly\"], function(Plotly) { window.PLOTLYENV=window.PLOTLYENV || {};window.PLOTLYENV.BASE_URL=\"https://plot.ly\";Plotly.newPlot(\"8026aa75-341f-47fc-b1b7-dec5436a9c10\", [{\"type\": \"scatter\", \"x\": [289.98858547753616], \"y\": [289.98858547753616], \"text\": [\"costo ambiente\"], \"mode\": \"markers\", \"marker\": {\"size\": [289.98858547753616]}, \"name\": \"ABRUZZO\"}, {\"type\": \"scatter\", \"x\": [201.3722929933232], \"y\": [201.3722929933232], \"text\": [\"costo ambiente\"], \"mode\": \"markers\", \"marker\": {\"size\": [201.3722929933232]}, \"name\": \"BASILICATA\"}, {\"type\": \"scatter\", \"x\": [209.2016203234903], \"y\": [209.2016203234903], \"text\": [\"costo ambiente\"], \"mode\": \"markers\", \"marker\": {\"size\": [209.2016203234903]}, \"name\": \"CALABRIA\"}, {\"type\": \"scatter\", \"x\": [342.83172683177287], \"y\": [342.83172683177287], \"text\": [\"costo ambiente\"], \"mode\": \"markers\", \"marker\": {\"size\": [342.83172683177287]}, \"name\": \"CAMPANIA\"}, {\"type\": \"scatter\", \"x\": [202.36940539757188], \"y\": [202.36940539757188], \"text\": [\"costo ambiente\"], \"mode\": \"markers\", \"marker\": {\"size\": [202.36940539757188]}, \"name\": \"EMILIA-ROMAGNA\"}, {\"type\": \"scatter\", \"x\": [330.9748414907243], \"y\": [330.9748414907243], \"text\": [\"costo ambiente\"], \"mode\": \"markers\", \"marker\": {\"size\": [330.9748414907243]}, \"name\": \"LAZIO\"}, {\"type\": \"scatter\", \"x\": [266.15253931752096], \"y\": [266.15253931752096], \"text\": [\"costo ambiente\"], \"mode\": \"markers\", \"marker\": {\"size\": [266.15253931752096]}, \"name\": \"LIGURIA\"}, {\"type\": \"scatter\", \"x\": [181.19580377264833], \"y\": [181.19580377264833], \"text\": [\"costo ambiente\"], \"mode\": \"markers\", \"marker\": {\"size\": [181.19580377264833]}, \"name\": \"LOMBARDIA\"}, {\"type\": \"scatter\", \"x\": [193.69428699196033], \"y\": [193.69428699196033], \"text\": [\"costo ambiente\"], \"mode\": \"markers\", \"marker\": {\"size\": [193.69428699196033]}, \"name\": \"MARCHE\"}, {\"type\": \"scatter\", \"x\": [155.18688928051967], \"y\": [155.18688928051967], \"text\": [\"costo ambiente\"], \"mode\": \"markers\", \"marker\": {\"size\": [155.18688928051967]}, \"name\": \"MOLISE\"}, {\"type\": \"scatter\", \"x\": [213.15463627299806], \"y\": [213.15463627299806], \"text\": [\"costo ambiente\"], \"mode\": \"markers\", \"marker\": {\"size\": [213.15463627299806]}, \"name\": \"PIEMONTE\"}, {\"type\": \"scatter\", \"x\": [251.1802897946709], \"y\": [251.1802897946709], \"text\": [\"costo ambiente\"], \"mode\": \"markers\", \"marker\": {\"size\": [251.1802897946709]}, \"name\": \"PUGLIA\"}, {\"type\": \"scatter\", \"x\": [263.93566157677594], \"y\": [263.93566157677594], \"text\": [\"costo ambiente\"], \"mode\": \"markers\", \"marker\": {\"size\": [263.93566157677594]}, \"name\": \"TOSCANA\"}, {\"type\": \"scatter\", \"x\": [238.89989557834554], \"y\": [238.89989557834554], \"text\": [\"costo ambiente\"], \"mode\": \"markers\", \"marker\": {\"size\": [238.89989557834554]}, \"name\": \"UMBRIA\"}, {\"type\": \"scatter\", \"x\": [184.90564149852537], \"y\": [184.90564149852537], \"text\": [\"costo ambiente\"], \"mode\": \"markers\", \"marker\": {\"size\": [184.90564149852537]}, \"name\": \"VENETO\"}], {\"title\": \"Costo Ambiente\"}, {\"showLink\": true, \"linkText\": \"Export to plot.ly\"})});</script>"
      ]
     },
     "metadata": {},
     "output_type": "display_data"
    },
    {
     "data": {
      "application/vnd.plotly.v1+json": {
       "data": [
        {
         "marker": {
          "size": [
           188.46917561010144
          ]
         },
         "mode": "markers",
         "name": "ABRUZZO",
         "text": [
          "costo sociale"
         ],
         "type": "scatter",
         "x": [
          188.46917561010144
         ],
         "y": [
          188.46917561010144
         ]
        },
        {
         "marker": {
          "size": [
           120.61413679767271
          ]
         },
         "mode": "markers",
         "name": "BASILICATA",
         "text": [
          "costo sociale"
         ],
         "type": "scatter",
         "x": [
          120.61413679767271
         ],
         "y": [
          120.61413679767271
         ]
        },
        {
         "marker": {
          "size": [
           77.07292791946382
          ]
         },
         "mode": "markers",
         "name": "CALABRIA",
         "text": [
          "costo sociale"
         ],
         "type": "scatter",
         "x": [
          77.07292791946382
         ],
         "y": [
          77.07292791946382
         ]
        },
        {
         "marker": {
          "size": [
           107.04162725532487
          ]
         },
         "mode": "markers",
         "name": "CAMPANIA",
         "text": [
          "costo sociale"
         ],
         "type": "scatter",
         "x": [
          107.04162725532487
         ],
         "y": [
          107.04162725532487
         ]
        },
        {
         "marker": {
          "size": [
           155.96198617554057
          ]
         },
         "mode": "markers",
         "name": "EMILIA-ROMAGNA",
         "text": [
          "costo sociale"
         ],
         "type": "scatter",
         "x": [
          155.96198617554057
         ],
         "y": [
          155.96198617554057
         ]
        },
        {
         "marker": {
          "size": [
           171.79623772520216
          ]
         },
         "mode": "markers",
         "name": "LAZIO",
         "text": [
          "costo sociale"
         ],
         "type": "scatter",
         "x": [
          171.79623772520216
         ],
         "y": [
          171.79623772520216
         ]
        },
        {
         "marker": {
          "size": [
           127.04049530205582
          ]
         },
         "mode": "markers",
         "name": "LIGURIA",
         "text": [
          "costo sociale"
         ],
         "type": "scatter",
         "x": [
          127.04049530205582
         ],
         "y": [
          127.04049530205582
         ]
        },
        {
         "marker": {
          "size": [
           146.9892174611636
          ]
         },
         "mode": "markers",
         "name": "LOMBARDIA",
         "text": [
          "costo sociale"
         ],
         "type": "scatter",
         "x": [
          146.9892174611636
         ],
         "y": [
          146.9892174611636
         ]
        },
        {
         "marker": {
          "size": [
           129.48922993341625
          ]
         },
         "mode": "markers",
         "name": "MARCHE",
         "text": [
          "costo sociale"
         ],
         "type": "scatter",
         "x": [
          129.48922993341625
         ],
         "y": [
          129.48922993341625
         ]
        },
        {
         "marker": {
          "size": [
           80.91453131004386
          ]
         },
         "mode": "markers",
         "name": "MOLISE",
         "text": [
          "costo sociale"
         ],
         "type": "scatter",
         "x": [
          80.91453131004386
         ],
         "y": [
          80.91453131004386
         ]
        },
        {
         "marker": {
          "size": [
           128.64175489292637
          ]
         },
         "mode": "markers",
         "name": "PIEMONTE",
         "text": [
          "costo sociale"
         ],
         "type": "scatter",
         "x": [
          128.64175489292637
         ],
         "y": [
          128.64175489292637
         ]
        },
        {
         "marker": {
          "size": [
           130.2680031494337
          ]
         },
         "mode": "markers",
         "name": "PUGLIA",
         "text": [
          "costo sociale"
         ],
         "type": "scatter",
         "x": [
          130.2680031494337
         ],
         "y": [
          130.2680031494337
         ]
        },
        {
         "marker": {
          "size": [
           133.73551920982976
          ]
         },
         "mode": "markers",
         "name": "TOSCANA",
         "text": [
          "costo sociale"
         ],
         "type": "scatter",
         "x": [
          133.73551920982976
         ],
         "y": [
          133.73551920982976
         ]
        },
        {
         "marker": {
          "size": [
           103.70321739425059
          ]
         },
         "mode": "markers",
         "name": "UMBRIA",
         "text": [
          "costo sociale"
         ],
         "type": "scatter",
         "x": [
          103.70321739425059
         ],
         "y": [
          103.70321739425059
         ]
        },
        {
         "marker": {
          "size": [
           126.97412323134162
          ]
         },
         "mode": "markers",
         "name": "VENETO",
         "text": [
          "costo sociale"
         ],
         "type": "scatter",
         "x": [
          126.97412323134162
         ],
         "y": [
          126.97412323134162
         ]
        }
       ],
       "layout": {
        "title": "Costo Sociale"
       }
      },
      "text/html": [
       "<div id=\"8923b49c-4826-4179-9ecb-1c006ff8dc90\" style=\"height: 525px; width: 100%;\" class=\"plotly-graph-div\"></div><script type=\"text/javascript\">require([\"plotly\"], function(Plotly) { window.PLOTLYENV=window.PLOTLYENV || {};window.PLOTLYENV.BASE_URL=\"https://plot.ly\";Plotly.newPlot(\"8923b49c-4826-4179-9ecb-1c006ff8dc90\", [{\"type\": \"scatter\", \"x\": [188.46917561010144], \"y\": [188.46917561010144], \"text\": [\"costo sociale\"], \"mode\": \"markers\", \"marker\": {\"size\": [188.46917561010144]}, \"name\": \"ABRUZZO\"}, {\"type\": \"scatter\", \"x\": [120.61413679767271], \"y\": [120.61413679767271], \"text\": [\"costo sociale\"], \"mode\": \"markers\", \"marker\": {\"size\": [120.61413679767271]}, \"name\": \"BASILICATA\"}, {\"type\": \"scatter\", \"x\": [77.07292791946382], \"y\": [77.07292791946382], \"text\": [\"costo sociale\"], \"mode\": \"markers\", \"marker\": {\"size\": [77.07292791946382]}, \"name\": \"CALABRIA\"}, {\"type\": \"scatter\", \"x\": [107.04162725532487], \"y\": [107.04162725532487], \"text\": [\"costo sociale\"], \"mode\": \"markers\", \"marker\": {\"size\": [107.04162725532487]}, \"name\": \"CAMPANIA\"}, {\"type\": \"scatter\", \"x\": [155.96198617554057], \"y\": [155.96198617554057], \"text\": [\"costo sociale\"], \"mode\": \"markers\", \"marker\": {\"size\": [155.96198617554057]}, \"name\": \"EMILIA-ROMAGNA\"}, {\"type\": \"scatter\", \"x\": [171.79623772520216], \"y\": [171.79623772520216], \"text\": [\"costo sociale\"], \"mode\": \"markers\", \"marker\": {\"size\": [171.79623772520216]}, \"name\": \"LAZIO\"}, {\"type\": \"scatter\", \"x\": [127.04049530205582], \"y\": [127.04049530205582], \"text\": [\"costo sociale\"], \"mode\": \"markers\", \"marker\": {\"size\": [127.04049530205582]}, \"name\": \"LIGURIA\"}, {\"type\": \"scatter\", \"x\": [146.9892174611636], \"y\": [146.9892174611636], \"text\": [\"costo sociale\"], \"mode\": \"markers\", \"marker\": {\"size\": [146.9892174611636]}, \"name\": \"LOMBARDIA\"}, {\"type\": \"scatter\", \"x\": [129.48922993341625], \"y\": [129.48922993341625], \"text\": [\"costo sociale\"], \"mode\": \"markers\", \"marker\": {\"size\": [129.48922993341625]}, \"name\": \"MARCHE\"}, {\"type\": \"scatter\", \"x\": [80.91453131004386], \"y\": [80.91453131004386], \"text\": [\"costo sociale\"], \"mode\": \"markers\", \"marker\": {\"size\": [80.91453131004386]}, \"name\": \"MOLISE\"}, {\"type\": \"scatter\", \"x\": [128.64175489292637], \"y\": [128.64175489292637], \"text\": [\"costo sociale\"], \"mode\": \"markers\", \"marker\": {\"size\": [128.64175489292637]}, \"name\": \"PIEMONTE\"}, {\"type\": \"scatter\", \"x\": [130.2680031494337], \"y\": [130.2680031494337], \"text\": [\"costo sociale\"], \"mode\": \"markers\", \"marker\": {\"size\": [130.2680031494337]}, \"name\": \"PUGLIA\"}, {\"type\": \"scatter\", \"x\": [133.73551920982976], \"y\": [133.73551920982976], \"text\": [\"costo sociale\"], \"mode\": \"markers\", \"marker\": {\"size\": [133.73551920982976]}, \"name\": \"TOSCANA\"}, {\"type\": \"scatter\", \"x\": [103.70321739425059], \"y\": [103.70321739425059], \"text\": [\"costo sociale\"], \"mode\": \"markers\", \"marker\": {\"size\": [103.70321739425059]}, \"name\": \"UMBRIA\"}, {\"type\": \"scatter\", \"x\": [126.97412323134162], \"y\": [126.97412323134162], \"text\": [\"costo sociale\"], \"mode\": \"markers\", \"marker\": {\"size\": [126.97412323134162]}, \"name\": \"VENETO\"}], {\"title\": \"Costo Sociale\"}, {\"showLink\": true, \"linkText\": \"Export to plot.ly\"})});</script>"
      ],
      "text/vnd.plotly.v1+html": [
       "<div id=\"8923b49c-4826-4179-9ecb-1c006ff8dc90\" style=\"height: 525px; width: 100%;\" class=\"plotly-graph-div\"></div><script type=\"text/javascript\">require([\"plotly\"], function(Plotly) { window.PLOTLYENV=window.PLOTLYENV || {};window.PLOTLYENV.BASE_URL=\"https://plot.ly\";Plotly.newPlot(\"8923b49c-4826-4179-9ecb-1c006ff8dc90\", [{\"type\": \"scatter\", \"x\": [188.46917561010144], \"y\": [188.46917561010144], \"text\": [\"costo sociale\"], \"mode\": \"markers\", \"marker\": {\"size\": [188.46917561010144]}, \"name\": \"ABRUZZO\"}, {\"type\": \"scatter\", \"x\": [120.61413679767271], \"y\": [120.61413679767271], \"text\": [\"costo sociale\"], \"mode\": \"markers\", \"marker\": {\"size\": [120.61413679767271]}, \"name\": \"BASILICATA\"}, {\"type\": \"scatter\", \"x\": [77.07292791946382], \"y\": [77.07292791946382], \"text\": [\"costo sociale\"], \"mode\": \"markers\", \"marker\": {\"size\": [77.07292791946382]}, \"name\": \"CALABRIA\"}, {\"type\": \"scatter\", \"x\": [107.04162725532487], \"y\": [107.04162725532487], \"text\": [\"costo sociale\"], \"mode\": \"markers\", \"marker\": {\"size\": [107.04162725532487]}, \"name\": \"CAMPANIA\"}, {\"type\": \"scatter\", \"x\": [155.96198617554057], \"y\": [155.96198617554057], \"text\": [\"costo sociale\"], \"mode\": \"markers\", \"marker\": {\"size\": [155.96198617554057]}, \"name\": \"EMILIA-ROMAGNA\"}, {\"type\": \"scatter\", \"x\": [171.79623772520216], \"y\": [171.79623772520216], \"text\": [\"costo sociale\"], \"mode\": \"markers\", \"marker\": {\"size\": [171.79623772520216]}, \"name\": \"LAZIO\"}, {\"type\": \"scatter\", \"x\": [127.04049530205582], \"y\": [127.04049530205582], \"text\": [\"costo sociale\"], \"mode\": \"markers\", \"marker\": {\"size\": [127.04049530205582]}, \"name\": \"LIGURIA\"}, {\"type\": \"scatter\", \"x\": [146.9892174611636], \"y\": [146.9892174611636], \"text\": [\"costo sociale\"], \"mode\": \"markers\", \"marker\": {\"size\": [146.9892174611636]}, \"name\": \"LOMBARDIA\"}, {\"type\": \"scatter\", \"x\": [129.48922993341625], \"y\": [129.48922993341625], \"text\": [\"costo sociale\"], \"mode\": \"markers\", \"marker\": {\"size\": [129.48922993341625]}, \"name\": \"MARCHE\"}, {\"type\": \"scatter\", \"x\": [80.91453131004386], \"y\": [80.91453131004386], \"text\": [\"costo sociale\"], \"mode\": \"markers\", \"marker\": {\"size\": [80.91453131004386]}, \"name\": \"MOLISE\"}, {\"type\": \"scatter\", \"x\": [128.64175489292637], \"y\": [128.64175489292637], \"text\": [\"costo sociale\"], \"mode\": \"markers\", \"marker\": {\"size\": [128.64175489292637]}, \"name\": \"PIEMONTE\"}, {\"type\": \"scatter\", \"x\": [130.2680031494337], \"y\": [130.2680031494337], \"text\": [\"costo sociale\"], \"mode\": \"markers\", \"marker\": {\"size\": [130.2680031494337]}, \"name\": \"PUGLIA\"}, {\"type\": \"scatter\", \"x\": [133.73551920982976], \"y\": [133.73551920982976], \"text\": [\"costo sociale\"], \"mode\": \"markers\", \"marker\": {\"size\": [133.73551920982976]}, \"name\": \"TOSCANA\"}, {\"type\": \"scatter\", \"x\": [103.70321739425059], \"y\": [103.70321739425059], \"text\": [\"costo sociale\"], \"mode\": \"markers\", \"marker\": {\"size\": [103.70321739425059]}, \"name\": \"UMBRIA\"}, {\"type\": \"scatter\", \"x\": [126.97412323134162], \"y\": [126.97412323134162], \"text\": [\"costo sociale\"], \"mode\": \"markers\", \"marker\": {\"size\": [126.97412323134162]}, \"name\": \"VENETO\"}], {\"title\": \"Costo Sociale\"}, {\"showLink\": true, \"linkText\": \"Export to plot.ly\"})});</script>"
      ]
     },
     "metadata": {},
     "output_type": "display_data"
    },
    {
     "data": {
      "application/vnd.plotly.v1+json": {
       "data": [
        {
         "marker": {
          "size": [
           18.490433027763185
          ]
         },
         "mode": "markers",
         "name": "ABRUZZO",
         "text": [
          "costo asili nido"
         ],
         "type": "scatter",
         "x": [
          18.490433027763185
         ],
         "y": [
          18.490433027763185
         ]
        },
        {
         "marker": {
          "size": [
           12.08391131481865
          ]
         },
         "mode": "markers",
         "name": "BASILICATA",
         "text": [
          "costo asili nido"
         ],
         "type": "scatter",
         "x": [
          12.08391131481865
         ],
         "y": [
          12.08391131481865
         ]
        },
        {
         "marker": {
          "size": [
           2.220012454126878
          ]
         },
         "mode": "markers",
         "name": "CALABRIA",
         "text": [
          "costo asili nido"
         ],
         "type": "scatter",
         "x": [
          2.220012454126878
         ],
         "y": [
          2.220012454126878
         ]
        },
        {
         "marker": {
          "size": [
           19.269097649185994
          ]
         },
         "mode": "markers",
         "name": "CAMPANIA",
         "text": [
          "costo asili nido"
         ],
         "type": "scatter",
         "x": [
          19.269097649185994
         ],
         "y": [
          19.269097649185994
         ]
        },
        {
         "marker": {
          "size": [
           42.856425344603956
          ]
         },
         "mode": "markers",
         "name": "EMILIA-ROMAGNA",
         "text": [
          "costo asili nido"
         ],
         "type": "scatter",
         "x": [
          42.856425344603956
         ],
         "y": [
          42.856425344603956
         ]
        },
        {
         "marker": {
          "size": [
           79.8753034399784
          ]
         },
         "mode": "markers",
         "name": "LAZIO",
         "text": [
          "costo asili nido"
         ],
         "type": "scatter",
         "x": [
          79.8753034399784
         ],
         "y": [
          79.8753034399784
         ]
        },
        {
         "marker": {
          "size": [
           39.359858559624236
          ]
         },
         "mode": "markers",
         "name": "LIGURIA",
         "text": [
          "costo asili nido"
         ],
         "type": "scatter",
         "x": [
          39.359858559624236
         ],
         "y": [
          39.359858559624236
         ]
        },
        {
         "marker": {
          "size": [
           32.46386716094706
          ]
         },
         "mode": "markers",
         "name": "LOMBARDIA",
         "text": [
          "costo asili nido"
         ],
         "type": "scatter",
         "x": [
          32.46386716094706
         ],
         "y": [
          32.46386716094706
         ]
        },
        {
         "marker": {
          "size": [
           25.797289191265076
          ]
         },
         "mode": "markers",
         "name": "MARCHE",
         "text": [
          "costo asili nido"
         ],
         "type": "scatter",
         "x": [
          25.797289191265076
         ],
         "y": [
          25.797289191265076
         ]
        },
        {
         "marker": {
          "size": [
           9.994548036869011
          ]
         },
         "mode": "markers",
         "name": "MOLISE",
         "text": [
          "costo asili nido"
         ],
         "type": "scatter",
         "x": [
          9.994548036869011
         ],
         "y": [
          9.994548036869011
         ]
        },
        {
         "marker": {
          "size": [
           27.36941902670645
          ]
         },
         "mode": "markers",
         "name": "PIEMONTE",
         "text": [
          "costo asili nido"
         ],
         "type": "scatter",
         "x": [
          27.36941902670645
         ],
         "y": [
          27.36941902670645
         ]
        },
        {
         "marker": {
          "size": [
           14.802564640833017
          ]
         },
         "mode": "markers",
         "name": "PUGLIA",
         "text": [
          "costo asili nido"
         ],
         "type": "scatter",
         "x": [
          14.802564640833017
         ],
         "y": [
          14.802564640833017
         ]
        },
        {
         "marker": {
          "size": [
           38.553774434304586
          ]
         },
         "mode": "markers",
         "name": "TOSCANA",
         "text": [
          "costo asili nido"
         ],
         "type": "scatter",
         "x": [
          38.553774434304586
         ],
         "y": [
          38.553774434304586
         ]
        },
        {
         "marker": {
          "size": [
           30.645849077531935
          ]
         },
         "mode": "markers",
         "name": "UMBRIA",
         "text": [
          "costo asili nido"
         ],
         "type": "scatter",
         "x": [
          30.645849077531935
         ],
         "y": [
          30.645849077531935
         ]
        },
        {
         "marker": {
          "size": [
           20.995137598429793
          ]
         },
         "mode": "markers",
         "name": "VENETO",
         "text": [
          "costo asili nido"
         ],
         "type": "scatter",
         "x": [
          20.995137598429793
         ],
         "y": [
          20.995137598429793
         ]
        }
       ],
       "layout": {
        "title": "Costo Asili Nido"
       }
      },
      "text/html": [
       "<div id=\"e7ee0926-800d-44df-b1ab-a4e187010120\" style=\"height: 525px; width: 100%;\" class=\"plotly-graph-div\"></div><script type=\"text/javascript\">require([\"plotly\"], function(Plotly) { window.PLOTLYENV=window.PLOTLYENV || {};window.PLOTLYENV.BASE_URL=\"https://plot.ly\";Plotly.newPlot(\"e7ee0926-800d-44df-b1ab-a4e187010120\", [{\"type\": \"scatter\", \"x\": [18.490433027763185], \"y\": [18.490433027763185], \"text\": [\"costo asili nido\"], \"mode\": \"markers\", \"marker\": {\"size\": [18.490433027763185]}, \"name\": \"ABRUZZO\"}, {\"type\": \"scatter\", \"x\": [12.08391131481865], \"y\": [12.08391131481865], \"text\": [\"costo asili nido\"], \"mode\": \"markers\", \"marker\": {\"size\": [12.08391131481865]}, \"name\": \"BASILICATA\"}, {\"type\": \"scatter\", \"x\": [2.220012454126878], \"y\": [2.220012454126878], \"text\": [\"costo asili nido\"], \"mode\": \"markers\", \"marker\": {\"size\": [2.220012454126878]}, \"name\": \"CALABRIA\"}, {\"type\": \"scatter\", \"x\": [19.269097649185994], \"y\": [19.269097649185994], \"text\": [\"costo asili nido\"], \"mode\": \"markers\", \"marker\": {\"size\": [19.269097649185994]}, \"name\": \"CAMPANIA\"}, {\"type\": \"scatter\", \"x\": [42.856425344603956], \"y\": [42.856425344603956], \"text\": [\"costo asili nido\"], \"mode\": \"markers\", \"marker\": {\"size\": [42.856425344603956]}, \"name\": \"EMILIA-ROMAGNA\"}, {\"type\": \"scatter\", \"x\": [79.8753034399784], \"y\": [79.8753034399784], \"text\": [\"costo asili nido\"], \"mode\": \"markers\", \"marker\": {\"size\": [79.8753034399784]}, \"name\": \"LAZIO\"}, {\"type\": \"scatter\", \"x\": [39.359858559624236], \"y\": [39.359858559624236], \"text\": [\"costo asili nido\"], \"mode\": \"markers\", \"marker\": {\"size\": [39.359858559624236]}, \"name\": \"LIGURIA\"}, {\"type\": \"scatter\", \"x\": [32.46386716094706], \"y\": [32.46386716094706], \"text\": [\"costo asili nido\"], \"mode\": \"markers\", \"marker\": {\"size\": [32.46386716094706]}, \"name\": \"LOMBARDIA\"}, {\"type\": \"scatter\", \"x\": [25.797289191265076], \"y\": [25.797289191265076], \"text\": [\"costo asili nido\"], \"mode\": \"markers\", \"marker\": {\"size\": [25.797289191265076]}, \"name\": \"MARCHE\"}, {\"type\": \"scatter\", \"x\": [9.994548036869011], \"y\": [9.994548036869011], \"text\": [\"costo asili nido\"], \"mode\": \"markers\", \"marker\": {\"size\": [9.994548036869011]}, \"name\": \"MOLISE\"}, {\"type\": \"scatter\", \"x\": [27.36941902670645], \"y\": [27.36941902670645], \"text\": [\"costo asili nido\"], \"mode\": \"markers\", \"marker\": {\"size\": [27.36941902670645]}, \"name\": \"PIEMONTE\"}, {\"type\": \"scatter\", \"x\": [14.802564640833017], \"y\": [14.802564640833017], \"text\": [\"costo asili nido\"], \"mode\": \"markers\", \"marker\": {\"size\": [14.802564640833017]}, \"name\": \"PUGLIA\"}, {\"type\": \"scatter\", \"x\": [38.553774434304586], \"y\": [38.553774434304586], \"text\": [\"costo asili nido\"], \"mode\": \"markers\", \"marker\": {\"size\": [38.553774434304586]}, \"name\": \"TOSCANA\"}, {\"type\": \"scatter\", \"x\": [30.645849077531935], \"y\": [30.645849077531935], \"text\": [\"costo asili nido\"], \"mode\": \"markers\", \"marker\": {\"size\": [30.645849077531935]}, \"name\": \"UMBRIA\"}, {\"type\": \"scatter\", \"x\": [20.995137598429793], \"y\": [20.995137598429793], \"text\": [\"costo asili nido\"], \"mode\": \"markers\", \"marker\": {\"size\": [20.995137598429793]}, \"name\": \"VENETO\"}], {\"title\": \"Costo Asili Nido\"}, {\"showLink\": true, \"linkText\": \"Export to plot.ly\"})});</script>"
      ],
      "text/vnd.plotly.v1+html": [
       "<div id=\"e7ee0926-800d-44df-b1ab-a4e187010120\" style=\"height: 525px; width: 100%;\" class=\"plotly-graph-div\"></div><script type=\"text/javascript\">require([\"plotly\"], function(Plotly) { window.PLOTLYENV=window.PLOTLYENV || {};window.PLOTLYENV.BASE_URL=\"https://plot.ly\";Plotly.newPlot(\"e7ee0926-800d-44df-b1ab-a4e187010120\", [{\"type\": \"scatter\", \"x\": [18.490433027763185], \"y\": [18.490433027763185], \"text\": [\"costo asili nido\"], \"mode\": \"markers\", \"marker\": {\"size\": [18.490433027763185]}, \"name\": \"ABRUZZO\"}, {\"type\": \"scatter\", \"x\": [12.08391131481865], \"y\": [12.08391131481865], \"text\": [\"costo asili nido\"], \"mode\": \"markers\", \"marker\": {\"size\": [12.08391131481865]}, \"name\": \"BASILICATA\"}, {\"type\": \"scatter\", \"x\": [2.220012454126878], \"y\": [2.220012454126878], \"text\": [\"costo asili nido\"], \"mode\": \"markers\", \"marker\": {\"size\": [2.220012454126878]}, \"name\": \"CALABRIA\"}, {\"type\": \"scatter\", \"x\": [19.269097649185994], \"y\": [19.269097649185994], \"text\": [\"costo asili nido\"], \"mode\": \"markers\", \"marker\": {\"size\": [19.269097649185994]}, \"name\": \"CAMPANIA\"}, {\"type\": \"scatter\", \"x\": [42.856425344603956], \"y\": [42.856425344603956], \"text\": [\"costo asili nido\"], \"mode\": \"markers\", \"marker\": {\"size\": [42.856425344603956]}, \"name\": \"EMILIA-ROMAGNA\"}, {\"type\": \"scatter\", \"x\": [79.8753034399784], \"y\": [79.8753034399784], \"text\": [\"costo asili nido\"], \"mode\": \"markers\", \"marker\": {\"size\": [79.8753034399784]}, \"name\": \"LAZIO\"}, {\"type\": \"scatter\", \"x\": [39.359858559624236], \"y\": [39.359858559624236], \"text\": [\"costo asili nido\"], \"mode\": \"markers\", \"marker\": {\"size\": [39.359858559624236]}, \"name\": \"LIGURIA\"}, {\"type\": \"scatter\", \"x\": [32.46386716094706], \"y\": [32.46386716094706], \"text\": [\"costo asili nido\"], \"mode\": \"markers\", \"marker\": {\"size\": [32.46386716094706]}, \"name\": \"LOMBARDIA\"}, {\"type\": \"scatter\", \"x\": [25.797289191265076], \"y\": [25.797289191265076], \"text\": [\"costo asili nido\"], \"mode\": \"markers\", \"marker\": {\"size\": [25.797289191265076]}, \"name\": \"MARCHE\"}, {\"type\": \"scatter\", \"x\": [9.994548036869011], \"y\": [9.994548036869011], \"text\": [\"costo asili nido\"], \"mode\": \"markers\", \"marker\": {\"size\": [9.994548036869011]}, \"name\": \"MOLISE\"}, {\"type\": \"scatter\", \"x\": [27.36941902670645], \"y\": [27.36941902670645], \"text\": [\"costo asili nido\"], \"mode\": \"markers\", \"marker\": {\"size\": [27.36941902670645]}, \"name\": \"PIEMONTE\"}, {\"type\": \"scatter\", \"x\": [14.802564640833017], \"y\": [14.802564640833017], \"text\": [\"costo asili nido\"], \"mode\": \"markers\", \"marker\": {\"size\": [14.802564640833017]}, \"name\": \"PUGLIA\"}, {\"type\": \"scatter\", \"x\": [38.553774434304586], \"y\": [38.553774434304586], \"text\": [\"costo asili nido\"], \"mode\": \"markers\", \"marker\": {\"size\": [38.553774434304586]}, \"name\": \"TOSCANA\"}, {\"type\": \"scatter\", \"x\": [30.645849077531935], \"y\": [30.645849077531935], \"text\": [\"costo asili nido\"], \"mode\": \"markers\", \"marker\": {\"size\": [30.645849077531935]}, \"name\": \"UMBRIA\"}, {\"type\": \"scatter\", \"x\": [20.995137598429793], \"y\": [20.995137598429793], \"text\": [\"costo asili nido\"], \"mode\": \"markers\", \"marker\": {\"size\": [20.995137598429793]}, \"name\": \"VENETO\"}], {\"title\": \"Costo Asili Nido\"}, {\"showLink\": true, \"linkText\": \"Export to plot.ly\"})});</script>"
      ]
     },
     "metadata": {},
     "output_type": "display_data"
    },
    {
     "data": {
      "application/vnd.plotly.v1+json": {
       "data": [
        {
         "marker": {
          "size": [
           493.56977639922326
          ]
         },
         "mode": "markers",
         "name": "ABRUZZO",
         "text": [
          "costo spesa totale"
         ],
         "type": "scatter",
         "x": [
          493.56977639922326
         ],
         "y": [
          493.56977639922326
         ]
        },
        {
         "marker": {
          "size": [
           462.0493518279102
          ]
         },
         "mode": "markers",
         "name": "BASILICATA",
         "text": [
          "costo spesa totale"
         ],
         "type": "scatter",
         "x": [
          462.0493518279102
         ],
         "y": [
          462.0493518279102
         ]
        },
        {
         "marker": {
          "size": [
           416.57787007696135
          ]
         },
         "mode": "markers",
         "name": "CALABRIA",
         "text": [
          "costo spesa totale"
         ],
         "type": "scatter",
         "x": [
          416.57787007696135
         ],
         "y": [
          416.57787007696135
         ]
        },
        {
         "marker": {
          "size": [
           546.8121959661695
          ]
         },
         "mode": "markers",
         "name": "CAMPANIA",
         "text": [
          "costo spesa totale"
         ],
         "type": "scatter",
         "x": [
          546.8121959661695
         ],
         "y": [
          546.8121959661695
         ]
        },
        {
         "marker": {
          "size": [
           461.6184392670213
          ]
         },
         "mode": "markers",
         "name": "EMILIA-ROMAGNA",
         "text": [
          "costo spesa totale"
         ],
         "type": "scatter",
         "x": [
          461.6184392670213
         ],
         "y": [
          461.6184392670213
         ]
        },
        {
         "marker": {
          "size": [
           693.0911358709025
          ]
         },
         "mode": "markers",
         "name": "LAZIO",
         "text": [
          "costo spesa totale"
         ],
         "type": "scatter",
         "x": [
          693.0911358709025
         ],
         "y": [
          693.0911358709025
         ]
        },
        {
         "marker": {
          "size": [
           524.3941871488792
          ]
         },
         "mode": "markers",
         "name": "LIGURIA",
         "text": [
          "costo spesa totale"
         ],
         "type": "scatter",
         "x": [
          524.3941871488792
         ],
         "y": [
          524.3941871488792
         ]
        },
        {
         "marker": {
          "size": [
           443.8827128845447
          ]
         },
         "mode": "markers",
         "name": "LOMBARDIA",
         "text": [
          "costo spesa totale"
         ],
         "type": "scatter",
         "x": [
          443.8827128845447
         ],
         "y": [
          443.8827128845447
         ]
        },
        {
         "marker": {
          "size": [
           407.43331128827185
          ]
         },
         "mode": "markers",
         "name": "MARCHE",
         "text": [
          "costo spesa totale"
         ],
         "type": "scatter",
         "x": [
          407.43331128827185
         ],
         "y": [
          407.43331128827185
         ]
        },
        {
         "marker": {
          "size": [
           380.29707638815785
          ]
         },
         "mode": "markers",
         "name": "MOLISE",
         "text": [
          "costo spesa totale"
         ],
         "type": "scatter",
         "x": [
          380.29707638815785
         ],
         "y": [
          380.29707638815785
         ]
        },
        {
         "marker": {
          "size": [
           443.9942031633157
          ]
         },
         "mode": "markers",
         "name": "PIEMONTE",
         "text": [
          "costo spesa totale"
         ],
         "type": "scatter",
         "x": [
          443.9942031633157
         ],
         "y": [
          443.9942031633157
         ]
        },
        {
         "marker": {
          "size": [
           425.17306011786104
          ]
         },
         "mode": "markers",
         "name": "PUGLIA",
         "text": [
          "costo spesa totale"
         ],
         "type": "scatter",
         "x": [
          425.17306011786104
         ],
         "y": [
          425.17306011786104
         ]
        },
        {
         "marker": {
          "size": [
           500.6098637481014
          ]
         },
         "mode": "markers",
         "name": "TOSCANA",
         "text": [
          "costo spesa totale"
         ],
         "type": "scatter",
         "x": [
          500.6098637481014
         ],
         "y": [
          500.6098637481014
         ]
        },
        {
         "marker": {
          "size": [
           467.059582683139
          ]
         },
         "mode": "markers",
         "name": "UMBRIA",
         "text": [
          "costo spesa totale"
         ],
         "type": "scatter",
         "x": [
          467.059582683139
         ],
         "y": [
          467.059582683139
         ]
        },
        {
         "marker": {
          "size": [
           389.9168626895064
          ]
         },
         "mode": "markers",
         "name": "VENETO",
         "text": [
          "costo spesa totale"
         ],
         "type": "scatter",
         "x": [
          389.9168626895064
         ],
         "y": [
          389.9168626895064
         ]
        }
       ],
       "layout": {
        "title": "Costo Spesa Totale"
       }
      },
      "text/html": [
       "<div id=\"721ce156-d77f-476c-8ac2-5426272f724c\" style=\"height: 525px; width: 100%;\" class=\"plotly-graph-div\"></div><script type=\"text/javascript\">require([\"plotly\"], function(Plotly) { window.PLOTLYENV=window.PLOTLYENV || {};window.PLOTLYENV.BASE_URL=\"https://plot.ly\";Plotly.newPlot(\"721ce156-d77f-476c-8ac2-5426272f724c\", [{\"type\": \"scatter\", \"x\": [493.56977639922326], \"y\": [493.56977639922326], \"text\": [\"costo spesa totale\"], \"mode\": \"markers\", \"marker\": {\"size\": [493.56977639922326]}, \"name\": \"ABRUZZO\"}, {\"type\": \"scatter\", \"x\": [462.0493518279102], \"y\": [462.0493518279102], \"text\": [\"costo spesa totale\"], \"mode\": \"markers\", \"marker\": {\"size\": [462.0493518279102]}, \"name\": \"BASILICATA\"}, {\"type\": \"scatter\", \"x\": [416.57787007696135], \"y\": [416.57787007696135], \"text\": [\"costo spesa totale\"], \"mode\": \"markers\", \"marker\": {\"size\": [416.57787007696135]}, \"name\": \"CALABRIA\"}, {\"type\": \"scatter\", \"x\": [546.8121959661695], \"y\": [546.8121959661695], \"text\": [\"costo spesa totale\"], \"mode\": \"markers\", \"marker\": {\"size\": [546.8121959661695]}, \"name\": \"CAMPANIA\"}, {\"type\": \"scatter\", \"x\": [461.6184392670213], \"y\": [461.6184392670213], \"text\": [\"costo spesa totale\"], \"mode\": \"markers\", \"marker\": {\"size\": [461.6184392670213]}, \"name\": \"EMILIA-ROMAGNA\"}, {\"type\": \"scatter\", \"x\": [693.0911358709025], \"y\": [693.0911358709025], \"text\": [\"costo spesa totale\"], \"mode\": \"markers\", \"marker\": {\"size\": [693.0911358709025]}, \"name\": \"LAZIO\"}, {\"type\": \"scatter\", \"x\": [524.3941871488792], \"y\": [524.3941871488792], \"text\": [\"costo spesa totale\"], \"mode\": \"markers\", \"marker\": {\"size\": [524.3941871488792]}, \"name\": \"LIGURIA\"}, {\"type\": \"scatter\", \"x\": [443.8827128845447], \"y\": [443.8827128845447], \"text\": [\"costo spesa totale\"], \"mode\": \"markers\", \"marker\": {\"size\": [443.8827128845447]}, \"name\": \"LOMBARDIA\"}, {\"type\": \"scatter\", \"x\": [407.43331128827185], \"y\": [407.43331128827185], \"text\": [\"costo spesa totale\"], \"mode\": \"markers\", \"marker\": {\"size\": [407.43331128827185]}, \"name\": \"MARCHE\"}, {\"type\": \"scatter\", \"x\": [380.29707638815785], \"y\": [380.29707638815785], \"text\": [\"costo spesa totale\"], \"mode\": \"markers\", \"marker\": {\"size\": [380.29707638815785]}, \"name\": \"MOLISE\"}, {\"type\": \"scatter\", \"x\": [443.9942031633157], \"y\": [443.9942031633157], \"text\": [\"costo spesa totale\"], \"mode\": \"markers\", \"marker\": {\"size\": [443.9942031633157]}, \"name\": \"PIEMONTE\"}, {\"type\": \"scatter\", \"x\": [425.17306011786104], \"y\": [425.17306011786104], \"text\": [\"costo spesa totale\"], \"mode\": \"markers\", \"marker\": {\"size\": [425.17306011786104]}, \"name\": \"PUGLIA\"}, {\"type\": \"scatter\", \"x\": [500.6098637481014], \"y\": [500.6098637481014], \"text\": [\"costo spesa totale\"], \"mode\": \"markers\", \"marker\": {\"size\": [500.6098637481014]}, \"name\": \"TOSCANA\"}, {\"type\": \"scatter\", \"x\": [467.059582683139], \"y\": [467.059582683139], \"text\": [\"costo spesa totale\"], \"mode\": \"markers\", \"marker\": {\"size\": [467.059582683139]}, \"name\": \"UMBRIA\"}, {\"type\": \"scatter\", \"x\": [389.9168626895064], \"y\": [389.9168626895064], \"text\": [\"costo spesa totale\"], \"mode\": \"markers\", \"marker\": {\"size\": [389.9168626895064]}, \"name\": \"VENETO\"}], {\"title\": \"Costo Spesa Totale\"}, {\"showLink\": true, \"linkText\": \"Export to plot.ly\"})});</script>"
      ],
      "text/vnd.plotly.v1+html": [
       "<div id=\"721ce156-d77f-476c-8ac2-5426272f724c\" style=\"height: 525px; width: 100%;\" class=\"plotly-graph-div\"></div><script type=\"text/javascript\">require([\"plotly\"], function(Plotly) { window.PLOTLYENV=window.PLOTLYENV || {};window.PLOTLYENV.BASE_URL=\"https://plot.ly\";Plotly.newPlot(\"721ce156-d77f-476c-8ac2-5426272f724c\", [{\"type\": \"scatter\", \"x\": [493.56977639922326], \"y\": [493.56977639922326], \"text\": [\"costo spesa totale\"], \"mode\": \"markers\", \"marker\": {\"size\": [493.56977639922326]}, \"name\": \"ABRUZZO\"}, {\"type\": \"scatter\", \"x\": [462.0493518279102], \"y\": [462.0493518279102], \"text\": [\"costo spesa totale\"], \"mode\": \"markers\", \"marker\": {\"size\": [462.0493518279102]}, \"name\": \"BASILICATA\"}, {\"type\": \"scatter\", \"x\": [416.57787007696135], \"y\": [416.57787007696135], \"text\": [\"costo spesa totale\"], \"mode\": \"markers\", \"marker\": {\"size\": [416.57787007696135]}, \"name\": \"CALABRIA\"}, {\"type\": \"scatter\", \"x\": [546.8121959661695], \"y\": [546.8121959661695], \"text\": [\"costo spesa totale\"], \"mode\": \"markers\", \"marker\": {\"size\": [546.8121959661695]}, \"name\": \"CAMPANIA\"}, {\"type\": \"scatter\", \"x\": [461.6184392670213], \"y\": [461.6184392670213], \"text\": [\"costo spesa totale\"], \"mode\": \"markers\", \"marker\": {\"size\": [461.6184392670213]}, \"name\": \"EMILIA-ROMAGNA\"}, {\"type\": \"scatter\", \"x\": [693.0911358709025], \"y\": [693.0911358709025], \"text\": [\"costo spesa totale\"], \"mode\": \"markers\", \"marker\": {\"size\": [693.0911358709025]}, \"name\": \"LAZIO\"}, {\"type\": \"scatter\", \"x\": [524.3941871488792], \"y\": [524.3941871488792], \"text\": [\"costo spesa totale\"], \"mode\": \"markers\", \"marker\": {\"size\": [524.3941871488792]}, \"name\": \"LIGURIA\"}, {\"type\": \"scatter\", \"x\": [443.8827128845447], \"y\": [443.8827128845447], \"text\": [\"costo spesa totale\"], \"mode\": \"markers\", \"marker\": {\"size\": [443.8827128845447]}, \"name\": \"LOMBARDIA\"}, {\"type\": \"scatter\", \"x\": [407.43331128827185], \"y\": [407.43331128827185], \"text\": [\"costo spesa totale\"], \"mode\": \"markers\", \"marker\": {\"size\": [407.43331128827185]}, \"name\": \"MARCHE\"}, {\"type\": \"scatter\", \"x\": [380.29707638815785], \"y\": [380.29707638815785], \"text\": [\"costo spesa totale\"], \"mode\": \"markers\", \"marker\": {\"size\": [380.29707638815785]}, \"name\": \"MOLISE\"}, {\"type\": \"scatter\", \"x\": [443.9942031633157], \"y\": [443.9942031633157], \"text\": [\"costo spesa totale\"], \"mode\": \"markers\", \"marker\": {\"size\": [443.9942031633157]}, \"name\": \"PIEMONTE\"}, {\"type\": \"scatter\", \"x\": [425.17306011786104], \"y\": [425.17306011786104], \"text\": [\"costo spesa totale\"], \"mode\": \"markers\", \"marker\": {\"size\": [425.17306011786104]}, \"name\": \"PUGLIA\"}, {\"type\": \"scatter\", \"x\": [500.6098637481014], \"y\": [500.6098637481014], \"text\": [\"costo spesa totale\"], \"mode\": \"markers\", \"marker\": {\"size\": [500.6098637481014]}, \"name\": \"TOSCANA\"}, {\"type\": \"scatter\", \"x\": [467.059582683139], \"y\": [467.059582683139], \"text\": [\"costo spesa totale\"], \"mode\": \"markers\", \"marker\": {\"size\": [467.059582683139]}, \"name\": \"UMBRIA\"}, {\"type\": \"scatter\", \"x\": [389.9168626895064], \"y\": [389.9168626895064], \"text\": [\"costo spesa totale\"], \"mode\": \"markers\", \"marker\": {\"size\": [389.9168626895064]}, \"name\": \"VENETO\"}], {\"title\": \"Costo Spesa Totale\"}, {\"showLink\": true, \"linkText\": \"Export to plot.ly\"})});</script>"
      ]
     },
     "metadata": {},
     "output_type": "display_data"
    }
   ],
   "source": [
    "\n",
    "\n",
    "def create_bubble_chart(df, column_name):\n",
    "    data= []\n",
    "    for region, series in df.iterrows():\n",
    "        data.append(\n",
    "            go.Scatter(\n",
    "                x = [series[column_name]],\n",
    "                y = [series[column_name]],\n",
    "                text = [column_name],\n",
    "                mode='markers',\n",
    "                marker=dict(\n",
    "                    size=[series[column_name]]\n",
    "                ),\n",
    "                name=region\n",
    "            )\n",
    "        )\n",
    "\n",
    "    layout = go.Layout(\n",
    "        title = column_name.title()\n",
    "    )\n",
    "\n",
    "    fig = go.Figure(data=data, layout=layout)\n",
    "    return fig\n",
    "for c in costi_columns:\n",
    "    fig = create_bubble_chart(df_media_costi, c)\n",
    "    py.iplot(fig)"
   ]
  },
  {
   "cell_type": "code",
   "execution_count": null,
   "metadata": {},
   "outputs": [],
   "source": [
    "data= []\n",
    "c = costi_columns[10]\n",
    "for region, series in test.iterrows():\n",
    "    data.append(\n",
    "        go.Scatter(\n",
    "            x = [series[c]],\n",
    "            y = [series[c]],\n",
    "            text = [c],\n",
    "            mode='markers',\n",
    "            marker=dict(\n",
    "                size=[series[c]]\n",
    "            ),\n",
    "            name=region\n",
    "        )\n",
    "    )\n",
    "\n",
    "data2= []\n",
    "c = costi_columns[9]\n",
    "for region, series in test.iterrows():\n",
    "    data2.append(\n",
    "        go.Scatter(\n",
    "            x = [series[c]],\n",
    "            y = [series[c]],\n",
    "            text = [c],\n",
    "            mode='markers',\n",
    "            marker=dict(\n",
    "                size=[series[c]]\n",
    "            ),\n",
    "            name=region\n",
    "        )\n",
    "    )\n",
    "\n",
    "fig = tools.make_subplots(rows=2, cols=1)\n",
    "\n",
    "fig.append_trace(data[0],1,1)\n",
    "fig.append_trace(data2[0],2,1)\n",
    "    \n",
    "# layout = go.Layout(\n",
    "#     title = c\n",
    "# )\n",
    "    \n",
    "# fig = go.Figure(data=data, layout=layout)\n",
    "\n",
    "py.iplot(fig)"
   ]
  },
  {
   "cell_type": "markdown",
   "metadata": {},
   "source": [
    "Normalizziamo i costi sul totale dei costi per avere una percentuale"
   ]
  },
  {
   "cell_type": "code",
   "execution_count": 70,
   "metadata": {},
   "outputs": [
    {
     "data": {
      "text/plain": [
       "0     8.835541e+08\n",
       "1     3.390435e+08\n",
       "2     9.956181e+08\n",
       "3     3.430471e+09\n",
       "4     3.071071e+09\n",
       "5     4.980016e+09\n",
       "6     1.249845e+09\n",
       "7     6.238153e+09\n",
       "8     9.034753e+08\n",
       "9     1.723786e+08\n",
       "10    2.818446e+09\n",
       "11    2.200857e+09\n",
       "12    2.639917e+09\n",
       "13    5.848836e+08\n",
       "14    2.751440e+09\n",
       "15    9.638776e+08\n",
       "16    3.404038e+08\n",
       "17    1.003644e+09\n",
       "18    3.387396e+09\n",
       "19    3.013626e+09\n",
       "20    5.238792e+09\n",
       "21    1.230716e+09\n",
       "22    6.080744e+09\n",
       "23    9.188551e+08\n",
       "24    1.789147e+08\n",
       "25    2.833419e+09\n",
       "26    2.095487e+09\n",
       "27    2.597726e+09\n",
       "28    5.586518e+08\n",
       "29    2.772006e+09\n",
       "30    9.433843e+08\n",
       "31    3.510006e+08\n",
       "32    9.875926e+08\n",
       "33    3.460060e+09\n",
       "34    3.057221e+09\n",
       "35    5.762617e+09\n",
       "36    1.250936e+09\n",
       "37    6.060982e+09\n",
       "38    9.417807e+08\n",
       "39    1.807020e+08\n",
       "40    2.838899e+09\n",
       "41    2.094966e+09\n",
       "42    2.574916e+09\n",
       "43    5.665666e+08\n",
       "44    2.777883e+09\n",
       "45    9.226885e+08\n",
       "46    3.634711e+08\n",
       "47    1.012992e+09\n",
       "48    3.332202e+09\n",
       "49    3.051285e+09\n",
       "50    5.492120e+09\n",
       "51    1.268744e+09\n",
       "52    6.210261e+09\n",
       "53    9.214399e+08\n",
       "54    1.587124e+08\n",
       "55    2.854588e+09\n",
       "56    2.136449e+09\n",
       "57    2.722262e+09\n",
       "58    5.972841e+08\n",
       "59    2.756343e+09\n",
       "dtype: float64"
      ]
     },
     "execution_count": 70,
     "metadata": {},
     "output_type": "execute_result"
    }
   ],
   "source": [
    "df_regioni_costi.sum(axis=1) - df_regioni_costi['costo spesa totale']"
   ]
  },
  {
   "cell_type": "code",
   "execution_count": null,
   "metadata": {},
   "outputs": [],
   "source": []
  }
 ],
 "metadata": {
  "kernelspec": {
   "display_name": "Python 3",
   "language": "python",
   "name": "python3"
  },
  "language_info": {
   "codemirror_mode": {
    "name": "ipython",
    "version": 3
   },
   "file_extension": ".py",
   "mimetype": "text/x-python",
   "name": "python",
   "nbconvert_exporter": "python",
   "pygments_lexer": "ipython3",
   "version": "3.6.4"
  }
 },
 "nbformat": 4,
 "nbformat_minor": 2
}
