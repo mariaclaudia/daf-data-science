{
 "cells": [
  {
   "cell_type": "markdown",
   "metadata": {},
   "source": [
    "# Costi Riscossione Tributi\n",
    "\n",
    "Questa analisi ha come obiettivo approfondire come i costi per **la riscossione dei tributi** si distribuisce in Italia. In particolare:\n",
    "- Analizzeremo la sua distribuzione normalizzata per il numero di contribuenti per le varie Regioni.\n",
    "- Cercheremo di capire quali sono le top/last regioni/province/comuni per spesa riscossione tributi"
   ]
  },
  {
   "cell_type": "code",
   "execution_count": 1,
   "metadata": {},
   "outputs": [
    {
     "data": {
      "text/html": [
       "<script>requirejs.config({paths: { 'plotly': ['https://cdn.plot.ly/plotly-latest.min']},});if(!window.Plotly) {{require(['plotly'],function(plotly) {window.Plotly=plotly;});}}</script>"
      ],
      "text/vnd.plotly.v1+html": [
       "<script>requirejs.config({paths: { 'plotly': ['https://cdn.plot.ly/plotly-latest.min']},});if(!window.Plotly) {{require(['plotly'],function(plotly) {window.Plotly=plotly;});}}</script>"
      ]
     },
     "metadata": {},
     "output_type": "display_data"
    }
   ],
   "source": [
    "import numpy as np\n",
    "import pandas as pd\n",
    "\n",
    "# set the max number of columns to display\n",
    "pd.options.display.max_columns = 98\n",
    "\n",
    "import matplotlib.pyplot as plt\n",
    "import seaborn as sns\n",
    "sns.set(color_codes=True)\n",
    "\n",
    "import plotly.offline as py\n",
    "import plotly.plotly as py_on\n",
    "import plotly.graph_objs as go\n",
    "from plotly import tools\n",
    "import plotly.figure_factory as ff\n",
    "py.init_notebook_mode(connected=True)\n",
    "\n",
    "from IPython.display import Image\n",
    "from IPython.display import display"
   ]
  },
  {
   "cell_type": "markdown",
   "metadata": {},
   "source": [
    "Il dataset preso in analisi contiene informazioni sui **costi riscossione tributi per 2010-2013 (OpenCivitas)**  e i **redditi dei contribuenti (Mef dati Irpef)** per lo stesso periodo. In totale abbiamo 26800 osservazioni distribuite per anno:"
   ]
  },
  {
   "cell_type": "code",
   "execution_count": 5,
   "metadata": {},
   "outputs": [],
   "source": [
    "fattore = 'costo riscossione tributi'\n",
    "fattore_descrizione = 'Costo Riscossione Tributi'\n",
    "\n",
    "tot_contribuenti = 'tot_contribuenti'\n",
    "\n",
    "fattore_normalizzato = 'spesa_tributi_per_contribuenti'"
   ]
  },
  {
   "cell_type": "code",
   "execution_count": 6,
   "metadata": {},
   "outputs": [
    {
     "data": {
      "text/plain": [
       "(26799, 86)"
      ]
     },
     "execution_count": 6,
     "metadata": {},
     "output_type": "execute_result"
    }
   ],
   "source": [
    "df = pd.read_csv('./data/opencivitas_spesa_storica_dati_irpef.csv')\n",
    "df.shape"
   ]
  },
  {
   "cell_type": "markdown",
   "metadata": {},
   "source": [
    "Distribuzione delle osservazioni Anno e Comuni per cui abbiamo rilevazioni per l'anno in questione."
   ]
  },
  {
   "cell_type": "code",
   "execution_count": 7,
   "metadata": {},
   "outputs": [
    {
     "data": {
      "text/plain": [
       "ANNO\n",
       "2010    6702\n",
       "2011    6699\n",
       "2012    6699\n",
       "2013    6699\n",
       "Name: costo riscossione tributi, dtype: int64"
      ]
     },
     "execution_count": 7,
     "metadata": {},
     "output_type": "execute_result"
    }
   ],
   "source": [
    "df.groupby(['ANNO'])[fattore].count()"
   ]
  },
  {
   "cell_type": "markdown",
   "metadata": {},
   "source": [
    "Aggiungiamo ora la colonna per il fattore di analisi normalizzato per numero di contribuenti"
   ]
  },
  {
   "cell_type": "code",
   "execution_count": 8,
   "metadata": {},
   "outputs": [
    {
     "data": {
      "text/plain": [
       "0     9.135789\n",
       "1     0.233289\n",
       "2    20.696801\n",
       "3     6.788800\n",
       "4    38.156980\n",
       "Name: spesa_tributi_per_contribuenti, dtype: float64"
      ]
     },
     "execution_count": 8,
     "metadata": {},
     "output_type": "execute_result"
    }
   ],
   "source": [
    "df[fattore_normalizzato]= df[fattore] / df[tot_contribuenti]\n",
    "df[fattore_normalizzato].head()"
   ]
  },
  {
   "cell_type": "markdown",
   "metadata": {},
   "source": [
    "-----------------------"
   ]
  },
  {
   "cell_type": "code",
   "execution_count": null,
   "metadata": {},
   "outputs": [],
   "source": [
    "df_regione = df.groupby(df.Regione)[fattore_normalizzato].mean()\n",
    "df_regione = df_regione.sort_values(ascending=False)"
   ]
  },
  {
   "cell_type": "code",
   "execution_count": null,
   "metadata": {
    "scrolled": false
   },
   "outputs": [],
   "source": [
    "data_pie = [\n",
    "    go.Pie(labels = df_regione.index, values=df_regione),\n",
    "]\n",
    "\n",
    "layout_pie = go.Layout(\n",
    "    title='Costo medio riscossione tasse per Regione/Contribuente in Euro'\n",
    ")\n",
    "\n",
    "fig_pie = go.Figure(data=data_pie, layout=layout_pie)\n",
    "\n",
    "data_bar = [\n",
    "    go.Bar(x=df_regione.index, y=df_regione, name = 'spesa media')\n",
    "]\n",
    "\n",
    "layout_bar = go.Layout(\n",
    "    title='Costo medio riscossione tasse per Regione/Contribuente in Euro',\n",
    "    xaxis=dict(\n",
    "        title='Regioni',\n",
    "    ),\n",
    "    yaxis=dict(\n",
    "        title='Euro per Contribuente',\n",
    "    )\n",
    ")\n",
    "\n",
    "fig_bar = go.Figure(data=data_bar, layout=layout_bar)"
   ]
  },
  {
   "cell_type": "markdown",
   "metadata": {},
   "source": [
    "## Costo Riscossione Tributi per Regione\n",
    "\n",
    "Per prima cosa analizziamo quali sono le regioni che hanno maggiori costi per la riscossione delle tasse.\n",
    "Possiamo osservare che per il periodo 2010-2013 la Liguria sia la regione con li maggior costo procapite per la riscossione dei tributi. La tabella sotto mostra il dettaglio dei costi. \n",
    "\n",
    "Mentre, il grafico a torta fa vedere la distribuzione percentuale di questi costi sul totale delle regioni presenti nel dataset."
   ]
  },
  {
   "cell_type": "code",
   "execution_count": null,
   "metadata": {},
   "outputs": [],
   "source": [
    "df_regione"
   ]
  },
  {
   "cell_type": "code",
   "execution_count": null,
   "metadata": {
    "scrolled": false
   },
   "outputs": [],
   "source": [
    "py.iplot(fig_pie)\n",
    "py.iplot(fig_bar)\n",
    "\n",
    "fig_pie_path = 'imgs/tributi_regione_pie.png'\n",
    "fig_bar_path = 'imgs/tributi_regione_bar.png'\n",
    "\n",
    "py_on.image.save_as(fig_pie, filename=fig_pie_path)\n",
    "py_on.image.save_as(fig_bar, filename=fig_bar_path)\n",
    "\n",
    "x = Image(fig_pie_path)\n",
    "y = Image(fig_bar_path)\n",
    "display(x,y)"
   ]
  },
  {
   "cell_type": "markdown",
   "metadata": {},
   "source": [
    "## Dettaglio Riscossione Tributi Puglia, Campania e Lombardia \n",
    "\n",
    "E' interessante notare come Puglia, Campania e Lombardia abbiano un costo di riscossione molto simile. Andiamo a dettagliare questi dati rispetto al totale costi e al numero di persone per avere una idea. \n",
    "Inoltre, possiamo incrociare questi dati con i dati Irpef per capire quali sono le fasce di reddito che contribuiscono maggiormente agli introiti di cassa delle regioni.\n"
   ]
  },
  {
   "cell_type": "code",
   "execution_count": null,
   "metadata": {},
   "outputs": [],
   "source": [
    "# mediamo sul numero degli anni in analisi\n",
    "df_regione_sum = df.groupby(df.Regione).sum() / 4\n",
    "\n",
    "fattori_analisi = [fattore, tot_contribuenti]\n",
    "regioni_interesse = ['PUGLIA','LOMBARDIA','CAMPANIA']\n",
    "\n",
    "df_tributi_contribuenti = df_regione_sum[fattori_analisi]\n",
    "\n",
    "df_regioni_interesse = df_tributi_contribuenti.loc[regioni_interesse,:]\n",
    "df_regioni_interesse = df_regioni_interesse.sort_values(tot_contribuenti, ascending=False)"
   ]
  },
  {
   "cell_type": "code",
   "execution_count": null,
   "metadata": {},
   "outputs": [],
   "source": [
    "data = [\n",
    "    go.Bar(x=df_regioni_interesse.index, y=df_regioni_interesse[fattore], name='costo riscossione tributi'),\n",
    "    go.Bar(x=df_regioni_interesse.index, y=df_regioni_interesse[tot_contribuenti], name='numero contribuenti'),  \n",
    "]\n",
    "\n",
    "layout = go.Layout(\n",
    "    title='Costo totale riscossione tributi e numero contribuenti',\n",
    "    xaxis=dict(\n",
    "        title='Regioni',\n",
    "    ),\n",
    "    yaxis=dict(\n",
    "        title='Totale Costi - numero contribuenti',\n",
    "    )\n",
    ")\n",
    "fig = go.Figure(data=data, layout=layout)"
   ]
  },
  {
   "cell_type": "code",
   "execution_count": null,
   "metadata": {
    "scrolled": false
   },
   "outputs": [],
   "source": [
    "py.iplot(fig)\n",
    "\n",
    "fig_path = 'imgs/totale_riscossione_tributi.png'\n",
    "py_on.image.save_as(fig, filename=fig_path)\n",
    "x = Image(fig_path)\n",
    "display(x)"
   ]
  },
  {
   "cell_type": "markdown",
   "metadata": {},
   "source": [
    ">Andiamo ad analizzare in dettaglio il numero dei contribuenti nelle Regioni considerate.\n",
    "Se confrontiamo questo valore con la popolazione residente, possiamo avere una idea della percentuale della popolazione che dichiara introiti.\n",
    "\n",
    "|   |   |   |   |\n",
    "|---|---|---|---|\n",
    "| LOMBARDIA  |  7026749  | 10000000 | 70.2% |\n",
    "| CAMPANIA   |  3085606  |  5869000 | 52.5% |\n",
    "| PUGLIA     |  2541365  |  4087000 | 62.1% |\n"
   ]
  },
  {
   "cell_type": "markdown",
   "metadata": {},
   "source": [
    "### Distribuzione Redditi\n",
    "\n",
    "Analizziamo ora come sia distribuita la contribuzione fiscale da parte dei contribuenti.\n",
    "In particolare, analizziamo le diverse fonti di reddito dal punto di vista di:\n",
    "\n",
    "1. distribuzione contribuenti\n",
    "2. distribuzione introiti\n",
    "\n",
    "Qui sotto consideriamo quali sono i fattori per l'analisis:"
   ]
  },
  {
   "cell_type": "code",
   "execution_count": null,
   "metadata": {},
   "outputs": [],
   "source": [
    "fattori = [c for c in df.columns.values if c.startswith('Reddito') and 'Frequenza' in c]\n",
    "fattori"
   ]
  },
  {
   "cell_type": "markdown",
   "metadata": {},
   "source": [
    "Dai quali selezioniamo i redditi da lavoro"
   ]
  },
  {
   "cell_type": "code",
   "execution_count": null,
   "metadata": {},
   "outputs": [],
   "source": [
    "frequenza_reddito_scaglioni = [\n",
    " ('Regione','Reddito minore o uguale a zero Frequenza', '0M'),\n",
    " ('Regione','Reddito complessivo da 0 a 10000 euro Frequenza', '0-10M'),\n",
    " ('Regione','Reddito complessivo da 10000 a 15000 euro Frequenza', '10-15M'),\n",
    " ('Regione','Reddito complessivo da 15000 a 26000 euro Frequenza', '15-26M'),\n",
    " ('Regione','Reddito complessivo da 26000 a 55000 euro Frequenza', '26-55M'),\n",
    " ('Regione','Reddito complessivo da 55000 a 75000 euro Frequenza', '55-75M'),\n",
    " ('Regione','Reddito complessivo da 75000 a 120000 euro Frequenza', '75-120M'),\n",
    " ('Regione','Reddito complessivo oltre 120000 euro Frequenza', '>120M'),\n",
    "]\n",
    "\n",
    "fattori_frequenza = [v for _, v, _ in frequenza_reddito_scaglioni]"
   ]
  },
  {
   "cell_type": "markdown",
   "metadata": {},
   "source": [
    "### Frequenza contribuenti per fascia economica\n",
    "\n",
    "L'istogramma e la tabella sotto mostra la frequenza di contribuenti per fascia di reddito.\n",
    "Inoltre, di seguito viene mostrata la stessa quantita' in valore percentuale. Questo serve a vedere la contribuzione delle varie fasce di reddito per Regione di interesse."
   ]
  },
  {
   "cell_type": "code",
   "execution_count": null,
   "metadata": {},
   "outputs": [],
   "source": [
    "df_regioni_redditi"
   ]
  },
  {
   "cell_type": "markdown",
   "metadata": {},
   "source": [
    "### Contribuzione per fascia di reddito in percentuale"
   ]
  },
  {
   "cell_type": "code",
   "execution_count": null,
   "metadata": {},
   "outputs": [],
   "source": [
    "frequenza_redditi_percentuale = df_regione_sum.loc[regioni_interesse,fattori_frequenza].reset_index()\n",
    "tot_contribuenti_regione = df_regione_sum.loc[regioni_interesse,tot_contribuenti].reset_index()\n",
    "\n",
    "frequenza_redditi_percentuale[fattori_frequenza] = frequenza_redditi_percentuale[fattori_frequenza].div(\n",
    "    tot_contribuenti_regione[tot_contribuenti], axis='index')\n",
    "frequenza_redditi_percentuale"
   ]
  },
  {
   "cell_type": "code",
   "execution_count": null,
   "metadata": {},
   "outputs": [],
   "source": [
    "data_frequenza = []\n",
    "for x,y,name in fattori_reddito_scaglioni:\n",
    "    bar = go.Bar(\n",
    "        x = frequenza_redditi_percentuale[x],\n",
    "        y = frequenza_redditi_percentuale[y],\n",
    "        name = name\n",
    "    )\n",
    "    data_frequenza.append(bar)\n",
    "\n",
    "layout = go.Layout(\n",
    "    title='Distribuzione per Fasce di Contribuzione - Frequenza',\n",
    "    xaxis=dict(\n",
    "        title='Regioni',\n",
    "    ),\n",
    "    yaxis=dict(\n",
    "        title='Percentuale',\n",
    "    )\n",
    ")\n",
    "\n",
    "fig = go.Figure(layout=layout, data=data_frequenza)\n",
    "py.iplot(fig)\n",
    "\n",
    "fig_path = 'imgs/percentuale_contribuenti_reddito.png'\n",
    "py_on.image.save_as(fig, filename=fig_path)\n",
    "x = Image(fig_path)\n",
    "display(x)"
   ]
  },
  {
   "cell_type": "markdown",
   "metadata": {},
   "source": [
    "Da questo grafico si puo' osservare come la Lombardia abbian una distribuzione spostata verso le alte fasce di contribuzione. Di seguito confrontiamo questo grafico con uno relativo alla contribuzione in termini di **Ammontare** di} denaro."
   ]
  },
  {
   "cell_type": "code",
   "execution_count": null,
   "metadata": {},
   "outputs": [],
   "source": [
    "ammontare_reddito_scaglioni = [\n",
    " ('Regione','Reddito minore o uguale a zero Ammontare', '0M'),\n",
    " ('Regione','Reddito complessivo da 0 a 10000 euro Ammontare', '0-10M'),\n",
    " ('Regione','Reddito complessivo da 10000 a 15000 euro Ammontare', '10-15M'),\n",
    " ('Regione','Reddito complessivo da 15000 a 26000 euro Ammontare', '15-26M'),\n",
    " ('Regione','Reddito complessivo da 26000 a 55000 euro Ammontare', '26-55M'),\n",
    " ('Regione','Reddito complessivo da 55000 a 75000 euro Ammontare', '55-75M'),\n",
    " ('Regione','Reddito complessivo da 75000 a 120000 euro Ammontare', '75-120M'),\n",
    " ('Regione','Reddito complessivo oltre 120000 euro Ammontare', '>120M'),\n",
    "]\n",
    "\n",
    "ammontare_fattori = [v for _, v, _ in ammontare_reddito_scaglioni]"
   ]
  },
  {
   "cell_type": "code",
   "execution_count": null,
   "metadata": {},
   "outputs": [],
   "source": [
    "ammontare_redditi_percentuale = df_regione_sum.loc[regioni_interesse,ammontare_fattori].reset_index()\n",
    "redditi_tot = df_regione_sum.loc[regioni_interesse, ammontare_fattori].sum(axis=1).reset_index()\n",
    "\n",
    "ammontare_redditi_percentuale[ammontare_fattori]= redditi_interesse[ammontare_fattori].div(\n",
    "    redditi_tot[0], axis='index'\n",
    ")\n",
    "ammontare_redditi_percentuale"
   ]
  },
  {
   "cell_type": "code",
   "execution_count": null,
   "metadata": {
    "scrolled": false
   },
   "outputs": [],
   "source": [
    "data_ammontare = []\n",
    "for x,y,name in ammontare_reddito_scaglioni:\n",
    "    bar = go.Bar(\n",
    "        x = ammontare_redditi_percentuale[x],\n",
    "        y = ammontare_redditi_percentuale[y],\n",
    "        name = name\n",
    "    )\n",
    "    data_ammontare.append(bar)\n",
    "\n",
    "layout = go.Layout(\n",
    "    title='Distribuzione per Fasce di Contribuzione - Ammontare',\n",
    "    xaxis=dict(\n",
    "        title='Regioni',\n",
    "    ),\n",
    "    yaxis=dict(\n",
    "        title='Percentuale',\n",
    "    ),\n",
    "    barmode='stack'\n",
    ")\n",
    "\n",
    "fig = go.Figure(layout=layout, data=data_ammontare)\n",
    "py.iplot(fig)\n",
    "\n",
    "fig_path = 'imgs/percentuale_contribuenti_reddito_ammontare.png'\n",
    "py_on.image.save_as(fig, filename=fig_path)\n",
    "x = Image(fig_path)\n",
    "display(x)\n",
    "\n",
    "\n",
    "# figs = tools.make_subplots(rows=1, cols=2, shared_xaxes=True, shared_yaxes=True)\n",
    "# for d in data_frequenza:\n",
    "#     figs.append_trace(d,1,1)\n",
    "# for d in data_ammontare:\n",
    "#     figs.append_trace(d,1,2)   \n",
    "\n",
    "# py.iplot(figs)"
   ]
  },
  {
   "cell_type": "code",
   "execution_count": null,
   "metadata": {},
   "outputs": [],
   "source": [
    "ammontare_redditi_percentuale"
   ]
  },
  {
   "cell_type": "markdown",
   "metadata": {},
   "source": [
    "\n",
    "Per avere una visione comparabile delle voci di reddito possiamo analizzarle anche sotto forma di **line chart**\n",
    "\n",
    "#### Line Chart\n"
   ]
  },
  {
   "cell_type": "code",
   "execution_count": null,
   "metadata": {},
   "outputs": [],
   "source": [
    "trasposta = ammontare_redditi_percentuale.T\n",
    "trasposta.columns = trasposta.iloc[0]\n",
    "trasposta = trasposta.iloc[1:,:]\n",
    "\n",
    "columns_dict = {d:v for _, d, v in ammontare_reddito_scaglioni}\n",
    "line_x = [columns_dict[k] for k in trasposta.index]\n",
    "line_x\n",
    "\n",
    "line_data = []\n",
    "for c in trasposta:\n",
    "    data = trasposta[c].values\n",
    "    line_data.append(\n",
    "        go.Scatter(\n",
    "            x=line_x,\n",
    "            y=data, \n",
    "            name=c,     \n",
    "            fill='tozeroy',\n",
    "            mode= 'none'\n",
    "        )\n",
    "    )\n",
    "\n",
    "layout = go.Layout(\n",
    "    title='Distribuzione per Fasce di Contribuzione - Ammontare',\n",
    ")\n",
    "    \n",
    "fig = go.Figure(layout=layout, data=line_data)\n",
    "py.iplot(fig)\n",
    "\n",
    "fig_path = 'imgs/percentuale_contribuenti_reddito_line.png'\n",
    "py_on.image.save_as(fig, filename=fig_path)\n",
    "x = Image(fig_path)\n",
    "display(x)\n"
   ]
  },
  {
   "cell_type": "markdown",
   "metadata": {},
   "source": [
    "Da qui possiamo vedere ancora meglio come la Lombardia abbia una distribuzione dei valori diversa da quelle di Puglia e Campania."
   ]
  },
  {
   "cell_type": "markdown",
   "metadata": {},
   "source": [
    "## Confronto Liguria e Veneto\n",
    "\n",
    "A questo punto sembra interessante controntare la Liguria e il Veneto per capire da cosa possa derivare una cosi' grande discrepanza.\n",
    "Prendiamo in considerazione i costi sostenuti dalle due regioni per i vari servizi."
   ]
  },
  {
   "cell_type": "code",
   "execution_count": null,
   "metadata": {},
   "outputs": [],
   "source": [
    "df_regione_tot = df.groupby(df.Regione).sum() / 4\n",
    "\n",
    "regioni_confronto = ['LIGURIA','VENETO']\n",
    "voci_di_costo = [v for v in df_regione_tot.columns if v.startswith('SPESA')]\n",
    "voci_di_cost_desc = [\n",
    "    'riscossione tributi',\n",
    "    'ufficio tecnico',\n",
    "    'anagrafe, stato civile',\n",
    "    'altri servizi',\n",
    "    'polizia locale',\n",
    "    'istruzione',\n",
    "    \"viabilita'\",\n",
    "    \"trasporti\",\n",
    "    \"territorio\",\n",
    "    \"ambiente\",\n",
    "    \"sociale\",\n",
    "    \"asili nido\",\n",
    "]"
   ]
  },
  {
   "cell_type": "code",
   "execution_count": null,
   "metadata": {},
   "outputs": [],
   "source": [
    "df_regione_spesa_perc = df_regione_tot[voci_di_costo].div(df_regione_tot['SPESA_CCC_tot'], axis='index')"
   ]
  },
  {
   "cell_type": "code",
   "execution_count": null,
   "metadata": {},
   "outputs": [],
   "source": [
    "df_regione_spesa_perc = df_regione_spesa_perc.drop('SPESA_CCC_tot', axis=1)\n",
    "df_regione_spesa_perc.columns = voci_di_cost_desc"
   ]
  },
  {
   "cell_type": "code",
   "execution_count": null,
   "metadata": {},
   "outputs": [],
   "source": [
    "df_regione_spesa_perc_an = df_regione_spesa_perc.loc[regioni_confronto]\n",
    "df_regione_spesa_perc_an = df_regione_spesa_perc_an.reset_index()\n",
    "df_regione_spesa_perc_an"
   ]
  },
  {
   "cell_type": "code",
   "execution_count": null,
   "metadata": {},
   "outputs": [],
   "source": [
    "data = []\n",
    "for c in df_regione_spesa_perc_an.columns.values[1:]:\n",
    "    bar = go.Bar(\n",
    "        x = regioni_confronto,\n",
    "        y = df_regione_spesa_perc_an[c],\n",
    "        name = c\n",
    "    )\n",
    "    data.append(bar)\n",
    "\n",
    "layout = go.Layout(\n",
    "    title='Percentuale Costi per Tipologia di Servizio',\n",
    "    xaxis=dict(\n",
    "        title='Regioni',\n",
    "    ),\n",
    "    yaxis=dict(\n",
    "        title='Percentuale',\n",
    "    )\n",
    ")\n",
    "\n",
    "fig = go.Figure(layout=layout, data=data)\n",
    "py.iplot(fig)\n",
    "\n",
    "fig_path = 'imgs/costo_per_servizio.png'\n",
    "py_on.image.save_as(fig, filename=fig_path)\n",
    "x = Image(fig_path)\n",
    "display(x)"
   ]
  },
  {
   "cell_type": "code",
   "execution_count": null,
   "metadata": {},
   "outputs": [],
   "source": [
    "df_regione_spesa_perc_reset = df_regione_spesa_perc.reset_index()"
   ]
  },
  {
   "cell_type": "code",
   "execution_count": null,
   "metadata": {},
   "outputs": [],
   "source": [
    "fig = ff.create_scatterplotmatrix(\n",
    "    df_regione_spesa_perc_reset.iloc[:,0:5], \n",
    "    index='Regione',\n",
    "    height=800, width=800)\n",
    "py.iplot(fig)"
   ]
  },
  {
   "cell_type": "code",
   "execution_count": null,
   "metadata": {},
   "outputs": [],
   "source": []
  },
  {
   "cell_type": "code",
   "execution_count": null,
   "metadata": {},
   "outputs": [],
   "source": []
  },
  {
   "cell_type": "markdown",
   "metadata": {},
   "source": [
    "### Q-Q Plot"
   ]
  },
  {
   "cell_type": "code",
   "execution_count": null,
   "metadata": {},
   "outputs": [],
   "source": [
    "column = df_regione_spesa_perc['riscossione tributi']\n",
    "data = []\n",
    "for k,v in column.iteritems():\n",
    "    data.append(\n",
    "        go.Scatter(\n",
    "            x = [v],\n",
    "            y = [v],\n",
    "            name = k\n",
    "        )\n",
    "    )\n",
    "    \n",
    "layout = go.Layout(\n",
    "    title='Percentuale Costi per Riscossione Tributi',\n",
    ")\n",
    "    \n",
    "fig = go.Figure(layout=layout, data=data)\n",
    "py.iplot(fig)"
   ]
  },
  {
   "cell_type": "code",
   "execution_count": null,
   "metadata": {},
   "outputs": [],
   "source": []
  },
  {
   "cell_type": "code",
   "execution_count": null,
   "metadata": {},
   "outputs": [],
   "source": []
  }
 ],
 "metadata": {
  "kernelspec": {
   "display_name": "Python 3",
   "language": "python",
   "name": "python3"
  },
  "language_info": {
   "codemirror_mode": {
    "name": "ipython",
    "version": 3
   },
   "file_extension": ".py",
   "mimetype": "text/x-python",
   "name": "python",
   "nbconvert_exporter": "python",
   "pygments_lexer": "ipython3",
   "version": "3.6.4"
  }
 },
 "nbformat": 4,
 "nbformat_minor": 2
}
