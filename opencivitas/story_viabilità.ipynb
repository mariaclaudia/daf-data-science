{
 "cells": [
  {
   "cell_type": "markdown",
   "metadata": {},
   "source": [
    "# La viabilità nei comuni italiani\n",
    "## Analisi della differenza percentuale tra spesa storica e fabbisogno\n",
    "\n",
    "Quante volte il numero di buche incontrate su una strada viene utilizzato come indicatore per valutare l'operato di un sindaco? Sicuramente, il mantenimento della città assicurando ai cittadini delle infrastrutture funzionali e funzionanti, strade non dissestate richiede un impegno economico non banale.\n",
    "Tra le voci di bilancio di un comune italiano rientra quella di viabilità. Questa voce comprende, non solo i costi dell'asfalto per ricoprire le buche sulle strade, bensì anche tutti i costi relativi agli interventi infrastrutturali necessari per migliorare la mobilità urbana.\n",
    "In questo approfondimento poniamo l'attenzione su un indicatore fornito dai dati OpenCivitas: la differenza percentuale tra spesa storica e fabbisogni standard rispetto ai fabbisogni dei comuni italiani, con riferimento alla spesa ed al fabbisogno relativi alla viabilità. \n",
    "\n",
    "La variabile è confrontata con:\n",
    "\n",
    "* La differenza percentuale tra servizi offerti/storici e servizi standard.\n",
    "* Spesa viabilità pro-capite.\n",
    "* Il reddito medio registrato nel comuni.\n",
    "\n",
    "\n",
    "Lo scopo di questi confronti è verificare la presenza di caratteristiche simili tra comuni appartenenti a diverse fasce di differenza spesa fabbisogni.\n",
    "\n",
    "\n",
    "In particolare, le fasce vengono definite come segue:\n",
    "\n",
    "* __Fascia 2__: La differenza percentuale è maggiore di 100, il che descrive che la spesa è almeno due volte i fabbisogni del comune.\n",
    "\n",
    "* __Fascia 1__: La differenza percentuale è compresa tra 15 e 100, quindi la spesa non più di due volte più grande dei fabbisogni.\n",
    "\n",
    "* __Fascia 0__: La differenza percentuale è compresa tra -15 e 15, quindi la spesa è di poco più grande o più piccola dei fabbisogni standard, definiamo questa fascia come fascia di *\"equilibrio\"* tra spesa e fabbisogno.\n",
    "\n",
    "* __Fascia -1__: La differenza percentuale è compresa tra -15 e -50, quindi i fabbisogni sono tra una e due volte più grande della spesa.\n",
    "\n",
    "* __Fascia -2__: La differenza percentuale è compresa tra -15 e -100, il che descrive che i fabbisogni sono almeno due volte la spesa del comune.\n",
    "\n",
    "\n",
    "In generale, quando la voce spesa eccede quella dei fabbisogni, possiamo ipotizzare la presenza di sprechi. Al contrario, quando i fabbisogni eccedono la spesa, sono stati offerti meno servizi ai cittadini?\n",
    "\n",
    "\n",
    "Prima di scendere nel dettaglio di analisi si elencano alcuni risultati dell'analisi e quella che potrebbe essere una prosecuzione del lavoro.\n",
    "\n",
    "__Cosa si evince dall'analisi:__\n",
    "\n",
    "- I comuni che hanno la voce spesa minore del fabbisogno sono localizzati perlopiù nell'area Centro-Sud della penisola.\n",
    "- I comuni nel Nord Italia registrano, in proporzioni simili, la spesa ed il fabbisogno in equilibri e la spesa maggiore del fabbisogno al massimo del 100%.\n",
    "\n",
    "- La presenza di un'associazione statistica tra: differenza spesa storica/fabbisogno standard e la regione di appartenenza del comune.\n",
    "\n",
    "- Differenziando i comuni per regione di appartenenza, si osserva che la percentuale di comuni che registrano spese in eccesso rispetto al fabbisogno e che offrono meno servizi degli standard è inferiore al 20% per tutte le regioni. Ciò potrebbe fare intendere che il restante ammontare di comuni, per ogni regione, spende più del dovuto ed eroga un numero di servizi maggiore rispetto gli standard. Tra il 2010 ed il 2013 la situazione di modifica in modo negativo in quanto la percentuale di comuni che registrano spese in eccesso rispetto al fabbisogno e che offrono più servizi degli standard è aumentata in ogni regione. \n",
    "\n",
    "- Per ogni regione, il numero di comuni che riesce ad erogare un quantità di servizi superiori allo standard, quando le spese ed il fabbisogno sono in equilibrio, sono pochi e si riducono tra il 2010 ed il 2013.\n",
    "\n",
    "- Come, intuitivamente, ci si potrebbe aspettare, la spesa pro-capite risulta essere maggiore per i comuni la cui bilancia tra spesa e fabbisogni è a favore della spesa.\n",
    "\n",
    "- In generale, nei comuni il cui reddito medio è più basso, la spesa del comune diminuisce e non copre i fabbisogni.\n",
    "\n",
    "- Per quasi tutte le regioni, la proporzione di abitanti appartenenti ad una determinata fascia di reddito non sembra variare al variare della fascia (differenza spesa fabbisogno).\n",
    " \n",
    "\n",
    "__Possibili ulteriori analisi:__\n",
    "\n",
    "- Esplorare le caratteristiche stradali e organizzative dei comuni che rilevano equilibrio tra spesa e fabbisogno e servizi superiori allo standard. L'obiettivo sarebbe quello di identidicare dei comuni \"modello\".\n",
    "\n",
    "- Studiare l'andamento del reddito rispetto alla differenza servizi offerti/storici e i servizi standard. Infatti, sarebbe bello poter osservare che i servizi offerti dai comuni dove il reddito personale è più basso, sono di più rispetto i servizi standard. \n",
    "\n",
    " \n",
    "\n",
    "\n",
    "\n",
    "### Indice\n",
    "1. [Anno 2010](#2010)    \n",
    "    1. [Differenza percentuale tra spesa storica e fabbisogno standard](#par1.2)   \n",
    "    2. [Differenza spesa e fabbisogno a confronto con la differenza tra servizi offerti e servizi standard](#par1.3)  \n",
    "    3. [Spesa pro-capite: distribuzione sulle fasce](#par1.1)      \n",
    "    4. [Caratteristiche di reddito dei comuni appartenenti a diverse fasce](#par1.4)\n",
    "\n",
    "2. [Anno 2013 e confronto con 2010](#2013)   \n",
    "    1. [Differenza percentuale tra spesa storica e fabbisogno standard](#par2.2)\n",
    "    2. [Differenza spesa e fabbisogno a confronto con la differenza tra servizi offerti e servizi standard](#par2.3)    \n",
    "    3. [Spesa pro-capite: distribuzione sulle fasce](#par2.1)\n",
    "    4. [Caratteristiche di reddito dei comuni appartenenti a diverse fasce](#par2.4)\n"
   ]
  },
  {
   "cell_type": "markdown",
   "metadata": {},
   "source": [
    "## Anno 2010 <a name=\"#2010\"></a>"
   ]
  },
  {
   "cell_type": "markdown",
   "metadata": {},
   "source": [
    "### 1.1. Differenza percentuale tra spesa storica e fabbisogno standard  <a name='par1.2'></a>\n",
    "\n",
    "Dipendentemente dal valore della differenza tra spesa storica e fabbisogno standard, definiamo ogni comune appartenente ad una delle fasce che abbiamo descritto sopra.\n",
    "\n",
    "Il ~37% dei comuni italiani registra un'eccedenza della spesa rispetto al fabbisogno, di questi comuni il ~12% vede un'eccedenza maggiore di due volte i fabbisogni. \n",
    "\n",
    "Nel complesso, meno della metà (~27%) dei comuni ha un'eccezenza di spesa/fabbisogno che può essere ritenuta trascurabile.\n",
    "\n",
    "Il resto dei comuni non ha effettuato spese di viabilità che rispondono ai fabbisogni standard."
   ]
  },
  {
   "cell_type": "code",
   "execution_count": 1,
   "metadata": {
    "collapsed": false
   },
   "outputs": [
    {
     "data": {
      "text/html": [
       "\n",
       "        <iframe\n",
       "            width=\"800\"\n",
       "            height=\"700\"\n",
       "            src=\"imgs/fasce_2010.pdf\"\n",
       "            frameborder=\"0\"\n",
       "            allowfullscreen\n",
       "        ></iframe>\n",
       "        "
      ],
      "text/plain": [
       "<IPython.lib.display.IFrame at 0x105b2eb70>"
      ]
     },
     "execution_count": 1,
     "metadata": {},
     "output_type": "execute_result"
    }
   ],
   "source": [
    "from IPython.display import IFrame\n",
    "IFrame(\"imgs/fasce_2010.pdf\", width=800, height=700)"
   ]
  },
  {
   "cell_type": "markdown",
   "metadata": {},
   "source": [
    "Con riferimento alle regioni a statuto indipendente verifichiamo la distribuzione dei comuni di ogni regione sulle 5 fasce."
   ]
  },
  {
   "cell_type": "code",
   "execution_count": 2,
   "metadata": {
    "collapsed": false
   },
   "outputs": [
    {
     "data": {
      "text/html": [
       "\n",
       "        <iframe\n",
       "            width=\"800\"\n",
       "            height=\"600\"\n",
       "            src=\"imgs/fasce_regioni_2010.pdf\"\n",
       "            frameborder=\"0\"\n",
       "            allowfullscreen\n",
       "        ></iframe>\n",
       "        "
      ],
      "text/plain": [
       "<IPython.lib.display.IFrame at 0x105b2efd0>"
      ]
     },
     "execution_count": 2,
     "metadata": {},
     "output_type": "execute_result"
    }
   ],
   "source": [
    "IFrame(\"imgs/fasce_regioni_2010.pdf\", width=800, height=600)"
   ]
  },
  {
   "cell_type": "markdown",
   "metadata": {},
   "source": [
    "Si osserva che per le regioni collocate nell'area Centro/Sud della penisola:\n",
    "* Abruzzo, Lazio, Toscana ed Umbria (Centro)\n",
    "* Basilicata, Calabria, Molise e Puglia (Sud)\n",
    "\n",
    "La fascia che contiene il maggior numero di comuni è la Fascia -1, che quindi segnala una presenza preponderante di comuni che spendono meno di quanto sia necessario per rispondere ai fabbisogni standard del comune a tema viabilità. In particolare poniamo l'accento sulla posizione della Basilicata che vede ~75% (tra fascia -1 e fascia -2) dei comuni in questa situazione. Lo stesso avviene per il molise la cui percentuale è un po' più bassa (~65%).\n",
    "\n",
    "Al contrario, per le regioni situate nell'area settentrionale della penisola, le fasce più consistenti sono quelle che includono i comuni con la differenza spesa-fabbisogno in equilibrio e con la spesa superiore al fabbisogno.\n",
    "\n",
    "Pertanto, già in questa prima fase di analisi sembra che vi siano delle differenze tra spese e fabbisogni a seconda che i comuni appartengano a regioni del Sude, Nord o Centro Italia. \n",
    "\n",
    "Verifichiamo anche statisticamente la presenza o meno di un'associazione tra la differenza spesa/fabbisogno e l'appartenenza dei comuni ad una regione specifica.\n",
    "\n",
    "A tal proposito, si è svolto un test Chi-quadro che ha confermato la presenza di un'assogniazione tra le due variabili sopracitate."
   ]
  },
  {
   "cell_type": "markdown",
   "metadata": {},
   "source": [
    "### 1.2. Differenza spesa e fabbisogno a confronto con la differenza tra servizi storici e servizi standard <a name='par1.3'></a>"
   ]
  },
  {
   "cell_type": "markdown",
   "metadata": {},
   "source": [
    "A questo punto, avendo notato che in delle regioni (soprattutto quelle settentrionali) la spesa per la viabilità, in ~50% dei comuni, eccede i fabbisogno, cerchiamo di capire se ad una spesa più elevata del bisogno corrisponde una maggiore offerta di servizi, rispetto agli standard.\n",
    "\n",
    "Nella fattispecie, per ogni regione calcoliamo il la percentuale di comuni che registrano avere una spesa superiore al fabbisogno e che, però, offrono servizi inferiore agli standard."
   ]
  },
  {
   "cell_type": "code",
   "execution_count": 3,
   "metadata": {
    "collapsed": false
   },
   "outputs": [
    {
     "data": {
      "text/html": [
       "\n",
       "        <iframe\n",
       "            width=\"800\"\n",
       "            height=\"600\"\n",
       "            src=\"imgs/spesa_servizio_neg_2010.pdf\"\n",
       "            frameborder=\"0\"\n",
       "            allowfullscreen\n",
       "        ></iframe>\n",
       "        "
      ],
      "text/plain": [
       "<IPython.lib.display.IFrame at 0x105b50080>"
      ]
     },
     "execution_count": 3,
     "metadata": {},
     "output_type": "execute_result"
    }
   ],
   "source": [
    "IFrame(\"imgs/spesa_servizio_neg_2010.pdf\", width=800, height=600)"
   ]
  },
  {
   "cell_type": "markdown",
   "metadata": {},
   "source": [
    "Nelle regioni con alta percentuale di comuni con spesa in eccesso rispetto al fabbisogno standard, come Lombardia ed Emilia-Romagna,  tra il 12% ed il 22% dei comuni offre servizi inferiori agli standard. \n",
    "\n",
    "In questi casi, l'eccesso di spesa non è spiegato dai servizi che il comune offre. Pertanto le spese in più potrebbero quasi considerarsi come \"non spiegate\".\n",
    "\n",
    "In generale, nonostante i comuni con spesa superiore al fabbisogno siano di meno al Centro ed al Sud, vediamo che in alcune regioni più di ~7% dei comuni non offere servizi extra rispetto agli standard.\n",
    "\n",
    "\n",
    "D'altro canto, è interessante identificare le regioni, i cui comuni pur mostrando un equilibrio tra spesa e fabbisogno sono capaci di fornire più servizi rispetto gli standard. Ottenere questa informazione potrebbe essere molto interessante in quanto, identificando le strategie usate da questi comuni si potrebbe procedere alla definizione di \"modelli\" da seguire.\n",
    "\n",
    "Quindi, mostriamo per ogni regione la percentuale di comuni che registra \"equilibrio\" tra spesa e fabbisogni e che offre più servizi rispetto agli standard."
   ]
  },
  {
   "cell_type": "code",
   "execution_count": 4,
   "metadata": {
    "collapsed": false
   },
   "outputs": [
    {
     "data": {
      "text/html": [
       "\n",
       "        <iframe\n",
       "            width=\"800\"\n",
       "            height=\"600\"\n",
       "            src=\"imgs/spesa_servizi_pos_2010.pdf\"\n",
       "            frameborder=\"0\"\n",
       "            allowfullscreen\n",
       "        ></iframe>\n",
       "        "
      ],
      "text/plain": [
       "<IPython.lib.display.IFrame at 0x105b50048>"
      ]
     },
     "execution_count": 4,
     "metadata": {},
     "output_type": "execute_result"
    }
   ],
   "source": [
    "IFrame(\"imgs/spesa_servizi_pos_2010.pdf\", width=800, height=600)"
   ]
  },
  {
   "cell_type": "markdown",
   "metadata": {},
   "source": [
    "In Abruzzo, Emilia-Romagna, Piemonte e Toscana più del 10% dei comuni si trova nella situazione precedentemente descritta.\n",
    "\n",
    "Il Lazio risulta essere la regione con la più bassa percentuale di comuni (~2%). In generale, le percentuali più basse si osservano per le regioni del Sud. Difatti, essendo le regioni in cui per la gran parte dei casi i comuni spendono meno del fabbisogno, era difficile immaginare che molti comuni riuscirrero ad erogare più servizi dello standard non eccedendo nelle spese.\n",
    "\n",
    "Sull'onda di questa analisi, con l'intendo di fornire i \"modelli\" di comune, prima nominati, sarebbe interessante esplorare le caratteristiche stradali e organizzative di questi comuni che spendendo poco e rispondendo ai fabbisogni standard offrono servizi superiori allo standard."
   ]
  },
  {
   "cell_type": "markdown",
   "metadata": {},
   "source": [
    "### 1.3. Spesa pro-capite: distribuzione sulle fasce e regioni <a name=\"#par1.1\"></a>"
   ]
  },
  {
   "cell_type": "markdown",
   "metadata": {},
   "source": [
    "Immaginando che la spesa pro-capite sia inferiore per la fasce con fabbisogno superiore alla spesa, vediamo se ciò è riportato dei numeri che abbiamo."
   ]
  },
  {
   "cell_type": "code",
   "execution_count": 6,
   "metadata": {
    "collapsed": false
   },
   "outputs": [
    {
     "data": {
      "text/html": [
       "\n",
       "        <iframe\n",
       "            width=\"800\"\n",
       "            height=\"600\"\n",
       "            src=\"imgs/procapite_fasce_2010.pdf\"\n",
       "            frameborder=\"0\"\n",
       "            allowfullscreen\n",
       "        ></iframe>\n",
       "        "
      ],
      "text/plain": [
       "<IPython.lib.display.IFrame at 0x105b50198>"
      ]
     },
     "execution_count": 6,
     "metadata": {},
     "output_type": "execute_result"
    }
   ],
   "source": [
    "IFrame(\"imgs/procapite_fasce_2010.pdf\", width=800, height=600)"
   ]
  },
  {
   "cell_type": "markdown",
   "metadata": {},
   "source": [
    "Effettivamente vediamo che quanto immaginato può essere osservato nel grafico. Infatti, il 50% dei comuni che si trovano in fascia 2, registra un reddito pro-capite di ~140 euro. In più, si osserva che la spesa pro-capite nelle fasce 1 e 2 ha una più alta variabilità delle altre fasce. Questo ci fa immaginare che di fronte ad un grande eccesso della spesa rispetto al fabbisogno, non corrisponde necessariamente un'alta spesa pro-capite.\n",
    "\n",
    "Per i comuni con livello di spesa e fabbisogno in equilibrio la spesa pro-capite varia tra i 10 e poco più di 100 euro.\n",
    "\n",
    "\n",
    "Se studiamo come la spesa pro-capite varia nelle varie regioni, si osserva che le regioni il cui 50% dei comuni registra la spesa pro-capite più alta, ~70/75 euro, sono il Piemonte e la Liguria. Allo stesso tempo, vediamo che, per entrambe le regioni, la forbice di spesa pro-capite è la più ampia. \n",
    "\n",
    "La regione il cui 50% dei comuni osserva la minore spesa pro-capite, 30 euro, è invece la Puglia. Seguita da Basilicata, Calabria, Campania, Toscana e Veneto il cui 50% dei comuni non superano i 50 euro di spesa pro-capite."
   ]
  },
  {
   "cell_type": "code",
   "execution_count": 7,
   "metadata": {
    "collapsed": false
   },
   "outputs": [
    {
     "data": {
      "text/html": [
       "\n",
       "        <iframe\n",
       "            width=\"800\"\n",
       "            height=\"600\"\n",
       "            src=\"imgs/procapite_regioni_2010.pdf\"\n",
       "            frameborder=\"0\"\n",
       "            allowfullscreen\n",
       "        ></iframe>\n",
       "        "
      ],
      "text/plain": [
       "<IPython.lib.display.IFrame at 0x105b500b8>"
      ]
     },
     "execution_count": 7,
     "metadata": {},
     "output_type": "execute_result"
    }
   ],
   "source": [
    "IFrame(\"imgs/procapite_regioni_2010.pdf\", width=800, height=600)"
   ]
  },
  {
   "cell_type": "markdown",
   "metadata": {},
   "source": [
    "### 1.4. Caratteristiche di reddito dei comuni appartenenti a diverse fasce <a name='par1.4'></a>\n",
    "\n",
    "Interessante è osservare le caratteristiche di reddito dei comuni appartenenti a diverse fasce. Pertanto, cerchiamo di capire la distribuzione del reddito rispetto alle fasce.\n",
    "\n",
    "Il reddito annuale medio dei comuni in \"equilibrio\" è circa 17'500 euro. Nelle fasce relative ad una spesa inferiore del fabbisogno il reddito descresce fino a 15'000 euro.\n",
    "\n",
    "Invece, per le fasce con spesa superiore ai fabbisogni il reddito medio diminuisce ma in modo meno netto. Non scendendo al di sotto dei 16'500 euro."
   ]
  },
  {
   "cell_type": "code",
   "execution_count": 8,
   "metadata": {
    "collapsed": false
   },
   "outputs": [
    {
     "data": {
      "text/html": [
       "\n",
       "        <iframe\n",
       "            width=\"800\"\n",
       "            height=\"600\"\n",
       "            src=\"imgs/reddito_medio_2010.pdf\"\n",
       "            frameborder=\"0\"\n",
       "            allowfullscreen\n",
       "        ></iframe>\n",
       "        "
      ],
      "text/plain": [
       "<IPython.lib.display.IFrame at 0x105b50438>"
      ]
     },
     "execution_count": 8,
     "metadata": {},
     "output_type": "execute_result"
    }
   ],
   "source": [
    "IFrame(\"imgs/reddito_medio_2010.pdf\", width=800, height=600)"
   ]
  },
  {
   "cell_type": "markdown",
   "metadata": {},
   "source": [
    "Per future analisi sarebbe interessante studiare l'andamento del reddito sulle fasce ottenute sulla differenza servizi offerti/storici e i servizi standard. Infatti, sarebbe bello vedere che i servizi offerti dai comuni dove il reddito personale è più basso, sono di più rispetto i servizi standard. Questo mostrerebbe il riguardo che i comunu hanno nel servire i propri cittadini.\n",
    "\n",
    "\n",
    "Per avere un'idea dell'andamento dei redditi sulle aree territoriali italiane, mostriamo per ogni regione e per ogni fascia la percentuale di comuni, sul totale dei comuni nella regione."
   ]
  },
  {
   "cell_type": "code",
   "execution_count": 9,
   "metadata": {
    "collapsed": false
   },
   "outputs": [
    {
     "data": {
      "text/html": [
       "\n",
       "        <iframe\n",
       "            width=\"1000\"\n",
       "            height=\"800\"\n",
       "            src=\"imgs/reddito_fasce_2010.pdf\"\n",
       "            frameborder=\"0\"\n",
       "            allowfullscreen\n",
       "        ></iframe>\n",
       "        "
      ],
      "text/plain": [
       "<IPython.lib.display.IFrame at 0x105b50208>"
      ]
     },
     "execution_count": 9,
     "metadata": {},
     "output_type": "execute_result"
    }
   ],
   "source": [
    "IFrame(\"imgs/reddito_fasce_2010.pdf\", width=1000, height=800)"
   ]
  },
  {
   "cell_type": "markdown",
   "metadata": {},
   "source": [
    "Una considerazione generale che può essere fatta è che  le regioni del Centro/Nord, come `Emilia-Romagna`, `Liguria`, `Lombardia`, `Piemonte`, `Toscana` e `Veneto`, la fascia di reddito in cui i cittadini si trovano è quella tra i 15 e 26 mila euro l'anno.\n",
    "\n",
    "\n",
    "In termini di `differenza spesa storica fabbisogni standard`, si nota che nel complesso la distribuzione dei redditi rispetto alle fasce, rimane la stessa al variare di quest'ultima.\n",
    "\n",
    "Le  regioni dove si osservano variazioni particolari sono:\n",
    "* Abruzzo: \n",
    "    - Mano a mano che la spesa si riduce, passando dall'eccesso al difetto, rispetto al fabbisogno, la percentuale di popolazione con reddito appartenente alle due fasce (0-10'000 e 10'000-15'000) diminuisce a favore delle classi di reddito superiori (15'000-26'000 e 26'000-55'000).\n",
    "    \n",
    "    \n",
    "* Basilicata:\n",
    "    - Quando la quantità di spesa diminuisce, fino all'equilibrio tra spesa e fabbisogno, la porzione di popolazione appartenente alla fascia di reddito 0-10'000 si riduce a favore della fascia di reddito 15'000-26'000.\n",
    "    - Andamento opposto si verifica quando il fabbisogno cresce ed eccede la spesa.\n",
    "\n",
    "\n",
    "In generale, la composizione delle fasce di reddito nelle varie fasce non mostra cambiamenti significativi. Pertanto, in termini di variabilità reddito medio dei cittadini e differenza tra spesa e fabbisogni non sembrano avere una relazione."
   ]
  },
  {
   "cell_type": "markdown",
   "metadata": {},
   "source": [
    "## Anno 2013 e confronto con 2010 <a name=\"2013\"></a>  \n",
    "\n",
    "Con l'obiettivo di confrontare la situazione del 2010 con quella del 2013, ripetiamo la stessa analisi per il nuovo anno (2013).Includendo una parte di confronto con il precedente anno in questione (2010).\n",
    "\n",
    "### 2.1. Differenza percentuale tra spesa storica e fabbisogno standard  <a name='par2.2'></a>"
   ]
  },
  {
   "cell_type": "markdown",
   "metadata": {},
   "source": [
    "La classifica delle fasce più popolate nel 2013 resta inviariata dispetto al 2010. Ciò che si osserva è un aumento della percentuale di comuni appartenenti alla fascia carattereizzata dall'equilibrio tra spesa e fabbisogni. Questo aumento va a discapito della fascia meno due la cui percentuale è scende al di sotto del 5%. \n",
    "\n",
    "Quanto si osserva può ritenersi incoraggiante, in quanto la fascia di equilibrio è quella che si auspica raccogliere più comuni in quanto: da una parte assicura ai cittadini che i fabbisogni siano soddisfatti, da un'altra prospettiva rende più sicura l'assenza di sprechi e spese non utili."
   ]
  },
  {
   "cell_type": "code",
   "execution_count": 10,
   "metadata": {
    "collapsed": false
   },
   "outputs": [
    {
     "data": {
      "text/html": [
       "\n",
       "        <iframe\n",
       "            width=\"800\"\n",
       "            height=\"500\"\n",
       "            src=\"imgs/fasce_1013.pdf\"\n",
       "            frameborder=\"0\"\n",
       "            allowfullscreen\n",
       "        ></iframe>\n",
       "        "
      ],
      "text/plain": [
       "<IPython.lib.display.IFrame at 0x105b50518>"
      ]
     },
     "execution_count": 10,
     "metadata": {},
     "output_type": "execute_result"
    }
   ],
   "source": [
    "IFrame(\"imgs/fasce_1013.pdf\", width=800, height=500)"
   ]
  },
  {
   "cell_type": "markdown",
   "metadata": {},
   "source": [
    "Calabria, Campagnia, Puglia ed Umbria risultano avere, rispetto al 2010 un maggior numero di comuni nella fascia 1. In particolare questo aumento è andato a discapito della fascia di equilibrio. \n",
    "\n",
    "In generale, con alcune eccezioni, sembra che la quantità di comuni il cui fabbisono è consistentemente inferiore alla spesa si sia ridotto tra le regioni. Effettivamente questa è la conferma ad una granularità più bassa di quanto osservato allo step precedente."
   ]
  },
  {
   "cell_type": "code",
   "execution_count": 11,
   "metadata": {
    "collapsed": false
   },
   "outputs": [
    {
     "data": {
      "text/html": [
       "\n",
       "        <iframe\n",
       "            width=\"800\"\n",
       "            height=\"600\"\n",
       "            src=\"imgs/fasce_regioni_2013.pdf\"\n",
       "            frameborder=\"0\"\n",
       "            allowfullscreen\n",
       "        ></iframe>\n",
       "        "
      ],
      "text/plain": [
       "<IPython.lib.display.IFrame at 0x105b50240>"
      ]
     },
     "execution_count": 11,
     "metadata": {},
     "output_type": "execute_result"
    }
   ],
   "source": [
    "IFrame(\"imgs/fasce_regioni_2013.pdf\", width=800, height=600)"
   ]
  },
  {
   "cell_type": "markdown",
   "metadata": {},
   "source": [
    "### 2.2. Differenza spesa e fabbisogno a confronto con la differenza tra servizi storici e servizi standard <a name='par2.3'></a>\n",
    "\n",
    "In questo senso, ciò che osserviamo confrontando il 2013 con il 2010 è che le percentuali di comuni che effettuano spese superiori al fabbisogno e che offrono servizi inferiori agli standard è aumentato rispetto al 2010. \n",
    "\n",
    "In particolar modo in Liguria si osserva l'aumento più consistente, ~10% di comuni in più."
   ]
  },
  {
   "cell_type": "code",
   "execution_count": 12,
   "metadata": {
    "collapsed": false
   },
   "outputs": [
    {
     "data": {
      "text/html": [
       "\n",
       "        <iframe\n",
       "            width=\"800\"\n",
       "            height=\"600\"\n",
       "            src=\"imgs/regione_neg_13.pdf\"\n",
       "            frameborder=\"0\"\n",
       "            allowfullscreen\n",
       "        ></iframe>\n",
       "        "
      ],
      "text/plain": [
       "<IPython.lib.display.IFrame at 0x105b50550>"
      ]
     },
     "execution_count": 12,
     "metadata": {},
     "output_type": "execute_result"
    }
   ],
   "source": [
    "IFrame(\"imgs/regione_neg_13.pdf\", width=800, height=600)"
   ]
  },
  {
   "cell_type": "markdown",
   "metadata": {},
   "source": [
    "Purtroppo, in modo opposto, la percentuale di comuni in equilibrio e che offrono più servizi rispetto gli standard è diminuito in tutte le regioni eccetto che nel Lazio. \n",
    "\n",
    "In linea con quanto detto precedentemente, si è ridotto il numero di comuni che potrebbero essere studiati per trovare un modello di comune da seguire (sempre per la viabilità)."
   ]
  },
  {
   "cell_type": "code",
   "execution_count": 13,
   "metadata": {
    "collapsed": false
   },
   "outputs": [
    {
     "data": {
      "text/html": [
       "\n",
       "        <iframe\n",
       "            width=\"800\"\n",
       "            height=\"600\"\n",
       "            src=\"imgs/servizio_neg_13.pdf\"\n",
       "            frameborder=\"0\"\n",
       "            allowfullscreen\n",
       "        ></iframe>\n",
       "        "
      ],
      "text/plain": [
       "<IPython.lib.display.IFrame at 0x105b502b0>"
      ]
     },
     "execution_count": 13,
     "metadata": {},
     "output_type": "execute_result"
    }
   ],
   "source": [
    "IFrame(\"imgs/servizio_neg_13.pdf\", width=800, height=600)"
   ]
  },
  {
   "cell_type": "markdown",
   "metadata": {},
   "source": [
    "### 2.3. Spesa pro-capite: distribuzione sulle fasce <a name=\"par2.1\"></a>"
   ]
  },
  {
   "cell_type": "markdown",
   "metadata": {},
   "source": [
    "Nel 2013, i paesi la cui spesa supera di molto i fabbisogni registrano la più altra spesa pro-capite, che va a diminuire quando la spesa diventa inderiore al fabbisogno (fasce -1 e -2).\n",
    "\n",
    "Pertanto, l'andamento resta lo stesso di quello che trovavamo nel 2010. La differenza principale tra 2010 e 2013 è che in generale nel 2013 si riscontra un aumento complessivo della spessa pro-caite. Questo vale per le fasce: 0, 1, 2. \n",
    "Per quanto riguarda i comuni il cui fabbisogno è maggiore della spesa, il 50% registra una spesa pro-capite inferiore ai 50 euro."
   ]
  },
  {
   "cell_type": "code",
   "execution_count": 14,
   "metadata": {
    "collapsed": false
   },
   "outputs": [
    {
     "data": {
      "text/html": [
       "\n",
       "        <iframe\n",
       "            width=\"800\"\n",
       "            height=\"600\"\n",
       "            src=\"imgs/procapite_fasce_2013.pdf\"\n",
       "            frameborder=\"0\"\n",
       "            allowfullscreen\n",
       "        ></iframe>\n",
       "        "
      ],
      "text/plain": [
       "<IPython.lib.display.IFrame at 0x105b50780>"
      ]
     },
     "execution_count": 14,
     "metadata": {},
     "output_type": "execute_result"
    }
   ],
   "source": [
    "IFrame(\"imgs/procapite_fasce_2013.pdf\", width=800, height=600)"
   ]
  },
  {
   "cell_type": "markdown",
   "metadata": {},
   "source": [
    "L'innalzamento della spesa pro-capite media la si osserva anche al livello di regioni. Infatti, nel 2013, la Puglia è l'unica regione la cui spesa è inferiore a 50 euro.\n",
    "\n",
    "Si evidenzia che il Veneto è l'unica regione del Nord dove il 50% dei comuni ha la spesa pro-capite non superiore a 50 euro."
   ]
  },
  {
   "cell_type": "code",
   "execution_count": 15,
   "metadata": {
    "collapsed": false
   },
   "outputs": [
    {
     "data": {
      "text/html": [
       "\n",
       "        <iframe\n",
       "            width=\"800\"\n",
       "            height=\"600\"\n",
       "            src=\"imgs/procapite_regioni_2013.pdf\"\n",
       "            frameborder=\"0\"\n",
       "            allowfullscreen\n",
       "        ></iframe>\n",
       "        "
      ],
      "text/plain": [
       "<IPython.lib.display.IFrame at 0x105b507b8>"
      ]
     },
     "execution_count": 15,
     "metadata": {},
     "output_type": "execute_result"
    }
   ],
   "source": [
    "IFrame(\"imgs/procapite_regioni_2013.pdf\", width=800, height=600)"
   ]
  },
  {
   "cell_type": "markdown",
   "metadata": {},
   "source": [
    "### 2.4. Caratteristiche di reddito dei comuni appartenenti a diverse fasce <a name='par2.4'></a>"
   ]
  },
  {
   "cell_type": "markdown",
   "metadata": {},
   "source": [
    "Nel 2013 si osserva un aumento complessivo dei redditi medi nei comuni italiani. In particolare, il reddito medio sembra descrescere al ridursi della spesa rispetto al fabbisogno.\n",
    "\n",
    "Di fatto, ciò che risulta è che nei comuni il cui reddito medio è più basso, la spesa del comune diminuisce. Se la spesa non copre i fabbisogni, ciò che ne risulta potrebbe essere una riduzione dell'offerta dei servizi, il che non è ciò che si aspetta in un comune il cui reddito medio dei cittadini è inferiore a comuni appartenenti a classe dove la spesa per la viabilità è più elevata.\n",
    "\n",
    "Si sottolinea che questo andamento è lo stesso che si osserva per l'anno 2010."
   ]
  },
  {
   "cell_type": "code",
   "execution_count": 16,
   "metadata": {
    "collapsed": false
   },
   "outputs": [
    {
     "data": {
      "text/html": [
       "\n",
       "        <iframe\n",
       "            width=\"800\"\n",
       "            height=\"600\"\n",
       "            src=\"imgs/reddito_medio_2013.pdf\"\n",
       "            frameborder=\"0\"\n",
       "            allowfullscreen\n",
       "        ></iframe>\n",
       "        "
      ],
      "text/plain": [
       "<IPython.lib.display.IFrame at 0x105b504e0>"
      ]
     },
     "execution_count": 16,
     "metadata": {},
     "output_type": "execute_result"
    }
   ],
   "source": [
    "IFrame(\"imgs/reddito_medio_2013.pdf\", width=800, height=600)"
   ]
  },
  {
   "cell_type": "markdown",
   "metadata": {},
   "source": [
    "Infine vediamo se nel 2013 è visibile una relazione tra la classe di reddito dei cittadini e la fascia di appartenenza.\n",
    "\n",
    "Anche nel 2013 non si nota il cambiamento delle proporzioni delle classi di reddito tra i cittadini al variare delle fasce. \n",
    "\n",
    "Come fatto in precedenza, può essere interessante osservare che:\n",
    "\n",
    "* L'Abruzzo registra:\n",
    "    - un aumento della popolazione con reddito tra 0 e 15'000 quando la spesa si avvicina al fabbisogno, e la riduzione delle classi di reddito più ricche.\n",
    "    - una riduzione della popolazione con reddito tra 0-15'000 quando la spesa è inferiore del fabbisogno.\n",
    "    \n",
    "Si sottolinea in oltre la presenza di due regioni: Molise ed Umbria, che non hanno comuni la cui spesa eccede più di due volte i fabbisogni."
   ]
  },
  {
   "cell_type": "code",
   "execution_count": 17,
   "metadata": {
    "collapsed": false
   },
   "outputs": [
    {
     "data": {
      "text/html": [
       "\n",
       "        <iframe\n",
       "            width=\"1000\"\n",
       "            height=\"800\"\n",
       "            src=\"imgs/reddito_fasce_2013.pdf\"\n",
       "            frameborder=\"0\"\n",
       "            allowfullscreen\n",
       "        ></iframe>\n",
       "        "
      ],
      "text/plain": [
       "<IPython.lib.display.IFrame at 0x105b50a20>"
      ]
     },
     "execution_count": 17,
     "metadata": {},
     "output_type": "execute_result"
    }
   ],
   "source": [
    "IFrame(\"imgs/reddito_fasce_2013.pdf\", width=1000, height=800)"
   ]
  },
  {
   "cell_type": "code",
   "execution_count": null,
   "metadata": {
    "collapsed": true
   },
   "outputs": [],
   "source": []
  }
 ],
 "metadata": {
  "kernelspec": {
   "display_name": "Python [Root]",
   "language": "python",
   "name": "Python [Root]"
  },
  "language_info": {
   "codemirror_mode": {
    "name": "ipython",
    "version": 3
   },
   "file_extension": ".py",
   "mimetype": "text/x-python",
   "name": "python",
   "nbconvert_exporter": "python",
   "pygments_lexer": "ipython3",
   "version": "3.5.2"
  }
 },
 "nbformat": 4,
 "nbformat_minor": 0
}
