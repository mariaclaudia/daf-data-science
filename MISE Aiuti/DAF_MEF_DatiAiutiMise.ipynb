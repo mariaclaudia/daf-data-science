{
 "cells": [
  {
   "cell_type": "markdown",
   "metadata": {},
   "source": [
    "<img src=\"./img/LogoMise.png\">\n"
   ]
  },
  {
   "cell_type": "markdown",
   "metadata": {},
   "source": [
    "# Registro nazionale Aiuti di Stato\n",
    "\n",
    "## Ministero dello Sviluppo economico\n",
    "\n",
    "## Agenzia per la Coesione Territoriale\n",
    "\n",
    "## Ministero del Lavoro e delle Politiche Sociali\n",
    "\n",
    "## UE: \n",
    "\n",
    "* ### [FSE Fondo Sociale Europeo](http://ec.europa.eu/esf/main.jsp?catId=35&langId=it) \n",
    "\n",
    "* ### [FESR Fondo Europeo di Sviluppo Regionale](http://ec.europa.eu/regional_policy/index.cfm/it/funding/erdf/)\n",
    "\n",
    "### Registro:\n",
    "\n",
    "A partire dall'**agosto 2017** è stato introdotto il [**\"Registro Nazionale Aiuti di Stato\"**](http://www.sviluppoeconomico.gov.it/index.php/it/198-notizie-stampa/2036901-registro-nazionale-aiuti-di-stato).\n",
    "\n",
    "Il nuovo Registro è operativo dal 12 agosto 2017 sul sito http://www.rna.gov.it\n",
    "\n",
    "[Decreto direttoriale 28 luglio 2017 – Tracciati relativi ai dati e informazioni da trasmettere al Registro nazionale Aiuti e modalità tecniche e protocolli di comunicazione per l'interoperabilità con i sistemi informatici](http://www.sviluppoeconomico.gov.it/index.php/it/component/organigram/?view=structure&id=567)\n",
    "\n",
    "Il registro Nazionale Aiuti di Stato è il **primo strumento informatizzato attivato da un Paese membro** per il **controllo** e la pubblicità degli aiuti di Stato, Il Registro permette di verificare che le agevolazioni pubbliche siano concesse nel rispetto delle disposizioni previste dalla normativa comunitaria, specie al fine di evitare il cumulo dei benefici e, nel caso degli aiuti de minimis, il superamento del massimale di aiuto concedibile imposto dall’Unione europea.\n",
    "\n",
    "Lo strumento consente, inoltre, a tutte le amministrazioni pubbliche titolari di misure di aiuto di effettuare i controlli amministrativi necessari con modalità automatiche, grazie al rilascio di specifiche “visure” che recano l’elencazione dei benefici di cui l’impresa ha già goduto negli ultimi esercizi evitando, in tal modo, duplicazioni di interventi da parte di diverse amministrazioni e scongiurando il superamento dei limiti massimi concedibili a ciascuna impresa imposti dalla disciplina UE.\n",
    "\n",
    "Il Registro è già interconnesso con molti sistemi informativi fra i quali il Registro delle imprese, per l’acquisizione di informazioni relative ai soggetti beneficiari degli aiuti e con i registri SIAN  e SIPA sui quali continueranno ad essere inseriti gli elementi relativi agli aiuti relativi ai settori dell’agricoltura e della pesca.\n",
    "\n",
    "Vedi: [Divisione III - Monitoraggio e controllo degli interventi, servizi informatici](http://www.sviluppoeconomico.gov.it/index.php/it/component/organigram/?view=structure&id=567)\n",
    "\n",
    "### [FSE Fondo Sociale Europeo](http://ec.europa.eu/esf/main.jsp?catId=35&langId=it) \n",
    "\n",
    "L'Italia sta utilizzando i finanziamenti dell'FSE per incrementare le opportunità lavorative (in particolare per i giovani), aiutare i gruppi svantaggiati, affinare le competenze della forza lavoro, potenziare i sistemi nazionali di istruzione e formazione e migliorare le capacità amministrative.\n",
    "\n",
    "Il Fondo sociale europeo (FSE) è il principale strumento utilizzato dall’UE per sostenere l'**occupazione**, aiutare i cittadini a trovare posti di lavoro migliori e assicurare opportunità lavorative più eque per tutti. A questo fine, l’FSE investe nel capitale umano dell’Europa: i lavoratori, i giovani e chi è alla ricerca di un lavoro. Grazie a una dotazione di **10 miliardi di euro l’anno**, l’FSE aumenta le prospettive occupazionali di milioni di cittadini europei, prestando particolare attenzione a chi incontra maggiori difficoltà a trovare lavoro.\n",
    "\n",
    "L’Unione europea si è impegnata a creare nuovi e migliori posti di lavoro e a realizzare una società inclusiva. Tali obiettivi sono al centro della strategia Europa 2020 per una crescita intelligente, sostenibile e inclusiva nell’UE. L’attuale crisi economica rende questa sfida ancora più ambiziosa. L'FSE sta rivestendo un ruolo importante per il raggiungimento degli obiettivi dell'Europa e per l'attenuazione degli effetti della crisi, in particolare l'aumento dei **livelli di disoccupazione e povertà**.\n",
    "\n",
    "### [FESR Fondo Europeo di Sviluppo Regionale](http://ec.europa.eu/regional_policy/index.cfm/it/funding/erdf/)\n",
    "\n",
    "Il Fondo europeo di sviluppo regionale (Fesr), creato nel 1975, promuove l'adeguamento strutturale delle regioni in ritardo di sviluppo e la riconversione delle zone industriali in declino.\n",
    "In tale ottica, concorre alla promozione di un alto livello occupazionale, delle pari opportunità e della protezione e dello sviluppo sostenibile.\n",
    "\n",
    "#### LINK\n",
    "\n",
    "http://europalavoro.lavoro.gov.it/EuropaLavoro/Varie/Che-cos-il-Fondo-Sociale-Europeo\n",
    "\n",
    "http://europalavoro.lavoro.gov.it/europalavoro.lavoro.gov.it/EuropaLavoro/Varie/programmazione-2014-2020\n",
    "\n",
    "http://ec.europa.eu/esf/main.jsp?catId=35&langId=it\n",
    "\n",
    "\n",
    "## Dati\n",
    "\n",
    "* [DATASET](https://www.rna.gov.it/RegistroNazionaleTrasparenza/faces/pages/OpenDataAiuti.jspx)  (Data elaborazione 30/12/2017)\n",
    "\n",
    "Dal 10-2009 ad oggi, il file indica il nome del mese. Per alcuni mesi non c'è il relativo file, alcuni buchi.\n",
    "\n",
    "Licenza:  [\"IODL: Italian Open Data License v2.0\".](http://www.dati.gov.it/iodl/2.0/)\n",
    "\n",
    "I file sono nominati OpenData_yyyy_mm.xml con mm e yyyy coincidenti rispettivamente con il mese e l’anno di inizio della misura per gli Open Data delle Misure di Aiuto \n",
    "\n",
    "* [METADATI](https://www.rna.gov.it/cs/groups/public/documents/document/y2mt/mdax/~edisp/cl_wcc-001577.pdf)\n",
    "\n",
    "Caratteristiche:\n",
    "\n",
    "* Granularità elevata\n",
    "* Probabilmente non ancora mai usati in dashboard istituzionali\n",
    "* Formato XML\n",
    "* Profondità temporale: dal 2010 - 1 file XML per mese\n"
   ]
  },
  {
   "cell_type": "markdown",
   "metadata": {},
   "source": [
    "## Data preparation: \n",
    "\n",
    "### XML to JSON\n",
    "\n",
    "\n"
   ]
  },
  {
   "cell_type": "code",
   "execution_count": 12,
   "metadata": {
    "collapsed": true
   },
   "outputs": [],
   "source": [
    "import pandas as pd\n",
    "import numpy as np\n",
    "import json \n",
    "import os\n",
    "import matplotlib.pyplot as plt\n",
    "%matplotlib inline "
   ]
  },
  {
   "cell_type": "markdown",
   "metadata": {},
   "source": [
    "I dati rilasciati dal MISE sono in format XML. Per poterli agevolmente trattare converto ogni file XML in formato JSON tramite la libreria [xmltodict](\"https://github.com/martinblech/xmltodict\").\n",
    "\n",
    "Per questioni di spazio sul repo github non sono stati caricati i file nativi in formato XML ma solo i JSON finali.\n",
    "Il codice presente qui di seguito è stato usato per creare la trasformazione."
   ]
  },
  {
   "cell_type": "code",
   "execution_count": null,
   "metadata": {
    "collapsed": true
   },
   "outputs": [],
   "source": [
    "#https://github.com/martinblech/xmltodict\n",
    "import xmltodict\n",
    "\n",
    "fileDir = os.path.dirname(os.path.realpath('__file__'))\n",
    "tot_file = 0\n",
    "listing = os.listdir(fileDir)   \n",
    "\n",
    "for infile in listing:\n",
    "    \n",
    "    if infile.endswith((\".xml\")):\n",
    "        tot_file+=1\n",
    "        name = os.path.splitext(infile)[0]\n",
    "        filename = os.path.join(fileDir, infile)\n",
    "        print (filename)\n",
    "        with open(filename, 'r') as f:\n",
    "            xmlString = f.read()\n",
    "            jsonString = json.dumps(xmltodict.parse(xmlString), indent=4) #check indent\n",
    "        \n",
    "        with open(\"./output/\"+name + \".json\", 'w') as f:\n",
    "            f.write(jsonString) \n",
    "\n",
    "print (\"Tot file: \"+str(tot_file))\n",
    "   "
   ]
  },
  {
   "cell_type": "markdown",
   "metadata": {},
   "source": [
    "### Struttura dataset:"
   ]
  },
  {
   "cell_type": "markdown",
   "metadata": {},
   "source": [
    "Ogni AIUTO è composto da delle informazioni di base e da uno o più COMPONENTI di aiuto.\n",
    "\n",
    "Ogni componente d'aiuto può essere composto da più STRUMENTI\n",
    "\n",
    "Suddividere le info in tre dataframe:\n",
    "\n",
    "1- Dati anagrafici dell'**aiuto** --> data_aiuto\n",
    "\n",
    "2- **Componenti** dell'aiuto --> data_componenti con chiave campo \"COR\"\n",
    "\n",
    "3- **Strumento/i** del Componente --> data_\n",
    "\n",
    "I tre dataframe sono in relazione tramite il campo **COR**, ***ID_COMPONENTE_AIUTO** e \n",
    "\n",
    "**COR:**\n",
    "Codice univoco rilasciato dal Registro in esito alla registrazione dell'Aiuto individuale; il codice identifica univocamente la registrazione di un Aiuto nel Registro Nazionale Aiuti (“Codice Concessione RNA”)"
   ]
  },
  {
   "cell_type": "markdown",
   "metadata": {},
   "source": [
    "#### Elenco metadati"
   ]
  },
  {
   "cell_type": "code",
   "execution_count": 4,
   "metadata": {
    "collapsed": true
   },
   "outputs": [],
   "source": [
    "good_infos_aiuto = [\n",
    "    \"CAR\",\n",
    "    \"TITOLO_MISURA\",\n",
    "    \"DES_TIPO_MISURA\",\n",
    "    \"BASE_GIURIDICA_NAZIONALE\",\n",
    "    \"LINK_TESTO_INTEGRALE_MISURA\",\n",
    "    \"COD_UFF_GESTORE\",\n",
    "    \"DENOMINAZIONE_UFF_GESTORE\",\n",
    "    \"SOGGETTO_CONCEDENTE\",\n",
    "    \"COR\",\n",
    "    \"TITOLO_PROGETTO\",\n",
    "    \"DESCRIZIONE_PROGETTO\",\n",
    "    \"DATA_CONCESSIONE\",\n",
    "    \"CUP\",\n",
    "     #\"ATTO_CONCESSIONE\",\n",
    "    \"DENOMINAZIONE_BENEFICIARIO\",\n",
    "    \"CODICE_FISCALE_BENEFICIARIO\",\n",
    "    \"DES_TIPO_BENEFICIARIO\",\n",
    "    \"REGIONE_BENEFICIARIO\"\n",
    "    \n",
    "]\n",
    "\n",
    "good_infos_componente = [\n",
    "    \"ID_COMPONENTE_AIUTO\",\n",
    "    \"COD_PROCEDIMENTO\",\n",
    "    \"DES_PROCEDIMENTO\",\n",
    "    \"COD_REGOLAMENTO\",\n",
    "    \"DES_REGOLAMENTO\",\n",
    "    \"COD_OBIETTIVO\",\n",
    "    \"DES_OBIETTIVO\",\n",
    "    \"SETTORE_ATTIVITA\"\n",
    "]\n",
    "\n",
    "df_infos_componente = [\n",
    "    \"COR\", #id componente \n",
    "    \"ID_COMPONENTE_AIUTO\",\n",
    "    \"COD_PROCEDIMENTO\",\n",
    "    \"DES_PROCEDIMENTO\",\n",
    "    \"COD_REGOLAMENTO\",\n",
    "    \"DES_REGOLAMENTO\",\n",
    "    \"COD_OBIETTIVO\",\n",
    "    \"DES_OBIETTIVO\",\n",
    "    \"SETTORE_ATTIVITA\"\n",
    "]\n",
    "\n",
    "\n",
    "good_infos_strumento = [\n",
    "    \"COD_STRUMENTO\",\n",
    "    \"DES_STRUMENTO\",\n",
    "    \"ELEMENTO_DI_AIUTO\"\n",
    "]    \n",
    "\n",
    "\n",
    "df_infos_strumento = [\n",
    "    \"COR\", #id componente \n",
    "    \"ID_COMPONENTE_AIUTO\", #id componente aiuto\n",
    "    \"COD_STRUMENTO\",\n",
    "    \"DES_STRUMENTO\",\n",
    "    \"ELEMENTO_DI_AIUTO\"\n",
    "]   "
   ]
  },
  {
   "cell_type": "markdown",
   "metadata": {},
   "source": [
    "Al fine di rendere più agevole e scalabile l'analisi si è deciso di:\n",
    "\n",
    "- caricare tutti i file in formato json presenti e trasformati precedentemente\n",
    "- creare tre strutture dati che identificano le tre macro sezioni degli aiuti:\n",
    "  \n",
    "    \n",
    "Ogni AIUTO è composto da delle informazioni di base e da uno o più COMPONENTI di aiuto.\n",
    "\n",
    "Ogni componente d'aiuto può essere composto da più STRUMENTI.\n",
    "\n",
    "\n",
    "Le info verranno salvate in tre differenti dataframe che sarà poi possibile unire tramite join:\n",
    "\n",
    "1- **AIUTI**: dati anagrafici dell'**aiuto** --> data_aiuto\n",
    "\n",
    "2- **COMPONENTI**: dati anagrafici dell'aiuto --> data_componenti\n",
    "\n",
    "3- **STRUMENTI**: dati anagrafici strumenti del Componente --> data_strumenti\n",
    "\n",
    "I tre dataframe sono in relazione tramite il campo **COR** e **ID_COMPONENTE_AIUTO** \n",
    "\n",
    "**COR:**\n",
    "Codice univoco rilasciato dal Registro in esito alla registrazione dell'Aiuto individuale; il codice identifica univocamente la registrazione di un Aiuto nel Registro Nazionale Aiuti (“Codice Concessione RNA”)    \n",
    "\n",
    "**ID_COMPONENTE_AIUTO**: identificativo del componente dell'aiuto "
   ]
  },
  {
   "cell_type": "code",
   "execution_count": 16,
   "metadata": {
    "collapsed": true
   },
   "outputs": [],
   "source": [
    "#Crea sezione componente\n",
    "def list_componente(cor_id, componente):\n",
    "    comp=[]\n",
    "    comp.append(cor_id)\n",
    "    for c in good_infos_componente:\n",
    "        comp.append(componente[c])\n",
    "    return comp  \n",
    "\n",
    "#Crea sezione strumento\n",
    "def list_strumento(cor_id, comp_id, strumento):\n",
    "    strum=[]\n",
    "    strum.append(cor_id)\n",
    "    strum.append(comp_id)\n",
    "    for c in good_infos_strumento:\n",
    "        strum.append(strumento[c])\n",
    "    return strum  \n"
   ]
  },
  {
   "cell_type": "code",
   "execution_count": null,
   "metadata": {},
   "outputs": [],
   "source": [
    "#final list with all AIUTI\n",
    "data_aiuto = []\n",
    "#final list with all COMPONENTI\n",
    "data_componenti = []\n",
    "#final list with all STRUMENTI\n",
    "data_strumenti = []\n",
    "\n",
    "fileDir = os.path.dirname(os.path.realpath('__file__'))\n",
    "output_folder = os.path.join(fileDir, 'data/D_aiuti/')\n",
    "listing = os.listdir(output_folder)   \n",
    "#loop in json files from folder\n",
    "for infile in listing: \n",
    "    if infile.endswith((\".json\")):\n",
    "        filename = os.path.join(fileDir, infile)\n",
    "        #List Files\n",
    "        print (filename)\n",
    "        filename = os.path.join(output_folder, infile)\n",
    "        filehandle = open(filename)\n",
    "        \n",
    "        data = json.load(filehandle)    \n",
    "\n",
    "        aiuto = data[\"LISTA_AIUTI\"][\"AIUTO\"]\n",
    "       \n",
    "        if isinstance(aiuto,list):\n",
    "            for row in aiuto:\n",
    "                cor_id = row[\"COR\"]\n",
    "                #CREA AIUTO\n",
    "                selected_row = []\n",
    "                for a in good_infos_aiuto:\n",
    "                    selected_row.append(row[a])\n",
    "                    #CREA COMPONENTI: nuova lista di liste per i componenti e strumenti    \n",
    "                componente = row[\"COMPONENTI_AIUTO\"][\"COMPONENTE_AIUTO\"]\n",
    "                    #check if it's a list or dictionary\n",
    "                if isinstance(componente,list):\n",
    "                    for i in componente:\n",
    "                        comp_id = i[\"ID_COMPONENTE_AIUTO\"] #serve per poi la chiave dello strumento\n",
    "                        data_componenti.append(list_componente(cor_id,i)) \n",
    "                        #CREA STRUMENTO\n",
    "                        strumento_0 = i[\"STRUMENTO_AIUTO\"]\n",
    "                        if strumento_0 is not None:\n",
    "                            strumento = strumento_0[\"STRUMENTO_AIUTO\"]\n",
    "                            if isinstance(strumento,list):\n",
    "                                for s in strumento:\n",
    "                                    data_strumenti.append(list_strumento(cor_id, comp_id, s))    \n",
    "                            if isinstance(strumento,dict):\n",
    "                                data_strumenti.append(list_strumento(cor_id, comp_id, strumento))\n",
    "\n",
    "                    #list, dict\n",
    "                if isinstance(componente,dict):\n",
    "                    comp_id = componente[\"ID_COMPONENTE_AIUTO\"] \n",
    "                    data_componenti.append(list_componente(cor_id,componente)) \n",
    "                    #CREA STRUMENTO\n",
    "                    strumento_0 = componente[\"STRUMENTO_AIUTO\"]\n",
    "                    if strumento_0 is not None:\n",
    "                        strumento = strumento_0[\"STRUMENTO_AIUTO\"]\n",
    "                        #list, dict,list\n",
    "                        if isinstance(strumento,list):\n",
    "                            for s in strumento:\n",
    "                                data_strumenti.append(list_strumento(cor_id, comp_id, s))\n",
    "                                #list, dict,dict\n",
    "                        if isinstance(strumento,dict):\n",
    "                            data_strumenti.append(list_strumento(cor_id, comp_id, strumento))\n",
    "                            #end strumenti\n",
    "                        #add aiuto\n",
    "                data_aiuto.append(selected_row)\n",
    "                    \n",
    "        # se c'è un unico aiuto è dict non lista\n",
    "        if isinstance(aiuto,dict):\n",
    "            cor_id = aiuto[\"COR\"]\n",
    "            selected_row = []\n",
    "            componenti = []\n",
    "            for a in good_infos_aiuto:\n",
    "                selected_row.append(aiuto[a])\n",
    "            componente = row[\"COMPONENTI_AIUTO\"][\"COMPONENTE_AIUTO\"]\n",
    "\n",
    "                #check if it's a list or dictionary\n",
    "            if isinstance(componente,list):\n",
    "                for i in componente:\n",
    "                    comp_id = i[\"ID_COMPONENTE_AIUTO\"] #serve per poi la chiave dello strumento\n",
    "                    data_componenti.append(list_componente(cor_id,i)) \n",
    "                    #CREA STRUMENTI\n",
    "                    strumento_0 = componente[\"STRUMENTO_AIUTO\"]\n",
    "                    if strumento_0 is not None:\n",
    "                        strumento = strumento_0[\"STRUMENTO_AIUTO\"]\n",
    "                        if isinstance(strumento,list):\n",
    "                            for s in strumento:\n",
    "                                data_strumenti.append(list_strumento(cor_id, comp_id, s))\n",
    "                        if isinstance(strumento,dict):\n",
    "                                data_strumenti.append(list_strumento(cor_id, comp_id, strumento))\n",
    "            #DICT\n",
    "            if isinstance(componente,dict):\n",
    "                comp_id = componente[\"ID_COMPONENTE_AIUTO\"] \n",
    "                data_componenti.append(list_componente(cor_id,componente)) \n",
    "                strumento_0 = componente[\"STRUMENTO_AIUTO\"]\n",
    "                if strumento_0 is not None:\n",
    "                    strumento = strumento_0[\"STRUMENTO_AIUTO\"]\n",
    "                    if isinstance(strumento,list):\n",
    "                        for s in strumento:\n",
    "                            data_strumenti.append(list_strumento(cor_id, comp_id, s))\n",
    "                    if isinstance(strumento,dict):\n",
    "                        data_strumenti.append(list_strumento(cor_id, comp_id, strumento))\n",
    "                #Add aiuto\n",
    "        data_aiuto.append(selected_row)\n",
    "    filehandle.close()   "
   ]
  },
  {
   "cell_type": "markdown",
   "metadata": {},
   "source": [
    "## Assemblo tutti gli AIUTI in unico dataframe"
   ]
  },
  {
   "cell_type": "code",
   "execution_count": 13,
   "metadata": {},
   "outputs": [
    {
     "data": {
      "text/plain": [
       "Index(['CAR', 'TITOLO_MISURA', 'DES_TIPO_MISURA', 'BASE_GIURIDICA_NAZIONALE',\n",
       "       'LINK_TESTO_INTEGRALE_MISURA', 'COD_UFF_GESTORE',\n",
       "       'DENOMINAZIONE_UFF_GESTORE', 'SOGGETTO_CONCEDENTE', 'COR',\n",
       "       'TITOLO_PROGETTO', 'DESCRIZIONE_PROGETTO', 'DATA_CONCESSIONE', 'CUP',\n",
       "       'DENOMINAZIONE_BENEFICIARIO', 'CODICE_FISCALE_BENEFICIARIO',\n",
       "       'DES_TIPO_BENEFICIARIO', 'REGIONE_BENEFICIARIO'],\n",
       "      dtype='object')"
      ]
     },
     "execution_count": 13,
     "metadata": {},
     "output_type": "execute_result"
    }
   ],
   "source": [
    "aiuti = pd.DataFrame(data_aiuto, columns=good_infos_aiuto)\n",
    "aiuti.columns"
   ]
  },
  {
   "cell_type": "markdown",
   "metadata": {},
   "source": [
    "## Assemblo tutti i COMPONENTI in unico dataframe"
   ]
  },
  {
   "cell_type": "code",
   "execution_count": 17,
   "metadata": {},
   "outputs": [
    {
     "data": {
      "text/plain": [
       "Index(['COR', 'ID_COMPONENTE_AIUTO', 'COD_PROCEDIMENTO', 'DES_PROCEDIMENTO',\n",
       "       'COD_REGOLAMENTO', 'DES_REGOLAMENTO', 'COD_OBIETTIVO', 'DES_OBIETTIVO',\n",
       "       'SETTORE_ATTIVITA'],\n",
       "      dtype='object')"
      ]
     },
     "execution_count": 17,
     "metadata": {},
     "output_type": "execute_result"
    }
   ],
   "source": [
    "componenti = pd.DataFrame(data_componenti, columns=df_infos_componente)\n",
    "componenti.columns"
   ]
  },
  {
   "cell_type": "markdown",
   "metadata": {},
   "source": [
    "## Assemblo tutti gli STRUMENTI in unico dataframe"
   ]
  },
  {
   "cell_type": "code",
   "execution_count": 19,
   "metadata": {},
   "outputs": [
    {
     "data": {
      "text/plain": [
       "Index(['COR', 'ID_COMPONENTE_AIUTO', 'COD_STRUMENTO', 'DES_STRUMENTO',\n",
       "       'ELEMENTO_DI_AIUTO'],\n",
       "      dtype='object')"
      ]
     },
     "execution_count": 19,
     "metadata": {},
     "output_type": "execute_result"
    }
   ],
   "source": [
    "strumenti = pd.DataFrame(data_strumenti, columns=df_infos_strumento)\n",
    "strumenti.columns"
   ]
  },
  {
   "cell_type": "markdown",
   "metadata": {},
   "source": [
    "## Info beneficiario\n",
    "Estraggo le denominazioni del beneficiario dalla sezione **\"AIUTI\"** e il codice fiscale o piva per andare a interrogare il servizio della Commissione Europea al fine di arricchire le info che abbiamo sul beneficiario per poterlo geolocalizzare a livello di comune.\n",
    "\n",
    "Le informazioni disponibili nel dataset original permettono di identificare la Regione ma non il comune"
   ]
  },
  {
   "cell_type": "code",
   "execution_count": 278,
   "metadata": {
    "collapsed": true
   },
   "outputs": [],
   "source": [
    "aiuti_id = aiuti[[\"DENOMINAZIONE_BENEFICIARIO\",\"CODICE_FISCALE_BENEFICIARIO\"]]\n",
    "aiuti_id.head(10)\n",
    "aiuti_id.to_csv(\"./data/D_general/MappingRagioneSocialeIvaCodFisc.csv\", sep='\\t')"
   ]
  },
  {
   "cell_type": "markdown",
   "metadata": {},
   "source": [
    "## Data Exploration"
   ]
  },
  {
   "cell_type": "code",
   "execution_count": 21,
   "metadata": {},
   "outputs": [
    {
     "data": {
      "text/plain": [
       "(168782, 17)"
      ]
     },
     "execution_count": 21,
     "metadata": {},
     "output_type": "execute_result"
    }
   ],
   "source": [
    "aiuti.shape"
   ]
  },
  {
   "cell_type": "code",
   "execution_count": 22,
   "metadata": {},
   "outputs": [
    {
     "data": {
      "text/plain": [
       "(171062, 9)"
      ]
     },
     "execution_count": 22,
     "metadata": {},
     "output_type": "execute_result"
    }
   ],
   "source": [
    "componenti.shape"
   ]
  },
  {
   "cell_type": "code",
   "execution_count": 23,
   "metadata": {},
   "outputs": [
    {
     "data": {
      "text/plain": [
       "(172741, 5)"
      ]
     },
     "execution_count": 23,
     "metadata": {},
     "output_type": "execute_result"
    }
   ],
   "source": [
    "strumenti.shape"
   ]
  },
  {
   "cell_type": "code",
   "execution_count": 20,
   "metadata": {},
   "outputs": [
    {
     "data": {
      "text/html": [
       "<div>\n",
       "<style>\n",
       "    .dataframe thead tr:only-child th {\n",
       "        text-align: right;\n",
       "    }\n",
       "\n",
       "    .dataframe thead th {\n",
       "        text-align: left;\n",
       "    }\n",
       "\n",
       "    .dataframe tbody tr th {\n",
       "        vertical-align: top;\n",
       "    }\n",
       "</style>\n",
       "<table border=\"1\" class=\"dataframe\">\n",
       "  <thead>\n",
       "    <tr style=\"text-align: right;\">\n",
       "      <th></th>\n",
       "      <th>COR</th>\n",
       "      <th>ID_COMPONENTE_AIUTO</th>\n",
       "      <th>COD_STRUMENTO</th>\n",
       "      <th>DES_STRUMENTO</th>\n",
       "      <th>ELEMENTO_DI_AIUTO</th>\n",
       "    </tr>\n",
       "  </thead>\n",
       "  <tbody>\n",
       "    <tr>\n",
       "      <th>117216</th>\n",
       "      <td>72719</td>\n",
       "      <td>78404</td>\n",
       "      <td>37</td>\n",
       "      <td>Sovvenzione/Contributo in conto interessi</td>\n",
       "      <td>308700.00</td>\n",
       "    </tr>\n",
       "    <tr>\n",
       "      <th>117217</th>\n",
       "      <td>72719</td>\n",
       "      <td>78404</td>\n",
       "      <td>9</td>\n",
       "      <td>Prestito/Anticipo rimborsabile</td>\n",
       "      <td>5471.18</td>\n",
       "    </tr>\n",
       "    <tr>\n",
       "      <th>117218</th>\n",
       "      <td>72719</td>\n",
       "      <td>78403</td>\n",
       "      <td>37</td>\n",
       "      <td>Sovvenzione/Contributo in conto interessi</td>\n",
       "      <td>285491.25</td>\n",
       "    </tr>\n",
       "    <tr>\n",
       "      <th>117219</th>\n",
       "      <td>72719</td>\n",
       "      <td>78403</td>\n",
       "      <td>9</td>\n",
       "      <td>Prestito/Anticipo rimborsabile</td>\n",
       "      <td>13492.91</td>\n",
       "    </tr>\n",
       "  </tbody>\n",
       "</table>\n",
       "</div>"
      ],
      "text/plain": [
       "          COR ID_COMPONENTE_AIUTO COD_STRUMENTO  \\\n",
       "117216  72719               78404            37   \n",
       "117217  72719               78404             9   \n",
       "117218  72719               78403            37   \n",
       "117219  72719               78403             9   \n",
       "\n",
       "                                    DES_STRUMENTO ELEMENTO_DI_AIUTO  \n",
       "117216  Sovvenzione/Contributo in conto interessi         308700.00  \n",
       "117217             Prestito/Anticipo rimborsabile           5471.18  \n",
       "117218  Sovvenzione/Contributo in conto interessi         285491.25  \n",
       "117219             Prestito/Anticipo rimborsabile          13492.91  "
      ]
     },
     "execution_count": 20,
     "metadata": {},
     "output_type": "execute_result"
    }
   ],
   "source": [
    "strumenti.loc[strumenti['COR'] == \"72719\"]"
   ]
  },
  {
   "cell_type": "code",
   "execution_count": null,
   "metadata": {
    "collapsed": true
   },
   "outputs": [],
   "source": [
    "aiuti.REGIONE_BENEFICIARIO.value_counts()"
   ]
  },
  {
   "cell_type": "code",
   "execution_count": null,
   "metadata": {
    "collapsed": true
   },
   "outputs": [],
   "source": [
    "aiuti.TITOLO_MISURA.value_counts()"
   ]
  },
  {
   "cell_type": "code",
   "execution_count": null,
   "metadata": {
    "scrolled": false
   },
   "outputs": [],
   "source": [
    "componenti.DES_OBIETTIVO.value_counts()"
   ]
  },
  {
   "cell_type": "code",
   "execution_count": null,
   "metadata": {
    "collapsed": true
   },
   "outputs": [],
   "source": [
    "componenti.SETTORE_ATTIVITA.value_counts()"
   ]
  },
  {
   "cell_type": "code",
   "execution_count": null,
   "metadata": {
    "collapsed": true
   },
   "outputs": [],
   "source": [
    "strumenti.DES_STRUMENTO.value_counts()"
   ]
  },
  {
   "cell_type": "code",
   "execution_count": null,
   "metadata": {
    "collapsed": true
   },
   "outputs": [],
   "source": []
  }
 ],
 "metadata": {
  "kernelspec": {
   "display_name": "Python 3",
   "language": "python",
   "name": "python3"
  },
  "language_info": {
   "codemirror_mode": {
    "name": "ipython",
    "version": 3
   },
   "file_extension": ".py",
   "mimetype": "text/x-python",
   "name": "python",
   "nbconvert_exporter": "python",
   "pygments_lexer": "ipython3",
   "version": "3.6.1"
  }
 },
 "nbformat": 4,
 "nbformat_minor": 2
}
