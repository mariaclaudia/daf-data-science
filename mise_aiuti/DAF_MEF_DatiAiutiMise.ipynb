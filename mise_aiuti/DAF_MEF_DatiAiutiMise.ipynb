{
 "cells": [
  {
   "cell_type": "markdown",
   "metadata": {},
   "source": [
    "<img src=\"./img/LogoMise.png\">\n"
   ]
  },
  {
   "cell_type": "markdown",
   "metadata": {},
   "source": [
    "# Registro Nazionale Aiuti di Stato\n",
    "\n",
    "### Ministero dello Sviluppo economico, Agenzia per la Coesione Territoriale, Ministero del Lavoro e delle Politiche Sociali, UE\n",
    "\n",
    "Per aiuto di Stato si intende qualsiasi trasferimento di risorse pubbliche a favore di alcune imprese o produzioni che, attribuendo un vantaggio economico selettivo, falsa o minaccia di falsare la concorrenza.\n",
    "\n",
    "Tranne in alcuni casi, gli aiuti di Stato sono vietati dalla normativa europea e dal Trattato sul funzionamento dell'Unione Europea che disciplina la materia agli articoli 107 e 108.\n",
    "\n",
    "Il Dipartimento Politiche Europee, attraverso l'Ufficio per il Coordinamento in materia di aiuti di Stato, cura il coordinamento tra tutte le amministrazioni centrali e regionali per assicurare il rispetto delle norme europee. \n",
    "\n",
    "\n",
    "### Registro:\n",
    "\n",
    "A partire dall'**agosto 2017** è stato introdotto il [**\"Registro Nazionale Aiuti di Stato\"**](http://www.sviluppoeconomico.gov.it/index.php/it/198-notizie-stampa/2036901-registro-nazionale-aiuti-di-stato).\n",
    "\n",
    "Il nuovo Registro è operativo dal 12 agosto 2017 sul sito http://www.rna.gov.it\n",
    "\n",
    "[Decreto direttoriale 28 luglio 2017 – Tracciati relativi ai dati e informazioni da trasmettere al Registro nazionale Aiuti e modalità tecniche e protocolli di comunicazione per l'interoperabilità con i sistemi informatici](http://www.sviluppoeconomico.gov.it/index.php/it/component/organigram/?view=structure&id=567)\n",
    "\n",
    "Il registro Nazionale Aiuti di Stato è il **primo strumento informatizzato attivato da un Paese membro** per il **controllo** e la pubblicità degli aiuti di Stato, Il Registro permette di verificare che le agevolazioni pubbliche siano concesse nel rispetto delle disposizioni previste dalla normativa comunitaria, specie al fine di evitare il cumulo dei benefici e, nel caso degli aiuti de minimis, il superamento del massimale di aiuto concedibile imposto dall’Unione europea.\n",
    "\n",
    "Lo strumento consente, inoltre, a tutte le amministrazioni pubbliche titolari di misure di aiuto di effettuare i controlli amministrativi necessari con modalità automatiche, grazie al rilascio di specifiche “visure” che recano l’elencazione dei benefici di cui l’impresa ha già goduto negli ultimi esercizi evitando, in tal modo, duplicazioni di interventi da parte di diverse amministrazioni e scongiurando il superamento dei limiti massimi concedibili a ciascuna impresa imposti dalla disciplina UE.\n",
    "\n",
    "Il Registro è già interconnesso con molti sistemi informativi fra i quali il Registro delle imprese, per l’acquisizione di informazioni relative ai soggetti beneficiari degli aiuti e con i registri SIAN  e SIPA sui quali continueranno ad essere inseriti gli elementi relativi agli aiuti relativi ai settori dell’agricoltura e della pesca.\n",
    "\n",
    "Vedi: [Divisione III - Monitoraggio e controllo degli interventi, servizi informatici](http://www.sviluppoeconomico.gov.it/index.php/it/component/organigram/?view=structure&id=567)\n",
    "\n",
    "Correlati:\n",
    "\n",
    "* [FSE Fondo Sociale Europeo](http://ec.europa.eu/esf/main.jsp?catId=35&langId=it) \n",
    "\n",
    "* [FESR Fondo Europeo di Sviluppo Regionale](http://ec.europa.eu/regional_policy/index.cfm/it/funding/erdf/)\n",
    "\n",
    "\n",
    "\n",
    "\n",
    "## Spunti di analisi\n",
    "\n",
    "### - BDU del MEF\n",
    "\n",
    "- Collegare i dati del Registro degli Aiuti alla banca dati BDU del MEF (cadenza bimenstrale) per controllare la reale fruizione delle risorse controllando le tranche di erogazioni concesse sull'aiuto\n",
    "\n",
    "### - Agenzia delle Entrate: \n",
    "\n",
    "- Sarebbe interessante avere accesso ai dati dell'Agenzia delle Entrate e misurare l'efficacia dell'aiuto ricevuto dall'ente in termini di fatturato e di ricaduta occupazionale.\n",
    "\n",
    "### - Codice Unico di Progetto (CUP): tracciare l'intera filiera dell'aiuto di stato, dalla concessione alla realizzazione \n",
    "\n",
    "- Il Codice Unico di Progetto (CUP) è il codice che identifica un progetto d'investimento pubblico ed è lo strumento cardine per il funzionamento del Sistema di Monitoraggio degli Investimenti Pubblici (MIP). \n",
    "\n",
    "La sua richiesta è obbligatoria per tutta la \"spesa per lo sviluppo\", inclusi i progetti realizzati utilizzando risorse provenienti da bilanci di enti pubblici o di società partecipate, direttamente o indirettamente, da capitale pubblico e quelli realizzati con operazioni di finanza di progetto, \"pura\" o \"assistita\", o comunque che coinvolgono il patrimonio pubblico, anche se realizzati con risorse private. I progetti rientranti nella spesa per lo sviluppo possono consistere in:\n",
    "- lavori pubblici (come individuati dalla legge 109/1994 e successive modificazioni e integrazioni),\n",
    "- incentivi a favore di attività produttive,\n",
    "- contributi a favore di soggetti privati, diversi da attività produttive,\n",
    "- acquisto o realizzazione di servizi (ad esempio corsi di formazione e progetti di ricerca),\n",
    "- acquisto di beni finalizzato allo sviluppo,\n",
    "- sottoscrizione iniziale o aumento di capitale sociale (compresi spin off), fondi di rischio o di garanzia.\n",
    "In particolare, la richiesta del CUP è obbligatoria per gli interventi rientranti nel Quadro Strategico Nazionale (QSN), nella programmazione dei Fondi Europei, quali ad esempio Fondi strutturali e di investimento europei (ESIF) 2014-2020 e nel Fondo di Sviluppo e Coesione.\t\n",
    "\n",
    "Il CUP è anche uno dei principali strumenti adottati per garantire la trasparenza e la tracciabilità dei flussi finanziari, per prevenire eventuali infiltrazioni criminali e, in particolare, per il Monitoraggio Finanziario delle Grandi Opere, MGO."
   ]
  },
  {
   "cell_type": "markdown",
   "metadata": {},
   "source": [
    "### - Codice fiscale beneficiario\n",
    "\n",
    "Nel Registro Imprese, a livello nazionale, ogni impresa è univocamente identificata da un Codice Fiscale e da una partita IVA. Codice Fiscale e partita IVA, tranne eccezioni, sono sempre coincidenti per le società, e sempre differenti per le imprese individuali. \n",
    "Il numero Registro Imprese, ovvero il numero di iscrizione attribuito dal Registro Imprese della Camera di Commercio, è il Codice Fiscale; nel caso si tratti di impresa individuale sarà il Codice Fiscale del titolare.\n",
    "\n",
    "Tale dato è contenuto nella Visura camerale, che riporta i dati legali dell’impresa, censiti presso il Registro Imprese della Camera di Commercio competente per territorio (ovvero quello nel quale è ubicata la sede legale dell’impresa).\n",
    "\n",
    "Fonte: http://www.registroimprese.it/codice-fiscale-p.iva-rea\n",
    "\n",
    "### - Codice Attività ATECO per la quale è stato concesso l'Aiuto\n",
    "\n",
    "Classificazione delle attività economiche Ateco 2007: costituisce la versione nazionale della nomenclatura europea Nace Rev. 2, pubblicata sull’Official Journal il 20 dicembre 2006 (Regolamento (CE) n.1893/2006 del PE e del Consiglio del 20/12/2006).\n",
    "\n",
    "L’Ateco 2007 è stata definita ed approvata da un Comitato di gestione appositamente costituito. Esso prevede la partecipazione, oltre all’Istat che lo coordina, di numerose figure istituzionali: i Ministeri interessati, gli Enti che gestiscono le principali fonti amministrative sulle imprese (mondo fiscale e camerale, enti previdenziali, ecc.) e le principali associazioni imprenditoriali.\n",
    "\n",
    "Grazie alla stretta collaborazione avuta con l’Agenzia delle Entrate e le Camere di Commercio si è pervenuti ad un’unica classificazione. Per la prima volta il mondo della statistica ufficiale, il mondo fiscale e quello camerale adottano la stessa classificazione delle attività economiche. Tale risultato costituisce un significativo passo in avanti nel processo di integrazione e semplificazione delle informazioni acquisite e gestite dalla Pubblica Amministrazione.\n",
    "\n",
    "\n",
    "## Dataset\n",
    "\n",
    "NOTA: tutti i dataset utilizzati in quesya analisi sono accessibili e di pubblico dominio.\n",
    "\n",
    "### Aiuti di Stato\n",
    "\n",
    "* [DATASET](https://www.rna.gov.it/RegistroNazionaleTrasparenza/faces/pages/OpenDataAiuti.jspx)  (Data elaborazione 30/12/2017)\n",
    "\n",
    "Dal 10-2009 ad oggi, il file indica il nome del mese. Per alcuni mesi non c'è il relativo file, alcuni buchi.\n",
    "\n",
    "Licenza:  [\"IODL: Italian Open Data License v2.0\".](http://www.dati.gov.it/iodl/2.0/)\n",
    "\n",
    "I file sono nominati OpenData_yyyy_mm.xml con mm e yyyy coincidenti rispettivamente con il mese e l’anno di inizio della misura per gli Open Data delle Misure di Aiuto \n",
    "\n",
    "Caratteristiche:\n",
    "* Attuali: il Registro Nazionale degli aiuti di Stato è stato approvato solo ad Agosto 2017 - I dati sono attendibili solo nell'ultimo semestre 2017 poichè prima non vigeva l'obbligo della registrazone\n",
    "* Granularità elevata\n",
    "* Probabilmente non ancora mai usati in dashboard istituzionali\n",
    "* Formato XML\n",
    "* Profondità temporale: dal 2010 - 1 file XML per mese\n",
    "\n",
    "### CUP\n",
    "\n",
    "http://opencup.gov.it/web/opencup/dettaglio-opendata-complessivo\n",
    "\n",
    "### Dateset di appoggio:\n",
    "\n",
    "* Elenco comuni istat georeferenziati\n",
    "\n",
    "* [METADATI originali in PDF](https://www.rna.gov.it/cs/groups/public/documents/document/y2mt/mdax/~edisp/cl_wcc-001577.pdf)\n",
    "* [Metadati Aiuti CSV](data/D_general/MetadatiAiuti.csv)\n",
    "\n",
    "* [Codici ATECO](https://dati.inail.it/opendata/elements/SettoreAttivitaEconomica)\n",
    "\n",
    "Nome Dataset: Classificazione economica Ateco 2007\n",
    "\n",
    "Descrizione: Decodifica e gerarchia del settore di attività economica (codice ATECO) secondo la codifica del 2007.\n",
    "\n",
    "\n"
   ]
  },
  {
   "cell_type": "markdown",
   "metadata": {},
   "source": [
    "## DATA PIPELINE"
   ]
  },
  {
   "cell_type": "code",
   "execution_count": null,
   "metadata": {
    "collapsed": true
   },
   "outputs": [],
   "source": [
    "#IPython setting\n",
    "\n",
    "import pandas as pd\n",
    "import numpy as np\n",
    "import json \n",
    "import os\n",
    "import re\n",
    "import seaborn as sns\n",
    "import matplotlib as mpl \n",
    "import matplotlib.cm as cm \n",
    "import matplotlib.pyplot as plt \n",
    "import matplotlib.style as style\n",
    "import seaborn as sns \n",
    "%matplotlib inline \n",
    "\n",
    "from IPython.display import display, HTML\n",
    "from IPython.core.interactiveshell import InteractiveShell\n",
    "InteractiveShell.ast_node_interactivity = \"all\" #setta l'esecuzione di più statement in unica cella\n",
    "pd.set_option('display.max_colwidth', -1) \n",
    "pd.set_option('display.width', 5000) \n",
    "pd.set_option('display.max_columns', 60) \n",
    "\n",
    "# Set up formatting so larger numbers aren't displayed in scientific notation (h/t @thecapacity)\n",
    "pd.set_option('display.float_format', lambda x: '%.3f' % x)\n",
    "\n",
    "\n",
    "sns.set_context(\"notebook\")\n",
    "sns.set()\n",
    "sns.set_style(\"darkgrid\")\n",
    "sns.set_palette(sns.color_palette(\"Set2\", 10))\n",
    "\n",
    "style.use('fivethirtyeight')"
   ]
  },
  {
   "cell_type": "markdown",
   "metadata": {},
   "source": [
    "### Carico Codici Ateco 2007"
   ]
  },
  {
   "cell_type": "code",
   "execution_count": 170,
   "metadata": {},
   "outputs": [
    {
     "data": {
      "text/html": [
       "<div>\n",
       "<style>\n",
       "    .dataframe thead tr:only-child th {\n",
       "        text-align: right;\n",
       "    }\n",
       "\n",
       "    .dataframe thead th {\n",
       "        text-align: left;\n",
       "    }\n",
       "\n",
       "    .dataframe tbody tr th {\n",
       "        vertical-align: top;\n",
       "    }\n",
       "</style>\n",
       "<table border=\"1\" class=\"dataframe\">\n",
       "  <thead>\n",
       "    <tr style=\"text-align: right;\">\n",
       "      <th></th>\n",
       "      <th>SETTORE_ATTIVITA</th>\n",
       "      <th>DescrAteco</th>\n",
       "      <th>CodiceAtecoLiv1</th>\n",
       "      <th>DescrAtecoLiv1</th>\n",
       "    </tr>\n",
       "  </thead>\n",
       "  <tbody>\n",
       "    <tr>\n",
       "      <th>64</th>\n",
       "      <td>H.51</td>\n",
       "      <td>Trasporto aereo</td>\n",
       "      <td>H</td>\n",
       "      <td>Trasporto e magazzinaggio</td>\n",
       "    </tr>\n",
       "    <tr>\n",
       "      <th>9</th>\n",
       "      <td>R.90</td>\n",
       "      <td>Attivita' creative, artistiche e di intrattenimento</td>\n",
       "      <td>R</td>\n",
       "      <td>Attivita' artistiche, sportive, di intrattenimento e divertimento</td>\n",
       "    </tr>\n",
       "    <tr>\n",
       "      <th>58</th>\n",
       "      <td>F.43</td>\n",
       "      <td>Lavori di costruzione specializzati</td>\n",
       "      <td>F</td>\n",
       "      <td>Costruzioni</td>\n",
       "    </tr>\n",
       "    <tr>\n",
       "      <th>38</th>\n",
       "      <td>C.21</td>\n",
       "      <td>Fabbricazione di prodotti farmaceutici di base e di preparati farmaceutici</td>\n",
       "      <td>C</td>\n",
       "      <td>Attivita' manifatturiere</td>\n",
       "    </tr>\n",
       "    <tr>\n",
       "      <th>7</th>\n",
       "      <td>Q.87</td>\n",
       "      <td>Servizi di assistenza sociale residenziale</td>\n",
       "      <td>Q</td>\n",
       "      <td>Sanita' e assistenza sociale</td>\n",
       "    </tr>\n",
       "  </tbody>\n",
       "</table>\n",
       "</div>"
      ],
      "text/plain": [
       "   SETTORE_ATTIVITA                                                                  DescrAteco CodiceAtecoLiv1                                                     DescrAtecoLiv1\n",
       "64  H.51             Trasporto aereo                                                             H               Trasporto e magazzinaggio                                        \n",
       "9   R.90             Attivita' creative, artistiche e di intrattenimento                         R               Attivita' artistiche, sportive, di intrattenimento e divertimento\n",
       "58  F.43             Lavori di costruzione specializzati                                         F               Costruzioni                                                      \n",
       "38  C.21             Fabbricazione di prodotti farmaceutici di base e di preparati farmaceutici  C               Attivita' manifatturiere                                         \n",
       "7   Q.87             Servizi di assistenza sociale residenziale                                  Q               Sanita' e assistenza sociale                                     "
      ]
     },
     "execution_count": 170,
     "metadata": {},
     "output_type": "execute_result"
    }
   ],
   "source": [
    "ateco = pd.read_csv(\"data/general/SettoreAttivitaEconomica.csv\", sep=';', header=0)\n",
    "#formatto il codice attività nel formato del dataset aiuti\n",
    "ateco[\"SettoreAttivitaEconomica\"] = ateco[\"SettoreAttivitaEconomica\"].str.replace(' ','.')\n",
    "#allineo nomi\n",
    "ateco.rename(columns={'SettoreAttivitaEconomica': 'SETTORE_ATTIVITA'}, inplace=True)\n",
    "ateco.sample(5)"
   ]
  },
  {
   "cell_type": "markdown",
   "metadata": {},
   "source": [
    "### Carico Metadati Aiuti"
   ]
  },
  {
   "cell_type": "code",
   "execution_count": 149,
   "metadata": {},
   "outputs": [
    {
     "data": {
      "text/html": [
       "<div>\n",
       "<style>\n",
       "    .dataframe thead tr:only-child th {\n",
       "        text-align: right;\n",
       "    }\n",
       "\n",
       "    .dataframe thead th {\n",
       "        text-align: left;\n",
       "    }\n",
       "\n",
       "    .dataframe tbody tr th {\n",
       "        vertical-align: top;\n",
       "    }\n",
       "</style>\n",
       "<table border=\"1\" class=\"dataframe\">\n",
       "  <thead>\n",
       "    <tr style=\"text-align: right;\">\n",
       "      <th></th>\n",
       "      <th>Sezione</th>\n",
       "      <th>Campo</th>\n",
       "      <th>Significato</th>\n",
       "    </tr>\n",
       "  </thead>\n",
       "  <tbody>\n",
       "    <tr>\n",
       "      <th>0</th>\n",
       "      <td>AIUTO</td>\n",
       "      <td>CAR</td>\n",
       "      <td>Codice identificativo della Misura assegnato dal Registro</td>\n",
       "    </tr>\n",
       "    <tr>\n",
       "      <th>1</th>\n",
       "      <td>AIUTO</td>\n",
       "      <td>TITOLO_MISURA</td>\n",
       "      <td>Titolo della Misura di Aiuto</td>\n",
       "    </tr>\n",
       "    <tr>\n",
       "      <th>2</th>\n",
       "      <td>AIUTO</td>\n",
       "      <td>DES_TIPO_MISURA</td>\n",
       "      <td>Tipologia di misura (ovvero Regime di aiuti o Aiuto ad hoc)</td>\n",
       "    </tr>\n",
       "    <tr>\n",
       "      <th>3</th>\n",
       "      <td>AIUTO</td>\n",
       "      <td>COD_CE_MISURA</td>\n",
       "      <td>Eventuale Identificativo della Misura CE come rilasciato dal sistema SANI</td>\n",
       "    </tr>\n",
       "    <tr>\n",
       "      <th>4</th>\n",
       "      <td>AIUTO</td>\n",
       "      <td>BASE_GIURIDICA_NAZIONALE</td>\n",
       "      <td>Denominazione estesa della norma che istituisce la misura</td>\n",
       "    </tr>\n",
       "    <tr>\n",
       "      <th>5</th>\n",
       "      <td>AIUTO</td>\n",
       "      <td>LINK_TESTO_INTEGRALE_MISUR</td>\n",
       "      <td>Link al testo integrale della misura</td>\n",
       "    </tr>\n",
       "    <tr>\n",
       "      <th>6</th>\n",
       "      <td>AIUTO</td>\n",
       "      <td>COD_UFF_GESTORE</td>\n",
       "      <td>Codice nel Registro dell'Ufficio Gestore che gestisce l'Aiuto Individuale</td>\n",
       "    </tr>\n",
       "    <tr>\n",
       "      <th>7</th>\n",
       "      <td>AIUTO</td>\n",
       "      <td>DENOMINAZIONE_UFF_GESTORE</td>\n",
       "      <td>Denominazione dell'Ufficio Gestore che gestisce l'Aiuto Individuale</td>\n",
       "    </tr>\n",
       "    <tr>\n",
       "      <th>8</th>\n",
       "      <td>AIUTO</td>\n",
       "      <td>SOGGETTO_CONCEDENTE</td>\n",
       "      <td>Soggetto Concedente ai sensi del Regolamento che disciplina il funzionamento del Registro</td>\n",
       "    </tr>\n",
       "    <tr>\n",
       "      <th>9</th>\n",
       "      <td>AIUTO</td>\n",
       "      <td>COR</td>\n",
       "      <td>Codice univoco rilasciato dal Registro in esito alla registrazione dell'Aiuto individuale; il codice identifica univocamente la registrazione di un Aiuto nel Registro Nazionale Aiuti (\"Codice Concessione RNA\")</td>\n",
       "    </tr>\n",
       "    <tr>\n",
       "      <th>10</th>\n",
       "      <td>AIUTO</td>\n",
       "      <td>TITOLO_PROGETTO</td>\n",
       "      <td>Titolo del progetto per la realizzazione del quale  destinata la concessione dell'Aiuto</td>\n",
       "    </tr>\n",
       "    <tr>\n",
       "      <th>11</th>\n",
       "      <td>AIUTO</td>\n",
       "      <td>DESCRIZIONE_PROGETTO</td>\n",
       "      <td>Descrizione sintetica del progetto per la realizzazione del quale  destinata la concessione dell'Aiuto</td>\n",
       "    </tr>\n",
       "    <tr>\n",
       "      <th>12</th>\n",
       "      <td>AIUTO</td>\n",
       "      <td>LINK_TRASPARENZA_NAZIONALE</td>\n",
       "      <td>Collegamento con la sezione trasparenza del sito web predisposto ai fini del rispetto degli obblighi di trasparenza previsti dalla normativa nazionale</td>\n",
       "    </tr>\n",
       "    <tr>\n",
       "      <th>13</th>\n",
       "      <td>AIUTO</td>\n",
       "      <td>DATA_CONCESSIONE</td>\n",
       "      <td>Data in cui al beneficiario  accordato, a norma del regime giuridico nazionale applicabile, il diritto di ricevere l'Aiuto</td>\n",
       "    </tr>\n",
       "    <tr>\n",
       "      <th>14</th>\n",
       "      <td>AIUTO</td>\n",
       "      <td>CUP</td>\n",
       "      <td>Codice Unico di Progetto d'investimento pubblico (CUP) rilasciato dal Sistema CUP del PCM-DIPE</td>\n",
       "    </tr>\n",
       "    <tr>\n",
       "      <th>15</th>\n",
       "      <td>AIUTO</td>\n",
       "      <td>ATTO_CONCESSIONE</td>\n",
       "      <td>Dati Identificativi dell'atto di concessione Aiuto (tipo numero e data dell'atto)</td>\n",
       "    </tr>\n",
       "    <tr>\n",
       "      <th>16</th>\n",
       "      <td>AIUTO</td>\n",
       "      <td>LINK_ATTO_CONCESSIONE</td>\n",
       "      <td>Link all'atto di concessione</td>\n",
       "    </tr>\n",
       "    <tr>\n",
       "      <th>17</th>\n",
       "      <td>AIUTO</td>\n",
       "      <td>DENOMINAZIONE_BENEFICIARIO</td>\n",
       "      <td>Codice fiscale che identifica univocamente il soggetto beneficiario con sede in Italia, oppure, VAT identification number UE valido nel sistema VIES in caso di soggetto estero senza sede secondaria in Italia (e non registrata presso in Registro delle</td>\n",
       "    </tr>\n",
       "    <tr>\n",
       "      <th>18</th>\n",
       "      <td>AIUTO</td>\n",
       "      <td>CODICE_FISCALE_BENEFICIARIO</td>\n",
       "      <td>Ragione sociale/Denominazione del soggetto beneficiario</td>\n",
       "    </tr>\n",
       "    <tr>\n",
       "      <th>19</th>\n",
       "      <td>AIUTO</td>\n",
       "      <td>DES_TIPO_BENEFICIARIO</td>\n",
       "      <td>Dimensione aziendale del soggetto beneficiario come definita dalla Raccomandazione 2003/361/CE del 6 maggio 2003</td>\n",
       "    </tr>\n",
       "    <tr>\n",
       "      <th>20</th>\n",
       "      <td>AIUTO</td>\n",
       "      <td>REGIONE_BENEFICIARIO</td>\n",
       "      <td>Regione di localizzazione del soggetto beneficiario</td>\n",
       "    </tr>\n",
       "    <tr>\n",
       "      <th>21</th>\n",
       "      <td>COMPONENTE_AIUTO</td>\n",
       "      <td>ID_COMPONENTE_AIUTO</td>\n",
       "      <td>Identificativo, nel Registro della componente id aiuto</td>\n",
       "    </tr>\n",
       "    <tr>\n",
       "      <th>22</th>\n",
       "      <td>COMPONENTE_AIUTO</td>\n",
       "      <td>COD_PROCEDIMENTO</td>\n",
       "      <td>Codice nel Registro del procedimento in applicazione del quale vengono concessi gli aiuti</td>\n",
       "    </tr>\n",
       "    <tr>\n",
       "      <th>23</th>\n",
       "      <td>COMPONENTE_AIUTO</td>\n",
       "      <td>DES_PROCEDIMENTO</td>\n",
       "      <td>Descrizione del procedimento in applicazione del quale vengono concessi gli aiuti (ex notifica, esenzione, de minimis)</td>\n",
       "    </tr>\n",
       "    <tr>\n",
       "      <th>24</th>\n",
       "      <td>COMPONENTE_AIUTO</td>\n",
       "      <td>COD_REGOLAMENTO</td>\n",
       "      <td>Codice nel Registro del Regolamento in applicazione del quale vengono concessi gli aiuti</td>\n",
       "    </tr>\n",
       "    <tr>\n",
       "      <th>25</th>\n",
       "      <td>COMPONENTE_AIUTO</td>\n",
       "      <td>DES_REGOLAMENTO</td>\n",
       "      <td>Regolamento in applicazione del quale vengono concessi gli aiuti</td>\n",
       "    </tr>\n",
       "    <tr>\n",
       "      <th>26</th>\n",
       "      <td>COMPONENTE_AIUTO</td>\n",
       "      <td>COD_OBIETTIVO</td>\n",
       "      <td>Codice nel Registro dell'obiettivo</td>\n",
       "    </tr>\n",
       "    <tr>\n",
       "      <th>27</th>\n",
       "      <td>COMPONENTE_AIUTO</td>\n",
       "      <td>DES_OBIETTIVO</td>\n",
       "      <td>Descrizione dell'obiettivo</td>\n",
       "    </tr>\n",
       "    <tr>\n",
       "      <th>28</th>\n",
       "      <td>COMPONENTE_AIUTO</td>\n",
       "      <td>SOGGETTO_INTERMEDIARIO</td>\n",
       "      <td>Descrizione dell'istituzione finanziaria, a prescindere dalla sua forma e dal suo assetto proprietario; da indicare solo in caso di concessione di Aiuti a finalitˆ regionale per lo sviluppo urbano (Art.16 Reg.651/2014) e Aiuti al finanziamento del rischio</td>\n",
       "    </tr>\n",
       "    <tr>\n",
       "      <th>29</th>\n",
       "      <td>COMPONENTE_AIUTO</td>\n",
       "      <td>ENTITA_DELEGATA</td>\n",
       "      <td>Descrizione dell'Entitˆ intermediaria, in caso di concessione di Aiuti a finalitˆ regionale per lo sviluppo urbano (Art.16 Reg.651/2014) e Aiuti al finanziamento del rischio (Art.21 Reg.651/2014)</td>\n",
       "    </tr>\n",
       "    <tr>\n",
       "      <th>30</th>\n",
       "      <td>COMPONENTE_AIUTO</td>\n",
       "      <td>SETTORE_ATTIVITA</td>\n",
       "      <td>Attivitˆ interessate dalla componente di Aiuto seconto la codifica NACE</td>\n",
       "    </tr>\n",
       "    <tr>\n",
       "      <th>31</th>\n",
       "      <td>STRUMENTO</td>\n",
       "      <td>COD_STRUMENTO</td>\n",
       "      <td>Codice nel Registro dello strumento ovvero della forma attraverso la quale gli aiuti possono essere concessi ai soggetti beneficiari</td>\n",
       "    </tr>\n",
       "    <tr>\n",
       "      <th>32</th>\n",
       "      <td>STRUMENTO</td>\n",
       "      <td>DES_STRUMENTO</td>\n",
       "      <td>Identifica le forme attraverso la quale gli aiuti possono essere concessi ai soggetti beneficiari</td>\n",
       "    </tr>\n",
       "    <tr>\n",
       "      <th>33</th>\n",
       "      <td>STRUMENTO</td>\n",
       "      <td>ELEMENTO_DI_AIUTO</td>\n",
       "      <td>Importo dell'aiuto (espresso in Û) concesso per la componente di aiuto e per ciascun tipo di strumento di Aiuto se fosse stato erogato al beneficiario sotto forma di sovvenzione, al lordo di qualsiasi imposta o altro onere</td>\n",
       "    </tr>\n",
       "  </tbody>\n",
       "</table>\n",
       "</div>"
      ],
      "text/plain": [
       "             Sezione                        Campo                                                                                                                                                                                                                                                      Significato\n",
       "0   AIUTO             CAR                          Codice identificativo della Misura assegnato dal Registro                                                                                                                                                                                                      \n",
       "1   AIUTO             TITOLO_MISURA                Titolo della Misura di Aiuto                                                                                                                                                                                                                                   \n",
       "2   AIUTO             DES_TIPO_MISURA              Tipologia di misura (ovvero Regime di aiuti o Aiuto ad hoc)                                                                                                                                                                                                    \n",
       "3   AIUTO             COD_CE_MISURA                Eventuale Identificativo della Misura CE come rilasciato dal sistema SANI                                                                                                                                                                                      \n",
       "4   AIUTO             BASE_GIURIDICA_NAZIONALE     Denominazione estesa della norma che istituisce la misura                                                                                                                                                                                                      \n",
       "5   AIUTO             LINK_TESTO_INTEGRALE_MISUR   Link al testo integrale della misura                                                                                                                                                                                                                           \n",
       "6   AIUTO             COD_UFF_GESTORE              Codice nel Registro dell'Ufficio Gestore che gestisce l'Aiuto Individuale                                                                                                                                                                                      \n",
       "7   AIUTO             DENOMINAZIONE_UFF_GESTORE    Denominazione dell'Ufficio Gestore che gestisce l'Aiuto Individuale                                                                                                                                                                                            \n",
       "8   AIUTO             SOGGETTO_CONCEDENTE          Soggetto Concedente ai sensi del Regolamento che disciplina il funzionamento del Registro                                                                                                                                                                      \n",
       "9   AIUTO             COR                          Codice univoco rilasciato dal Registro in esito alla registrazione dell'Aiuto individuale; il codice identifica univocamente la registrazione di un Aiuto nel Registro Nazionale Aiuti (\"Codice Concessione RNA\")                                              \n",
       "10  AIUTO             TITOLO_PROGETTO              Titolo del progetto per la realizzazione del quale  destinata la concessione dell'Aiuto                                                                                                                                                                       \n",
       "11  AIUTO             DESCRIZIONE_PROGETTO         Descrizione sintetica del progetto per la realizzazione del quale  destinata la concessione dell'Aiuto                                                                                                                                                        \n",
       "12  AIUTO             LINK_TRASPARENZA_NAZIONALE   Collegamento con la sezione trasparenza del sito web predisposto ai fini del rispetto degli obblighi di trasparenza previsti dalla normativa nazionale                                                                                                         \n",
       "13  AIUTO             DATA_CONCESSIONE             Data in cui al beneficiario  accordato, a norma del regime giuridico nazionale applicabile, il diritto di ricevere l'Aiuto                                                                                                                                    \n",
       "14  AIUTO             CUP                          Codice Unico di Progetto d'investimento pubblico (CUP) rilasciato dal Sistema CUP del PCM-DIPE                                                                                                                                                                 \n",
       "15  AIUTO             ATTO_CONCESSIONE             Dati Identificativi dell'atto di concessione Aiuto (tipo numero e data dell'atto)                                                                                                                                                                              \n",
       "16  AIUTO             LINK_ATTO_CONCESSIONE        Link all'atto di concessione                                                                                                                                                                                                                                   \n",
       "17  AIUTO             DENOMINAZIONE_BENEFICIARIO   Codice fiscale che identifica univocamente il soggetto beneficiario con sede in Italia, oppure, VAT identification number UE valido nel sistema VIES in caso di soggetto estero senza sede secondaria in Italia (e non registrata presso in Registro delle     \n",
       "18  AIUTO             CODICE_FISCALE_BENEFICIARIO  Ragione sociale/Denominazione del soggetto beneficiario                                                                                                                                                                                                        \n",
       "19  AIUTO             DES_TIPO_BENEFICIARIO        Dimensione aziendale del soggetto beneficiario come definita dalla Raccomandazione 2003/361/CE del 6 maggio 2003                                                                                                                                               \n",
       "20  AIUTO             REGIONE_BENEFICIARIO         Regione di localizzazione del soggetto beneficiario                                                                                                                                                                                                            \n",
       "21  COMPONENTE_AIUTO  ID_COMPONENTE_AIUTO          Identificativo, nel Registro della componente id aiuto                                                                                                                                                                                                         \n",
       "22  COMPONENTE_AIUTO  COD_PROCEDIMENTO             Codice nel Registro del procedimento in applicazione del quale vengono concessi gli aiuti                                                                                                                                                                      \n",
       "23  COMPONENTE_AIUTO  DES_PROCEDIMENTO             Descrizione del procedimento in applicazione del quale vengono concessi gli aiuti (ex notifica, esenzione, de minimis)                                                                                                                                         \n",
       "24  COMPONENTE_AIUTO  COD_REGOLAMENTO              Codice nel Registro del Regolamento in applicazione del quale vengono concessi gli aiuti                                                                                                                                                                       \n",
       "25  COMPONENTE_AIUTO  DES_REGOLAMENTO              Regolamento in applicazione del quale vengono concessi gli aiuti                                                                                                                                                                                               \n",
       "26  COMPONENTE_AIUTO  COD_OBIETTIVO                Codice nel Registro dell'obiettivo                                                                                                                                                                                                                             \n",
       "27  COMPONENTE_AIUTO  DES_OBIETTIVO                Descrizione dell'obiettivo                                                                                                                                                                                                                                     \n",
       "28  COMPONENTE_AIUTO  SOGGETTO_INTERMEDIARIO       Descrizione dell'istituzione finanziaria, a prescindere dalla sua forma e dal suo assetto proprietario; da indicare solo in caso di concessione di Aiuti a finalitˆ regionale per lo sviluppo urbano (Art.16 Reg.651/2014) e Aiuti al finanziamento del rischio\n",
       "29  COMPONENTE_AIUTO  ENTITA_DELEGATA              Descrizione dell'Entitˆ intermediaria, in caso di concessione di Aiuti a finalitˆ regionale per lo sviluppo urbano (Art.16 Reg.651/2014) e Aiuti al finanziamento del rischio (Art.21 Reg.651/2014)                                                            \n",
       "30  COMPONENTE_AIUTO  SETTORE_ATTIVITA             Attivitˆ interessate dalla componente di Aiuto seconto la codifica NACE                                                                                                                                                                                        \n",
       "31  STRUMENTO         COD_STRUMENTO                Codice nel Registro dello strumento ovvero della forma attraverso la quale gli aiuti possono essere concessi ai soggetti beneficiari                                                                                                                           \n",
       "32  STRUMENTO         DES_STRUMENTO                Identifica le forme attraverso la quale gli aiuti possono essere concessi ai soggetti beneficiari                                                                                                                                                              \n",
       "33  STRUMENTO         ELEMENTO_DI_AIUTO            Importo dell'aiuto (espresso in Û) concesso per la componente di aiuto e per ciascun tipo di strumento di Aiuto se fosse stato erogato al beneficiario sotto forma di sovvenzione, al lordo di qualsiasi imposta o altro onere                                 "
      ]
     },
     "execution_count": 149,
     "metadata": {},
     "output_type": "execute_result"
    }
   ],
   "source": [
    "metadati = pd.read_csv(\"data/general/MetadatiAiuti.csv\", sep=';', header=0)\n",
    "metadati"
   ]
  },
  {
   "cell_type": "code",
   "execution_count": null,
   "metadata": {
    "collapsed": true
   },
   "outputs": [],
   "source": [
    "#metadati_cup = pd.read_csv(\"data/D_cup/MetadatiCUP.csv\", sep=';', header=0)\n",
    "#metadati_cup\n",
    "cup = pd.read_csv(\"data/cup/CUP.csv\", sep='|', header=0, error_bad_lines=False)\n",
    "cup.shape()"
   ]
  },
  {
   "cell_type": "markdown",
   "metadata": {},
   "source": [
    "## Data preparation: \n",
    "\n",
    "### XML to JSON\n",
    "\n",
    "\n"
   ]
  },
  {
   "cell_type": "markdown",
   "metadata": {},
   "source": [
    "I dati rilasciati dal MISE sono in format XML. Per poterli agevolmente trattare converto ogni file XML in formato JSON tramite la libreria [xmltodict](\"https://github.com/martinblech/xmltodict\").\n",
    "\n",
    "Per questioni di spazio sul repo github non sono stati caricati i file nativi in formato XML ma solo i JSON finali.\n",
    "\n",
    "\n",
    "Il codice presente qui di seguito è stato usato per creare la trasformazione."
   ]
  },
  {
   "cell_type": "code",
   "execution_count": null,
   "metadata": {
    "collapsed": true
   },
   "outputs": [],
   "source": [
    "#https://github.com/martinblech/xmltodict\n",
    "import xmltodict\n",
    "\n",
    "fileDir = os.path.dirname(os.path.realpath('__file__'))\n",
    "tot_file = 0\n",
    "listing = os.listdir(fileDir)   \n",
    "\n",
    "for infile in listing:\n",
    "    \n",
    "    if infile.endswith((\".xml\")):\n",
    "        tot_file+=1\n",
    "        name = os.path.splitext(infile)[0]\n",
    "        filename = os.path.join(fileDir, infile)\n",
    "        print (filename)\n",
    "        with open(filename, 'r') as f:\n",
    "            xmlString = f.read()\n",
    "            jsonString = json.dumps(xmltodict.parse(xmlString), indent=4) #check indent\n",
    "        \n",
    "        with open(\"./output/\"+name + \".json\", 'w') as f:\n",
    "            f.write(jsonString) \n",
    "\n",
    "print (\"Tot file: \"+str(tot_file))\n",
    "   "
   ]
  },
  {
   "cell_type": "markdown",
   "metadata": {},
   "source": [
    "### Struttura dataset:"
   ]
  },
  {
   "cell_type": "markdown",
   "metadata": {},
   "source": [
    "Ogni AIUTO è composto da delle informazioni di base e da uno o più COMPONENTI di aiuto.\n",
    "\n",
    "Ogni componente d'aiuto può essere composto da più STRUMENTI\n",
    "\n",
    "Suddividere le info in tre dataframe:\n",
    "\n",
    "1- Dati anagrafici dell'**aiuto** --> data_aiuto\n",
    "\n",
    "2- **Componenti** dell'aiuto --> data_componenti con chiave campo \"COR\"\n",
    "\n",
    "3- **Strumento/i** del Componente --> data_\n",
    "\n",
    "I tre dataframe sono in relazione tramite il campo **COR**, ***ID_COMPONENTE_AIUTO** e \n",
    "\n",
    "**COR:**\n",
    "Codice univoco rilasciato dal Registro in esito alla registrazione dell'Aiuto individuale; il codice identifica univocamente la registrazione di un Aiuto nel Registro Nazionale Aiuti (“Codice Concessione RNA”)"
   ]
  },
  {
   "cell_type": "markdown",
   "metadata": {},
   "source": [
    "#### Elenco metadati"
   ]
  },
  {
   "cell_type": "code",
   "execution_count": null,
   "metadata": {
    "collapsed": true
   },
   "outputs": [],
   "source": [
    "good_infos_aiuto = [\n",
    "    \"CAR\",\n",
    "    \"TITOLO_MISURA\",\n",
    "    \"DES_TIPO_MISURA\",\n",
    "    \"BASE_GIURIDICA_NAZIONALE\",\n",
    "    \"LINK_TESTO_INTEGRALE_MISURA\",\n",
    "    \"COD_UFF_GESTORE\",\n",
    "    \"DENOMINAZIONE_UFF_GESTORE\",\n",
    "    \"SOGGETTO_CONCEDENTE\",\n",
    "    \"COR\",\n",
    "    \"TITOLO_PROGETTO\",\n",
    "    \"DESCRIZIONE_PROGETTO\",\n",
    "    \"DATA_CONCESSIONE\",\n",
    "    \"CUP\", #Il Codice Unico di Progetto (CUP) è il codice che identifica un progetto d'investimento pubblico ed è lo strumento cardine per il funzionamento del Sistema di Monitoraggio degli Investimenti Pubblici (MIP).\n",
    "     #\"ATTO_CONCESSIONE\",#non sempre presente, al momento non gestito\n",
    "    \"DENOMINAZIONE_BENEFICIARIO\",\n",
    "    \"CODICE_FISCALE_BENEFICIARIO\",\n",
    "    \"DES_TIPO_BENEFICIARIO\",\n",
    "    \"REGIONE_BENEFICIARIO\"\n",
    "    \n",
    "]\n",
    "\n",
    "good_infos_componente = [\n",
    "    \"ID_COMPONENTE_AIUTO\",\n",
    "    \"COD_PROCEDIMENTO\",\n",
    "    \"DES_PROCEDIMENTO\",\n",
    "    \"COD_REGOLAMENTO\",\n",
    "    \"DES_REGOLAMENTO\",\n",
    "    \"COD_OBIETTIVO\",\n",
    "    \"DES_OBIETTIVO\",\n",
    "    \"SETTORE_ATTIVITA\"\n",
    "]\n",
    "\n",
    "df_infos_componente = [\n",
    "    \"COR\", \n",
    "    \"ID_COMPONENTE_AIUTO\",\n",
    "    \"COD_PROCEDIMENTO\",\n",
    "    \"DES_PROCEDIMENTO\",\n",
    "    \"COD_REGOLAMENTO\",\n",
    "    \"DES_REGOLAMENTO\",\n",
    "    \"COD_OBIETTIVO\",\n",
    "    \"DES_OBIETTIVO\",\n",
    "    \"SETTORE_ATTIVITA\"\n",
    "]\n",
    "\n",
    "\n",
    "good_infos_strumento = [\n",
    "    \"COD_STRUMENTO\",\n",
    "    \"DES_STRUMENTO\",\n",
    "    \"ELEMENTO_DI_AIUTO\"\n",
    "]    \n",
    "\n",
    "\n",
    "df_infos_strumento = [\n",
    "    \"COR\", \n",
    "    \"ID_COMPONENTE_AIUTO\", #id componente aiuto\n",
    "    \"COD_STRUMENTO\",\n",
    "    \"DES_STRUMENTO\",\n",
    "    \"ELEMENTO_DI_AIUTO\"\n",
    "]   "
   ]
  },
  {
   "cell_type": "markdown",
   "metadata": {},
   "source": [
    "Al fine di rendere più agevole e scalabile l'analisi:\n",
    "\n",
    "- carico tutti i file in formato json presenti e trasformati precedentemente\n",
    "- creo tre strutture dati che identificano le tre macro sezioni degli aiuti:\n",
    "  \n",
    "    \n",
    "Ogni AIUTO è composto da delle informazioni di base e da uno o più COMPONENTI di aiuto.\n",
    "\n",
    "Ogni componente d'aiuto può essere composto da più STRUMENTI.\n",
    "\n",
    "\n",
    "Le info verranno salvate in tre differenti dataframe che sarà poi possibile unire tramite join:\n",
    "\n",
    "1- **AIUTI**: dati anagrafici dell'**aiuto** --> data_aiuto\n",
    "\n",
    "2- **COMPONENTI**: dati anagrafici dell'aiuto --> data_componenti\n",
    "\n",
    "3- **STRUMENTI**: dati anagrafici strumenti del Componente --> data_strumenti\n",
    "\n",
    "I tre dataframe sono in relazione tramite il campo **COR** e **ID_COMPONENTE_AIUTO** \n",
    "\n",
    "**COR:**\n",
    "Codice univoco rilasciato dal Registro in esito alla registrazione dell'Aiuto individuale; il codice identifica univocamente la registrazione di un Aiuto nel Registro Nazionale Aiuti (“Codice Concessione RNA”)    \n",
    "\n",
    "**ID_COMPONENTE_AIUTO**: identificativo del componente dell'aiuto "
   ]
  },
  {
   "cell_type": "markdown",
   "metadata": {},
   "source": [
    "Ciclo tra tutti i file prodotti in json per caricarmi un unico dataframe per ogni sezione (Aiuto, Componente, Strumento) du tutti i file che ho scaricato dal sito del MISE."
   ]
  },
  {
   "cell_type": "code",
   "execution_count": null,
   "metadata": {
    "collapsed": true
   },
   "outputs": [],
   "source": [
    "#Funzioni di appoggio\n",
    "#Crea sezione componente\n",
    "def list_componente(cor_id, componente):\n",
    "    comp=[]\n",
    "    comp.append(cor_id)\n",
    "    for c in good_infos_componente:\n",
    "        comp.append(componente[c])\n",
    "    return comp  \n",
    "\n",
    "#Crea sezione strumento\n",
    "def list_strumento(cor_id, comp_id, strumento):\n",
    "    strum=[]\n",
    "    strum.append(cor_id)\n",
    "    strum.append(comp_id)\n",
    "    for c in good_infos_strumento:\n",
    "        strum.append(strumento[c])\n",
    "    return strum  \n"
   ]
  },
  {
   "cell_type": "code",
   "execution_count": 277,
   "metadata": {
    "scrolled": true
   },
   "outputs": [
    {
     "name": "stdout",
     "output_type": "stream",
     "text": [
      "/Users/mariaclaudiabodino/DEVELOPMENT/DAF/demo/daf-data-science/mise_aiuti/OpenDataAiuti_2016_10.json\n",
      "/Users/mariaclaudiabodino/DEVELOPMENT/DAF/demo/daf-data-science/mise_aiuti/OpenDataAiuti_2016_06.json\n",
      "/Users/mariaclaudiabodino/DEVELOPMENT/DAF/demo/daf-data-science/mise_aiuti/OpenDataAiuti_2017_07.json\n",
      "/Users/mariaclaudiabodino/DEVELOPMENT/DAF/demo/daf-data-science/mise_aiuti/OpenDataAiuti_2010_03.json\n",
      "/Users/mariaclaudiabodino/DEVELOPMENT/DAF/demo/daf-data-science/mise_aiuti/OpenDataAiuti_2017_11.json\n",
      "/Users/mariaclaudiabodino/DEVELOPMENT/DAF/demo/daf-data-science/mise_aiuti/OpenDataAiuti_2014_01.json\n",
      "/Users/mariaclaudiabodino/DEVELOPMENT/DAF/demo/daf-data-science/mise_aiuti/OpenDataAiuti_2013_09.json\n",
      "/Users/mariaclaudiabodino/DEVELOPMENT/DAF/demo/daf-data-science/mise_aiuti/OpenDataAiuti_2017_10.json\n",
      "/Users/mariaclaudiabodino/DEVELOPMENT/DAF/demo/daf-data-science/mise_aiuti/OpenDataAiuti_2013_04.json\n",
      "/Users/mariaclaudiabodino/DEVELOPMENT/DAF/demo/daf-data-science/mise_aiuti/OpenDataAiuti_2013_12.json\n",
      "/Users/mariaclaudiabodino/DEVELOPMENT/DAF/demo/daf-data-science/mise_aiuti/OpenDataAiuti_2017_06.json\n",
      "/Users/mariaclaudiabodino/DEVELOPMENT/DAF/demo/daf-data-science/mise_aiuti/OpenDataAiuti_2016_07.json\n",
      "/Users/mariaclaudiabodino/DEVELOPMENT/DAF/demo/daf-data-science/mise_aiuti/OpenDataAiuti_2016_11.json\n",
      "/Users/mariaclaudiabodino/DEVELOPMENT/DAF/demo/daf-data-science/mise_aiuti/OpenDataAiuti_2015_01.json\n",
      "/Users/mariaclaudiabodino/DEVELOPMENT/DAF/demo/daf-data-science/mise_aiuti/OpenDataAiuti_2010_09.json\n",
      "/Users/mariaclaudiabodino/DEVELOPMENT/DAF/demo/daf-data-science/mise_aiuti/OpenDataAiuti_2011_12.json\n",
      "/Users/mariaclaudiabodino/DEVELOPMENT/DAF/demo/daf-data-science/mise_aiuti/OpenDataAiuti_2015_06.json\n",
      "/Users/mariaclaudiabodino/DEVELOPMENT/DAF/demo/daf-data-science/mise_aiuti/OpenDataAiuti_2015_10.json\n",
      "/Users/mariaclaudiabodino/DEVELOPMENT/DAF/demo/daf-data-science/mise_aiuti/OpenDataAiuti_2011_04.json\n",
      "/Users/mariaclaudiabodino/DEVELOPMENT/DAF/demo/daf-data-science/mise_aiuti/OpenDataAiuti_2017_01.json\n",
      "/Users/mariaclaudiabodino/DEVELOPMENT/DAF/demo/daf-data-science/mise_aiuti/OpenDataAiuti_2014_11.json\n",
      "/Users/mariaclaudiabodino/DEVELOPMENT/DAF/demo/daf-data-science/mise_aiuti/OpenDataAiuti_2014_07.json\n",
      "/Users/mariaclaudiabodino/DEVELOPMENT/DAF/demo/daf-data-science/mise_aiuti/OpenDataAiuti_2014_06.json\n",
      "/Users/mariaclaudiabodino/DEVELOPMENT/DAF/demo/daf-data-science/mise_aiuti/OpenDataAiuti_2010_12.json\n",
      "/Users/mariaclaudiabodino/DEVELOPMENT/DAF/demo/daf-data-science/mise_aiuti/OpenDataAiuti_2013_02.json\n",
      "/Users/mariaclaudiabodino/DEVELOPMENT/DAF/demo/daf-data-science/mise_aiuti/OpenDataAiuti_2010_04.json\n",
      "/Users/mariaclaudiabodino/DEVELOPMENT/DAF/demo/daf-data-science/mise_aiuti/OpenDataAiuti_2014_10.json\n",
      "/Users/mariaclaudiabodino/DEVELOPMENT/DAF/demo/daf-data-science/mise_aiuti/OpenDataAiuti_2016_01.json\n",
      "/Users/mariaclaudiabodino/DEVELOPMENT/DAF/demo/daf-data-science/mise_aiuti/OpenDataAiuti_2015_11.json\n",
      "/Users/mariaclaudiabodino/DEVELOPMENT/DAF/demo/daf-data-science/mise_aiuti/OpenDataAiuti_2015_07.json\n",
      "/Users/mariaclaudiabodino/DEVELOPMENT/DAF/demo/daf-data-science/mise_aiuti/OpenDataAiuti_2012_03.json\n",
      "/Users/mariaclaudiabodino/DEVELOPMENT/DAF/demo/daf-data-science/mise_aiuti/OpenDataAiuti_2011_09.json\n",
      "/Users/mariaclaudiabodino/DEVELOPMENT/DAF/demo/daf-data-science/mise_aiuti/OpenDataAiuti_2014_09.json\n",
      "/Users/mariaclaudiabodino/DEVELOPMENT/DAF/demo/daf-data-science/mise_aiuti/OpenDataAiuti_2015_08.json\n",
      "/Users/mariaclaudiabodino/DEVELOPMENT/DAF/demo/daf-data-science/mise_aiuti/OpenDataAiuti_2014_05.json\n",
      "/Users/mariaclaudiabodino/DEVELOPMENT/DAF/demo/daf-data-science/mise_aiuti/OpenDataAiuti_2013_01.json\n",
      "/Users/mariaclaudiabodino/DEVELOPMENT/DAF/demo/daf-data-science/mise_aiuti/OpenDataAiuti_2017_03.json\n",
      "/Users/mariaclaudiabodino/DEVELOPMENT/DAF/demo/daf-data-science/mise_aiuti/OpenDataAiuti_2011_06.json\n",
      "/Users/mariaclaudiabodino/DEVELOPMENT/DAF/demo/daf-data-science/mise_aiuti/OpenDataAiuti_2016_02.json\n",
      "/Users/mariaclaudiabodino/DEVELOPMENT/DAF/demo/daf-data-science/mise_aiuti/OpenDataAiuti_2015_12.json\n",
      "/Users/mariaclaudiabodino/DEVELOPMENT/DAF/demo/daf-data-science/mise_aiuti/OpenDataAiuti_2015_04.json\n",
      "/Users/mariaclaudiabodino/DEVELOPMENT/DAF/demo/daf-data-science/mise_aiuti/OpenDataAiuti_2011_11.json\n",
      "/Users/mariaclaudiabodino/DEVELOPMENT/DAF/demo/daf-data-science/mise_aiuti/OpenDataAiuti_2015_05.json\n",
      "/Users/mariaclaudiabodino/DEVELOPMENT/DAF/demo/daf-data-science/mise_aiuti/OpenDataAiuti_2016_03.json\n",
      "/Users/mariaclaudiabodino/DEVELOPMENT/DAF/demo/daf-data-science/mise_aiuti/OpenDataAiuti_2011_07.json\n",
      "/Users/mariaclaudiabodino/DEVELOPMENT/DAF/demo/daf-data-science/mise_aiuti/OpenDataAiuti_2017_02.json\n",
      "/Users/mariaclaudiabodino/DEVELOPMENT/DAF/demo/daf-data-science/mise_aiuti/OpenDataAiuti_2014_12.json\n",
      "/Users/mariaclaudiabodino/DEVELOPMENT/DAF/demo/daf-data-science/mise_aiuti/OpenDataAiuti_2010_06.json\n",
      "/Users/mariaclaudiabodino/DEVELOPMENT/DAF/demo/daf-data-science/mise_aiuti/OpenDataAiuti_2014_04.json\n",
      "/Users/mariaclaudiabodino/DEVELOPMENT/DAF/demo/daf-data-science/mise_aiuti/OpenDataAiuti_2015_09.json\n",
      "/Users/mariaclaudiabodino/DEVELOPMENT/DAF/demo/daf-data-science/mise_aiuti/OpenDataAiuti_2009_10.json\n",
      "/Users/mariaclaudiabodino/DEVELOPMENT/DAF/demo/daf-data-science/mise_aiuti/OpenDataAiuti_2014_03.json\n",
      "/Users/mariaclaudiabodino/DEVELOPMENT/DAF/demo/daf-data-science/mise_aiuti/OpenDataAiuti_2013_07.json\n",
      "/Users/mariaclaudiabodino/DEVELOPMENT/DAF/demo/daf-data-science/mise_aiuti/OpenDataAiuti_2017_05.json\n",
      "/Users/mariaclaudiabodino/DEVELOPMENT/DAF/demo/daf-data-science/mise_aiuti/OpenDataAiuti_2012_10.json\n",
      "/Users/mariaclaudiabodino/DEVELOPMENT/DAF/demo/daf-data-science/mise_aiuti/OpenDataAiuti_2016_04.json\n",
      "/Users/mariaclaudiabodino/DEVELOPMENT/DAF/demo/daf-data-science/mise_aiuti/OpenDataAiuti_2016_12.json\n",
      "/Users/mariaclaudiabodino/DEVELOPMENT/DAF/demo/daf-data-science/mise_aiuti/OpenDataAiuti_2015_02.json\n",
      "/Users/mariaclaudiabodino/DEVELOPMENT/DAF/demo/daf-data-science/mise_aiuti/OpenDataAiuti_2012_06.json\n",
      "/Users/mariaclaudiabodino/DEVELOPMENT/DAF/demo/daf-data-science/mise_aiuti/OpenDataAiuti_2017_09.json\n",
      "/Users/mariaclaudiabodino/DEVELOPMENT/DAF/demo/daf-data-science/mise_aiuti/OpenDataAiuti_2016_08.json\n",
      "/Users/mariaclaudiabodino/DEVELOPMENT/DAF/demo/daf-data-science/mise_aiuti/OpenDataAiuti_2018_01.json\n",
      "/Users/mariaclaudiabodino/DEVELOPMENT/DAF/demo/daf-data-science/mise_aiuti/OpenDataAiuti_2016_09.json\n",
      "/Users/mariaclaudiabodino/DEVELOPMENT/DAF/demo/daf-data-science/mise_aiuti/OpenDataAiuti_2017_08.json\n",
      "/Users/mariaclaudiabodino/DEVELOPMENT/DAF/demo/daf-data-science/mise_aiuti/OpenDataAiuti_2012_07.json\n",
      "/Users/mariaclaudiabodino/DEVELOPMENT/DAF/demo/daf-data-science/mise_aiuti/OpenDataAiuti_2015_03.json\n",
      "/Users/mariaclaudiabodino/DEVELOPMENT/DAF/demo/daf-data-science/mise_aiuti/OpenDataAiuti_2016_05.json\n",
      "/Users/mariaclaudiabodino/DEVELOPMENT/DAF/demo/daf-data-science/mise_aiuti/OpenDataAiuti_2017_04.json\n",
      "/Users/mariaclaudiabodino/DEVELOPMENT/DAF/demo/daf-data-science/mise_aiuti/OpenDataAiuti_2013_10.json\n",
      "/Users/mariaclaudiabodino/DEVELOPMENT/DAF/demo/daf-data-science/mise_aiuti/OpenDataAiuti_2013_06.json\n",
      "/Users/mariaclaudiabodino/DEVELOPMENT/DAF/demo/daf-data-science/mise_aiuti/OpenDataAiuti_2017_12.json\n",
      "/Users/mariaclaudiabodino/DEVELOPMENT/DAF/demo/daf-data-science/mise_aiuti/OpenDataAiuti_2014_02.json\n"
     ]
    }
   ],
   "source": [
    "#TODO: Codice da normalizzare\n",
    "#final list with all AIUTI\n",
    "data_aiuto = []\n",
    "#final list with all COMPONENTI\n",
    "data_componenti = []\n",
    "#final list with all STRUMENTI\n",
    "data_strumenti = []\n",
    "\n",
    "fileDir = os.path.dirname(os.path.realpath('__file__'))\n",
    "output_folder = os.path.join(fileDir, 'data/aiuti')\n",
    "listing = os.listdir(output_folder)   \n",
    "\n",
    "#loop in json files from folder\n",
    "for infile in listing: \n",
    "    if infile.endswith((\".json\")):\n",
    "        filename = os.path.join(fileDir, infile)\n",
    "        #List Files\n",
    "        #print (filename)\n",
    "        filename = os.path.join(output_folder, infile)\n",
    "        filehandle = open(filename)\n",
    "        \n",
    "        data = json.load(filehandle)    \n",
    "\n",
    "        aiuto = data[\"LISTA_AIUTI\"][\"AIUTO\"]\n",
    "       \n",
    "        if isinstance(aiuto,list):\n",
    "            for row in aiuto:\n",
    "                cor_id = row[\"COR\"]\n",
    "                \n",
    "                #CREA AIUTO\n",
    "                selected_row = []\n",
    "                for a in good_infos_aiuto:\n",
    "                    selected_row.append(row[a])\n",
    "                \n",
    "                #CREA COMPONENTI: nuova lista di liste per i componenti e strumenti    \n",
    "                componente = row[\"COMPONENTI_AIUTO\"][\"COMPONENTE_AIUTO\"]\n",
    "                    #check if it's a list or dictionary\n",
    "                if isinstance(componente,list):\n",
    "                    for i in componente:\n",
    "                        comp_id = i[\"ID_COMPONENTE_AIUTO\"] #serve per poi la chiave dello strumento\n",
    "                        data_componenti.append(list_componente(cor_id,i)) \n",
    "                        #CREA STRUMENTO\n",
    "                        strumento_0 = i[\"STRUMENTO_AIUTO\"]\n",
    "                        if strumento_0 is not None:\n",
    "                            strumento = strumento_0[\"STRUMENTO_AIUTO\"]\n",
    "                            if isinstance(strumento,list):\n",
    "                                for s in strumento:\n",
    "                                    data_strumenti.append(list_strumento(cor_id, comp_id, s))    \n",
    "                            if isinstance(strumento,dict):\n",
    "                                data_strumenti.append(list_strumento(cor_id, comp_id, strumento))\n",
    "\n",
    "                    #list, dict\n",
    "                if isinstance(componente,dict):\n",
    "                    comp_id = componente[\"ID_COMPONENTE_AIUTO\"] \n",
    "                    data_componenti.append(list_componente(cor_id,componente)) \n",
    "                    #CREA STRUMENTO\n",
    "                    strumento_0 = componente[\"STRUMENTO_AIUTO\"]\n",
    "                    if strumento_0 is not None:\n",
    "                        strumento = strumento_0[\"STRUMENTO_AIUTO\"]\n",
    "                        #list, dict,list\n",
    "                        if isinstance(strumento,list):\n",
    "                            for s in strumento:\n",
    "                                data_strumenti.append(list_strumento(cor_id, comp_id, s))\n",
    "                                #list, dict,dict\n",
    "                        if isinstance(strumento,dict):\n",
    "                            data_strumenti.append(list_strumento(cor_id, comp_id, strumento))\n",
    "                           \n",
    "                #add aiuto\n",
    "                data_aiuto.append(selected_row)\n",
    "                    \n",
    "        # se c'è un unico aiuto è dict non lista\n",
    "        if isinstance(aiuto,dict):\n",
    "            cor_id = aiuto[\"COR\"]\n",
    "            selected_row = []\n",
    "            componenti = []\n",
    "            for a in good_infos_aiuto:\n",
    "                selected_row.append(aiuto[a])\n",
    "            componente = row[\"COMPONENTI_AIUTO\"][\"COMPONENTE_AIUTO\"]\n",
    "\n",
    "                #check if it's a list or dictionary\n",
    "            if isinstance(componente,list):\n",
    "                for i in componente:\n",
    "                    comp_id = i[\"ID_COMPONENTE_AIUTO\"] #serve per poi la chiave dello strumento\n",
    "                    data_componenti.append(list_componente(cor_id,i)) \n",
    "                    #CREA STRUMENTI\n",
    "                    strumento_0 = componente[\"STRUMENTO_AIUTO\"]\n",
    "                    if strumento_0 is not None:\n",
    "                        strumento = strumento_0[\"STRUMENTO_AIUTO\"]\n",
    "                        if isinstance(strumento,list):\n",
    "                            for s in strumento:\n",
    "                                data_strumenti.append(list_strumento(cor_id, comp_id, s))\n",
    "                        if isinstance(strumento,dict):\n",
    "                                data_strumenti.append(list_strumento(cor_id, comp_id, strumento))\n",
    "            #DICT\n",
    "            if isinstance(componente,dict):\n",
    "                comp_id = componente[\"ID_COMPONENTE_AIUTO\"] \n",
    "                data_componenti.append(list_componente(cor_id,componente)) \n",
    "                strumento_0 = componente[\"STRUMENTO_AIUTO\"]\n",
    "                if strumento_0 is not None:\n",
    "                    strumento = strumento_0[\"STRUMENTO_AIUTO\"]\n",
    "                    if isinstance(strumento,list):\n",
    "                        for s in strumento:\n",
    "                            data_strumenti.append(list_strumento(cor_id, comp_id, s))\n",
    "                    if isinstance(strumento,dict):\n",
    "                        data_strumenti.append(list_strumento(cor_id, comp_id, strumento))\n",
    "                #Add aiuto\n",
    "            data_aiuto.append(selected_row)\n",
    "    filehandle.close()   "
   ]
  },
  {
   "cell_type": "markdown",
   "metadata": {},
   "source": [
    "# 1- Assemblo tutti gli AIUTI in unico dataframe"
   ]
  },
  {
   "cell_type": "code",
   "execution_count": 278,
   "metadata": {},
   "outputs": [],
   "source": [
    "aiuti = pd.DataFrame(data_aiuto, columns=good_infos_aiuto)\n",
    "\n",
    "#CAST \"DATA_CONCESSIONE\" con datetime \n",
    "#il formato del time zone è sbagliato format='%Y-%m-%d%z' - es: 2016-08-05+02:00\n",
    "#aiuti['DATA_CONCESSIONE'] =  pd.to_datetime(aiuti['DATA_CONCESSIONE'], format='%Y-%m-%d%z'))\n",
    "aiuti['DATA_CONCESSIONE'] = aiuti['DATA_CONCESSIONE'].astype('str')\n",
    "aiuti['DATA_CONCESSIONE'] = aiuti.DATA_CONCESSIONE.str[:10]\n",
    "aiuti['DATA_CONCESSIONE'] = pd.to_datetime(aiuti['DATA_CONCESSIONE'], format='%Y-%m-%d')\n",
    "#Aggiungo anno per comodità\n",
    "aiuti['Y'] = aiuti['DATA_CONCESSIONE'].dt.year"
   ]
  },
  {
   "cell_type": "code",
   "execution_count": 279,
   "metadata": {},
   "outputs": [
    {
     "name": "stdout",
     "output_type": "stream",
     "text": [
      "<class 'pandas.core.frame.DataFrame'>\n",
      "RangeIndex: 168712 entries, 0 to 168711\n",
      "Data columns (total 18 columns):\n",
      "CAR                            168712 non-null object\n",
      "TITOLO_MISURA                  168712 non-null object\n",
      "DES_TIPO_MISURA                168712 non-null object\n",
      "BASE_GIURIDICA_NAZIONALE       168712 non-null object\n",
      "LINK_TESTO_INTEGRALE_MISURA    168712 non-null object\n",
      "COD_UFF_GESTORE                168712 non-null object\n",
      "DENOMINAZIONE_UFF_GESTORE      168712 non-null object\n",
      "SOGGETTO_CONCEDENTE            168712 non-null object\n",
      "COR                            168712 non-null object\n",
      "TITOLO_PROGETTO                168712 non-null object\n",
      "DESCRIZIONE_PROGETTO           168712 non-null object\n",
      "DATA_CONCESSIONE               168712 non-null datetime64[ns]\n",
      "CUP                            168712 non-null object\n",
      "DENOMINAZIONE_BENEFICIARIO     168712 non-null object\n",
      "CODICE_FISCALE_BENEFICIARIO    168712 non-null object\n",
      "DES_TIPO_BENEFICIARIO          168712 non-null object\n",
      "REGIONE_BENEFICIARIO           168712 non-null object\n",
      "Y                              168712 non-null int64\n",
      "dtypes: datetime64[ns](1), int64(1), object(16)\n",
      "memory usage: 23.2+ MB\n"
     ]
    }
   ],
   "source": [
    "aiuti.info()"
   ]
  },
  {
   "cell_type": "markdown",
   "metadata": {},
   "source": [
    "### Aiuti di Stato per anno"
   ]
  },
  {
   "cell_type": "code",
   "execution_count": 280,
   "metadata": {},
   "outputs": [
    {
     "data": {
      "text/plain": [
       "2017    136390\n",
       "2014    23194 \n",
       "2016    6139  \n",
       "2015    2143  \n",
       "2018    633   \n",
       "2013    84    \n",
       "2010    44    \n",
       "2011    41    \n",
       "2012    31    \n",
       "2009    13    \n",
       "Name: Y, dtype: int64"
      ]
     },
     "execution_count": 280,
     "metadata": {},
     "output_type": "execute_result"
    }
   ],
   "source": [
    "aiuti.Y.value_counts()"
   ]
  },
  {
   "cell_type": "markdown",
   "metadata": {},
   "source": [
    "### Most common Aiuti per Soggetti Concedenti"
   ]
  },
  {
   "cell_type": "code",
   "execution_count": 281,
   "metadata": {},
   "outputs": [
    {
     "data": {
      "text/plain": [
       "Banca del Mezzogiorno MedioCredito Centrale S.p.A.                                                                                                           45318\n",
       "Ministero dello sviluppo economico - Direzione generale per gli incentivi alle imprese                                                                       38802\n",
       "Regione Lombardia - DG Sviluppo economico                                                                                                                    16614\n",
       "FONDIMPRESA                                                                                                                                                  9006 \n",
       "Regione Emilia-Romagna - Giunta Regionale - Direzione Generale Economia della Conoscenza, del Lavoro e dell'Impresa                                          4325 \n",
       "Formazienda                                                                                                                                                  3065 \n",
       "REGIONE AUTONOMA FRIULI VENEZIA GIULIA - DIREZIONE CENTRALE LAVORO, FORMAZIONE, ISTRUZIONE, PARI OPPORTUNITA', POLITICHE GIOVANILI, RICERCA E UNIVERSITA'    2711 \n",
       "UNIONCAMERE LOMBARDIA                                                                                                                                        2672 \n",
       "FONDER                                                                                                                                                       2071 \n",
       "FONDO FOR.TE                                                                                                                                                 2007 \n",
       "Regione Veneto - Direzione Formazione e Istruzione                                                                                                           1825 \n",
       "Veneto Sviluppo Spa                                                                                                                                          1789 \n",
       "Provincia Autonoma di Bolzano - Ripartizione Economia                                                                                                        1706 \n",
       "FonARCom                                                                                                                                                     1503 \n",
       "Camera di Commercio Industria Artigianato e Agricoltura di Cuneo                                                                                             1224 \n",
       "INAIL - Direzione Centrale Prevenzione                                                                                                                       1181 \n",
       "AOO Regione Toscana Giunta                                                                                                                                   1146 \n",
       "REGIONE PIEMONTE - DIREZIONE COESIONE SOCIALE                                                                                                                1107 \n",
       "CITTA' METROPOLITANA DI TORINO                                                                                                                               1067 \n",
       "ForAgri                                                                                                                                                      1031 \n",
       "REGIONE SICILIANA - DIPARTIMENTO ATTIVITA' PRODUTTIVE                                                                                                        969  \n",
       "Regione Lombardia - DG Università Ricerca e Open Innovation                                                                                                  908  \n",
       "CONFIDI TRENTINO IMPRESE - SOCIETA' COOPERATIVA                                                                                                              887  \n",
       "GESTORE SERVIZI ENERGETICI                                                                                                                                   823  \n",
       "Regione Lombardia - DG Istruzione Formazione Lavoro                                                                                                          810  \n",
       "Provincia Autonoma di Trento                                                                                                                                 748  \n",
       "CATA ARTIGIANATO FRIULI VENEZIA GIULIA S.R.L.                                                                                                                658  \n",
       "Camera di Commercio, Industria, Artigianato e Agricoltura di Firenze                                                                                         619  \n",
       "Regione autonoma Friuli Venezia Giulia - Direzione centrale attività produttive, turismo e cooperazione                                                      608  \n",
       "Fondo artigianato formazione                                                                                                                                 605  \n",
       "                                                                                                                                                            ...   \n",
       "CREDIT COM LIGURIA S.C.R.L.                                                                                                                                  2    \n",
       "Camera di Commercio, Industria, Artiginato e Agricoltura di Bologna                                                                                          2    \n",
       "UNIONE MONTANA APPENNINO PARMA EST                                                                                                                           2    \n",
       "ASCOMFIDI SRL -COOP. DI GARANZIA E FIDI TRA I COMMERCIANTI, OPERATORI TURISTICI ED AUSILIARI DEL COMMERCIO DELLA PROVINCIA DI CASERTA                        2    \n",
       "FidImpresa MARCHE                                                                                                                                            2    \n",
       "Regione Veneto - Direzione Ricerca Innovazione ed Energia                                                                                                    2    \n",
       "Regione Lombardia - DG Presidenza                                                                                                                            2    \n",
       "ASSESSORATO DELLE INFRASTRUTTURE E DELLA MOBILITA'                                                                                                           2    \n",
       "DIREZIONE CENTRALE PRESTAZIONI SOCIO SANITARIE                                                                                                               2    \n",
       "ASSICOMFIDI                                                                                                                                                  1    \n",
       "FOGALCO Soc. Coop. - Fondo di Garanzia al Commercio Turismo e Servizi - Società Cooperativa -                                                                1    \n",
       "Camera di Commercio della Maremma e del Tirreno                                                                                                              1    \n",
       "GA.FI.ART. S.C.                                                                                                                                              1    \n",
       "CONFIDI RATING ITALIA                                                                                                                                        1    \n",
       "COMUNE DI TRIESTE                                                                                                                                            1    \n",
       "ASCOM FIDI Soc. Coop. Collettiva                                                                                                                             1    \n",
       "Comunità Montana Valtellina di Sondrio                                                                                                                       1    \n",
       "FIDI NORDEST soc coop (EX ARTIGIANFIDI VICENZA soc.coop.)                                                                                                    1    \n",
       "Regione Autonoma delle Sardegna - Servizio Sostegno alle Imprese                                                                                             1    \n",
       "FINAOSTA SPA                                                                                                                                                 1    \n",
       "IN.SAR. Iniziative Sardegna spa                                                                                                                              1    \n",
       "CAMERA DI COMMERCIO INDUSTRIA ARTIGIANATO E AGRICOLTURA DI VITERBO                                                                                           1    \n",
       "ARTIGIANFIDI PADOVA SOCIETA' COOPERATIVA                                                                                                                     1    \n",
       "COMUNE DI STREMBO                                                                                                                                            1    \n",
       "UNIONE DEI COMUNI VALLI TARO E CENO                                                                                                                          1    \n",
       "SVILUPPO ARTIGIANO SOCIETA'  REGIONALE CONSORTILE COOPERATIVA DI GARANZIA COLLETTIVA FIDI                                                                    1    \n",
       "Struttura s.r.l.                                                                                                                                             1    \n",
       "COOPERATIVA ARTIGIANA DI GARANZIA \"G.KUFERLE\" A R.L.                                                                                                         1    \n",
       "COOPERATIVA DI GARANZIA FRA GLI ARTIGIANI DELLA PROVINCIA DI TERNI S.C. -Confidi-                                                                            1    \n",
       "CONFIDARE SCPA (EX CONFARTIGIANATO FIDI PIEMONTE E NORD OVEST S.C.P.A.)                                                                                      1    \n",
       "Name: SOGGETTO_CONCEDENTE, Length: 275, dtype: int64"
      ]
     },
     "execution_count": 281,
     "metadata": {},
     "output_type": "execute_result"
    }
   ],
   "source": [
    "aiuti.SOGGETTO_CONCEDENTE.value_counts()"
   ]
  },
  {
   "cell_type": "markdown",
   "metadata": {},
   "source": [
    "### Most common  Aiuti per Uffici Gestore"
   ]
  },
  {
   "cell_type": "code",
   "execution_count": 282,
   "metadata": {},
   "outputs": [
    {
     "data": {
      "text/plain": [
       "Banca del Mezzogiorno MedioCredito Centrale S.p.A.                                                                                            45318\n",
       "DGIAI Divisione X - Interventi per il sostegno all'internazionalizzazione e all'innovazione delle imprese e per lo sviluppo di aree urbane    28398\n",
       "DGIAI Divisione VI - lncentivi fiscali e accesso al credito                                                                                   10054\n",
       "UO COMPETITIVITA', SVILUPPO E ACCESSO AL CREDITO DELLE IMPRESE                                                                                9832 \n",
       "Fondimpresa                                                                                                                                   9006 \n",
       "STR ACCESSO AL CREDITO                                                                                                                        3992 \n",
       "SERVIZIO PROGRAMMAZIONE DELLE POLITICHE DELL'ISTRUZIONE, DELLA FORMAZIONE, DEL LAVORO E DELLA CONOSCENZA                                      3499 \n",
       "Formazienda                                                                                                                                   3065 \n",
       "UFFICIO BANDI                                                                                                                                 2590 \n",
       "PO INTERVENTI DI POLITICA ATTIVA DEL LAVORO                                                                                                   2079 \n",
       "Fonder                                                                                                                                        2071 \n",
       "Fondo For.te                                                                                                                                  2007 \n",
       "PROGRAMMAZIONE FSE                                                                                                                            1825 \n",
       "VENETO SVILUPPO SPA (00854750270)                                                                                                             1787 \n",
       "Ripartizione Economia                                                                                                                         1695 \n",
       "Fonarcom                                                                                                                                      1503 \n",
       "PROMOZIONE                                                                                                                                    1264 \n",
       "UO PROMOZIONE DELL' ATTRATTIVITA' E SOSTEGNO DEL SETTORE TURISTICO                                                                            1187 \n",
       "FORMAZIONE OCCUPATI                                                                                                                           1107 \n",
       "PROGRAMMAZIONE ATTIVITA' FORMATIVE PER LAVORATORI OCCUPATI                                                                                    1067 \n",
       "ForAgri                                                                                                                                       1031 \n",
       "C.R.I.A.S. - Cassa Regionale per il Credito alle Imprese Siciliane                                                                            937  \n",
       "Confidi Trentino Imprese                                                                                                                      887  \n",
       "GESTORE SERVIZI ENERGETICI - GSE SPA                                                                                                          823  \n",
       "STR OCCUPAZIONE E OCCUPABILITA'                                                                                                               810  \n",
       "FVG - CATA ARTIGIANATO FRIULI VENEZIA GIULIA S.R.L.                                                                                           658  \n",
       "U. O. Contributi alle imprese e Rendicontazione                                                                                               619  \n",
       "Fondartigianato                                                                                                                               605  \n",
       "STR RICERCA, INNOVAZIONE E TRASFERIMENTO TECNOLOGICO                                                                                          596  \n",
       "Fondo Banche Assicurazioni                                                                                                                    585  \n",
       "                                                                                                                                             ...   \n",
       "FIDI NORDEST soc coop (EX ARTIGIANFIDI VICENZA soc.coop.)                                                                                     1    \n",
       "FOGALCO Soc. Coop. - Fondo di Garanzia al Commercio Turismo e Servizi - Società Cooperativa -                                                 1    \n",
       "FINANZIAMENTI                                                                                                                                 1    \n",
       "STR PROMOZIONE DI POLITICHE PER LA COMPETITIVITÀ, ATTUAZIONE PRS                                                                              1    \n",
       "STR SEMPLIFICAZIONE E DIGITALIZZAZIONE                                                                                                        1    \n",
       "CONFIDIMPRESE FVG                                                                                                                             1    \n",
       "ITALIA COM-FIDI Società Consortile a responsabilità limitata                                                                                  1    \n",
       "Regione Piemonte - Sistema Universitario, Diritto allo Studio, Ricerca e Innovazione                                                          1    \n",
       "Settore Affari Giuridici                                                                                                                      1    \n",
       "PF Competitività e multifunzionalità dell'impresa agricola e SDA di Fermo - Ascoli Piceno                                                     1    \n",
       "SETTORE INFRASTRUTTURE PER LA LOGISTICA                                                                                                       1    \n",
       "Ufficio frutti-viticoltura                                                                                                                    1    \n",
       "STR PATRIMONIO CULTURALE E IMPRESE CULTURALI                                                                                                  1    \n",
       "Ufficio Ispettivo                                                                                                                             1    \n",
       "Finlombarda Ufficio Minibond                                                                                                                  1    \n",
       "COOPERATIVA ARTIGIANA DI GARANZIA \"G.KUFERLE\" A R.L.                                                                                          1    \n",
       "Sarda Fidi SC                                                                                                                                 1    \n",
       "COOPERATIVA DI GARANZIA FRA GLI ARTIGIANI DELLA PROVINCIA DI TERNI S.C. -Confidi-                                                             1    \n",
       "ARTIGIANFIDI PADOVA SOCIETA' COOPERATIVA                                                                                                      1    \n",
       "POLITICHE E SERVIZI PER IL LAVORO                                                                                                             1    \n",
       "UFFICIO SEGRETERIA                                                                                                                            1    \n",
       "SVILUPPO ARTIGIANO SOCIETA'  REGIONALE CONSORTILE COOPERATIVA DI GARANZIA COLLETTIVA FIDI                                                     1    \n",
       "GA.FI.ART. S.C.                                                                                                                               1    \n",
       "Finlombarda SpA - Area Credito e Pre-Contenzioso                                                                                              1    \n",
       "STRUTTURA RICERCA, INNOVAZIONE E TRASFERIMENTO TECNOLOGICO                                                                                    1    \n",
       "servizio nuova impresa                                                                                                                        1    \n",
       "SARDAFIDI SCPA                                                                                                                                1    \n",
       "CONFIDARE SCPA (EX CONFARTIGIANATO FIDI PIEMONTE E NORD OVEST S.C.P.A.)                                                                       1    \n",
       "Servizio Sostegno alle imprese                                                                                                                1    \n",
       "ASCOM FIDI Soc. Coop. Collettiva                                                                                                              1    \n",
       "Name: DENOMINAZIONE_UFF_GESTORE, Length: 433, dtype: int64"
      ]
     },
     "execution_count": 282,
     "metadata": {},
     "output_type": "execute_result"
    }
   ],
   "source": [
    "aiuti.DENOMINAZIONE_UFF_GESTORE.value_counts()"
   ]
  },
  {
   "cell_type": "markdown",
   "metadata": {},
   "source": [
    "### Most common  Aiuti per Tipo di Beneficiari "
   ]
  },
  {
   "cell_type": "code",
   "execution_count": 283,
   "metadata": {},
   "outputs": [
    {
     "data": {
      "text/plain": [
       "PMI               162622\n",
       "-                 3412  \n",
       "Grande impresa    2678  \n",
       "Name: DES_TIPO_BENEFICIARIO, dtype: int64"
      ]
     },
     "execution_count": 283,
     "metadata": {},
     "output_type": "execute_result"
    }
   ],
   "source": [
    "aiuti.DES_TIPO_BENEFICIARIO.value_counts()"
   ]
  },
  {
   "cell_type": "markdown",
   "metadata": {},
   "source": [
    "### Most common Aiuti per Regione Beneficiari"
   ]
  },
  {
   "cell_type": "code",
   "execution_count": 284,
   "metadata": {},
   "outputs": [
    {
     "data": {
      "text/plain": [
       "Lombardia                                                            38512\n",
       "Veneto                                                               15986\n",
       "Emilia-Romagna                                                       14468\n",
       "Sicilia                                                              13414\n",
       "Piemonte                                                             11177\n",
       "Campania                                                             10842\n",
       "Toscana                                                              8285 \n",
       "Puglia                                                               7970 \n",
       "Friuli-Venezia Giulia                                                7968 \n",
       "Marche                                                               6919 \n",
       "Sardegna                                                             6770 \n",
       "Lazio                                                                6555 \n",
       "Calabria                                                             3907 \n",
       "Provincia Autonoma di Bolzano/Bozen                                  3144 \n",
       "Abruzzo                                                              2885 \n",
       "Umbria                                                               2814 \n",
       "Provincia Autonoma di Trento                                         2638 \n",
       "Liguria                                                              1315 \n",
       "Basilicata                                                           1164 \n",
       "Valle d'Aosta/Vallée d'Aoste                                         870  \n",
       "Molise                                                               501  \n",
       "Campania, Lazio                                                      47   \n",
       "Lombardia, Piemonte                                                  34   \n",
       "Inner London - East                                                  31   \n",
       "Campania, Lombardia                                                  26   \n",
       "Lombardia, Veneto                                                    22   \n",
       "Friuli-Venezia Giulia, Veneto                                        17   \n",
       "Emilia-Romagna, Lombardia                                            17   \n",
       "Campania, Emilia-Romagna                                             16   \n",
       "Emilia-Romagna, Veneto                                               13   \n",
       "                                                                     ..   \n",
       "Liguria, Provincia Autonoma di Trento                                1    \n",
       "Campania, Provincia Autonoma di Trento                               1    \n",
       "Emilia-Romagna, Lombardia, Piemonte, Toscana, Veneto                 1    \n",
       "Basilicata, Emilia-Romagna                                           1    \n",
       "Abruzzo, Campania, Lombardia                                         1    \n",
       "Friuli-Venezia Giulia, Sardegna                                      1    \n",
       "Lazio, Molise                                                        1    \n",
       "Campania, Piemonte, Puglia                                           1    \n",
       "Emilia-Romagna, Molise                                               1    \n",
       "Toscana, Veneto                                                      1    \n",
       "Campania, Lombardia, Sicilia                                         1    \n",
       "Calabria, Campania, Lazio, Toscana                                   1    \n",
       "Emilia-Romagna, Toscana                                              1    \n",
       "Emilia-Romagna, Provincia Autonoma di Trento, Veneto                 1    \n",
       "Friuli-Venezia Giulia, Liguria                                       1    \n",
       "Provincia Autonoma di Bolzano/Bozen, Provincia Autonoma di Trento    1    \n",
       "Basilicata, Molise                                                   1    \n",
       "Emilia-Romagna, Sardegna                                             1    \n",
       "Calabria, Emilia-Romagna, Lazio, Liguria                             1    \n",
       "Liguria, Sicilia                                                     1    \n",
       "Basilicata, Campania, Piemonte, Puglia                               1    \n",
       "Liguria, Toscana                                                     1    \n",
       "Molise, Veneto                                                       1    \n",
       "Calabria, Campania                                                   1    \n",
       "Calabria, Sardegna                                                   1    \n",
       "Basilicata, Emilia-Romagna, Sicilia                                  1    \n",
       "Basilicata, Calabria                                                 1    \n",
       "Abruzzo, Toscana                                                     1    \n",
       "Friuli-Venezia Giulia, Lombardia, Piemonte, Veneto                   1    \n",
       "Abruzzo, Lazio, Umbria                                               1    \n",
       "Name: REGIONE_BENEFICIARIO, Length: 135, dtype: int64"
      ]
     },
     "execution_count": 284,
     "metadata": {},
     "output_type": "execute_result"
    }
   ],
   "source": [
    "aiuti.REGIONE_BENEFICIARIO.value_counts()"
   ]
  },
  {
   "cell_type": "markdown",
   "metadata": {},
   "source": [
    "### Most common Denominazione dei Beneficiari che hanno ricevuto degli aiuti"
   ]
  },
  {
   "cell_type": "code",
   "execution_count": 285,
   "metadata": {},
   "outputs": [
    {
     "data": {
      "text/plain": [
       "Politecnico di Milano                                                                                             61\n",
       "EUROCOT S.P.A. TRASPORTI E DEPOSITI                                                                               47\n",
       "Ufficio Infrastrutture per telecomunicazioni                                                                      35\n",
       "Università della Calabria                                                                                         28\n",
       "PULITECNICA FRIULANA S.R.L.                                                                                       27\n",
       "BPER BANCA S.P.A.                                                                                                 27\n",
       "BANCA SELLA HOLDING S.P.A.                                                                                        26\n",
       "BANCA CARIGE S.P.A. - CASSA DI RISPARMIO DI GENOVA E IMPERIA SIGLABILE \"BANCA CARIGE S.P.A.\" O \"CARIGE S.P.A.\"    26\n",
       "COOPERATIVA ITACA SOCIETA' COOPERATIVA SOCIALE O.N.L.U.S.                                                         24\n",
       "BANCA SELLA - S.P.A.                                                                                              22\n",
       "LA QUERCIA SOCIETA' COOPERATIVA SOCIALE                                                                           19\n",
       "IBL ISTITUTO BANCARIO DEL LAVORO S.P.A. O IN FORMA ABBREVIATA IBL BANCA.                                          18\n",
       "BANCA POPOLARE ETICA   SOCIETA' COOPERATIVA PER AZIONI O IN FORMA ABBREVIATA \"BANCA ETICA\" O \"BPE\".               18\n",
       "INNOVA S.R.L.                                                                                                     15\n",
       "CASSA DI RISPARMIO DI CENTO S.P.A.                                                                                15\n",
       "A.T.L. - AZIENDA TRASPORTI LOMBARDI SRL                                                                           14\n",
       "PR.E.M.A.V. S.R.L.                                                                                                14\n",
       "V.S.G. S.N.C. DI GAMBRON UMBERTO & C.                                                                             14\n",
       "ENERGIA VITALE S.R.L.                                                                                             14\n",
       "A.T.E.R. DI PORDENONE                                                                                             13\n",
       "EOS S.R.L.                                                                                                        13\n",
       "FAMILIA S.R.L.                                                                                                    13\n",
       "EDYNA SRL                                                                                                         13\n",
       "SOCIETA' COOPERATIVA SOCIALE CHIANOC - ONLUS                                                                      13\n",
       "ITAS ISTITUTO TRENTINO ALTO ADIGE PER ASSICURAZIONI SOCIETA' MUTUA DI ASSICURAZIONI IN SIGLA ITAS MUTUA           13\n",
       "BIELLA LEASING - S.P.A.                                                                                           13\n",
       "\"TECNO FARM SOCIETA' A RESPONSABILITA' LIMITATA\"                                                                  13\n",
       "BANCA POPOLARE DEL LAZIO - SOCIETA' COOPERATIVA PER AZIONI                                                        13\n",
       "HOTEL SAVOY SRL                                                                                                   13\n",
       "Consiglio Nazionale delle Ricerche                                                                                12\n",
       "                                                                                                                  ..\n",
       "SCHENK ARTURO                                                                                                     1 \n",
       "STUDIO COMMERCIALISTA DOTT. MASSIMO POLONI                                                                        1 \n",
       "BUCCOLIERO AMEDEO GIOVANNI                                                                                        1 \n",
       "VADALA' - S.R.L. -                                                                                                1 \n",
       "HOTEL AL GRASPO DE UA S.R.L.                                                                                      1 \n",
       "CIMADOM LARS                                                                                                      1 \n",
       "IANNI LUCANTONIO                                                                                                  1 \n",
       "LABOR LEGNO                                                                                                       1 \n",
       "NEW TRASP S.R.L.                                                                                                  1 \n",
       "STARPUR - S.R.L.                                                                                                  1 \n",
       "ARTE PLAST S.R.L.                                                                                                 1 \n",
       "RICERCHE DIAGNOSTICHE MEROLLA DI MEROLLA ADELE LAURA S.A.S.                                                       1 \n",
       "SPORTMANIA DI BERTELLI PAOLA                                                                                      1 \n",
       "ARREDAMENTI MOBILI MELLONI DI MELLONI DAVIDE                                                                      1 \n",
       "D.M.Z. SOCIETA' A RESPONSABILITA' LIMITATA FORMA ABBREVIATA D.M.Z. S.R.L.                                         1 \n",
       "404 CONFAPI LOMBARDIA                                                                                             1 \n",
       "ALESSANDRO MALATESTA                                                                                              1 \n",
       "GUFLER MICHAEL                                                                                                    1 \n",
       "RIZZO FRANCESCA                                                                                                   1 \n",
       "B.S.P. VETRARIA S.R.L.                                                                                            1 \n",
       "IL NIDO DELLA MAESTRA MARIA TERESA FORNO                                                                          1 \n",
       "JV SYSTEM S.A.S. DI GIACOMINI ANDREA                                                                              1 \n",
       "CATTANEO BORTOLOMEO                                                                                               1 \n",
       "SOIMAR MARMI DI BRODU MARIA E C. S.A.S.                                                                           1 \n",
       "GIMARI MANUEL                                                                                                     1 \n",
       "STUDIO HERE DI BECCHERE GIANCARLO                                                                                 1 \n",
       "TRESCA RASSEL MAURIZIO                                                                                            1 \n",
       "BUFFA PAOLO STUDIO PROFESSIONALE                                                                                  1 \n",
       "FREE GROUP DI ALISCIONI LIBERO & C. S.N.C.                                                                        1 \n",
       "FILIERI MONICA                                                                                                    1 \n",
       "Name: DENOMINAZIONE_BENEFICIARIO, Length: 130585, dtype: int64"
      ]
     },
     "execution_count": 285,
     "metadata": {},
     "output_type": "execute_result"
    }
   ],
   "source": [
    "aiuti.DENOMINAZIONE_BENEFICIARIO.value_counts()"
   ]
  },
  {
   "cell_type": "markdown",
   "metadata": {},
   "source": [
    "# 2- Assemblo tutti i COMPONENTI in unico dataframe"
   ]
  },
  {
   "cell_type": "code",
   "execution_count": 286,
   "metadata": {},
   "outputs": [
    {
     "name": "stdout",
     "output_type": "stream",
     "text": [
      "<class 'pandas.core.frame.DataFrame'>\n",
      "RangeIndex: 171062 entries, 0 to 171061\n",
      "Data columns (total 9 columns):\n",
      "COR                    171062 non-null object\n",
      "ID_COMPONENTE_AIUTO    171062 non-null object\n",
      "COD_PROCEDIMENTO       171062 non-null object\n",
      "DES_PROCEDIMENTO       171062 non-null object\n",
      "COD_REGOLAMENTO        171062 non-null object\n",
      "DES_REGOLAMENTO        171062 non-null object\n",
      "COD_OBIETTIVO          171062 non-null object\n",
      "DES_OBIETTIVO          171062 non-null object\n",
      "SETTORE_ATTIVITA       171062 non-null object\n",
      "dtypes: object(9)\n",
      "memory usage: 11.7+ MB\n"
     ]
    }
   ],
   "source": [
    "componenti = pd.DataFrame(data_componenti, columns=df_infos_componente)\n",
    "componenti.info()"
   ]
  },
  {
   "cell_type": "markdown",
   "metadata": {},
   "source": [
    "Allineo il SETTORE_ATTIVITA con il campo estratto da dataset INPS su primo livello (es.G.47) perdendo il dettaglio sulla sottocategoria"
   ]
  },
  {
   "cell_type": "markdown",
   "metadata": {},
   "source": [
    "### Most common Procedimenti dei Componenti di Aiuti"
   ]
  },
  {
   "cell_type": "code",
   "execution_count": 287,
   "metadata": {},
   "outputs": [
    {
     "data": {
      "text/plain": [
       "De Minimis    138028\n",
       "Esenzione     32008 \n",
       "Notifica      1026  \n",
       "Name: DES_PROCEDIMENTO, dtype: int64"
      ]
     },
     "execution_count": 287,
     "metadata": {},
     "output_type": "execute_result"
    }
   ],
   "source": [
    "componenti.DES_PROCEDIMENTO.value_counts()"
   ]
  },
  {
   "cell_type": "markdown",
   "metadata": {},
   "source": [
    "### Most common Obiettivi dei Componenti di Aiuti"
   ]
  },
  {
   "cell_type": "code",
   "execution_count": 288,
   "metadata": {},
   "outputs": [
    {
     "data": {
      "text/plain": [
       "PMI                                                                                                                                                                                                                                               72382\n",
       "Sviluppo regionale o locale                                                                                                                                                                                                                       30184\n",
       "Formazione                                                                                                                                                                                                                                        19652\n",
       "Aiuti alla Formazione (art.31)                                                                                                                                                                                                                    12624\n",
       "Aiuti agli investimenti e all'occupazione in favore delle PMI (art. 15)                                                                                                                                                                           10049\n",
       "Altro obiettivo di sviluppo economico o sociale non classificato                                                                                                                                                                                  6321 \n",
       "Promozione dell'esportazione e dell'internazionalizzazione                                                                                                                                                                                        2710 \n",
       "Ricerca, sviluppo e innovazione                                                                                                                                                                                                                   2357 \n",
       "Aiuti a favore di ricerca, sviluppo e innovazione | Ricerca industriale (art 25) [art. 25, par. 2, lettera b)]                                                                                                                                    1784 \n",
       "Aiuti a favore di ricerca, sviluppo e innovazione | Sviluppo sperimentale [art. 25, par. 2, lettera c)]                                                                                                                                           1725 \n",
       "Sviluppo settoriale                                                                                                                                                                                                                               1650 \n",
       "Aiuti alle PMI | Aiuti agli investimenti a favore delle PMI (art. 17)                                                                                                                                                                             1570 \n",
       "Protezione ambientale                                                                                                                                                                                                                             1177 \n",
       "Finanziamento del rischio                                                                                                                                                                                                                         1103 \n",
       "Aiuti alle PMI | Aiuti per servizi di consulenza (art. 18)                                                                                                                                                                                        670  \n",
       "Aiuti a favore di ricerca, sviluppo e innovazione | Aiuti all'innovazione a favore delle PMI (art. 28)                                                                                                                                            544  \n",
       "Aiuti a favore di lavoratori svantaggiati e di lavoratori con disabilità | Aiuti all'assunzione di lavoratori svantaggiati sotto forma di integrazioni salariali (art. 32)                                                                        441  \n",
       "Accesso delle PMI ai finanziamenti | Aiuti alle imprese in fase di avviamento (art. 22)                                                                                                                                                           416  \n",
       "Aiuti alle PMI | Aiuti per la partecipazione alle fiere (art. 19)                                                                                                                                                                                 381  \n",
       "Aiuti a favore dei lavoratori svantaggiati e/o dei lavoratori con disabilità                                                                                                                                                                      339  \n",
       "Efficienza energetica                                                                                                                                                                                                                             310  \n",
       "Aiuti per la cultura e la conservazione del patrimonio (art. 53)                                                                                                                                                                                  290  \n",
       "Aiuti per la tutela dell'ambiente | Aiuti agli investimenti che consentono alle imprese di andare oltre le norme dell'Unione in materia di tutela ambientale o di innalzare il livello di tutela ambientale in assenza di tali norme (art. 36)    252  \n",
       "Cultura                                                                                                                                                                                                                                           237  \n",
       "Servizi d'interesse economico generale (SIEG)                                                                                                                                                                                                     205  \n",
       "Aiuti a favore di ricerca, sviluppo e innovazione | Aiuti per l'innovazione dei processi e dell'organizzazione (art. 29)                                                                                                                          187  \n",
       "Aiuti a favore di lavoratori svantaggiati e di lavoratori con disabilità | Aiuti all'occupazione di lavoratori con disabilita sotto forma di integrazioni salariali (art. 33)                                                                     172  \n",
       "Regimi di aiuti a favore delle opere audiovisive (art. 54)                                                                                                                                                                                        166  \n",
       "Infrastrutture sportive e infrastrutture ricreative multifunzionali                                                                                                                                                                               159  \n",
       "Compensazione di danni arrecati da calamità naturali o da altri eventi eccezionali                                                                                                                                                                135  \n",
       "Aiuti per la tutela dell'ambiente | Aiuti agli investimenti a favore di misure di efficienza energetica (art. 38)                                                                                                                                 120  \n",
       "Realizzazione di un importante progetto di comune interesse europeo                                                                                                                                                                               109  \n",
       "Aiuti a finalità regionale — Aiuti agli investimenti (art. 14) — Regime                                                                                                                                                                           101  \n",
       "Aiuti per la tutela dell'ambiente | Aiuti agli investimenti volti a promuovere la produzione di energia da fonti rinnovabili (art. 41)                                                                                                            79   \n",
       "Energia rinnovabile                                                                                                                                                                                                                               71   \n",
       "Aiuti per le infrastrutture sportive e le infrastrutture ricreative multifunzionali (art. 55)                                                                                                                                                     53   \n",
       "Aiuti a favore di lavoratori svantaggiati e di lavoratori con disabilità | Aiuti intesi a compensare i sovraccosti connessi all'occupazione di lavoratori con disabilita (art. 34)                                                                51   \n",
       "Aiuti per la tutela dell'ambiente | Aiuti per gli studi ambientali (art. 49)                                                                                                                                                                      48   \n",
       "Aiuti a favore di ricerca, sviluppo e innovazione | Ricerca fondamentale [art. 25, par. 2, lettera a)]                                                                                                                                            41   \n",
       "Infrastrutture energetiche                                                                                                                                                                                                                        39   \n",
       "Aiuti per le infrastrutture a banda larga (art. 52)                                                                                                                                                                                               38   \n",
       "Infrastrutture a banda larga                                                                                                                                                                                                                      24   \n",
       "Aiuti a favore di ricerca, sviluppo e innovazione | Aiuti ai poli d'innovazione (art. 27)                                                                                                                                                         22   \n",
       "Aiuti a favore di ricerca, sviluppo e innovazione | Studi di fattibilità [art. 25, par. 2, lettera d)]                                                                                                                                            15   \n",
       "Aiuti per la tutela dell'ambiente | Aiuti agli investimenti per teleriscaldamento e teleraffreddamento efficienti sotto il profilo energetico (art. 46)                                                                                           13   \n",
       "Conservazione del patrimonio                                                                                                                                                                                                                      13   \n",
       "Aiuti agli investimenti per le infrastrutture locali (art. 56)                                                                                                                                                                                    8    \n",
       "Aiuti per la tutela dell'ambiente | Aiuti agli investimenti a favore della cogenerazione ad alto rendimento (art. 40)                                                                                                                             7    \n",
       "Aiuti a favore di ricerca, sviluppo e innovazione | Aiuti agli investimenti per le infrastrutture di ricerca (art. 26)                                                                                                                            6    \n",
       "Aiuti sotto forma di capitale di rischio (art. 28-29)                                                                                                                                                                                             3    \n",
       "Aiuti a finalità regionale per lo sviluppo urbano (Art.16)                                                                                                                                                                                        2    \n",
       "Aiuti regionali agli investimenti e all'occupazione (art. 13) — Regime                                                                                                                                                                            2    \n",
       "Aiuti destinati a ovviare ai danni arrecati da determinate calamità naturali (art.50)                                                                                                                                                             2    \n",
       "Sostegno sociale a singoli consumatori                                                                                                                                                                                                            1    \n",
       "Aiuti a favore di lavoratori svantaggiati e di lavoratori con disabilità | Aiuti intesi a compensare i costi dell'assistenza fornita ai lavoratori svantaggiati (art. 35)                                                                         1    \n",
       "Aiuti per la tutela dell'ambiente | Aiuti agli investimenti per l'adeguamento anticipato a future norme dell'Unione (art. 37)                                                                                                                     1    \n",
       "Name: DES_OBIETTIVO, dtype: int64"
      ]
     },
     "execution_count": 288,
     "metadata": {},
     "output_type": "execute_result"
    }
   ],
   "source": [
    "componenti.DES_OBIETTIVO.value_counts()"
   ]
  },
  {
   "cell_type": "markdown",
   "metadata": {},
   "source": [
    "### Most common Settore Attività dei Componenti di Aiuti\n",
    "\n",
    "Del codice attività fornito analizzo solo la prima parte X.yy relativa al primo livello di settore.\n",
    "\n",
    "Eseguo un replace del \".\" con un \" \" per poter fare join con il codice attività dal dataset ATECO. "
   ]
  },
  {
   "cell_type": "code",
   "execution_count": 289,
   "metadata": {},
   "outputs": [
    {
     "data": {
      "text/plain": [
       "G.47.7                                            7397\n",
       "I.56.1                                            6964\n",
       "F.43.2                                            6293\n",
       "H.49.4                                            5965\n",
       "F.41.2                                            5252\n",
       "C.25.6                                            4520\n",
       "S.96.0                                            4077\n",
       "J.62.0                                            3936\n",
       "I.56.3                                            3840\n",
       "G.46.4                                            3619\n",
       "G.46.7                                            3246\n",
       "P.85.5                                            3238\n",
       "I.55.1                                            3080\n",
       "G.45.2                                            3077\n",
       "G.47.2                                            3042\n",
       "C.25.1                                            2968\n",
       "F.43.3                                            2935\n",
       "G.47.5                                            2856\n",
       "G.47.1                                            2518\n",
       "G.46.3                                            2474\n",
       "C.10.7                                            2151\n",
       "C.16.2                                            1961\n",
       "C.31.0                                            1923\n",
       "C.22.2                                            1886\n",
       "C.28.2                                            1838\n",
       "C.25.9                                            1749\n",
       "M.71.1                                            1680\n",
       "G.46.6                                            1599\n",
       "G.46.1                                            1521\n",
       "C.14.1                                            1515\n",
       "                                                  ... \n",
       "F.43.2, G.47.5, G.47.6                            1   \n",
       "G.46.1, G.46.4, G.46.6                            1   \n",
       "C.18.0                                            1   \n",
       "G.46.4, G.47.5, G.47.7                            1   \n",
       "C.22.1, I.56.1                                    1   \n",
       "I.56.1, I.56.3, R.92.0                            1   \n",
       "C.14.2, G.46.4                                    1   \n",
       "G.45.1, G.46.2                                    1   \n",
       "G.45.3, G.45.4                                    1   \n",
       "G.45.4, G.47.5                                    1   \n",
       "F.41.2, L.68.1                                    1   \n",
       "A.01.6, F.41.2, F.42.1, F.42.2, F.43.1, N.81.3    1   \n",
       "A.01.0, S.94.9                                    1   \n",
       "C.26.7, P.85.5                                    1   \n",
       "G.47.8, G.47.9                                    1   \n",
       "F.41.2, L.68.2, M.71.1                            1   \n",
       "Q.88.1, Q.88.9                                    1   \n",
       "N.79.9, S.94.9                                    1   \n",
       "F.41.2, F.43.3, F.43.9                            1   \n",
       "G.47.8, I.55.2                                    1   \n",
       "F.43.2, N.80.2, N.81.1                            1   \n",
       "C.25.1, C.25.6, C.26.6                            1   \n",
       "M.70.0, M.72.1                                    1   \n",
       "I.56.2, J.62.0                                    1   \n",
       "B.08.1, F.43.1                                    1   \n",
       "G.46.3, G.46.4                                    1   \n",
       "C.27.4, M.72.1                                    1   \n",
       "C.10.7, G.47.2, I.56.1                            1   \n",
       "L.68.2, N.77.3                                    1   \n",
       "G.46.2, G.46.6, G.47.5, G.47.7                    1   \n",
       "Name: SETTORE_ATTIVITA, Length: 914, dtype: int64"
      ]
     },
     "execution_count": 289,
     "metadata": {},
     "output_type": "execute_result"
    }
   ],
   "source": [
    "#Original\n",
    "componenti.SETTORE_ATTIVITA.value_counts()"
   ]
  },
  {
   "cell_type": "code",
   "execution_count": 290,
   "metadata": {},
   "outputs": [
    {
     "data": {
      "text/plain": [
       "Commercio al dettaglio (escluso quello di autoveicoli e di motocicli)                                                                     20144\n",
       "Commercio all'ingrosso (escluso quello di autoveicoli e di motocicli)                                                                     13961\n",
       "Attivita' dei servizi di ristorazione                                                                                                     11596\n",
       "Fabbricazione di prodotti in metallo (esclusi macchinari e attrezzature)                                                                  11106\n",
       "Lavori di costruzione specializzati                                                                                                       10878\n",
       "Trasporto terrestre e trasporto mediante condotte                                                                                         7004 \n",
       "Costruzione di edifici                                                                                                                    5661 \n",
       "Commercio all'ingrosso e al dettaglio e riparazione di autoveicoli e motocicli                                                            5392 \n",
       "Istruzione                                                                                                                                4963 \n",
       "Industrie alimentari                                                                                                                      4953 \n",
       "Fabbricazione di macchinari ed apparecchiature nca                                                                                        4674 \n",
       "Alloggio                                                                                                                                  4461 \n",
       "Altre attivita' di servizi per la persona                                                                                                 4077 \n",
       "Produzione di software, consulenza informatica e attivita' connesse                                                                       3956 \n",
       "Coltivazioni agricole e produzione di prodotti animali, caccia e servizi connessi                                                         2322 \n",
       "Industria del legno e dei prodotti in legno e sughero (esclusi i mobili), fabbricazione di articoli in paglia e materiali da intreccio    2269 \n",
       "Fabbricazione di articoli in gomma e materie plastiche                                                                                    2240 \n",
       "Attivita' degli studi di architettura e d'ingegneria, collaudi ed analisi tecniche                                                        2114 \n",
       "Confezione di articoli di abbigliamento, confezione di articoli in pelle e pelliccia                                                      2016 \n",
       "Fabbricazione di altri prodotti della lavorazione di minerali non metalliferi                                                             1992 \n",
       "Fabbricazione di mobili                                                                                                                   1930 \n",
       "Altre industrie manifatturiere                                                                                                            1712 \n",
       "Attivita' di servizi per edifici e paesaggio                                                                                              1700 \n",
       "Riparazione, manutenzione ed installazione di macchine ed apparecchiature                                                                 1670 \n",
       "Fabbricazione di apparecchiature elettriche ed apparecchiature per uso domestico non elettriche                                           1608 \n",
       "Attivita' di supporto per le funzioni d'ufficio e altri servizi di supporto alle imprese                                                  1557 \n",
       "Altre attivita' professionali, scientifiche e tecniche                                                                                    1545 \n",
       "Stampa e riproduzione di supporti registrati                                                                                              1539 \n",
       "Industrie tessili                                                                                                                         1503 \n",
       "Assistenza sanitaria                                                                                                                      1498 \n",
       "                                                                                                                                          ...  \n",
       "Fabbricazione di autoveicoli, rimorchi e semirimorchi                                                                                     485  \n",
       "Fabbricazione di altri mezzi di trasporto                                                                                                 471  \n",
       "Attivita' editoriali                                                                                                                      436  \n",
       "Silvicoltura ed utilizzo di aree forestali                                                                                                275  \n",
       "Altre attivita' di estrazione di minerali da cave e miniere                                                                               240  \n",
       "Telecomunicazioni                                                                                                                         216  \n",
       "Gestione delle reti fognarie                                                                                                              166  \n",
       "Attivita' di biblioteche, archivi, musei ed altre attivita' culturali                                                                     160  \n",
       "Fabbricazione di prodotti farmaceutici di base e di preparati farmaceutici                                                                157  \n",
       "Servizi di vigilanza e investigazione                                                                                                     143  \n",
       "Servizi postali e attivita' di corriere                                                                                                   108  \n",
       "Attivita' riguardanti le lotterie, le scommesse, le case da gioco                                                                         101  \n",
       "Assicurazioni, riassicurazioni e fondi pensione (escluse le assicurazioni sociali obbligatorie)                                           91   \n",
       "Attivita' di risanamento e altri servizi di gestione dei rifiuti                                                                          87   \n",
       "Trasporto marittimo e per vie d'acqua                                                                                                     75   \n",
       "Fabbricazione di coke e prodotti derivanti dalla raffinazione del petrolio                                                                69   \n",
       "Attivita' di programmazione e trasmissione                                                                                                66   \n",
       "Attivita' di ricerca, selezione, fornitura di personale                                                                                   57   \n",
       "Servizi veterinari                                                                                                                        53   \n",
       "Raccolta, trattamento e fornitura di acqua                                                                                                51   \n",
       "Amministrazione pubblica e difesa, assicurazione sociale obbligatoria                                                                     24   \n",
       "Trasporto aereo                                                                                                                           18   \n",
       "Pesca e acquacoltura                                                                                                                      17   \n",
       "Estrazione di petrolio greggio e di gas naturale                                                                                          7    \n",
       "Industria del tabacco                                                                                                                     4    \n",
       "Estrazione di carbone (esclusa torba)                                                                                                     4    \n",
       "Estrazione di minerali metalliferi                                                                                                        3    \n",
       "Attivita' dei servizi di supporto all'estrazione                                                                                          2    \n",
       "Attivita' di famiglie e convivenze come datori di lavoro per personale domestico                                                          1    \n",
       "Organizzazioni ed organismi extraterritoriali                                                                                             1    \n",
       "Name: DescrAteco, Length: 87, dtype: int64"
      ]
     },
     "execution_count": 290,
     "metadata": {},
     "output_type": "execute_result"
    }
   ],
   "source": [
    "#Raccordo con primo livello - attenzione: perdo quelli che sono mappati su più codici di attività.\n",
    "#Semplificazione al fine della demo\n",
    "componenti.SETTORE_ATTIVITA = componenti.SETTORE_ATTIVITA.str[0:4]\n",
    "#componenti.SETTORE_ATTIVITA.value_counts()\n",
    "\n",
    "#JOIN con descrizione codice attività\n",
    "componenti_ateco = pd.merge(componenti, ateco,on='SETTORE_ATTIVITA')\n",
    "componenti_ateco.DescrAteco.value_counts()"
   ]
  },
  {
   "cell_type": "code",
   "execution_count": 291,
   "metadata": {},
   "outputs": [
    {
     "name": "stdout",
     "output_type": "stream",
     "text": [
      "<class 'pandas.core.frame.DataFrame'>\n",
      "Int64Index: 171062 entries, 0 to 171061\n",
      "Data columns (total 12 columns):\n",
      "COR                    171062 non-null object\n",
      "ID_COMPONENTE_AIUTO    171062 non-null object\n",
      "COD_PROCEDIMENTO       171062 non-null object\n",
      "DES_PROCEDIMENTO       171062 non-null object\n",
      "COD_REGOLAMENTO        171062 non-null object\n",
      "DES_REGOLAMENTO        171062 non-null object\n",
      "COD_OBIETTIVO          171062 non-null object\n",
      "DES_OBIETTIVO          171062 non-null object\n",
      "SETTORE_ATTIVITA       171062 non-null object\n",
      "DescrAteco             171062 non-null object\n",
      "CodiceAtecoLiv1        171062 non-null object\n",
      "DescrAtecoLiv1         171062 non-null object\n",
      "dtypes: object(12)\n",
      "memory usage: 17.0+ MB\n"
     ]
    }
   ],
   "source": [
    "componenti_ateco.info()"
   ]
  },
  {
   "cell_type": "markdown",
   "metadata": {},
   "source": [
    "## Info beneficiario\n",
    "Estraggo le denominazioni del beneficiario dalla sezione **\"AIUTI\"** e il codice fiscale o piva per andare a interrogare il servizio della Commissione Europea al fine di arricchire le info che abbiamo sul beneficiario per poterlo geolocalizzare a livello di comune.\n",
    "\n",
    "\n",
    "WSDL servizio:\n",
    "\n",
    "http://ec.europa.eu/taxation_customs/vies/checkVatService.wsdl\n",
    "\n",
    "Le informazioni disponibili nel dataset original permettono di identificare la Regione ma non il comune.\n",
    "\n"
   ]
  },
  {
   "cell_type": "code",
   "execution_count": 292,
   "metadata": {
    "scrolled": true
   },
   "outputs": [],
   "source": [
    "aiuti_id = aiuti[[\"CODICE_FISCALE_BENEFICIARIO\"]]"
   ]
  },
  {
   "cell_type": "markdown",
   "metadata": {},
   "source": [
    "Salvo le info su un csv che poi cerrà utilizzato per effettuare le chiamate"
   ]
  },
  {
   "cell_type": "code",
   "execution_count": 311,
   "metadata": {
    "collapsed": true
   },
   "outputs": [],
   "source": [
    "aiuti_id.to_csv(\"./data/general/ToMapRagioneSocialeIvaCodFisc.csv\", sep='\\t',index=False) "
   ]
  },
  {
   "cell_type": "code",
   "execution_count": null,
   "metadata": {
    "collapsed": true
   },
   "outputs": [],
   "source": [
    "PATTERN = \"^[A-Z]{6}[0-9]{2}([A-E]|[HLMPRST])[0-9]{2}[A-Z][0-9]([A-Z]|[0-9])[0-9][A-Z]$\"\n",
    "#controlla se è un codice fiscale\n",
    "def get_type(field):\n",
    "    return(re.match(PATTERN, field))\n",
    "#restituisci anno\n",
    "def get_year(codfisc):\n",
    "    year = int(codfisc[6:8])\n",
    "    return year\n",
    "#resituisci sesso\n",
    "def get_sex(codfisc):\n",
    "    return int(codfisc[9:11]) < 32 and 'M' or 'F'"
   ]
  },
  {
   "cell_type": "code",
   "execution_count": 296,
   "metadata": {},
   "outputs": [
    {
     "data": {
      "text/plain": [
       "'\\nlen(aiuti_id)\\nfor i in aiuti_id:\\n    print (i)\\n    match = re.match(PATTERN, i)\\n    print (i)\\n    print (match)\\n    if match:\\n        eta = get_year(i)\\n        sex = get_sex(i)\\n        print (i,eta,sex)\\n'"
      ]
     },
     "execution_count": 296,
     "metadata": {},
     "output_type": "execute_result"
    }
   ],
   "source": [
    "#TODO\n",
    "#FILL info \n",
    "#aiuti_id[\"TEST\"] = aiuti_id[aiuti_id.CODICE_FISCALE_BENEFICIARIO.str.match(PATTERN)]\n",
    "\n",
    "'''\n",
    "len(aiuti_id)\n",
    "for i in aiuti_id:\n",
    "    print (i)\n",
    "    match = re.match(PATTERN, i)\n",
    "    print (i)\n",
    "    print (match)\n",
    "    if match:\n",
    "        eta = get_year(i)\n",
    "        sex = get_sex(i)\n",
    "        print (i,eta,sex)\n",
    "'''        "
   ]
  },
  {
   "cell_type": "markdown",
   "metadata": {},
   "source": [
    "# 3- Assemblo tutti gli STRUMENTI in unico dataframe"
   ]
  },
  {
   "cell_type": "code",
   "execution_count": 297,
   "metadata": {},
   "outputs": [
    {
     "name": "stdout",
     "output_type": "stream",
     "text": [
      "<class 'pandas.core.frame.DataFrame'>\n",
      "RangeIndex: 172741 entries, 0 to 172740\n",
      "Data columns (total 5 columns):\n",
      "COR                    172741 non-null object\n",
      "ID_COMPONENTE_AIUTO    172741 non-null object\n",
      "COD_STRUMENTO          172741 non-null object\n",
      "DES_STRUMENTO          172741 non-null object\n",
      "ELEMENTO_DI_AIUTO      172741 non-null float64\n",
      "dtypes: float64(1), object(4)\n",
      "memory usage: 6.6+ MB\n"
     ]
    }
   ],
   "source": [
    "strumenti = pd.DataFrame(data_strumenti, columns=df_infos_strumento)\n",
    "#cast campo ELEMENTO_DI_AIUTO da object a float - IMPORTO DELL'AIUTO\n",
    "strumenti['ELEMENTO_DI_AIUTO'] = strumenti['ELEMENTO_DI_AIUTO'].astype(float)\n",
    "strumenti.info()"
   ]
  },
  {
   "cell_type": "code",
   "execution_count": 298,
   "metadata": {},
   "outputs": [
    {
     "data": {
      "text/html": [
       "<div>\n",
       "<style>\n",
       "    .dataframe thead tr:only-child th {\n",
       "        text-align: right;\n",
       "    }\n",
       "\n",
       "    .dataframe thead th {\n",
       "        text-align: left;\n",
       "    }\n",
       "\n",
       "    .dataframe tbody tr th {\n",
       "        vertical-align: top;\n",
       "    }\n",
       "</style>\n",
       "<table border=\"1\" class=\"dataframe\">\n",
       "  <thead>\n",
       "    <tr style=\"text-align: right;\">\n",
       "      <th></th>\n",
       "      <th>CAR</th>\n",
       "      <th>TITOLO_MISURA</th>\n",
       "      <th>DES_TIPO_MISURA</th>\n",
       "      <th>BASE_GIURIDICA_NAZIONALE</th>\n",
       "      <th>LINK_TESTO_INTEGRALE_MISURA</th>\n",
       "      <th>COD_UFF_GESTORE</th>\n",
       "      <th>DENOMINAZIONE_UFF_GESTORE</th>\n",
       "      <th>SOGGETTO_CONCEDENTE</th>\n",
       "      <th>COR</th>\n",
       "      <th>TITOLO_PROGETTO</th>\n",
       "      <th>DESCRIZIONE_PROGETTO</th>\n",
       "      <th>DATA_CONCESSIONE</th>\n",
       "      <th>CUP</th>\n",
       "      <th>DENOMINAZIONE_BENEFICIARIO</th>\n",
       "      <th>CODICE_FISCALE_BENEFICIARIO</th>\n",
       "      <th>DES_TIPO_BENEFICIARIO</th>\n",
       "      <th>REGIONE_BENEFICIARIO</th>\n",
       "      <th>Y</th>\n",
       "    </tr>\n",
       "  </thead>\n",
       "  <tbody>\n",
       "    <tr>\n",
       "      <th>127222</th>\n",
       "      <td>682</td>\n",
       "      <td>FONDO VOUCHER PER L'ACCOMPAGNAMENTO DELLE PMI LOMBARDE NEI PAESI ESTERI</td>\n",
       "      <td>Regime di aiuti</td>\n",
       "      <td>REVISIONE DEI CRITERI DI ATTUAZIONE DEL FONDO VOUCHER PER L'ACCOMPAGNAMENTO DELLE PMI LOMBARDE NEI PAESI ESTERI (APPARTENENTI ALL'AREA EXTRA UNIONE EUROPEA) IN ATTUAZIONE DELLA DGR N. IX/4201 DEL 25/10/12</td>\n",
       "      <td>http://www.regione.lombardia.it/cs/Satellite?childpagename=HomeSPRL%2FWrapperBandiLayout&amp;c=Attivita&amp;p=1213295551434&amp;pagename=HMSPRLWrapper&amp;packedargs=menu-to-render%3D1213301212544&amp;cid=1213295551434&amp;tipologia=Agevolazioni</td>\n",
       "      <td>RLO13303</td>\n",
       "      <td>STR SOSTEGNO ALL'EXPORT E ATTRAZIONE DEGLI INVESTIMENTI</td>\n",
       "      <td>Regione Lombardia - DG Sviluppo economico</td>\n",
       "      <td>45708</td>\n",
       "      <td>Richiesta Voucher di accompagnamento impresa</td>\n",
       "      <td>Richiesta Voucher di accompagnamento impresa</td>\n",
       "      <td>2012-07-31</td>\n",
       "      <td>0000</td>\n",
       "      <td>KASK S.P.A.</td>\n",
       "      <td>03116700166</td>\n",
       "      <td>PMI</td>\n",
       "      <td>Lombardia</td>\n",
       "      <td>2012</td>\n",
       "    </tr>\n",
       "  </tbody>\n",
       "</table>\n",
       "</div>"
      ],
      "text/plain": [
       "        CAR                                                            TITOLO_MISURA  DES_TIPO_MISURA                                                                                                                                                                                      BASE_GIURIDICA_NAZIONALE                                                                                                                                                                                                    LINK_TESTO_INTEGRALE_MISURA COD_UFF_GESTORE                                DENOMINAZIONE_UFF_GESTORE                        SOGGETTO_CONCEDENTE    COR                               TITOLO_PROGETTO                          DESCRIZIONE_PROGETTO DATA_CONCESSIONE   CUP DENOMINAZIONE_BENEFICIARIO CODICE_FISCALE_BENEFICIARIO DES_TIPO_BENEFICIARIO REGIONE_BENEFICIARIO     Y\n",
       "127222  682  FONDO VOUCHER PER L'ACCOMPAGNAMENTO DELLE PMI LOMBARDE NEI PAESI ESTERI  Regime di aiuti  REVISIONE DEI CRITERI DI ATTUAZIONE DEL FONDO VOUCHER PER L'ACCOMPAGNAMENTO DELLE PMI LOMBARDE NEI PAESI ESTERI (APPARTENENTI ALL'AREA EXTRA UNIONE EUROPEA) IN ATTUAZIONE DELLA DGR N. IX/4201 DEL 25/10/12  http://www.regione.lombardia.it/cs/Satellite?childpagename=HomeSPRL%2FWrapperBandiLayout&c=Attivita&p=1213295551434&pagename=HMSPRLWrapper&packedargs=menu-to-render%3D1213301212544&cid=1213295551434&tipologia=Agevolazioni  RLO13303        STR SOSTEGNO ALL'EXPORT E ATTRAZIONE DEGLI INVESTIMENTI  Regione Lombardia - DG Sviluppo economico  45708  Richiesta Voucher di accompagnamento impresa  Richiesta Voucher di accompagnamento impresa 2012-07-31        0000  KASK S.P.A.                03116700166                 PMI                   Lombardia            2012"
      ]
     },
     "execution_count": 298,
     "metadata": {},
     "output_type": "execute_result"
    },
    {
     "data": {
      "text/html": [
       "<div>\n",
       "<style>\n",
       "    .dataframe thead tr:only-child th {\n",
       "        text-align: right;\n",
       "    }\n",
       "\n",
       "    .dataframe thead th {\n",
       "        text-align: left;\n",
       "    }\n",
       "\n",
       "    .dataframe tbody tr th {\n",
       "        vertical-align: top;\n",
       "    }\n",
       "</style>\n",
       "<table border=\"1\" class=\"dataframe\">\n",
       "  <thead>\n",
       "    <tr style=\"text-align: right;\">\n",
       "      <th></th>\n",
       "      <th>COR</th>\n",
       "      <th>ID_COMPONENTE_AIUTO</th>\n",
       "      <th>COD_PROCEDIMENTO</th>\n",
       "      <th>DES_PROCEDIMENTO</th>\n",
       "      <th>COD_REGOLAMENTO</th>\n",
       "      <th>DES_REGOLAMENTO</th>\n",
       "      <th>COD_OBIETTIVO</th>\n",
       "      <th>DES_OBIETTIVO</th>\n",
       "      <th>SETTORE_ATTIVITA</th>\n",
       "      <th>DescrAteco</th>\n",
       "      <th>CodiceAtecoLiv1</th>\n",
       "      <th>DescrAtecoLiv1</th>\n",
       "    </tr>\n",
       "  </thead>\n",
       "  <tbody>\n",
       "    <tr>\n",
       "      <th>155291</th>\n",
       "      <td>45708</td>\n",
       "      <td>51613</td>\n",
       "      <td>1</td>\n",
       "      <td>De Minimis</td>\n",
       "      <td>CE1998/2006</td>\n",
       "      <td>Reg. CE 1998/2006 de minimis  generale</td>\n",
       "      <td>150800</td>\n",
       "      <td>PMI</td>\n",
       "      <td>C.32</td>\n",
       "      <td>Altre industrie manifatturiere</td>\n",
       "      <td>C</td>\n",
       "      <td>Attivita' manifatturiere</td>\n",
       "    </tr>\n",
       "  </tbody>\n",
       "</table>\n",
       "</div>"
      ],
      "text/plain": [
       "          COR ID_COMPONENTE_AIUTO COD_PROCEDIMENTO DES_PROCEDIMENTO COD_REGOLAMENTO                         DES_REGOLAMENTO COD_OBIETTIVO DES_OBIETTIVO SETTORE_ATTIVITA                      DescrAteco CodiceAtecoLiv1            DescrAtecoLiv1\n",
       "155291  45708  51613               1                De Minimis       CE1998/2006     Reg. CE 1998/2006 de minimis  generale  150800        PMI           C.32             Altre industrie manifatturiere  C               Attivita' manifatturiere"
      ]
     },
     "execution_count": 298,
     "metadata": {},
     "output_type": "execute_result"
    },
    {
     "data": {
      "text/html": [
       "<div>\n",
       "<style>\n",
       "    .dataframe thead tr:only-child th {\n",
       "        text-align: right;\n",
       "    }\n",
       "\n",
       "    .dataframe thead th {\n",
       "        text-align: left;\n",
       "    }\n",
       "\n",
       "    .dataframe tbody tr th {\n",
       "        vertical-align: top;\n",
       "    }\n",
       "</style>\n",
       "<table border=\"1\" class=\"dataframe\">\n",
       "  <thead>\n",
       "    <tr style=\"text-align: right;\">\n",
       "      <th></th>\n",
       "      <th>COR</th>\n",
       "      <th>ID_COMPONENTE_AIUTO</th>\n",
       "      <th>COD_STRUMENTO</th>\n",
       "      <th>DES_STRUMENTO</th>\n",
       "      <th>ELEMENTO_DI_AIUTO</th>\n",
       "    </tr>\n",
       "  </thead>\n",
       "  <tbody>\n",
       "    <tr>\n",
       "      <th>130260</th>\n",
       "      <td>45708</td>\n",
       "      <td>51613</td>\n",
       "      <td>2</td>\n",
       "      <td>Sovvenzione/Contributo in conto interessi</td>\n",
       "      <td>18000.000</td>\n",
       "    </tr>\n",
       "  </tbody>\n",
       "</table>\n",
       "</div>"
      ],
      "text/plain": [
       "          COR ID_COMPONENTE_AIUTO COD_STRUMENTO                              DES_STRUMENTO  ELEMENTO_DI_AIUTO\n",
       "130260  45708  51613               2             Sovvenzione/Contributo in conto interessi 18000.000         "
      ]
     },
     "execution_count": 298,
     "metadata": {},
     "output_type": "execute_result"
    }
   ],
   "source": [
    "#check su aiuto con più componenti e strumenti\n",
    "aiuti.loc[aiuti['COR'] == \"45708\"]\n",
    "\n",
    "componenti_ateco.loc[componenti_ateco['COR']==\"45708\"]\n",
    "\n",
    "strumenti.loc[strumenti['COR'] == \"45708\"]"
   ]
  },
  {
   "cell_type": "markdown",
   "metadata": {},
   "source": [
    "# 4- Data Manipulation"
   ]
  },
  {
   "cell_type": "code",
   "execution_count": 299,
   "metadata": {},
   "outputs": [
    {
     "data": {
      "text/plain": [
       "(168712, 18)"
      ]
     },
     "execution_count": 299,
     "metadata": {},
     "output_type": "execute_result"
    },
    {
     "data": {
      "text/plain": [
       "(171062, 12)"
      ]
     },
     "execution_count": 299,
     "metadata": {},
     "output_type": "execute_result"
    },
    {
     "data": {
      "text/plain": [
       "(172741, 5)"
      ]
     },
     "execution_count": 299,
     "metadata": {},
     "output_type": "execute_result"
    }
   ],
   "source": [
    "aiuti.shape\n",
    "componenti_ateco.shape\n",
    "strumenti.shape"
   ]
  },
  {
   "cell_type": "markdown",
   "metadata": {},
   "source": [
    "Faccio JOIN dei Dataset componenti e misure"
   ]
  },
  {
   "cell_type": "code",
   "execution_count": 301,
   "metadata": {},
   "outputs": [
    {
     "data": {
      "text/plain": [
       "(172741, 15)"
      ]
     },
     "execution_count": 301,
     "metadata": {},
     "output_type": "execute_result"
    }
   ],
   "source": [
    "componenti_strumenti = pd.merge(componenti_ateco, strumenti, on=['COR','ID_COMPONENTE_AIUTO'])\n",
    "componenti_strumenti.shape"
   ]
  },
  {
   "cell_type": "code",
   "execution_count": 302,
   "metadata": {},
   "outputs": [
    {
     "data": {
      "text/html": [
       "<div>\n",
       "<style>\n",
       "    .dataframe thead tr:only-child th {\n",
       "        text-align: right;\n",
       "    }\n",
       "\n",
       "    .dataframe thead th {\n",
       "        text-align: left;\n",
       "    }\n",
       "\n",
       "    .dataframe tbody tr th {\n",
       "        vertical-align: top;\n",
       "    }\n",
       "</style>\n",
       "<table border=\"1\" class=\"dataframe\">\n",
       "  <thead>\n",
       "    <tr style=\"text-align: right;\">\n",
       "      <th></th>\n",
       "      <th>COR</th>\n",
       "      <th>ID_COMPONENTE_AIUTO</th>\n",
       "      <th>COD_PROCEDIMENTO</th>\n",
       "      <th>DES_PROCEDIMENTO</th>\n",
       "      <th>COD_REGOLAMENTO</th>\n",
       "      <th>DES_REGOLAMENTO</th>\n",
       "      <th>COD_OBIETTIVO</th>\n",
       "      <th>DES_OBIETTIVO</th>\n",
       "      <th>SETTORE_ATTIVITA</th>\n",
       "      <th>DescrAteco</th>\n",
       "      <th>CodiceAtecoLiv1</th>\n",
       "      <th>DescrAtecoLiv1</th>\n",
       "      <th>COD_STRUMENTO</th>\n",
       "      <th>DES_STRUMENTO</th>\n",
       "      <th>ELEMENTO_DI_AIUTO</th>\n",
       "    </tr>\n",
       "  </thead>\n",
       "  <tbody>\n",
       "    <tr>\n",
       "      <th>150657</th>\n",
       "      <td>36527</td>\n",
       "      <td>38331</td>\n",
       "      <td>3</td>\n",
       "      <td>Esenzione</td>\n",
       "      <td>CE651/2014</td>\n",
       "      <td>Reg. CE 651/2014 esenzione generale per categoria (GBER)</td>\n",
       "      <td>501604</td>\n",
       "      <td>Aiuti a favore di ricerca, sviluppo e innovazione | Ricerca industriale (art 25) [art. 25, par. 2, lettera b)]</td>\n",
       "      <td>C.30</td>\n",
       "      <td>Fabbricazione di altri mezzi di trasporto</td>\n",
       "      <td>C</td>\n",
       "      <td>Attivita' manifatturiere</td>\n",
       "      <td>9</td>\n",
       "      <td>Prestito/Anticipo rimborsabile</td>\n",
       "      <td>168947.170</td>\n",
       "    </tr>\n",
       "    <tr>\n",
       "      <th>150658</th>\n",
       "      <td>36527</td>\n",
       "      <td>38331</td>\n",
       "      <td>3</td>\n",
       "      <td>Esenzione</td>\n",
       "      <td>CE651/2014</td>\n",
       "      <td>Reg. CE 651/2014 esenzione generale per categoria (GBER)</td>\n",
       "      <td>501604</td>\n",
       "      <td>Aiuti a favore di ricerca, sviluppo e innovazione | Ricerca industriale (art 25) [art. 25, par. 2, lettera b)]</td>\n",
       "      <td>C.30</td>\n",
       "      <td>Fabbricazione di altri mezzi di trasporto</td>\n",
       "      <td>C</td>\n",
       "      <td>Attivita' manifatturiere</td>\n",
       "      <td>37</td>\n",
       "      <td>Sovvenzione/Contributo in conto interessi</td>\n",
       "      <td>537646.200</td>\n",
       "    </tr>\n",
       "    <tr>\n",
       "      <th>150659</th>\n",
       "      <td>36527</td>\n",
       "      <td>38332</td>\n",
       "      <td>3</td>\n",
       "      <td>Esenzione</td>\n",
       "      <td>CE651/2014</td>\n",
       "      <td>Reg. CE 651/2014 esenzione generale per categoria (GBER)</td>\n",
       "      <td>501606</td>\n",
       "      <td>Aiuti a favore di ricerca, sviluppo e innovazione | Sviluppo sperimentale [art. 25, par. 2, lettera c)]</td>\n",
       "      <td>C.30</td>\n",
       "      <td>Fabbricazione di altri mezzi di trasporto</td>\n",
       "      <td>C</td>\n",
       "      <td>Attivita' manifatturiere</td>\n",
       "      <td>9</td>\n",
       "      <td>Prestito/Anticipo rimborsabile</td>\n",
       "      <td>287895.520</td>\n",
       "    </tr>\n",
       "    <tr>\n",
       "      <th>150660</th>\n",
       "      <td>36527</td>\n",
       "      <td>38332</td>\n",
       "      <td>3</td>\n",
       "      <td>Esenzione</td>\n",
       "      <td>CE651/2014</td>\n",
       "      <td>Reg. CE 651/2014 esenzione generale per categoria (GBER)</td>\n",
       "      <td>501606</td>\n",
       "      <td>Aiuti a favore di ricerca, sviluppo e innovazione | Sviluppo sperimentale [art. 25, par. 2, lettera c)]</td>\n",
       "      <td>C.30</td>\n",
       "      <td>Fabbricazione di altri mezzi di trasporto</td>\n",
       "      <td>C</td>\n",
       "      <td>Attivita' manifatturiere</td>\n",
       "      <td>37</td>\n",
       "      <td>Sovvenzione/Contributo in conto interessi</td>\n",
       "      <td>916179.500</td>\n",
       "    </tr>\n",
       "  </tbody>\n",
       "</table>\n",
       "</div>"
      ],
      "text/plain": [
       "          COR ID_COMPONENTE_AIUTO COD_PROCEDIMENTO DES_PROCEDIMENTO COD_REGOLAMENTO                                           DES_REGOLAMENTO COD_OBIETTIVO                                                                                                   DES_OBIETTIVO SETTORE_ATTIVITA                                 DescrAteco CodiceAtecoLiv1            DescrAtecoLiv1 COD_STRUMENTO                              DES_STRUMENTO  ELEMENTO_DI_AIUTO\n",
       "150657  36527  38331               3                Esenzione        CE651/2014      Reg. CE 651/2014 esenzione generale per categoria (GBER)  501604        Aiuti a favore di ricerca, sviluppo e innovazione | Ricerca industriale (art 25) [art. 25, par. 2, lettera b)]  C.30             Fabbricazione di altri mezzi di trasporto  C               Attivita' manifatturiere  9             Prestito/Anticipo rimborsabile            168947.170        \n",
       "150658  36527  38331               3                Esenzione        CE651/2014      Reg. CE 651/2014 esenzione generale per categoria (GBER)  501604        Aiuti a favore di ricerca, sviluppo e innovazione | Ricerca industriale (art 25) [art. 25, par. 2, lettera b)]  C.30             Fabbricazione di altri mezzi di trasporto  C               Attivita' manifatturiere  37            Sovvenzione/Contributo in conto interessi 537646.200        \n",
       "150659  36527  38332               3                Esenzione        CE651/2014      Reg. CE 651/2014 esenzione generale per categoria (GBER)  501606        Aiuti a favore di ricerca, sviluppo e innovazione | Sviluppo sperimentale [art. 25, par. 2, lettera c)]         C.30             Fabbricazione di altri mezzi di trasporto  C               Attivita' manifatturiere  9             Prestito/Anticipo rimborsabile            287895.520        \n",
       "150660  36527  38332               3                Esenzione        CE651/2014      Reg. CE 651/2014 esenzione generale per categoria (GBER)  501606        Aiuti a favore di ricerca, sviluppo e innovazione | Sviluppo sperimentale [art. 25, par. 2, lettera c)]         C.30             Fabbricazione di altri mezzi di trasporto  C               Attivita' manifatturiere  37            Sovvenzione/Contributo in conto interessi 916179.500        "
      ]
     },
     "execution_count": 302,
     "metadata": {},
     "output_type": "execute_result"
    }
   ],
   "source": [
    "#random check\n",
    "componenti_strumenti.loc[componenti_strumenti['COR'] == \"36527\"]  "
   ]
  },
  {
   "cell_type": "code",
   "execution_count": 303,
   "metadata": {},
   "outputs": [
    {
     "data": {
      "text/html": [
       "<div>\n",
       "<style>\n",
       "    .dataframe thead tr:only-child th {\n",
       "        text-align: right;\n",
       "    }\n",
       "\n",
       "    .dataframe thead th {\n",
       "        text-align: left;\n",
       "    }\n",
       "\n",
       "    .dataframe tbody tr th {\n",
       "        vertical-align: top;\n",
       "    }\n",
       "</style>\n",
       "<table border=\"1\" class=\"dataframe\">\n",
       "  <thead>\n",
       "    <tr style=\"text-align: right;\">\n",
       "      <th></th>\n",
       "      <th>COR</th>\n",
       "      <th>ID_COMPONENTE_AIUTO</th>\n",
       "      <th>COD_STRUMENTO</th>\n",
       "      <th>DES_STRUMENTO</th>\n",
       "      <th>ELEMENTO_DI_AIUTO</th>\n",
       "    </tr>\n",
       "  </thead>\n",
       "  <tbody>\n",
       "    <tr>\n",
       "      <th>128192</th>\n",
       "      <td>36527</td>\n",
       "      <td>38331</td>\n",
       "      <td>9</td>\n",
       "      <td>Prestito/Anticipo rimborsabile</td>\n",
       "      <td>168947.170</td>\n",
       "    </tr>\n",
       "    <tr>\n",
       "      <th>128193</th>\n",
       "      <td>36527</td>\n",
       "      <td>38331</td>\n",
       "      <td>37</td>\n",
       "      <td>Sovvenzione/Contributo in conto interessi</td>\n",
       "      <td>537646.200</td>\n",
       "    </tr>\n",
       "    <tr>\n",
       "      <th>128194</th>\n",
       "      <td>36527</td>\n",
       "      <td>38332</td>\n",
       "      <td>9</td>\n",
       "      <td>Prestito/Anticipo rimborsabile</td>\n",
       "      <td>287895.520</td>\n",
       "    </tr>\n",
       "    <tr>\n",
       "      <th>128195</th>\n",
       "      <td>36527</td>\n",
       "      <td>38332</td>\n",
       "      <td>37</td>\n",
       "      <td>Sovvenzione/Contributo in conto interessi</td>\n",
       "      <td>916179.500</td>\n",
       "    </tr>\n",
       "  </tbody>\n",
       "</table>\n",
       "</div>"
      ],
      "text/plain": [
       "          COR ID_COMPONENTE_AIUTO COD_STRUMENTO                              DES_STRUMENTO  ELEMENTO_DI_AIUTO\n",
       "128192  36527  38331               9             Prestito/Anticipo rimborsabile            168947.170        \n",
       "128193  36527  38331               37            Sovvenzione/Contributo in conto interessi 537646.200        \n",
       "128194  36527  38332               9             Prestito/Anticipo rimborsabile            287895.520        \n",
       "128195  36527  38332               37            Sovvenzione/Contributo in conto interessi 916179.500        "
      ]
     },
     "execution_count": 303,
     "metadata": {},
     "output_type": "execute_result"
    }
   ],
   "source": [
    "#check su aiuto con più componenti e strumenti\n",
    "strumenti.loc[strumenti['COR'] == \"36527\"]"
   ]
  },
  {
   "cell_type": "code",
   "execution_count": 305,
   "metadata": {},
   "outputs": [
    {
     "data": {
      "text/plain": [
       "168712"
      ]
     },
     "execution_count": 305,
     "metadata": {},
     "output_type": "execute_result"
    },
    {
     "data": {
      "text/plain": [
       "172741"
      ]
     },
     "execution_count": 305,
     "metadata": {},
     "output_type": "execute_result"
    },
    {
     "name": "stdout",
     "output_type": "stream",
     "text": [
      "TOT:  172741\n",
      "<class 'pandas.core.frame.DataFrame'>\n",
      "Int64Index: 172741 entries, 0 to 172740\n",
      "Data columns (total 32 columns):\n",
      "CAR                            172741 non-null object\n",
      "TITOLO_MISURA                  172741 non-null object\n",
      "DES_TIPO_MISURA                172741 non-null object\n",
      "BASE_GIURIDICA_NAZIONALE       172741 non-null object\n",
      "LINK_TESTO_INTEGRALE_MISURA    172741 non-null object\n",
      "COD_UFF_GESTORE                172741 non-null object\n",
      "DENOMINAZIONE_UFF_GESTORE      172741 non-null object\n",
      "SOGGETTO_CONCEDENTE            172741 non-null object\n",
      "COR                            172741 non-null object\n",
      "TITOLO_PROGETTO                172741 non-null object\n",
      "DESCRIZIONE_PROGETTO           172741 non-null object\n",
      "DATA_CONCESSIONE               172741 non-null datetime64[ns]\n",
      "CUP                            172741 non-null object\n",
      "DENOMINAZIONE_BENEFICIARIO     172741 non-null object\n",
      "CODICE_FISCALE_BENEFICIARIO    172741 non-null object\n",
      "DES_TIPO_BENEFICIARIO          172741 non-null object\n",
      "REGIONE_BENEFICIARIO           172741 non-null object\n",
      "Y                              172741 non-null int64\n",
      "ID_COMPONENTE_AIUTO            172741 non-null object\n",
      "COD_PROCEDIMENTO               172741 non-null object\n",
      "DES_PROCEDIMENTO               172741 non-null object\n",
      "COD_REGOLAMENTO                172741 non-null object\n",
      "DES_REGOLAMENTO                172741 non-null object\n",
      "COD_OBIETTIVO                  172741 non-null object\n",
      "DES_OBIETTIVO                  172741 non-null object\n",
      "SETTORE_ATTIVITA               172741 non-null object\n",
      "DescrAteco                     172741 non-null object\n",
      "CodiceAtecoLiv1                172741 non-null object\n",
      "DescrAtecoLiv1                 172741 non-null object\n",
      "COD_STRUMENTO                  172741 non-null object\n",
      "DES_STRUMENTO                  172741 non-null object\n",
      "ELEMENTO_DI_AIUTO              172741 non-null float64\n",
      "dtypes: datetime64[ns](1), float64(1), int64(1), object(29)\n",
      "memory usage: 43.5+ MB\n"
     ]
    }
   ],
   "source": [
    "#JOIN FINALE --> CHECK DATI\n",
    "len (aiuti)\n",
    "len (componenti_strumenti) \n",
    "total_aiuti = pd.merge(aiuti, componenti_strumenti, on=['COR'])\n",
    "print (\"TOT: \",len (total_aiuti))\n",
    "total_aiuti.info()\n"
   ]
  },
  {
   "cell_type": "code",
   "execution_count": 307,
   "metadata": {},
   "outputs": [
    {
     "name": "stdout",
     "output_type": "stream",
     "text": [
      "DUPLICATE RECORDS:  0\n",
      "Empty DataFrame\n",
      "Columns: [COR, DATA_CONCESSIONE]\n",
      "Index: []\n"
     ]
    }
   ],
   "source": [
    "# CHECK: Get a report of all duplicate records in a dataframe, based on specific columns\n",
    "dupes = total_aiuti[total_aiuti.duplicated(['COR', 'ID_COMPONENTE_AIUTO','COD_STRUMENTO', 'ELEMENTO_DI_AIUTO'], keep=False)]\n",
    "print(\"DUPLICATE RECORDS: \",len(dupes))\n",
    "print (dupes[[\"COR\",\"DATA_CONCESSIONE\"]])"
   ]
  },
  {
   "cell_type": "code",
   "execution_count": 308,
   "metadata": {},
   "outputs": [
    {
     "data": {
      "text/plain": [
       "172741"
      ]
     },
     "execution_count": 308,
     "metadata": {},
     "output_type": "execute_result"
    }
   ],
   "source": [
    "len (total_aiuti)"
   ]
  },
  {
   "cell_type": "code",
   "execution_count": 312,
   "metadata": {
    "collapsed": true
   },
   "outputs": [],
   "source": [
    "total_campi= list(total_aiuti.columns.values)\n",
    "#restringo il numero dei campi per il file csv che verrà usato su superset\n",
    "demo_campi = ['CAR', 'TITOLO_MISURA', 'DES_TIPO_MISURA', 'BASE_GIURIDICA_NAZIONALE', 'COD_UFF_GESTORE', \n",
    "              'DENOMINAZIONE_UFF_GESTORE', 'SOGGETTO_CONCEDENTE', 'COR', 'TITOLO_PROGETTO', 'DESCRIZIONE_PROGETTO', \n",
    "              'DATA_CONCESSIONE', 'CUP', 'DENOMINAZIONE_BENEFICIARIO', 'CODICE_FISCALE_BENEFICIARIO', \n",
    "              'DES_TIPO_BENEFICIARIO', 'REGIONE_BENEFICIARIO', 'Y', 'ID_COMPONENTE_AIUTO', 'DES_PROCEDIMENTO',\n",
    "              'DES_REGOLAMENTO',  'DES_OBIETTIVO', 'SETTORE_ATTIVITA', 'DES_STRUMENTO', 'ELEMENTO_DI_AIUTO', \n",
    "              'INDIRIZZO', 'COMUNE', 'PROVINCIA', 'LATITUDINE', 'LONGITUDINE','ISTAT','TIPO_BENEFICIARIO','DescrAteco','DescrAtecoLiv1'] "
   ]
  },
  {
   "cell_type": "markdown",
   "metadata": {},
   "source": [
    "### Arricchisco il dataset con le info recuperate dal servizio su partite iva e codici fiscali"
   ]
  },
  {
   "cell_type": "code",
   "execution_count": 313,
   "metadata": {},
   "outputs": [],
   "source": [
    "piva_codfisc = pd.read_csv(\"data/general/MatchPIVACod.csv\", sep=',', header=0,  encoding='utf-8')\n",
    "#piva_codfisc = piva_codfisc.rename(columns={'indirizzo': 'INDIRIZZO', 'citta': 'COMUNE', 'provincia': 'PROVINCIA','type_piva': 'TIPO_BENEFICIARIO', 'lat': 'LATITUDINE','lng': 'LONGITUDINE'})"
   ]
  },
  {
   "cell_type": "code",
   "execution_count": 314,
   "metadata": {},
   "outputs": [
    {
     "data": {
      "text/plain": [
       "(122177, 13)"
      ]
     },
     "execution_count": 314,
     "metadata": {},
     "output_type": "execute_result"
    }
   ],
   "source": [
    "piva_codfisc.shape"
   ]
  },
  {
   "cell_type": "code",
   "execution_count": 319,
   "metadata": {},
   "outputs": [
    {
     "data": {
      "text/plain": [
       "172741"
      ]
     },
     "execution_count": 319,
     "metadata": {},
     "output_type": "execute_result"
    }
   ],
   "source": [
    "len(total_aiuti)\n",
    "#add columns for geo info\n",
    "total_aiuti[\"ETA\"]=\"\"\n",
    "total_aiuti[\"SEX\"]=\"\"\n"
   ]
  },
  {
   "cell_type": "code",
   "execution_count": 323,
   "metadata": {},
   "outputs": [
    {
     "data": {
      "text/plain": [
       "122177"
      ]
     },
     "execution_count": 323,
     "metadata": {},
     "output_type": "execute_result"
    },
    {
     "data": {
      "text/plain": [
       "172741"
      ]
     },
     "execution_count": 323,
     "metadata": {},
     "output_type": "execute_result"
    }
   ],
   "source": [
    "#len (total_aiuti) #max final len 172.741\n",
    "len(piva_codfisc)\n",
    "final = pd.merge(total_aiuti, piva_codfisc, how=\"left\", on=['CODICE_FISCALE_BENEFICIARIO'])\n",
    "len(final)"
   ]
  },
  {
   "cell_type": "code",
   "execution_count": 324,
   "metadata": {},
   "outputs": [
    {
     "name": "stdout",
     "output_type": "stream",
     "text": [
      "TOT all dataset:  172741\n",
      "TOT record 2017:  140142\n"
     ]
    }
   ],
   "source": [
    "final = final[demo_campi]\n",
    "print (\"TOT all dataset: \",len(final))\n",
    "final = final.loc[final['Y'] == 2017]  \n",
    "print (\"TOT record 2017: \", len(final))"
   ]
  },
  {
   "cell_type": "code",
   "execution_count": 325,
   "metadata": {},
   "outputs": [
    {
     "name": "stdout",
     "output_type": "stream",
     "text": [
      "<class 'pandas.core.frame.DataFrame'>\n",
      "Int64Index: 140142 entries, 811 to 172739\n",
      "Data columns (total 33 columns):\n",
      "CAR                            140142 non-null object\n",
      "TITOLO_MISURA                  140142 non-null object\n",
      "DES_TIPO_MISURA                140142 non-null object\n",
      "BASE_GIURIDICA_NAZIONALE       140142 non-null object\n",
      "COD_UFF_GESTORE                140142 non-null object\n",
      "DENOMINAZIONE_UFF_GESTORE      140142 non-null object\n",
      "SOGGETTO_CONCEDENTE            140142 non-null object\n",
      "COR                            140142 non-null object\n",
      "TITOLO_PROGETTO                140142 non-null object\n",
      "DESCRIZIONE_PROGETTO           140142 non-null object\n",
      "DATA_CONCESSIONE               140142 non-null datetime64[ns]\n",
      "CUP                            140142 non-null object\n",
      "DENOMINAZIONE_BENEFICIARIO     140142 non-null object\n",
      "CODICE_FISCALE_BENEFICIARIO    140142 non-null object\n",
      "DES_TIPO_BENEFICIARIO          140142 non-null object\n",
      "REGIONE_BENEFICIARIO           140142 non-null object\n",
      "Y                              140142 non-null int64\n",
      "ID_COMPONENTE_AIUTO            140142 non-null object\n",
      "DES_PROCEDIMENTO               140142 non-null object\n",
      "DES_REGOLAMENTO                140142 non-null object\n",
      "DES_OBIETTIVO                  140142 non-null object\n",
      "SETTORE_ATTIVITA               140142 non-null object\n",
      "DES_STRUMENTO                  140142 non-null object\n",
      "ELEMENTO_DI_AIUTO              140142 non-null float64\n",
      "INDIRIZZO                      132481 non-null object\n",
      "COMUNE                         132480 non-null object\n",
      "PROVINCIA                      128390 non-null object\n",
      "LATITUDINE                     132484 non-null object\n",
      "LONGITUDINE                    132327 non-null float64\n",
      "ISTAT                          132484 non-null object\n",
      "TIPO_BENEFICIARIO              132484 non-null object\n",
      "DescrAteco                     140142 non-null object\n",
      "DescrAtecoLiv1                 140142 non-null object\n",
      "dtypes: datetime64[ns](1), float64(2), int64(1), object(29)\n",
      "memory usage: 36.4+ MB\n"
     ]
    }
   ],
   "source": [
    "final.info()"
   ]
  },
  {
   "cell_type": "markdown",
   "metadata": {},
   "source": [
    "## SALVA Dataframe finale per import in SUPERSET"
   ]
  },
  {
   "cell_type": "code",
   "execution_count": 326,
   "metadata": {
    "collapsed": true
   },
   "outputs": [],
   "source": [
    "#salvo in csv per SUPERSET il dataframecompleto\n",
    "#castomizzare con max e min valore temporale dei file\n",
    "final.to_csv(\"./data/aiuti/AiutiTotali.csv\", sep='|',index=False, header=True,  encoding='utf-8')"
   ]
  }
 ],
 "metadata": {
  "kernelspec": {
   "display_name": "Python 3",
   "language": "python",
   "name": "python3"
  },
  "language_info": {
   "codemirror_mode": {
    "name": "ipython",
    "version": 3
   },
   "file_extension": ".py",
   "mimetype": "text/x-python",
   "name": "python",
   "nbconvert_exporter": "python",
   "pygments_lexer": "ipython3",
   "version": "3.6.1"
  }
 },
 "nbformat": 4,
 "nbformat_minor": 2
}
