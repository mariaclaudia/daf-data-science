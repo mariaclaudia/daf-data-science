{
 "cells": [
  {
   "cell_type": "markdown",
   "metadata": {},
   "source": [
    "# Costi Riscossione Tributi\n",
    "\n",
    "Questa analisi ha come obiettivo approfondire come i costi per **la riscossione dei tributi** si distribuisce in Italia. In particolare:\n",
    "- Analizzeremo la sua distribuzione normalizzata per il numero di contribuenti per le varie Regioni.\n",
    "- Cercheremo di capire quali sono le top/last regioni/province/comuni per spesa riscossione tributi"
   ]
  },
  {
   "cell_type": "code",
   "execution_count": 53,
   "metadata": {},
   "outputs": [
    {
     "data": {
      "text/html": [
       "<script>requirejs.config({paths: { 'plotly': ['https://cdn.plot.ly/plotly-latest.min']},});if(!window.Plotly) {{require(['plotly'],function(plotly) {window.Plotly=plotly;});}}</script>"
      ],
      "text/vnd.plotly.v1+html": [
       "<script>requirejs.config({paths: { 'plotly': ['https://cdn.plot.ly/plotly-latest.min']},});if(!window.Plotly) {{require(['plotly'],function(plotly) {window.Plotly=plotly;});}}</script>"
      ]
     },
     "metadata": {},
     "output_type": "display_data"
    }
   ],
   "source": [
    "import numpy as np\n",
    "import pandas as pd\n",
    "\n",
    "# set the max number of columns to display\n",
    "pd.options.display.max_columns = 98\n",
    "\n",
    "import matplotlib.pyplot as plt\n",
    "import seaborn as sns\n",
    "sns.set(color_codes=True)\n",
    "\n",
    "import plotly.offline as py\n",
    "import plotly.plotly as py_on\n",
    "import plotly.graph_objs as go\n",
    "from plotly import tools\n",
    "import plotly.figure_factory as ff\n",
    "py.init_notebook_mode(connected=True)\n",
    "\n",
    "from IPython.display import Image\n",
    "from IPython.display import display"
   ]
  },
  {
   "cell_type": "markdown",
   "metadata": {},
   "source": [
    "Il dataset preso in analisi contiene informazioni sui **costi riscossione tributi per 2010-2013 (OpenCivitas)**  e i **redditi dei contribuenti (Mef dati Irpef)** per lo stesso periodo. In totale abbiamo 26800 osservazioni distribuite per anno:"
   ]
  },
  {
   "cell_type": "code",
   "execution_count": 54,
   "metadata": {},
   "outputs": [],
   "source": [
    "fattore = 'costo riscossione tributi'\n",
    "fattore_descrizione = 'Costo Riscossione Tributi'\n",
    "\n",
    "tot_contribuenti = 'tot_contribuenti'\n",
    "\n",
    "fattore_normalizzato = 'spesa_tributi_per_contribuenti'"
   ]
  },
  {
   "cell_type": "code",
   "execution_count": 55,
   "metadata": {},
   "outputs": [
    {
     "data": {
      "text/plain": [
       "(26799, 86)"
      ]
     },
     "execution_count": 55,
     "metadata": {},
     "output_type": "execute_result"
    }
   ],
   "source": [
    "df = pd.read_csv('./data/opencivitas_spesa_storica_dati_irpef.csv')\n",
    "df.shape"
   ]
  },
  {
   "cell_type": "markdown",
   "metadata": {},
   "source": [
    "Distribuzione delle osservazioni Anno e Comuni per cui abbiamo rilevazioni per l'anno in questione."
   ]
  },
  {
   "cell_type": "code",
   "execution_count": 56,
   "metadata": {},
   "outputs": [
    {
     "data": {
      "text/plain": [
       "ANNO\n",
       "2010    6702\n",
       "2011    6699\n",
       "2012    6699\n",
       "2013    6699\n",
       "Name: costo riscossione tributi, dtype: int64"
      ]
     },
     "execution_count": 56,
     "metadata": {},
     "output_type": "execute_result"
    }
   ],
   "source": [
    "df.groupby(['ANNO'])[fattore].count()"
   ]
  },
  {
   "cell_type": "markdown",
   "metadata": {},
   "source": [
    "Aggiungiamo ora la colonna per il fattore di analisi normalizzato per numero di contribuenti"
   ]
  },
  {
   "cell_type": "code",
   "execution_count": 57,
   "metadata": {},
   "outputs": [
    {
     "data": {
      "text/plain": [
       "0     9.135789\n",
       "1     0.233289\n",
       "2    20.696801\n",
       "3     6.788800\n",
       "4    38.156980\n",
       "Name: spesa_tributi_per_contribuenti, dtype: float64"
      ]
     },
     "execution_count": 57,
     "metadata": {},
     "output_type": "execute_result"
    }
   ],
   "source": [
    "df[fattore_normalizzato]= df[fattore] / df[tot_contribuenti]\n",
    "df[fattore_normalizzato].head()"
   ]
  },
  {
   "cell_type": "markdown",
   "metadata": {},
   "source": [
    "-----------------------"
   ]
  },
  {
   "cell_type": "code",
   "execution_count": 58,
   "metadata": {},
   "outputs": [],
   "source": [
    "df_regione = df.groupby(df.Regione)[fattore_normalizzato].mean()\n",
    "df_regione = df_regione.sort_values(ascending=False)"
   ]
  },
  {
   "cell_type": "code",
   "execution_count": 59,
   "metadata": {
    "scrolled": false
   },
   "outputs": [],
   "source": [
    "data_pie = [\n",
    "    go.Pie(labels = df_regione.index, values=df_regione),\n",
    "]\n",
    "\n",
    "layout_pie = go.Layout(\n",
    "    title='Costo medio riscossione tasse per Regione/Contribuente in Euro'\n",
    ")\n",
    "\n",
    "fig_pie = go.Figure(data=data_pie, layout=layout_pie)\n",
    "\n",
    "data_bar = [\n",
    "    go.Bar(x=df_regione.index, y=df_regione, name = 'spesa media')\n",
    "]\n",
    "\n",
    "layout_bar = go.Layout(\n",
    "    title='Costo medio riscossione tasse per Regione/Contribuente in Euro',\n",
    "    xaxis=dict(\n",
    "        title='Regioni',\n",
    "    ),\n",
    "    yaxis=dict(\n",
    "        title='Euro per Contribuente',\n",
    "    )\n",
    ")\n",
    "\n",
    "fig_bar = go.Figure(data=data_bar, layout=layout_bar)"
   ]
  },
  {
   "cell_type": "markdown",
   "metadata": {},
   "source": [
    "## Costo Riscossione Tributi per Regione\n",
    "\n",
    "Per prima cosa analizziamo quali sono le regioni che hanno maggiori costi per la riscossione delle tasse.\n",
    "Possiamo osservare che per il periodo 2010-2013 la Liguria sia la regione con li maggior costo procapite per la riscossione dei tributi. La tabella sotto mostra il dettaglio dei costi. \n",
    "\n",
    "Mentre, il grafico a torta fa vedere la distribuzione percentuale di questi costi sul totale delle regioni presenti nel dataset."
   ]
  },
  {
   "cell_type": "code",
   "execution_count": 60,
   "metadata": {},
   "outputs": [
    {
     "data": {
      "text/plain": [
       "Regione\n",
       "LIGURIA           25.526999\n",
       "TOSCANA           20.985320\n",
       "LAZIO             19.517032\n",
       "UMBRIA            19.375336\n",
       "ABRUZZO           18.305063\n",
       "CALABRIA          18.206965\n",
       "PUGLIA            17.903016\n",
       "CAMPANIA          17.685549\n",
       "LOMBARDIA         17.559752\n",
       "PIEMONTE          16.195326\n",
       "MOLISE            16.000031\n",
       "EMILIA-ROMAGNA    15.782949\n",
       "BASILICATA        15.120855\n",
       "MARCHE            14.989963\n",
       "VENETO            12.686208\n",
       "Name: spesa_tributi_per_contribuenti, dtype: float64"
      ]
     },
     "execution_count": 60,
     "metadata": {},
     "output_type": "execute_result"
    }
   ],
   "source": [
    "df_regione"
   ]
  },
  {
   "cell_type": "code",
   "execution_count": 61,
   "metadata": {
    "scrolled": false
   },
   "outputs": [
    {
     "data": {
      "application/vnd.plotly.v1+json": {
       "data": [
        {
         "labels": [
          "LIGURIA",
          "TOSCANA",
          "LAZIO",
          "UMBRIA",
          "ABRUZZO",
          "CALABRIA",
          "PUGLIA",
          "CAMPANIA",
          "LOMBARDIA",
          "PIEMONTE",
          "MOLISE",
          "EMILIA-ROMAGNA",
          "BASILICATA",
          "MARCHE",
          "VENETO"
         ],
         "type": "pie",
         "values": [
          25.526998843800953,
          20.985320086852926,
          19.517032286513256,
          19.375335841241473,
          18.305063057505947,
          18.206964650039648,
          17.90301581189539,
          17.685548645120818,
          17.559752229867346,
          16.195325655165576,
          16.000031219809564,
          15.782949008753214,
          15.120854976564374,
          14.98996321261119,
          12.686208085893805
         ]
        }
       ],
       "layout": {
        "title": "Costo medio riscossione tasse per Regione/Contribuente in Euro"
       }
      },
      "text/html": [
       "<div id=\"fc4da397-bc0b-440b-a3b2-ed7c1e81e1c7\" style=\"height: 525px; width: 100%;\" class=\"plotly-graph-div\"></div><script type=\"text/javascript\">require([\"plotly\"], function(Plotly) { window.PLOTLYENV=window.PLOTLYENV || {};window.PLOTLYENV.BASE_URL=\"https://plot.ly\";Plotly.newPlot(\"fc4da397-bc0b-440b-a3b2-ed7c1e81e1c7\", [{\"type\": \"pie\", \"labels\": [\"LIGURIA\", \"TOSCANA\", \"LAZIO\", \"UMBRIA\", \"ABRUZZO\", \"CALABRIA\", \"PUGLIA\", \"CAMPANIA\", \"LOMBARDIA\", \"PIEMONTE\", \"MOLISE\", \"EMILIA-ROMAGNA\", \"BASILICATA\", \"MARCHE\", \"VENETO\"], \"values\": [25.526998843800953, 20.985320086852926, 19.517032286513256, 19.375335841241473, 18.305063057505947, 18.206964650039648, 17.90301581189539, 17.685548645120818, 17.559752229867346, 16.195325655165576, 16.000031219809564, 15.782949008753214, 15.120854976564374, 14.98996321261119, 12.686208085893805]}], {\"title\": \"Costo medio riscossione tasse per Regione/Contribuente in Euro\"}, {\"showLink\": true, \"linkText\": \"Export to plot.ly\"})});</script>"
      ],
      "text/vnd.plotly.v1+html": [
       "<div id=\"fc4da397-bc0b-440b-a3b2-ed7c1e81e1c7\" style=\"height: 525px; width: 100%;\" class=\"plotly-graph-div\"></div><script type=\"text/javascript\">require([\"plotly\"], function(Plotly) { window.PLOTLYENV=window.PLOTLYENV || {};window.PLOTLYENV.BASE_URL=\"https://plot.ly\";Plotly.newPlot(\"fc4da397-bc0b-440b-a3b2-ed7c1e81e1c7\", [{\"type\": \"pie\", \"labels\": [\"LIGURIA\", \"TOSCANA\", \"LAZIO\", \"UMBRIA\", \"ABRUZZO\", \"CALABRIA\", \"PUGLIA\", \"CAMPANIA\", \"LOMBARDIA\", \"PIEMONTE\", \"MOLISE\", \"EMILIA-ROMAGNA\", \"BASILICATA\", \"MARCHE\", \"VENETO\"], \"values\": [25.526998843800953, 20.985320086852926, 19.517032286513256, 19.375335841241473, 18.305063057505947, 18.206964650039648, 17.90301581189539, 17.685548645120818, 17.559752229867346, 16.195325655165576, 16.000031219809564, 15.782949008753214, 15.120854976564374, 14.98996321261119, 12.686208085893805]}], {\"title\": \"Costo medio riscossione tasse per Regione/Contribuente in Euro\"}, {\"showLink\": true, \"linkText\": \"Export to plot.ly\"})});</script>"
      ]
     },
     "metadata": {},
     "output_type": "display_data"
    },
    {
     "data": {
      "application/vnd.plotly.v1+json": {
       "data": [
        {
         "name": "spesa media",
         "type": "bar",
         "x": [
          "LIGURIA",
          "TOSCANA",
          "LAZIO",
          "UMBRIA",
          "ABRUZZO",
          "CALABRIA",
          "PUGLIA",
          "CAMPANIA",
          "LOMBARDIA",
          "PIEMONTE",
          "MOLISE",
          "EMILIA-ROMAGNA",
          "BASILICATA",
          "MARCHE",
          "VENETO"
         ],
         "y": [
          25.526998843800953,
          20.985320086852926,
          19.517032286513256,
          19.375335841241473,
          18.305063057505947,
          18.206964650039648,
          17.90301581189539,
          17.685548645120818,
          17.559752229867346,
          16.195325655165576,
          16.000031219809564,
          15.782949008753214,
          15.120854976564374,
          14.98996321261119,
          12.686208085893805
         ]
        }
       ],
       "layout": {
        "title": "Costo medio riscossione tasse per Regione/Contribuente in Euro",
        "xaxis": {
         "title": "Regioni"
        },
        "yaxis": {
         "title": "Euro per Contribuente"
        }
       }
      },
      "text/html": [
       "<div id=\"fc0dcd2f-3469-4990-8345-b6c34f6f1d38\" style=\"height: 525px; width: 100%;\" class=\"plotly-graph-div\"></div><script type=\"text/javascript\">require([\"plotly\"], function(Plotly) { window.PLOTLYENV=window.PLOTLYENV || {};window.PLOTLYENV.BASE_URL=\"https://plot.ly\";Plotly.newPlot(\"fc0dcd2f-3469-4990-8345-b6c34f6f1d38\", [{\"type\": \"bar\", \"x\": [\"LIGURIA\", \"TOSCANA\", \"LAZIO\", \"UMBRIA\", \"ABRUZZO\", \"CALABRIA\", \"PUGLIA\", \"CAMPANIA\", \"LOMBARDIA\", \"PIEMONTE\", \"MOLISE\", \"EMILIA-ROMAGNA\", \"BASILICATA\", \"MARCHE\", \"VENETO\"], \"y\": [25.526998843800953, 20.985320086852926, 19.517032286513256, 19.375335841241473, 18.305063057505947, 18.206964650039648, 17.90301581189539, 17.685548645120818, 17.559752229867346, 16.195325655165576, 16.000031219809564, 15.782949008753214, 15.120854976564374, 14.98996321261119, 12.686208085893805], \"name\": \"spesa media\"}], {\"title\": \"Costo medio riscossione tasse per Regione/Contribuente in Euro\", \"xaxis\": {\"title\": \"Regioni\"}, \"yaxis\": {\"title\": \"Euro per Contribuente\"}}, {\"showLink\": true, \"linkText\": \"Export to plot.ly\"})});</script>"
      ],
      "text/vnd.plotly.v1+html": [
       "<div id=\"fc0dcd2f-3469-4990-8345-b6c34f6f1d38\" style=\"height: 525px; width: 100%;\" class=\"plotly-graph-div\"></div><script type=\"text/javascript\">require([\"plotly\"], function(Plotly) { window.PLOTLYENV=window.PLOTLYENV || {};window.PLOTLYENV.BASE_URL=\"https://plot.ly\";Plotly.newPlot(\"fc0dcd2f-3469-4990-8345-b6c34f6f1d38\", [{\"type\": \"bar\", \"x\": [\"LIGURIA\", \"TOSCANA\", \"LAZIO\", \"UMBRIA\", \"ABRUZZO\", \"CALABRIA\", \"PUGLIA\", \"CAMPANIA\", \"LOMBARDIA\", \"PIEMONTE\", \"MOLISE\", \"EMILIA-ROMAGNA\", \"BASILICATA\", \"MARCHE\", \"VENETO\"], \"y\": [25.526998843800953, 20.985320086852926, 19.517032286513256, 19.375335841241473, 18.305063057505947, 18.206964650039648, 17.90301581189539, 17.685548645120818, 17.559752229867346, 16.195325655165576, 16.000031219809564, 15.782949008753214, 15.120854976564374, 14.98996321261119, 12.686208085893805], \"name\": \"spesa media\"}], {\"title\": \"Costo medio riscossione tasse per Regione/Contribuente in Euro\", \"xaxis\": {\"title\": \"Regioni\"}, \"yaxis\": {\"title\": \"Euro per Contribuente\"}}, {\"showLink\": true, \"linkText\": \"Export to plot.ly\"})});</script>"
      ]
     },
     "metadata": {},
     "output_type": "display_data"
    },
    {
     "data": {
      "image/png": "[encoded data removed]",
      "text/plain": [
       "<IPython.core.display.Image object>"
      ]
     },
     "metadata": {},
     "output_type": "display_data"
    },
    {
     "data": {
      "image/png": "[encoded data removed]",
      "text/plain": [
       "<IPython.core.display.Image object>"
      ]
     },
     "metadata": {},
     "output_type": "display_data"
    }
   ],
   "source": [
    "py.iplot(fig_pie)\n",
    "py.iplot(fig_bar)\n",
    "\n",
    "fig_pie_path = 'imgs/tributi_regione_pie.png'\n",
    "fig_bar_path = 'imgs/tributi_regione_bar.png'\n",
    "\n",
    "py_on.image.save_as(fig_pie, filename=fig_pie_path)\n",
    "py_on.image.save_as(fig_bar, filename=fig_bar_path)\n",
    "\n",
    "x = Image(fig_pie_path)\n",
    "y = Image(fig_bar_path)\n",
    "display(x,y)"
   ]
  },
  {
   "cell_type": "code",
   "execution_count": 62,
   "metadata": {},
   "outputs": [
    {
     "data": {
      "application/vnd.plotly.v1+json": {
       "data": [
        {
         "name": "LIGURIA",
         "type": "scatter",
         "x": [
          25.526998843800953
         ],
         "y": [
          25.526998843800953
         ]
        },
        {
         "name": "TOSCANA",
         "type": "scatter",
         "x": [
          20.985320086852926
         ],
         "y": [
          20.985320086852926
         ]
        },
        {
         "name": "LAZIO",
         "type": "scatter",
         "x": [
          19.517032286513256
         ],
         "y": [
          19.517032286513256
         ]
        },
        {
         "name": "UMBRIA",
         "type": "scatter",
         "x": [
          19.375335841241473
         ],
         "y": [
          19.375335841241473
         ]
        },
        {
         "name": "ABRUZZO",
         "type": "scatter",
         "x": [
          18.305063057505947
         ],
         "y": [
          18.305063057505947
         ]
        },
        {
         "name": "CALABRIA",
         "type": "scatter",
         "x": [
          18.206964650039648
         ],
         "y": [
          18.206964650039648
         ]
        },
        {
         "name": "PUGLIA",
         "type": "scatter",
         "x": [
          17.90301581189539
         ],
         "y": [
          17.90301581189539
         ]
        },
        {
         "name": "CAMPANIA",
         "type": "scatter",
         "x": [
          17.685548645120818
         ],
         "y": [
          17.685548645120818
         ]
        },
        {
         "name": "LOMBARDIA",
         "type": "scatter",
         "x": [
          17.559752229867346
         ],
         "y": [
          17.559752229867346
         ]
        },
        {
         "name": "PIEMONTE",
         "type": "scatter",
         "x": [
          16.195325655165576
         ],
         "y": [
          16.195325655165576
         ]
        },
        {
         "name": "MOLISE",
         "type": "scatter",
         "x": [
          16.000031219809564
         ],
         "y": [
          16.000031219809564
         ]
        },
        {
         "name": "EMILIA-ROMAGNA",
         "type": "scatter",
         "x": [
          15.782949008753214
         ],
         "y": [
          15.782949008753214
         ]
        },
        {
         "name": "BASILICATA",
         "type": "scatter",
         "x": [
          15.120854976564374
         ],
         "y": [
          15.120854976564374
         ]
        },
        {
         "name": "MARCHE",
         "type": "scatter",
         "x": [
          14.98996321261119
         ],
         "y": [
          14.98996321261119
         ]
        },
        {
         "name": "VENETO",
         "type": "scatter",
         "x": [
          12.686208085893805
         ],
         "y": [
          12.686208085893805
         ]
        }
       ],
       "layout": {
        "title": "Costo Riscossione Tributi"
       }
      },
      "text/html": [
       "<div id=\"23d47450-7f0c-4e5a-a226-376dca853044\" style=\"height: 525px; width: 100%;\" class=\"plotly-graph-div\"></div><script type=\"text/javascript\">require([\"plotly\"], function(Plotly) { window.PLOTLYENV=window.PLOTLYENV || {};window.PLOTLYENV.BASE_URL=\"https://plot.ly\";Plotly.newPlot(\"23d47450-7f0c-4e5a-a226-376dca853044\", [{\"type\": \"scatter\", \"x\": [25.526998843800953], \"y\": [25.526998843800953], \"name\": \"LIGURIA\"}, {\"type\": \"scatter\", \"x\": [20.985320086852926], \"y\": [20.985320086852926], \"name\": \"TOSCANA\"}, {\"type\": \"scatter\", \"x\": [19.517032286513256], \"y\": [19.517032286513256], \"name\": \"LAZIO\"}, {\"type\": \"scatter\", \"x\": [19.375335841241473], \"y\": [19.375335841241473], \"name\": \"UMBRIA\"}, {\"type\": \"scatter\", \"x\": [18.305063057505947], \"y\": [18.305063057505947], \"name\": \"ABRUZZO\"}, {\"type\": \"scatter\", \"x\": [18.206964650039648], \"y\": [18.206964650039648], \"name\": \"CALABRIA\"}, {\"type\": \"scatter\", \"x\": [17.90301581189539], \"y\": [17.90301581189539], \"name\": \"PUGLIA\"}, {\"type\": \"scatter\", \"x\": [17.685548645120818], \"y\": [17.685548645120818], \"name\": \"CAMPANIA\"}, {\"type\": \"scatter\", \"x\": [17.559752229867346], \"y\": [17.559752229867346], \"name\": \"LOMBARDIA\"}, {\"type\": \"scatter\", \"x\": [16.195325655165576], \"y\": [16.195325655165576], \"name\": \"PIEMONTE\"}, {\"type\": \"scatter\", \"x\": [16.000031219809564], \"y\": [16.000031219809564], \"name\": \"MOLISE\"}, {\"type\": \"scatter\", \"x\": [15.782949008753214], \"y\": [15.782949008753214], \"name\": \"EMILIA-ROMAGNA\"}, {\"type\": \"scatter\", \"x\": [15.120854976564374], \"y\": [15.120854976564374], \"name\": \"BASILICATA\"}, {\"type\": \"scatter\", \"x\": [14.98996321261119], \"y\": [14.98996321261119], \"name\": \"MARCHE\"}, {\"type\": \"scatter\", \"x\": [12.686208085893805], \"y\": [12.686208085893805], \"name\": \"VENETO\"}], {\"title\": \"Costo Riscossione Tributi\"}, {\"showLink\": true, \"linkText\": \"Export to plot.ly\"})});</script>"
      ],
      "text/vnd.plotly.v1+html": [
       "<div id=\"23d47450-7f0c-4e5a-a226-376dca853044\" style=\"height: 525px; width: 100%;\" class=\"plotly-graph-div\"></div><script type=\"text/javascript\">require([\"plotly\"], function(Plotly) { window.PLOTLYENV=window.PLOTLYENV || {};window.PLOTLYENV.BASE_URL=\"https://plot.ly\";Plotly.newPlot(\"23d47450-7f0c-4e5a-a226-376dca853044\", [{\"type\": \"scatter\", \"x\": [25.526998843800953], \"y\": [25.526998843800953], \"name\": \"LIGURIA\"}, {\"type\": \"scatter\", \"x\": [20.985320086852926], \"y\": [20.985320086852926], \"name\": \"TOSCANA\"}, {\"type\": \"scatter\", \"x\": [19.517032286513256], \"y\": [19.517032286513256], \"name\": \"LAZIO\"}, {\"type\": \"scatter\", \"x\": [19.375335841241473], \"y\": [19.375335841241473], \"name\": \"UMBRIA\"}, {\"type\": \"scatter\", \"x\": [18.305063057505947], \"y\": [18.305063057505947], \"name\": \"ABRUZZO\"}, {\"type\": \"scatter\", \"x\": [18.206964650039648], \"y\": [18.206964650039648], \"name\": \"CALABRIA\"}, {\"type\": \"scatter\", \"x\": [17.90301581189539], \"y\": [17.90301581189539], \"name\": \"PUGLIA\"}, {\"type\": \"scatter\", \"x\": [17.685548645120818], \"y\": [17.685548645120818], \"name\": \"CAMPANIA\"}, {\"type\": \"scatter\", \"x\": [17.559752229867346], \"y\": [17.559752229867346], \"name\": \"LOMBARDIA\"}, {\"type\": \"scatter\", \"x\": [16.195325655165576], \"y\": [16.195325655165576], \"name\": \"PIEMONTE\"}, {\"type\": \"scatter\", \"x\": [16.000031219809564], \"y\": [16.000031219809564], \"name\": \"MOLISE\"}, {\"type\": \"scatter\", \"x\": [15.782949008753214], \"y\": [15.782949008753214], \"name\": \"EMILIA-ROMAGNA\"}, {\"type\": \"scatter\", \"x\": [15.120854976564374], \"y\": [15.120854976564374], \"name\": \"BASILICATA\"}, {\"type\": \"scatter\", \"x\": [14.98996321261119], \"y\": [14.98996321261119], \"name\": \"MARCHE\"}, {\"type\": \"scatter\", \"x\": [12.686208085893805], \"y\": [12.686208085893805], \"name\": \"VENETO\"}], {\"title\": \"Costo Riscossione Tributi\"}, {\"showLink\": true, \"linkText\": \"Export to plot.ly\"})});</script>"
      ]
     },
     "metadata": {},
     "output_type": "display_data"
    }
   ],
   "source": [
    "data = []\n",
    "for k,v in df_regione.iteritems():\n",
    "    data.append(\n",
    "        go.Scatter(\n",
    "            x = [v],\n",
    "            y = [v],\n",
    "            name = k\n",
    "        )\n",
    "    )\n",
    "    \n",
    "layout = go.Layout(\n",
    "    title='Costo Riscossione Tributi',\n",
    ")\n",
    "    \n",
    "fig = go.Figure(layout=layout, data=data)\n",
    "py.iplot(fig)"
   ]
  },
  {
   "cell_type": "markdown",
   "metadata": {},
   "source": [
    "## Dettaglio Riscossione Tributi Puglia, Campania e Lombardia \n",
    "\n",
    "E' interessante notare come Puglia, Campania e Lombardia abbiano un costo di riscossione molto simile. Andiamo a dettagliare questi dati rispetto al totale costi e al numero di persone per avere una idea. \n",
    "Inoltre, possiamo incrociare questi dati con i dati Irpef per capire quali sono le fasce di reddito che contribuiscono maggiormente agli introiti di cassa delle regioni.\n"
   ]
  },
  {
   "cell_type": "code",
   "execution_count": 19,
   "metadata": {},
   "outputs": [],
   "source": [
    "# mediamo sul numero degli anni in analisi\n",
    "df_regione_sum = df.groupby(df.Regione).sum() / 4\n",
    "\n",
    "fattori_analisi = [fattore, tot_contribuenti]\n",
    "regioni_interesse = ['PUGLIA','LOMBARDIA','CAMPANIA']\n",
    "\n",
    "df_tributi_contribuenti = df_regione_sum[fattori_analisi]\n",
    "\n",
    "df_regioni_interesse = df_tributi_contribuenti.loc[regioni_interesse,:]\n",
    "df_regioni_interesse = df_regioni_interesse.sort_values(tot_contribuenti, ascending=False)"
   ]
  },
  {
   "cell_type": "code",
   "execution_count": 20,
   "metadata": {},
   "outputs": [],
   "source": [
    "data = [\n",
    "    go.Bar(x=df_regioni_interesse.index, y=df_regioni_interesse[fattore], name='costo riscossione tributi'),\n",
    "    go.Bar(x=df_regioni_interesse.index, y=df_regioni_interesse[tot_contribuenti], name='numero contribuenti'),  \n",
    "]\n",
    "\n",
    "layout = go.Layout(\n",
    "    title='Costo totale riscossione tributi e numero contribuenti',\n",
    "    xaxis=dict(\n",
    "        title='Regioni',\n",
    "    ),\n",
    "    yaxis=dict(\n",
    "        title='Totale Costi - numero contribuenti',\n",
    "    )\n",
    ")\n",
    "fig = go.Figure(data=data, layout=layout)"
   ]
  },
  {
   "cell_type": "code",
   "execution_count": 21,
   "metadata": {
    "scrolled": false
   },
   "outputs": [
    {
     "data": {
      "application/vnd.plotly.v1+json": {
       "data": [
        {
         "name": "costo riscossione tributi",
         "type": "bar",
         "x": [
          "LOMBARDIA",
          "CAMPANIA",
          "PUGLIA"
         ],
         "y": [
          104174706.84102905,
          61390579.54400004,
          47466023.095749974
         ]
        },
        {
         "name": "numero contribuenti",
         "type": "bar",
         "x": [
          "LOMBARDIA",
          "CAMPANIA",
          "PUGLIA"
         ],
         "y": [
          7026749.5,
          3085606.25,
          2541365.25
         ]
        }
       ],
       "layout": {
        "title": "Costo totale riscossione tributi e numero contribuenti",
        "xaxis": {
         "title": "Regioni"
        },
        "yaxis": {
         "title": "Totale Costi - numero contribuenti"
        }
       }
      },
      "text/html": [
       "<div id=\"d0f2f463-c1e0-4454-96b5-1719a1831653\" style=\"height: 525px; width: 100%;\" class=\"plotly-graph-div\"></div><script type=\"text/javascript\">require([\"plotly\"], function(Plotly) { window.PLOTLYENV=window.PLOTLYENV || {};window.PLOTLYENV.BASE_URL=\"https://plot.ly\";Plotly.newPlot(\"d0f2f463-c1e0-4454-96b5-1719a1831653\", [{\"type\": \"bar\", \"x\": [\"LOMBARDIA\", \"CAMPANIA\", \"PUGLIA\"], \"y\": [104174706.84102905, 61390579.54400004, 47466023.095749974], \"name\": \"costo riscossione tributi\"}, {\"type\": \"bar\", \"x\": [\"LOMBARDIA\", \"CAMPANIA\", \"PUGLIA\"], \"y\": [7026749.5, 3085606.25, 2541365.25], \"name\": \"numero contribuenti\"}], {\"title\": \"Costo totale riscossione tributi e numero contribuenti\", \"xaxis\": {\"title\": \"Regioni\"}, \"yaxis\": {\"title\": \"Totale Costi - numero contribuenti\"}}, {\"showLink\": true, \"linkText\": \"Export to plot.ly\"})});</script>"
      ],
      "text/vnd.plotly.v1+html": [
       "<div id=\"d0f2f463-c1e0-4454-96b5-1719a1831653\" style=\"height: 525px; width: 100%;\" class=\"plotly-graph-div\"></div><script type=\"text/javascript\">require([\"plotly\"], function(Plotly) { window.PLOTLYENV=window.PLOTLYENV || {};window.PLOTLYENV.BASE_URL=\"https://plot.ly\";Plotly.newPlot(\"d0f2f463-c1e0-4454-96b5-1719a1831653\", [{\"type\": \"bar\", \"x\": [\"LOMBARDIA\", \"CAMPANIA\", \"PUGLIA\"], \"y\": [104174706.84102905, 61390579.54400004, 47466023.095749974], \"name\": \"costo riscossione tributi\"}, {\"type\": \"bar\", \"x\": [\"LOMBARDIA\", \"CAMPANIA\", \"PUGLIA\"], \"y\": [7026749.5, 3085606.25, 2541365.25], \"name\": \"numero contribuenti\"}], {\"title\": \"Costo totale riscossione tributi e numero contribuenti\", \"xaxis\": {\"title\": \"Regioni\"}, \"yaxis\": {\"title\": \"Totale Costi - numero contribuenti\"}}, {\"showLink\": true, \"linkText\": \"Export to plot.ly\"})});</script>"
      ]
     },
     "metadata": {},
     "output_type": "display_data"
    },
    {
     "data": {
      "image/png": "[encoded data removed]",
      "text/plain": [
       "<IPython.core.display.Image object>"
      ]
     },
     "metadata": {},
     "output_type": "display_data"
    }
   ],
   "source": [
    "py.iplot(fig)\n",
    "\n",
    "fig_path = 'imgs/totale_riscossione_tributi.png'\n",
    "py_on.image.save_as(fig, filename=fig_path)\n",
    "x = Image(fig_path)\n",
    "display(x)"
   ]
  },
  {
   "cell_type": "markdown",
   "metadata": {},
   "source": [
    ">Andiamo ad analizzare in dettaglio il numero dei contribuenti nelle Regioni considerate.\n",
    "Se confrontiamo questo valore con la popolazione residente, possiamo avere una idea della percentuale della popolazione che dichiara introiti.\n",
    "\n",
    "|   |   |   |   |\n",
    "|---|---|---|---|\n",
    "| LOMBARDIA  |  7026749  | 10000000 | 70.2% |\n",
    "| CAMPANIA   |  3085606  |  5869000 | 52.5% |\n",
    "| PUGLIA     |  2541365  |  4087000 | 62.1% |\n"
   ]
  },
  {
   "cell_type": "markdown",
   "metadata": {},
   "source": [
    "### Distribuzione Redditi\n",
    "\n",
    "Analizziamo ora come sia distribuita la contribuzione fiscale da parte dei contribuenti.\n",
    "In particolare, analizziamo le diverse fonti di reddito dal punto di vista di:\n",
    "\n",
    "1. distribuzione contribuenti\n",
    "2. distribuzione introiti\n",
    "\n",
    "Qui sotto consideriamo quali sono i fattori per l'analisis:"
   ]
  },
  {
   "cell_type": "code",
   "execution_count": 22,
   "metadata": {},
   "outputs": [
    {
     "data": {
      "text/plain": [
       "['Reddito complessivo da 0 a 10000 euro Frequenza',\n",
       " 'Reddito complessivo da 10000 a 15000 euro Frequenza',\n",
       " 'Reddito complessivo da 15000 a 26000 euro Frequenza',\n",
       " 'Reddito complessivo da 26000 a 55000 euro Frequenza',\n",
       " 'Reddito complessivo da 55000 a 75000 euro Frequenza',\n",
       " 'Reddito complessivo da 75000 a 120000 euro Frequenza',\n",
       " 'Reddito complessivo oltre 120000 euro Frequenza',\n",
       " 'Reddito da fabbricati Frequenza',\n",
       " 'Reddito da lavoro dipendente e assimilati Frequenza',\n",
       " 'Reddito da pensione Frequenza',\n",
       " 'Reddito imponibile Frequenza',\n",
       " 'Reddito imponibile addizionale Frequenza',\n",
       " 'Reddito imponibile addizionale IRPEF Frequenza',\n",
       " 'Reddito lavoro autonomo Frequenza',\n",
       " 'Reddito da partecipazione Frequenza',\n",
       " 'Reddito imprenditore ordinario Frequenza',\n",
       " 'Reddito imprenditore semplificata Frequenza',\n",
       " 'Reddito minore o uguale a zero Frequenza']"
      ]
     },
     "execution_count": 22,
     "metadata": {},
     "output_type": "execute_result"
    }
   ],
   "source": [
    "fattori = [c for c in df.columns.values if c.startswith('Reddito') and 'Frequenza' in c]\n",
    "fattori"
   ]
  },
  {
   "cell_type": "markdown",
   "metadata": {},
   "source": [
    "Dai quali selezioniamo i redditi da lavoro"
   ]
  },
  {
   "cell_type": "code",
   "execution_count": 23,
   "metadata": {},
   "outputs": [],
   "source": [
    "frequenza_reddito_scaglioni = [\n",
    " ('Regione','Reddito minore o uguale a zero Frequenza', '0M'),\n",
    " ('Regione','Reddito complessivo da 0 a 10000 euro Frequenza', '0-10M'),\n",
    " ('Regione','Reddito complessivo da 10000 a 15000 euro Frequenza', '10-15M'),\n",
    " ('Regione','Reddito complessivo da 15000 a 26000 euro Frequenza', '15-26M'),\n",
    " ('Regione','Reddito complessivo da 26000 a 55000 euro Frequenza', '26-55M'),\n",
    " ('Regione','Reddito complessivo da 55000 a 75000 euro Frequenza', '55-75M'),\n",
    " ('Regione','Reddito complessivo da 75000 a 120000 euro Frequenza', '75-120M'),\n",
    " ('Regione','Reddito complessivo oltre 120000 euro Frequenza', '>120M'),\n",
    "]\n",
    "\n",
    "fattori_frequenza = [v for _, v, _ in frequenza_reddito_scaglioni]"
   ]
  },
  {
   "cell_type": "markdown",
   "metadata": {},
   "source": [
    "### Frequenza contribuenti per fascia economica\n",
    "\n",
    "L'istogramma e la tabella sotto mostra la frequenza di contribuenti per fascia di reddito.\n",
    "Inoltre, di seguito viene mostrata la stessa quantita' in valore percentuale. Questo serve a vedere la contribuzione delle varie fasce di reddito per Regione di interesse."
   ]
  },
  {
   "cell_type": "code",
   "execution_count": null,
   "metadata": {},
   "outputs": [],
   "source": [
    "df_regioni_redditi"
   ]
  },
  {
   "cell_type": "markdown",
   "metadata": {},
   "source": [
    "### Contribuzione per fascia di reddito in percentuale"
   ]
  },
  {
   "cell_type": "code",
   "execution_count": 24,
   "metadata": {},
   "outputs": [
    {
     "data": {
      "text/html": [
       "<div>\n",
       "<style scoped>\n",
       "    .dataframe tbody tr th:only-of-type {\n",
       "        vertical-align: middle;\n",
       "    }\n",
       "\n",
       "    .dataframe tbody tr th {\n",
       "        vertical-align: top;\n",
       "    }\n",
       "\n",
       "    .dataframe thead th {\n",
       "        text-align: right;\n",
       "    }\n",
       "</style>\n",
       "<table border=\"1\" class=\"dataframe\">\n",
       "  <thead>\n",
       "    <tr style=\"text-align: right;\">\n",
       "      <th></th>\n",
       "      <th>Regione</th>\n",
       "      <th>Reddito minore o uguale a zero Frequenza</th>\n",
       "      <th>Reddito complessivo da 0 a 10000 euro Frequenza</th>\n",
       "      <th>Reddito complessivo da 10000 a 15000 euro Frequenza</th>\n",
       "      <th>Reddito complessivo da 15000 a 26000 euro Frequenza</th>\n",
       "      <th>Reddito complessivo da 26000 a 55000 euro Frequenza</th>\n",
       "      <th>Reddito complessivo da 55000 a 75000 euro Frequenza</th>\n",
       "      <th>Reddito complessivo da 75000 a 120000 euro Frequenza</th>\n",
       "      <th>Reddito complessivo oltre 120000 euro Frequenza</th>\n",
       "    </tr>\n",
       "  </thead>\n",
       "  <tbody>\n",
       "    <tr>\n",
       "      <th>0</th>\n",
       "      <td>PUGLIA</td>\n",
       "      <td>0.006047</td>\n",
       "      <td>0.422249</td>\n",
       "      <td>0.167240</td>\n",
       "      <td>0.246091</td>\n",
       "      <td>0.136243</td>\n",
       "      <td>0.010879</td>\n",
       "      <td>0.008391</td>\n",
       "      <td>0.002860</td>\n",
       "    </tr>\n",
       "    <tr>\n",
       "      <th>1</th>\n",
       "      <td>LOMBARDIA</td>\n",
       "      <td>0.003679</td>\n",
       "      <td>0.242341</td>\n",
       "      <td>0.136778</td>\n",
       "      <td>0.349111</td>\n",
       "      <td>0.212351</td>\n",
       "      <td>0.026091</td>\n",
       "      <td>0.019055</td>\n",
       "      <td>0.010593</td>\n",
       "    </tr>\n",
       "    <tr>\n",
       "      <th>2</th>\n",
       "      <td>CAMPANIA</td>\n",
       "      <td>0.007017</td>\n",
       "      <td>0.415726</td>\n",
       "      <td>0.148055</td>\n",
       "      <td>0.249136</td>\n",
       "      <td>0.153560</td>\n",
       "      <td>0.012987</td>\n",
       "      <td>0.010208</td>\n",
       "      <td>0.003310</td>\n",
       "    </tr>\n",
       "  </tbody>\n",
       "</table>\n",
       "</div>"
      ],
      "text/plain": [
       "     Regione  Reddito minore o uguale a zero Frequenza  \\\n",
       "0     PUGLIA                                  0.006047   \n",
       "1  LOMBARDIA                                  0.003679   \n",
       "2   CAMPANIA                                  0.007017   \n",
       "\n",
       "   Reddito complessivo da 0 a 10000 euro Frequenza  \\\n",
       "0                                         0.422249   \n",
       "1                                         0.242341   \n",
       "2                                         0.415726   \n",
       "\n",
       "   Reddito complessivo da 10000 a 15000 euro Frequenza  \\\n",
       "0                                           0.167240     \n",
       "1                                           0.136778     \n",
       "2                                           0.148055     \n",
       "\n",
       "   Reddito complessivo da 15000 a 26000 euro Frequenza  \\\n",
       "0                                           0.246091     \n",
       "1                                           0.349111     \n",
       "2                                           0.249136     \n",
       "\n",
       "   Reddito complessivo da 26000 a 55000 euro Frequenza  \\\n",
       "0                                           0.136243     \n",
       "1                                           0.212351     \n",
       "2                                           0.153560     \n",
       "\n",
       "   Reddito complessivo da 55000 a 75000 euro Frequenza  \\\n",
       "0                                           0.010879     \n",
       "1                                           0.026091     \n",
       "2                                           0.012987     \n",
       "\n",
       "   Reddito complessivo da 75000 a 120000 euro Frequenza  \\\n",
       "0                                           0.008391      \n",
       "1                                           0.019055      \n",
       "2                                           0.010208      \n",
       "\n",
       "   Reddito complessivo oltre 120000 euro Frequenza  \n",
       "0                                         0.002860  \n",
       "1                                         0.010593  \n",
       "2                                         0.003310  "
      ]
     },
     "execution_count": 24,
     "metadata": {},
     "output_type": "execute_result"
    }
   ],
   "source": [
    "frequenza_redditi_percentuale = df_regione_sum.loc[regioni_interesse,fattori_frequenza].reset_index()\n",
    "tot_contribuenti_regione = df_regione_sum.loc[regioni_interesse,tot_contribuenti].reset_index()\n",
    "\n",
    "frequenza_redditi_percentuale[fattori_frequenza] = frequenza_redditi_percentuale[fattori_frequenza].div(\n",
    "    tot_contribuenti_regione[tot_contribuenti], axis='index')\n",
    "frequenza_redditi_percentuale"
   ]
  },
  {
   "cell_type": "code",
   "execution_count": 29,
   "metadata": {},
   "outputs": [
    {
     "name": "stdout",
     "output_type": "stream",
     "text": [
      "Regione Reddito minore o uguale a zero Frequenza 0M\n",
      "Regione Reddito complessivo da 0 a 10000 euro Frequenza 0-10M\n",
      "Regione Reddito complessivo da 10000 a 15000 euro Frequenza 10-15M\n",
      "Regione Reddito complessivo da 15000 a 26000 euro Frequenza 15-26M\n",
      "Regione Reddito complessivo da 26000 a 55000 euro Frequenza 26-55M\n",
      "Regione Reddito complessivo da 55000 a 75000 euro Frequenza 55-75M\n",
      "Regione Reddito complessivo da 75000 a 120000 euro Frequenza 75-120M\n",
      "Regione Reddito complessivo oltre 120000 euro Frequenza >120M\n"
     ]
    },
    {
     "data": {
      "application/vnd.plotly.v1+json": {
       "data": [
        {
         "name": "0M",
         "type": "bar",
         "x": [
          "PUGLIA",
          "LOMBARDIA",
          "CAMPANIA"
         ],
         "y": [
          0.00604674987194383,
          0.003678905872480583,
          0.007016530381995434
         ]
        },
        {
         "name": "0-10M",
         "type": "bar",
         "x": [
          "PUGLIA",
          "LOMBARDIA",
          "CAMPANIA"
         ],
         "y": [
          0.42224932051778075,
          0.24234099991752944,
          0.41572608300232733
         ]
        },
        {
         "name": "10-15M",
         "type": "bar",
         "x": [
          "PUGLIA",
          "LOMBARDIA",
          "CAMPANIA"
         ],
         "y": [
          0.16724022648849865,
          0.1367775028838014,
          0.148054697516898
         ]
        },
        {
         "name": "15-26M",
         "type": "bar",
         "x": [
          "PUGLIA",
          "LOMBARDIA",
          "CAMPANIA"
         ],
         "y": [
          0.24609105283075702,
          0.34911102921770587,
          0.2491364541409002
         ]
        },
        {
         "name": "26-55M",
         "type": "bar",
         "x": [
          "PUGLIA",
          "LOMBARDIA",
          "CAMPANIA"
         ],
         "y": [
          0.13624261605056573,
          0.21235127991968406,
          0.1535603416670549
         ]
        },
        {
         "name": "55-75M",
         "type": "bar",
         "x": [
          "PUGLIA",
          "LOMBARDIA",
          "CAMPANIA"
         ],
         "y": [
          0.010879290176805558,
          0.02609143815358723,
          0.012987237111021538
         ]
        },
        {
         "name": "75-120M",
         "type": "bar",
         "x": [
          "PUGLIA",
          "LOMBARDIA",
          "CAMPANIA"
         ],
         "y": [
          0.008390765554065871,
          0.019055467965664635,
          0.010208204627534703
         ]
        },
        {
         "name": ">120M",
         "type": "bar",
         "x": [
          "PUGLIA",
          "LOMBARDIA",
          "CAMPANIA"
         ],
         "y": [
          0.0028599785095825953,
          0.010593376069546807,
          0.003310451552267889
         ]
        }
       ],
       "layout": {
        "title": "Distribuzione per Fasce di Contribuzione - Frequenza",
        "xaxis": {
         "title": "Regioni"
        },
        "yaxis": {
         "title": "Percentuale"
        }
       }
      },
      "text/html": [
       "<div id=\"eb3f8ca1-e4ab-41f8-a167-d8cee7fb332d\" style=\"height: 525px; width: 100%;\" class=\"plotly-graph-div\"></div><script type=\"text/javascript\">require([\"plotly\"], function(Plotly) { window.PLOTLYENV=window.PLOTLYENV || {};window.PLOTLYENV.BASE_URL=\"https://plot.ly\";Plotly.newPlot(\"eb3f8ca1-e4ab-41f8-a167-d8cee7fb332d\", [{\"type\": \"bar\", \"x\": [\"PUGLIA\", \"LOMBARDIA\", \"CAMPANIA\"], \"y\": [0.00604674987194383, 0.003678905872480583, 0.007016530381995434], \"name\": \"0M\"}, {\"type\": \"bar\", \"x\": [\"PUGLIA\", \"LOMBARDIA\", \"CAMPANIA\"], \"y\": [0.42224932051778075, 0.24234099991752944, 0.41572608300232733], \"name\": \"0-10M\"}, {\"type\": \"bar\", \"x\": [\"PUGLIA\", \"LOMBARDIA\", \"CAMPANIA\"], \"y\": [0.16724022648849865, 0.1367775028838014, 0.148054697516898], \"name\": \"10-15M\"}, {\"type\": \"bar\", \"x\": [\"PUGLIA\", \"LOMBARDIA\", \"CAMPANIA\"], \"y\": [0.24609105283075702, 0.34911102921770587, 0.2491364541409002], \"name\": \"15-26M\"}, {\"type\": \"bar\", \"x\": [\"PUGLIA\", \"LOMBARDIA\", \"CAMPANIA\"], \"y\": [0.13624261605056573, 0.21235127991968406, 0.1535603416670549], \"name\": \"26-55M\"}, {\"type\": \"bar\", \"x\": [\"PUGLIA\", \"LOMBARDIA\", \"CAMPANIA\"], \"y\": [0.010879290176805558, 0.02609143815358723, 0.012987237111021538], \"name\": \"55-75M\"}, {\"type\": \"bar\", \"x\": [\"PUGLIA\", \"LOMBARDIA\", \"CAMPANIA\"], \"y\": [0.008390765554065871, 0.019055467965664635, 0.010208204627534703], \"name\": \"75-120M\"}, {\"type\": \"bar\", \"x\": [\"PUGLIA\", \"LOMBARDIA\", \"CAMPANIA\"], \"y\": [0.0028599785095825953, 0.010593376069546807, 0.003310451552267889], \"name\": \">120M\"}], {\"title\": \"Distribuzione per Fasce di Contribuzione - Frequenza\", \"xaxis\": {\"title\": \"Regioni\"}, \"yaxis\": {\"title\": \"Percentuale\"}}, {\"showLink\": true, \"linkText\": \"Export to plot.ly\"})});</script>"
      ],
      "text/vnd.plotly.v1+html": [
       "<div id=\"eb3f8ca1-e4ab-41f8-a167-d8cee7fb332d\" style=\"height: 525px; width: 100%;\" class=\"plotly-graph-div\"></div><script type=\"text/javascript\">require([\"plotly\"], function(Plotly) { window.PLOTLYENV=window.PLOTLYENV || {};window.PLOTLYENV.BASE_URL=\"https://plot.ly\";Plotly.newPlot(\"eb3f8ca1-e4ab-41f8-a167-d8cee7fb332d\", [{\"type\": \"bar\", \"x\": [\"PUGLIA\", \"LOMBARDIA\", \"CAMPANIA\"], \"y\": [0.00604674987194383, 0.003678905872480583, 0.007016530381995434], \"name\": \"0M\"}, {\"type\": \"bar\", \"x\": [\"PUGLIA\", \"LOMBARDIA\", \"CAMPANIA\"], \"y\": [0.42224932051778075, 0.24234099991752944, 0.41572608300232733], \"name\": \"0-10M\"}, {\"type\": \"bar\", \"x\": [\"PUGLIA\", \"LOMBARDIA\", \"CAMPANIA\"], \"y\": [0.16724022648849865, 0.1367775028838014, 0.148054697516898], \"name\": \"10-15M\"}, {\"type\": \"bar\", \"x\": [\"PUGLIA\", \"LOMBARDIA\", \"CAMPANIA\"], \"y\": [0.24609105283075702, 0.34911102921770587, 0.2491364541409002], \"name\": \"15-26M\"}, {\"type\": \"bar\", \"x\": [\"PUGLIA\", \"LOMBARDIA\", \"CAMPANIA\"], \"y\": [0.13624261605056573, 0.21235127991968406, 0.1535603416670549], \"name\": \"26-55M\"}, {\"type\": \"bar\", \"x\": [\"PUGLIA\", \"LOMBARDIA\", \"CAMPANIA\"], \"y\": [0.010879290176805558, 0.02609143815358723, 0.012987237111021538], \"name\": \"55-75M\"}, {\"type\": \"bar\", \"x\": [\"PUGLIA\", \"LOMBARDIA\", \"CAMPANIA\"], \"y\": [0.008390765554065871, 0.019055467965664635, 0.010208204627534703], \"name\": \"75-120M\"}, {\"type\": \"bar\", \"x\": [\"PUGLIA\", \"LOMBARDIA\", \"CAMPANIA\"], \"y\": [0.0028599785095825953, 0.010593376069546807, 0.003310451552267889], \"name\": \">120M\"}], {\"title\": \"Distribuzione per Fasce di Contribuzione - Frequenza\", \"xaxis\": {\"title\": \"Regioni\"}, \"yaxis\": {\"title\": \"Percentuale\"}}, {\"showLink\": true, \"linkText\": \"Export to plot.ly\"})});</script>"
      ]
     },
     "metadata": {},
     "output_type": "display_data"
    },
    {
     "data": {
      "image/png": "[encoded data removed]",
      "text/plain": [
       "<IPython.core.display.Image object>"
      ]
     },
     "metadata": {},
     "output_type": "display_data"
    }
   ],
   "source": [
    "data_frequenza = []\n",
    "for x,y,name in frequenza_reddito_scaglioni:\n",
    "    print(x,y,name)\n",
    "    bar = go.Bar(\n",
    "        x = frequenza_redditi_percentuale[x],\n",
    "        y = frequenza_redditi_percentuale[y],\n",
    "        name = name\n",
    "    )\n",
    "    data_frequenza.append(bar)\n",
    "\n",
    "layout = go.Layout(\n",
    "    title='Distribuzione per Fasce di Contribuzione - Frequenza',\n",
    "    xaxis=dict(\n",
    "        title='Regioni',\n",
    "    ),\n",
    "    yaxis=dict(\n",
    "        title='Percentuale',\n",
    "    )\n",
    ")\n",
    "\n",
    "fig = go.Figure(layout=layout, data=data_frequenza)\n",
    "py.iplot(fig)\n",
    "\n",
    "fig_path = 'imgs/percentuale_contribuenti_reddito.png'\n",
    "py_on.image.save_as(fig, filename=fig_path)\n",
    "x = Image(fig_path)\n",
    "display(x)"
   ]
  },
  {
   "cell_type": "markdown",
   "metadata": {},
   "source": [
    "Da questo grafico si puo' osservare come la Lombardia abbian una distribuzione spostata verso le alte fasce di contribuzione. Di seguito confrontiamo questo grafico con uno relativo alla contribuzione in termini di **Ammontare** di} denaro."
   ]
  },
  {
   "cell_type": "code",
   "execution_count": 30,
   "metadata": {},
   "outputs": [],
   "source": [
    "ammontare_reddito_scaglioni = [\n",
    " ('Regione','Reddito minore o uguale a zero Ammontare', '0M'),\n",
    " ('Regione','Reddito complessivo da 0 a 10000 euro Ammontare', '0-10M'),\n",
    " ('Regione','Reddito complessivo da 10000 a 15000 euro Ammontare', '10-15M'),\n",
    " ('Regione','Reddito complessivo da 15000 a 26000 euro Ammontare', '15-26M'),\n",
    " ('Regione','Reddito complessivo da 26000 a 55000 euro Ammontare', '26-55M'),\n",
    " ('Regione','Reddito complessivo da 55000 a 75000 euro Ammontare', '55-75M'),\n",
    " ('Regione','Reddito complessivo da 75000 a 120000 euro Ammontare', '75-120M'),\n",
    " ('Regione','Reddito complessivo oltre 120000 euro Ammontare', '>120M'),\n",
    "]\n",
    "\n",
    "ammontare_fattori = [v for _, v, _ in ammontare_reddito_scaglioni]"
   ]
  },
  {
   "cell_type": "code",
   "execution_count": 33,
   "metadata": {},
   "outputs": [
    {
     "data": {
      "text/html": [
       "<div>\n",
       "<style scoped>\n",
       "    .dataframe tbody tr th:only-of-type {\n",
       "        vertical-align: middle;\n",
       "    }\n",
       "\n",
       "    .dataframe tbody tr th {\n",
       "        vertical-align: top;\n",
       "    }\n",
       "\n",
       "    .dataframe thead th {\n",
       "        text-align: right;\n",
       "    }\n",
       "</style>\n",
       "<table border=\"1\" class=\"dataframe\">\n",
       "  <thead>\n",
       "    <tr style=\"text-align: right;\">\n",
       "      <th></th>\n",
       "      <th>Regione</th>\n",
       "      <th>Reddito minore o uguale a zero Ammontare</th>\n",
       "      <th>Reddito complessivo da 0 a 10000 euro Ammontare</th>\n",
       "      <th>Reddito complessivo da 10000 a 15000 euro Ammontare</th>\n",
       "      <th>Reddito complessivo da 15000 a 26000 euro Ammontare</th>\n",
       "      <th>Reddito complessivo da 26000 a 55000 euro Ammontare</th>\n",
       "      <th>Reddito complessivo da 55000 a 75000 euro Ammontare</th>\n",
       "      <th>Reddito complessivo da 75000 a 120000 euro Ammontare</th>\n",
       "      <th>Reddito complessivo oltre 120000 euro Ammontare</th>\n",
       "    </tr>\n",
       "  </thead>\n",
       "  <tbody>\n",
       "    <tr>\n",
       "      <th>0</th>\n",
       "      <td>PUGLIA</td>\n",
       "      <td>-0.004537</td>\n",
       "      <td>0.126601</td>\n",
       "      <td>0.133957</td>\n",
       "      <td>0.317203</td>\n",
       "      <td>0.297265</td>\n",
       "      <td>0.044989</td>\n",
       "      <td>0.049745</td>\n",
       "      <td>0.034776</td>\n",
       "    </tr>\n",
       "    <tr>\n",
       "      <th>1</th>\n",
       "      <td>LOMBARDIA</td>\n",
       "      <td>-0.001618</td>\n",
       "      <td>0.052239</td>\n",
       "      <td>0.074283</td>\n",
       "      <td>0.302725</td>\n",
       "      <td>0.318636</td>\n",
       "      <td>0.071417</td>\n",
       "      <td>0.075530</td>\n",
       "      <td>0.106788</td>\n",
       "    </tr>\n",
       "    <tr>\n",
       "      <th>2</th>\n",
       "      <td>CAMPANIA</td>\n",
       "      <td>-0.004377</td>\n",
       "      <td>0.122194</td>\n",
       "      <td>0.112185</td>\n",
       "      <td>0.304152</td>\n",
       "      <td>0.317598</td>\n",
       "      <td>0.050845</td>\n",
       "      <td>0.056988</td>\n",
       "      <td>0.040415</td>\n",
       "    </tr>\n",
       "  </tbody>\n",
       "</table>\n",
       "</div>"
      ],
      "text/plain": [
       "     Regione  Reddito minore o uguale a zero Ammontare  \\\n",
       "0     PUGLIA                                 -0.004537   \n",
       "1  LOMBARDIA                                 -0.001618   \n",
       "2   CAMPANIA                                 -0.004377   \n",
       "\n",
       "   Reddito complessivo da 0 a 10000 euro Ammontare  \\\n",
       "0                                         0.126601   \n",
       "1                                         0.052239   \n",
       "2                                         0.122194   \n",
       "\n",
       "   Reddito complessivo da 10000 a 15000 euro Ammontare  \\\n",
       "0                                           0.133957     \n",
       "1                                           0.074283     \n",
       "2                                           0.112185     \n",
       "\n",
       "   Reddito complessivo da 15000 a 26000 euro Ammontare  \\\n",
       "0                                           0.317203     \n",
       "1                                           0.302725     \n",
       "2                                           0.304152     \n",
       "\n",
       "   Reddito complessivo da 26000 a 55000 euro Ammontare  \\\n",
       "0                                           0.297265     \n",
       "1                                           0.318636     \n",
       "2                                           0.317598     \n",
       "\n",
       "   Reddito complessivo da 55000 a 75000 euro Ammontare  \\\n",
       "0                                           0.044989     \n",
       "1                                           0.071417     \n",
       "2                                           0.050845     \n",
       "\n",
       "   Reddito complessivo da 75000 a 120000 euro Ammontare  \\\n",
       "0                                           0.049745      \n",
       "1                                           0.075530      \n",
       "2                                           0.056988      \n",
       "\n",
       "   Reddito complessivo oltre 120000 euro Ammontare  \n",
       "0                                         0.034776  \n",
       "1                                         0.106788  \n",
       "2                                         0.040415  "
      ]
     },
     "execution_count": 33,
     "metadata": {},
     "output_type": "execute_result"
    }
   ],
   "source": [
    "ammontare_redditi_percentuale = df_regione_sum.loc[regioni_interesse,ammontare_fattori].reset_index()\n",
    "redditi_tot = df_regione_sum.loc[regioni_interesse, ammontare_fattori].sum(axis=1).reset_index()\n",
    "\n",
    "ammontare_redditi_percentuale[ammontare_fattori]= ammontare_redditi_percentuale[ammontare_fattori].div(\n",
    "    redditi_tot[0], axis='index'\n",
    ")\n",
    "ammontare_redditi_percentuale"
   ]
  },
  {
   "cell_type": "code",
   "execution_count": 34,
   "metadata": {
    "scrolled": false
   },
   "outputs": [
    {
     "data": {
      "application/vnd.plotly.v1+json": {
       "data": [
        {
         "name": "0M",
         "type": "bar",
         "x": [
          "PUGLIA",
          "LOMBARDIA",
          "CAMPANIA"
         ],
         "y": [
          -0.004536990783925036,
          -0.0016180812489970677,
          -0.004376964879053155
         ]
        },
        {
         "name": "0-10M",
         "type": "bar",
         "x": [
          "PUGLIA",
          "LOMBARDIA",
          "CAMPANIA"
         ],
         "y": [
          0.1266010059068429,
          0.05223914280601451,
          0.12219388518705286
         ]
        },
        {
         "name": "10-15M",
         "type": "bar",
         "x": [
          "PUGLIA",
          "LOMBARDIA",
          "CAMPANIA"
         ],
         "y": [
          0.1339572786927317,
          0.07428314488336452,
          0.11218480919887974
         ]
        },
        {
         "name": "15-26M",
         "type": "bar",
         "x": [
          "PUGLIA",
          "LOMBARDIA",
          "CAMPANIA"
         ],
         "y": [
          0.31720284169904645,
          0.3027250824472808,
          0.3041515920566773
         ]
        },
        {
         "name": "26-55M",
         "type": "bar",
         "x": [
          "PUGLIA",
          "LOMBARDIA",
          "CAMPANIA"
         ],
         "y": [
          0.2972649308582495,
          0.3186360172254719,
          0.31759836243284045
         ]
        },
        {
         "name": "55-75M",
         "type": "bar",
         "x": [
          "PUGLIA",
          "LOMBARDIA",
          "CAMPANIA"
         ],
         "y": [
          0.044989439008339786,
          0.07141691234059568,
          0.05084485647863039
         ]
        },
        {
         "name": "75-120M",
         "type": "bar",
         "x": [
          "PUGLIA",
          "LOMBARDIA",
          "CAMPANIA"
         ],
         "y": [
          0.049745451711784884,
          0.07553011276909169,
          0.056988045877107554
         ]
        },
        {
         "name": ">120M",
         "type": "bar",
         "x": [
          "PUGLIA",
          "LOMBARDIA",
          "CAMPANIA"
         ],
         "y": [
          0.034776042906929795,
          0.106787668777178,
          0.04041541364786484
         ]
        }
       ],
       "layout": {
        "barmode": "stack",
        "title": "Distribuzione per Fasce di Contribuzione - Ammontare",
        "xaxis": {
         "title": "Regioni"
        },
        "yaxis": {
         "title": "Percentuale"
        }
       }
      },
      "text/html": [
       "<div id=\"0dced01e-333b-45ee-b476-5f5185b1ce3a\" style=\"height: 525px; width: 100%;\" class=\"plotly-graph-div\"></div><script type=\"text/javascript\">require([\"plotly\"], function(Plotly) { window.PLOTLYENV=window.PLOTLYENV || {};window.PLOTLYENV.BASE_URL=\"https://plot.ly\";Plotly.newPlot(\"0dced01e-333b-45ee-b476-5f5185b1ce3a\", [{\"type\": \"bar\", \"x\": [\"PUGLIA\", \"LOMBARDIA\", \"CAMPANIA\"], \"y\": [-0.004536990783925036, -0.0016180812489970677, -0.004376964879053155], \"name\": \"0M\"}, {\"type\": \"bar\", \"x\": [\"PUGLIA\", \"LOMBARDIA\", \"CAMPANIA\"], \"y\": [0.1266010059068429, 0.05223914280601451, 0.12219388518705286], \"name\": \"0-10M\"}, {\"type\": \"bar\", \"x\": [\"PUGLIA\", \"LOMBARDIA\", \"CAMPANIA\"], \"y\": [0.1339572786927317, 0.07428314488336452, 0.11218480919887974], \"name\": \"10-15M\"}, {\"type\": \"bar\", \"x\": [\"PUGLIA\", \"LOMBARDIA\", \"CAMPANIA\"], \"y\": [0.31720284169904645, 0.3027250824472808, 0.3041515920566773], \"name\": \"15-26M\"}, {\"type\": \"bar\", \"x\": [\"PUGLIA\", \"LOMBARDIA\", \"CAMPANIA\"], \"y\": [0.2972649308582495, 0.3186360172254719, 0.31759836243284045], \"name\": \"26-55M\"}, {\"type\": \"bar\", \"x\": [\"PUGLIA\", \"LOMBARDIA\", \"CAMPANIA\"], \"y\": [0.044989439008339786, 0.07141691234059568, 0.05084485647863039], \"name\": \"55-75M\"}, {\"type\": \"bar\", \"x\": [\"PUGLIA\", \"LOMBARDIA\", \"CAMPANIA\"], \"y\": [0.049745451711784884, 0.07553011276909169, 0.056988045877107554], \"name\": \"75-120M\"}, {\"type\": \"bar\", \"x\": [\"PUGLIA\", \"LOMBARDIA\", \"CAMPANIA\"], \"y\": [0.034776042906929795, 0.106787668777178, 0.04041541364786484], \"name\": \">120M\"}], {\"title\": \"Distribuzione per Fasce di Contribuzione - Ammontare\", \"xaxis\": {\"title\": \"Regioni\"}, \"yaxis\": {\"title\": \"Percentuale\"}, \"barmode\": \"stack\"}, {\"showLink\": true, \"linkText\": \"Export to plot.ly\"})});</script>"
      ],
      "text/vnd.plotly.v1+html": [
       "<div id=\"0dced01e-333b-45ee-b476-5f5185b1ce3a\" style=\"height: 525px; width: 100%;\" class=\"plotly-graph-div\"></div><script type=\"text/javascript\">require([\"plotly\"], function(Plotly) { window.PLOTLYENV=window.PLOTLYENV || {};window.PLOTLYENV.BASE_URL=\"https://plot.ly\";Plotly.newPlot(\"0dced01e-333b-45ee-b476-5f5185b1ce3a\", [{\"type\": \"bar\", \"x\": [\"PUGLIA\", \"LOMBARDIA\", \"CAMPANIA\"], \"y\": [-0.004536990783925036, -0.0016180812489970677, -0.004376964879053155], \"name\": \"0M\"}, {\"type\": \"bar\", \"x\": [\"PUGLIA\", \"LOMBARDIA\", \"CAMPANIA\"], \"y\": [0.1266010059068429, 0.05223914280601451, 0.12219388518705286], \"name\": \"0-10M\"}, {\"type\": \"bar\", \"x\": [\"PUGLIA\", \"LOMBARDIA\", \"CAMPANIA\"], \"y\": [0.1339572786927317, 0.07428314488336452, 0.11218480919887974], \"name\": \"10-15M\"}, {\"type\": \"bar\", \"x\": [\"PUGLIA\", \"LOMBARDIA\", \"CAMPANIA\"], \"y\": [0.31720284169904645, 0.3027250824472808, 0.3041515920566773], \"name\": \"15-26M\"}, {\"type\": \"bar\", \"x\": [\"PUGLIA\", \"LOMBARDIA\", \"CAMPANIA\"], \"y\": [0.2972649308582495, 0.3186360172254719, 0.31759836243284045], \"name\": \"26-55M\"}, {\"type\": \"bar\", \"x\": [\"PUGLIA\", \"LOMBARDIA\", \"CAMPANIA\"], \"y\": [0.044989439008339786, 0.07141691234059568, 0.05084485647863039], \"name\": \"55-75M\"}, {\"type\": \"bar\", \"x\": [\"PUGLIA\", \"LOMBARDIA\", \"CAMPANIA\"], \"y\": [0.049745451711784884, 0.07553011276909169, 0.056988045877107554], \"name\": \"75-120M\"}, {\"type\": \"bar\", \"x\": [\"PUGLIA\", \"LOMBARDIA\", \"CAMPANIA\"], \"y\": [0.034776042906929795, 0.106787668777178, 0.04041541364786484], \"name\": \">120M\"}], {\"title\": \"Distribuzione per Fasce di Contribuzione - Ammontare\", \"xaxis\": {\"title\": \"Regioni\"}, \"yaxis\": {\"title\": \"Percentuale\"}, \"barmode\": \"stack\"}, {\"showLink\": true, \"linkText\": \"Export to plot.ly\"})});</script>"
      ]
     },
     "metadata": {},
     "output_type": "display_data"
    },
    {
     "data": {
      "image/png": "[encoded data removed]",
      "text/plain": [
       "<IPython.core.display.Image object>"
      ]
     },
     "metadata": {},
     "output_type": "display_data"
    }
   ],
   "source": [
    "data_ammontare = []\n",
    "for x,y,name in ammontare_reddito_scaglioni:\n",
    "    bar = go.Bar(\n",
    "        x = ammontare_redditi_percentuale[x],\n",
    "        y = ammontare_redditi_percentuale[y],\n",
    "        name = name\n",
    "    )\n",
    "    data_ammontare.append(bar)\n",
    "\n",
    "layout = go.Layout(\n",
    "    title='Distribuzione per Fasce di Contribuzione - Ammontare',\n",
    "    xaxis=dict(\n",
    "        title='Regioni',\n",
    "    ),\n",
    "    yaxis=dict(\n",
    "        title='Percentuale',\n",
    "    ),\n",
    "    barmode='stack'\n",
    ")\n",
    "\n",
    "fig = go.Figure(layout=layout, data=data_ammontare)\n",
    "py.iplot(fig)\n",
    "\n",
    "fig_path = 'imgs/percentuale_contribuenti_reddito_ammontare.png'\n",
    "py_on.image.save_as(fig, filename=fig_path)\n",
    "x = Image(fig_path)\n",
    "display(x)\n",
    "\n",
    "\n",
    "# figs = tools.make_subplots(rows=1, cols=2, shared_xaxes=True, shared_yaxes=True)\n",
    "# for d in data_frequenza:\n",
    "#     figs.append_trace(d,1,1)\n",
    "# for d in data_ammontare:\n",
    "#     figs.append_trace(d,1,2)   \n",
    "\n",
    "# py.iplot(figs)"
   ]
  },
  {
   "cell_type": "code",
   "execution_count": 35,
   "metadata": {},
   "outputs": [
    {
     "data": {
      "text/html": [
       "<div>\n",
       "<style scoped>\n",
       "    .dataframe tbody tr th:only-of-type {\n",
       "        vertical-align: middle;\n",
       "    }\n",
       "\n",
       "    .dataframe tbody tr th {\n",
       "        vertical-align: top;\n",
       "    }\n",
       "\n",
       "    .dataframe thead th {\n",
       "        text-align: right;\n",
       "    }\n",
       "</style>\n",
       "<table border=\"1\" class=\"dataframe\">\n",
       "  <thead>\n",
       "    <tr style=\"text-align: right;\">\n",
       "      <th></th>\n",
       "      <th>Regione</th>\n",
       "      <th>Reddito minore o uguale a zero Ammontare</th>\n",
       "      <th>Reddito complessivo da 0 a 10000 euro Ammontare</th>\n",
       "      <th>Reddito complessivo da 10000 a 15000 euro Ammontare</th>\n",
       "      <th>Reddito complessivo da 15000 a 26000 euro Ammontare</th>\n",
       "      <th>Reddito complessivo da 26000 a 55000 euro Ammontare</th>\n",
       "      <th>Reddito complessivo da 55000 a 75000 euro Ammontare</th>\n",
       "      <th>Reddito complessivo da 75000 a 120000 euro Ammontare</th>\n",
       "      <th>Reddito complessivo oltre 120000 euro Ammontare</th>\n",
       "    </tr>\n",
       "  </thead>\n",
       "  <tbody>\n",
       "    <tr>\n",
       "      <th>0</th>\n",
       "      <td>PUGLIA</td>\n",
       "      <td>-0.004537</td>\n",
       "      <td>0.126601</td>\n",
       "      <td>0.133957</td>\n",
       "      <td>0.317203</td>\n",
       "      <td>0.297265</td>\n",
       "      <td>0.044989</td>\n",
       "      <td>0.049745</td>\n",
       "      <td>0.034776</td>\n",
       "    </tr>\n",
       "    <tr>\n",
       "      <th>1</th>\n",
       "      <td>LOMBARDIA</td>\n",
       "      <td>-0.001618</td>\n",
       "      <td>0.052239</td>\n",
       "      <td>0.074283</td>\n",
       "      <td>0.302725</td>\n",
       "      <td>0.318636</td>\n",
       "      <td>0.071417</td>\n",
       "      <td>0.075530</td>\n",
       "      <td>0.106788</td>\n",
       "    </tr>\n",
       "    <tr>\n",
       "      <th>2</th>\n",
       "      <td>CAMPANIA</td>\n",
       "      <td>-0.004377</td>\n",
       "      <td>0.122194</td>\n",
       "      <td>0.112185</td>\n",
       "      <td>0.304152</td>\n",
       "      <td>0.317598</td>\n",
       "      <td>0.050845</td>\n",
       "      <td>0.056988</td>\n",
       "      <td>0.040415</td>\n",
       "    </tr>\n",
       "  </tbody>\n",
       "</table>\n",
       "</div>"
      ],
      "text/plain": [
       "     Regione  Reddito minore o uguale a zero Ammontare  \\\n",
       "0     PUGLIA                                 -0.004537   \n",
       "1  LOMBARDIA                                 -0.001618   \n",
       "2   CAMPANIA                                 -0.004377   \n",
       "\n",
       "   Reddito complessivo da 0 a 10000 euro Ammontare  \\\n",
       "0                                         0.126601   \n",
       "1                                         0.052239   \n",
       "2                                         0.122194   \n",
       "\n",
       "   Reddito complessivo da 10000 a 15000 euro Ammontare  \\\n",
       "0                                           0.133957     \n",
       "1                                           0.074283     \n",
       "2                                           0.112185     \n",
       "\n",
       "   Reddito complessivo da 15000 a 26000 euro Ammontare  \\\n",
       "0                                           0.317203     \n",
       "1                                           0.302725     \n",
       "2                                           0.304152     \n",
       "\n",
       "   Reddito complessivo da 26000 a 55000 euro Ammontare  \\\n",
       "0                                           0.297265     \n",
       "1                                           0.318636     \n",
       "2                                           0.317598     \n",
       "\n",
       "   Reddito complessivo da 55000 a 75000 euro Ammontare  \\\n",
       "0                                           0.044989     \n",
       "1                                           0.071417     \n",
       "2                                           0.050845     \n",
       "\n",
       "   Reddito complessivo da 75000 a 120000 euro Ammontare  \\\n",
       "0                                           0.049745      \n",
       "1                                           0.075530      \n",
       "2                                           0.056988      \n",
       "\n",
       "   Reddito complessivo oltre 120000 euro Ammontare  \n",
       "0                                         0.034776  \n",
       "1                                         0.106788  \n",
       "2                                         0.040415  "
      ]
     },
     "execution_count": 35,
     "metadata": {},
     "output_type": "execute_result"
    }
   ],
   "source": [
    "ammontare_redditi_percentuale"
   ]
  },
  {
   "cell_type": "markdown",
   "metadata": {},
   "source": [
    "\n",
    "Per avere una visione comparabile delle voci di reddito possiamo analizzarle anche sotto forma di **line chart**\n",
    "\n",
    "#### Line Chart\n"
   ]
  },
  {
   "cell_type": "code",
   "execution_count": 36,
   "metadata": {},
   "outputs": [
    {
     "data": {
      "application/vnd.plotly.v1+json": {
       "data": [
        {
         "fill": "tozeroy",
         "mode": "none",
         "name": "PUGLIA",
         "type": "scatter",
         "x": [
          "0M",
          "0-10M",
          "10-15M",
          "15-26M",
          "26-55M",
          "55-75M",
          "75-120M",
          ">120M"
         ],
         "y": [
          -0.004536990783925036,
          0.1266010059068429,
          0.1339572786927317,
          0.31720284169904645,
          0.2972649308582495,
          0.044989439008339786,
          0.049745451711784884,
          0.034776042906929795
         ]
        },
        {
         "fill": "tozeroy",
         "mode": "none",
         "name": "LOMBARDIA",
         "type": "scatter",
         "x": [
          "0M",
          "0-10M",
          "10-15M",
          "15-26M",
          "26-55M",
          "55-75M",
          "75-120M",
          ">120M"
         ],
         "y": [
          -0.0016180812489970677,
          0.05223914280601451,
          0.07428314488336452,
          0.3027250824472808,
          0.3186360172254719,
          0.07141691234059568,
          0.07553011276909169,
          0.106787668777178
         ]
        },
        {
         "fill": "tozeroy",
         "mode": "none",
         "name": "CAMPANIA",
         "type": "scatter",
         "x": [
          "0M",
          "0-10M",
          "10-15M",
          "15-26M",
          "26-55M",
          "55-75M",
          "75-120M",
          ">120M"
         ],
         "y": [
          -0.004376964879053155,
          0.12219388518705286,
          0.11218480919887974,
          0.3041515920566773,
          0.31759836243284045,
          0.05084485647863039,
          0.056988045877107554,
          0.04041541364786484
         ]
        }
       ],
       "layout": {
        "title": "Distribuzione per Fasce di Contribuzione - Ammontare"
       }
      },
      "text/html": [
       "<div id=\"c00def50-4199-4ccf-91a3-27ea37c07a6e\" style=\"height: 525px; width: 100%;\" class=\"plotly-graph-div\"></div><script type=\"text/javascript\">require([\"plotly\"], function(Plotly) { window.PLOTLYENV=window.PLOTLYENV || {};window.PLOTLYENV.BASE_URL=\"https://plot.ly\";Plotly.newPlot(\"c00def50-4199-4ccf-91a3-27ea37c07a6e\", [{\"type\": \"scatter\", \"x\": [\"0M\", \"0-10M\", \"10-15M\", \"15-26M\", \"26-55M\", \"55-75M\", \"75-120M\", \">120M\"], \"y\": [-0.004536990783925036, 0.1266010059068429, 0.1339572786927317, 0.31720284169904645, 0.2972649308582495, 0.044989439008339786, 0.049745451711784884, 0.034776042906929795], \"name\": \"PUGLIA\", \"fill\": \"tozeroy\", \"mode\": \"none\"}, {\"type\": \"scatter\", \"x\": [\"0M\", \"0-10M\", \"10-15M\", \"15-26M\", \"26-55M\", \"55-75M\", \"75-120M\", \">120M\"], \"y\": [-0.0016180812489970677, 0.05223914280601451, 0.07428314488336452, 0.3027250824472808, 0.3186360172254719, 0.07141691234059568, 0.07553011276909169, 0.106787668777178], \"name\": \"LOMBARDIA\", \"fill\": \"tozeroy\", \"mode\": \"none\"}, {\"type\": \"scatter\", \"x\": [\"0M\", \"0-10M\", \"10-15M\", \"15-26M\", \"26-55M\", \"55-75M\", \"75-120M\", \">120M\"], \"y\": [-0.004376964879053155, 0.12219388518705286, 0.11218480919887974, 0.3041515920566773, 0.31759836243284045, 0.05084485647863039, 0.056988045877107554, 0.04041541364786484], \"name\": \"CAMPANIA\", \"fill\": \"tozeroy\", \"mode\": \"none\"}], {\"title\": \"Distribuzione per Fasce di Contribuzione - Ammontare\"}, {\"showLink\": true, \"linkText\": \"Export to plot.ly\"})});</script>"
      ],
      "text/vnd.plotly.v1+html": [
       "<div id=\"c00def50-4199-4ccf-91a3-27ea37c07a6e\" style=\"height: 525px; width: 100%;\" class=\"plotly-graph-div\"></div><script type=\"text/javascript\">require([\"plotly\"], function(Plotly) { window.PLOTLYENV=window.PLOTLYENV || {};window.PLOTLYENV.BASE_URL=\"https://plot.ly\";Plotly.newPlot(\"c00def50-4199-4ccf-91a3-27ea37c07a6e\", [{\"type\": \"scatter\", \"x\": [\"0M\", \"0-10M\", \"10-15M\", \"15-26M\", \"26-55M\", \"55-75M\", \"75-120M\", \">120M\"], \"y\": [-0.004536990783925036, 0.1266010059068429, 0.1339572786927317, 0.31720284169904645, 0.2972649308582495, 0.044989439008339786, 0.049745451711784884, 0.034776042906929795], \"name\": \"PUGLIA\", \"fill\": \"tozeroy\", \"mode\": \"none\"}, {\"type\": \"scatter\", \"x\": [\"0M\", \"0-10M\", \"10-15M\", \"15-26M\", \"26-55M\", \"55-75M\", \"75-120M\", \">120M\"], \"y\": [-0.0016180812489970677, 0.05223914280601451, 0.07428314488336452, 0.3027250824472808, 0.3186360172254719, 0.07141691234059568, 0.07553011276909169, 0.106787668777178], \"name\": \"LOMBARDIA\", \"fill\": \"tozeroy\", \"mode\": \"none\"}, {\"type\": \"scatter\", \"x\": [\"0M\", \"0-10M\", \"10-15M\", \"15-26M\", \"26-55M\", \"55-75M\", \"75-120M\", \">120M\"], \"y\": [-0.004376964879053155, 0.12219388518705286, 0.11218480919887974, 0.3041515920566773, 0.31759836243284045, 0.05084485647863039, 0.056988045877107554, 0.04041541364786484], \"name\": \"CAMPANIA\", \"fill\": \"tozeroy\", \"mode\": \"none\"}], {\"title\": \"Distribuzione per Fasce di Contribuzione - Ammontare\"}, {\"showLink\": true, \"linkText\": \"Export to plot.ly\"})});</script>"
      ]
     },
     "metadata": {},
     "output_type": "display_data"
    },
    {
     "data": {
      "image/png": "[encoded data removed]",
      "text/plain": [
       "<IPython.core.display.Image object>"
      ]
     },
     "metadata": {},
     "output_type": "display_data"
    }
   ],
   "source": [
    "trasposta = ammontare_redditi_percentuale.T\n",
    "trasposta.columns = trasposta.iloc[0]\n",
    "trasposta = trasposta.iloc[1:,:]\n",
    "\n",
    "columns_dict = {d:v for _, d, v in ammontare_reddito_scaglioni}\n",
    "line_x = [columns_dict[k] for k in trasposta.index]\n",
    "line_x\n",
    "\n",
    "line_data = []\n",
    "for c in trasposta:\n",
    "    data = trasposta[c].values\n",
    "    line_data.append(\n",
    "        go.Scatter(\n",
    "            x=line_x,\n",
    "            y=data, \n",
    "            name=c,     \n",
    "            fill='tozeroy',\n",
    "            mode= 'none'\n",
    "        )\n",
    "    )\n",
    "\n",
    "layout = go.Layout(\n",
    "    title='Distribuzione per Fasce di Contribuzione - Ammontare',\n",
    ")\n",
    "    \n",
    "fig = go.Figure(layout=layout, data=line_data)\n",
    "py.iplot(fig)\n",
    "\n",
    "fig_path = 'imgs/percentuale_contribuenti_reddito_line.png'\n",
    "py_on.image.save_as(fig, filename=fig_path)\n",
    "x = Image(fig_path)\n",
    "display(x)\n"
   ]
  },
  {
   "cell_type": "markdown",
   "metadata": {},
   "source": [
    "Da qui possiamo vedere ancora meglio come la Lombardia abbia una distribuzione dei valori diversa da quelle di Puglia e Campania."
   ]
  },
  {
   "cell_type": "markdown",
   "metadata": {},
   "source": [
    "## Confronto Liguria e Veneto\n",
    "\n",
    "A questo punto sembra interessante controntare la Liguria e il Veneto per capire da cosa possa derivare una cosi' grande discrepanza.\n",
    "Prendiamo in considerazione i costi sostenuti dalle due regioni per i vari servizi."
   ]
  },
  {
   "cell_type": "code",
   "execution_count": 39,
   "metadata": {},
   "outputs": [
    {
     "data": {
      "text/plain": [
       "['costo riscossione tributi',\n",
       " 'costo ufficio tecnico',\n",
       " 'costo anagrafe, stato civile',\n",
       " 'costo altri servizi',\n",
       " 'costo polizia locale',\n",
       " 'costo istruzione',\n",
       " \"costo viabilita'\",\n",
       " 'costo trasporti',\n",
       " 'costo territorio',\n",
       " 'costo ambiente',\n",
       " 'costo sociale',\n",
       " 'costo asili nido',\n",
       " 'costo spesa totale']"
      ]
     },
     "execution_count": 39,
     "metadata": {},
     "output_type": "execute_result"
    }
   ],
   "source": [
    "df_regione_tot = df.groupby(df.Regione).sum() / 4\n",
    "\n",
    "regioni_confronto = ['LIGURIA','VENETO']\n",
    "voci_di_costo = [v for v in df_regione_tot.columns if v.startswith('costo')]\n",
    "voci_di_costo"
   ]
  },
  {
   "cell_type": "code",
   "execution_count": 40,
   "metadata": {},
   "outputs": [],
   "source": [
    "df_regione_spesa_perc = df_regione_tot[voci_di_costo].div(df_regione_tot['costo spesa totale'], axis='index')"
   ]
  },
  {
   "cell_type": "code",
   "execution_count": 41,
   "metadata": {},
   "outputs": [],
   "source": [
    "df_regione_spesa_perc = df_regione_spesa_perc.drop('costo spesa totale', axis=1)\n",
    "df_regione_spesa_perc.columns = voci_di_cost_desc"
   ]
  },
  {
   "cell_type": "code",
   "execution_count": 42,
   "metadata": {},
   "outputs": [
    {
     "data": {
      "text/html": [
       "<div>\n",
       "<style scoped>\n",
       "    .dataframe tbody tr th:only-of-type {\n",
       "        vertical-align: middle;\n",
       "    }\n",
       "\n",
       "    .dataframe tbody tr th {\n",
       "        vertical-align: top;\n",
       "    }\n",
       "\n",
       "    .dataframe thead th {\n",
       "        text-align: right;\n",
       "    }\n",
       "</style>\n",
       "<table border=\"1\" class=\"dataframe\">\n",
       "  <thead>\n",
       "    <tr style=\"text-align: right;\">\n",
       "      <th></th>\n",
       "      <th>Regione</th>\n",
       "      <th>riscossione tributi</th>\n",
       "      <th>ufficio tecnico</th>\n",
       "      <th>anagrafe, stato civile</th>\n",
       "      <th>altri servizi</th>\n",
       "      <th>polizia locale</th>\n",
       "      <th>istruzione</th>\n",
       "      <th>viabilita'</th>\n",
       "      <th>trasporti</th>\n",
       "      <th>territorio</th>\n",
       "      <th>ambiente</th>\n",
       "      <th>sociale</th>\n",
       "      <th>asili nido</th>\n",
       "    </tr>\n",
       "  </thead>\n",
       "  <tbody>\n",
       "    <tr>\n",
       "      <th>0</th>\n",
       "      <td>LIGURIA</td>\n",
       "      <td>0.035675</td>\n",
       "      <td>0.062151</td>\n",
       "      <td>0.037357</td>\n",
       "      <td>0.364600</td>\n",
       "      <td>0.173288</td>\n",
       "      <td>0.174851</td>\n",
       "      <td>0.116424</td>\n",
       "      <td>0.070476</td>\n",
       "      <td>0.133623</td>\n",
       "      <td>0.507297</td>\n",
       "      <td>0.242237</td>\n",
       "      <td>0.075220</td>\n",
       "    </tr>\n",
       "    <tr>\n",
       "      <th>1</th>\n",
       "      <td>VENETO</td>\n",
       "      <td>0.028406</td>\n",
       "      <td>0.081340</td>\n",
       "      <td>0.037883</td>\n",
       "      <td>0.375381</td>\n",
       "      <td>0.124939</td>\n",
       "      <td>0.217276</td>\n",
       "      <td>0.157550</td>\n",
       "      <td>0.028772</td>\n",
       "      <td>0.101808</td>\n",
       "      <td>0.474503</td>\n",
       "      <td>0.325889</td>\n",
       "      <td>0.053897</td>\n",
       "    </tr>\n",
       "  </tbody>\n",
       "</table>\n",
       "</div>"
      ],
      "text/plain": [
       "   Regione  riscossione tributi  ufficio tecnico  anagrafe, stato civile  \\\n",
       "0  LIGURIA             0.035675         0.062151                0.037357   \n",
       "1   VENETO             0.028406         0.081340                0.037883   \n",
       "\n",
       "   altri servizi  polizia locale  istruzione  viabilita'  trasporti  \\\n",
       "0       0.364600        0.173288    0.174851    0.116424   0.070476   \n",
       "1       0.375381        0.124939    0.217276    0.157550   0.028772   \n",
       "\n",
       "   territorio  ambiente   sociale  asili nido  \n",
       "0    0.133623  0.507297  0.242237    0.075220  \n",
       "1    0.101808  0.474503  0.325889    0.053897  "
      ]
     },
     "execution_count": 42,
     "metadata": {},
     "output_type": "execute_result"
    }
   ],
   "source": [
    "df_regione_spesa_perc_an = df_regione_spesa_perc.loc[regioni_confronto]\n",
    "df_regione_spesa_perc_an = df_regione_spesa_perc_an.reset_index()\n",
    "df_regione_spesa_perc_an"
   ]
  },
  {
   "cell_type": "code",
   "execution_count": 43,
   "metadata": {},
   "outputs": [
    {
     "data": {
      "application/vnd.plotly.v1+json": {
       "data": [
        {
         "name": "riscossione tributi",
         "type": "bar",
         "x": [
          "LIGURIA",
          "VENETO"
         ],
         "y": [
          0.03567453052183846,
          0.02840571139339139
         ]
        },
        {
         "name": "ufficio tecnico",
         "type": "bar",
         "x": [
          "LIGURIA",
          "VENETO"
         ],
         "y": [
          0.06215097292331589,
          0.0813398676326552
         ]
        },
        {
         "name": "anagrafe, stato civile",
         "type": "bar",
         "x": [
          "LIGURIA",
          "VENETO"
         ],
         "y": [
          0.037357161572060475,
          0.03788285500805401
         ]
        },
        {
         "name": "altri servizi",
         "type": "bar",
         "x": [
          "LIGURIA",
          "VENETO"
         ],
         "y": [
          0.36460028867818656,
          0.37538135259011923
         ]
        },
        {
         "name": "polizia locale",
         "type": "bar",
         "x": [
          "LIGURIA",
          "VENETO"
         ],
         "y": [
          0.17328803380562136,
          0.12493867430399799
         ]
        },
        {
         "name": "istruzione",
         "type": "bar",
         "x": [
          "LIGURIA",
          "VENETO"
         ],
         "y": [
          0.17485071692774992,
          0.2172762304622133
         ]
        },
        {
         "name": "viabilita'",
         "type": "bar",
         "x": [
          "LIGURIA",
          "VENETO"
         ],
         "y": [
          0.11642414586741161,
          0.15755028058079915
         ]
        },
        {
         "name": "trasporti",
         "type": "bar",
         "x": [
          "LIGURIA",
          "VENETO"
         ],
         "y": [
          0.07047618821158509,
          0.028772075737321146
         ]
        },
        {
         "name": "territorio",
         "type": "bar",
         "x": [
          "LIGURIA",
          "VENETO"
         ],
         "y": [
          0.13362327232174936,
          0.10180789427052614
         ]
        },
        {
         "name": "ambiente",
         "type": "bar",
         "x": [
          "LIGURIA",
          "VENETO"
         ],
         "y": [
          0.5072974951767797,
          0.47450325405990845
         ]
        },
        {
         "name": "sociale",
         "type": "bar",
         "x": [
          "LIGURIA",
          "VENETO"
         ],
         "y": [
          0.2422366804741694,
          0.3258893978871838
         ]
        },
        {
         "name": "asili nido",
         "type": "bar",
         "x": [
          "LIGURIA",
          "VENETO"
         ],
         "y": [
          0.07521996055096755,
          0.05389721175413905
         ]
        }
       ],
       "layout": {
        "title": "Percentuale Costi per Tipologia di Servizio",
        "xaxis": {
         "title": "Regioni"
        },
        "yaxis": {
         "title": "Percentuale"
        }
       }
      },
      "text/html": [
       "<div id=\"5ef4b77d-c6b8-4983-b6f4-5d86b5bacb61\" style=\"height: 525px; width: 100%;\" class=\"plotly-graph-div\"></div><script type=\"text/javascript\">require([\"plotly\"], function(Plotly) { window.PLOTLYENV=window.PLOTLYENV || {};window.PLOTLYENV.BASE_URL=\"https://plot.ly\";Plotly.newPlot(\"5ef4b77d-c6b8-4983-b6f4-5d86b5bacb61\", [{\"type\": \"bar\", \"x\": [\"LIGURIA\", \"VENETO\"], \"y\": [0.03567453052183846, 0.02840571139339139], \"name\": \"riscossione tributi\"}, {\"type\": \"bar\", \"x\": [\"LIGURIA\", \"VENETO\"], \"y\": [0.06215097292331589, 0.0813398676326552], \"name\": \"ufficio tecnico\"}, {\"type\": \"bar\", \"x\": [\"LIGURIA\", \"VENETO\"], \"y\": [0.037357161572060475, 0.03788285500805401], \"name\": \"anagrafe, stato civile\"}, {\"type\": \"bar\", \"x\": [\"LIGURIA\", \"VENETO\"], \"y\": [0.36460028867818656, 0.37538135259011923], \"name\": \"altri servizi\"}, {\"type\": \"bar\", \"x\": [\"LIGURIA\", \"VENETO\"], \"y\": [0.17328803380562136, 0.12493867430399799], \"name\": \"polizia locale\"}, {\"type\": \"bar\", \"x\": [\"LIGURIA\", \"VENETO\"], \"y\": [0.17485071692774992, 0.2172762304622133], \"name\": \"istruzione\"}, {\"type\": \"bar\", \"x\": [\"LIGURIA\", \"VENETO\"], \"y\": [0.11642414586741161, 0.15755028058079915], \"name\": \"viabilita'\"}, {\"type\": \"bar\", \"x\": [\"LIGURIA\", \"VENETO\"], \"y\": [0.07047618821158509, 0.028772075737321146], \"name\": \"trasporti\"}, {\"type\": \"bar\", \"x\": [\"LIGURIA\", \"VENETO\"], \"y\": [0.13362327232174936, 0.10180789427052614], \"name\": \"territorio\"}, {\"type\": \"bar\", \"x\": [\"LIGURIA\", \"VENETO\"], \"y\": [0.5072974951767797, 0.47450325405990845], \"name\": \"ambiente\"}, {\"type\": \"bar\", \"x\": [\"LIGURIA\", \"VENETO\"], \"y\": [0.2422366804741694, 0.3258893978871838], \"name\": \"sociale\"}, {\"type\": \"bar\", \"x\": [\"LIGURIA\", \"VENETO\"], \"y\": [0.07521996055096755, 0.05389721175413905], \"name\": \"asili nido\"}], {\"title\": \"Percentuale Costi per Tipologia di Servizio\", \"xaxis\": {\"title\": \"Regioni\"}, \"yaxis\": {\"title\": \"Percentuale\"}}, {\"showLink\": true, \"linkText\": \"Export to plot.ly\"})});</script>"
      ],
      "text/vnd.plotly.v1+html": [
       "<div id=\"5ef4b77d-c6b8-4983-b6f4-5d86b5bacb61\" style=\"height: 525px; width: 100%;\" class=\"plotly-graph-div\"></div><script type=\"text/javascript\">require([\"plotly\"], function(Plotly) { window.PLOTLYENV=window.PLOTLYENV || {};window.PLOTLYENV.BASE_URL=\"https://plot.ly\";Plotly.newPlot(\"5ef4b77d-c6b8-4983-b6f4-5d86b5bacb61\", [{\"type\": \"bar\", \"x\": [\"LIGURIA\", \"VENETO\"], \"y\": [0.03567453052183846, 0.02840571139339139], \"name\": \"riscossione tributi\"}, {\"type\": \"bar\", \"x\": [\"LIGURIA\", \"VENETO\"], \"y\": [0.06215097292331589, 0.0813398676326552], \"name\": \"ufficio tecnico\"}, {\"type\": \"bar\", \"x\": [\"LIGURIA\", \"VENETO\"], \"y\": [0.037357161572060475, 0.03788285500805401], \"name\": \"anagrafe, stato civile\"}, {\"type\": \"bar\", \"x\": [\"LIGURIA\", \"VENETO\"], \"y\": [0.36460028867818656, 0.37538135259011923], \"name\": \"altri servizi\"}, {\"type\": \"bar\", \"x\": [\"LIGURIA\", \"VENETO\"], \"y\": [0.17328803380562136, 0.12493867430399799], \"name\": \"polizia locale\"}, {\"type\": \"bar\", \"x\": [\"LIGURIA\", \"VENETO\"], \"y\": [0.17485071692774992, 0.2172762304622133], \"name\": \"istruzione\"}, {\"type\": \"bar\", \"x\": [\"LIGURIA\", \"VENETO\"], \"y\": [0.11642414586741161, 0.15755028058079915], \"name\": \"viabilita'\"}, {\"type\": \"bar\", \"x\": [\"LIGURIA\", \"VENETO\"], \"y\": [0.07047618821158509, 0.028772075737321146], \"name\": \"trasporti\"}, {\"type\": \"bar\", \"x\": [\"LIGURIA\", \"VENETO\"], \"y\": [0.13362327232174936, 0.10180789427052614], \"name\": \"territorio\"}, {\"type\": \"bar\", \"x\": [\"LIGURIA\", \"VENETO\"], \"y\": [0.5072974951767797, 0.47450325405990845], \"name\": \"ambiente\"}, {\"type\": \"bar\", \"x\": [\"LIGURIA\", \"VENETO\"], \"y\": [0.2422366804741694, 0.3258893978871838], \"name\": \"sociale\"}, {\"type\": \"bar\", \"x\": [\"LIGURIA\", \"VENETO\"], \"y\": [0.07521996055096755, 0.05389721175413905], \"name\": \"asili nido\"}], {\"title\": \"Percentuale Costi per Tipologia di Servizio\", \"xaxis\": {\"title\": \"Regioni\"}, \"yaxis\": {\"title\": \"Percentuale\"}}, {\"showLink\": true, \"linkText\": \"Export to plot.ly\"})});</script>"
      ]
     },
     "metadata": {},
     "output_type": "display_data"
    },
    {
     "data": {
      "image/png": "[encoded data removed]",
      "text/plain": [
       "<IPython.core.display.Image object>"
      ]
     },
     "metadata": {},
     "output_type": "display_data"
    }
   ],
   "source": [
    "data = []\n",
    "for c in df_regione_spesa_perc_an.columns.values[1:]:\n",
    "    bar = go.Bar(\n",
    "        x = regioni_confronto,\n",
    "        y = df_regione_spesa_perc_an[c],\n",
    "        name = c\n",
    "    )\n",
    "    data.append(bar)\n",
    "\n",
    "layout = go.Layout(\n",
    "    title='Percentuale Costi per Tipologia di Servizio',\n",
    "    xaxis=dict(\n",
    "        title='Regioni',\n",
    "    ),\n",
    "    yaxis=dict(\n",
    "        title='Percentuale',\n",
    "    )\n",
    ")\n",
    "\n",
    "fig = go.Figure(layout=layout, data=data)\n",
    "py.iplot(fig)\n",
    "\n",
    "fig_path = 'imgs/costo_per_servizio.png'\n",
    "py_on.image.save_as(fig, filename=fig_path)\n",
    "x = Image(fig_path)\n",
    "display(x)"
   ]
  },
  {
   "cell_type": "code",
   "execution_count": 44,
   "metadata": {},
   "outputs": [],
   "source": [
    "df_regione_spesa_perc_reset = df_regione_spesa_perc.reset_index()"
   ]
  },
  {
   "cell_type": "code",
   "execution_count": 48,
   "metadata": {},
   "outputs": [
    {
     "data": {
      "application/vnd.plotly.v1+json": {
       "data": [
        {
         "marker": {
          "color": "rgb(31, 119, 180)",
          "size": 6
         },
         "mode": "markers",
         "name": "ABRUZZO",
         "showlegend": false,
         "type": "scatter",
         "x": [
          0.035306685363058844
         ],
         "xaxis": "x1",
         "y": [
          0.035306685363058844
         ],
         "yaxis": "y1"
        },
        {
         "marker": {
          "color": "rgb(255, 127, 14)",
          "size": 6
         },
         "mode": "markers",
         "name": "BASILICATA",
         "showlegend": false,
         "type": "scatter",
         "x": [
          0.033347220693861486
         ],
         "xaxis": "x1",
         "y": [
          0.033347220693861486
         ],
         "yaxis": "y1"
        },
        {
         "marker": {
          "color": "rgb(44, 160, 44)",
          "size": 6
         },
         "mode": "markers",
         "name": "CALABRIA",
         "showlegend": false,
         "type": "scatter",
         "x": [
          0.0490688904483862
         ],
         "xaxis": "x1",
         "y": [
          0.0490688904483862
         ],
         "yaxis": "y1"
        },
        {
         "marker": {
          "color": "rgb(214, 39, 40)",
          "size": 6
         },
         "mode": "markers",
         "name": "CAMPANIA",
         "showlegend": false,
         "type": "scatter",
         "x": [
          0.03631145120105714
         ],
         "xaxis": "x1",
         "y": [
          0.03631145120105714
         ],
         "yaxis": "y1"
        },
        {
         "marker": {
          "color": "rgb(148, 103, 189)",
          "size": 6
         },
         "mode": "markers",
         "name": "EMILIA-ROMAGNA",
         "showlegend": false,
         "type": "scatter",
         "x": [
          0.031000132780460488
         ],
         "xaxis": "x1",
         "y": [
          0.031000132780460488
         ],
         "yaxis": "y1"
        },
        {
         "marker": {
          "color": "rgb(140, 86, 75)",
          "size": 6
         },
         "mode": "markers",
         "name": "LAZIO",
         "showlegend": false,
         "type": "scatter",
         "x": [
          0.030251903357508613
         ],
         "xaxis": "x1",
         "y": [
          0.030251903357508613
         ],
         "yaxis": "y1"
        },
        {
         "marker": {
          "color": "rgb(227, 119, 194)",
          "size": 6
         },
         "mode": "markers",
         "name": "LIGURIA",
         "showlegend": false,
         "type": "scatter",
         "x": [
          0.03567453052183846
         ],
         "xaxis": "x1",
         "y": [
          0.03567453052183846
         ],
         "yaxis": "y1"
        },
        {
         "marker": {
          "color": "rgb(127, 127, 127)",
          "size": 6
         },
         "mode": "markers",
         "name": "LOMBARDIA",
         "showlegend": false,
         "type": "scatter",
         "x": [
          0.033474060103526763
         ],
         "xaxis": "x1",
         "y": [
          0.033474060103526763
         ],
         "yaxis": "y1"
        },
        {
         "marker": {
          "color": "rgb(188, 189, 34)",
          "size": 6
         },
         "mode": "markers",
         "name": "MARCHE",
         "showlegend": false,
         "type": "scatter",
         "x": [
          0.035776042995968635
         ],
         "xaxis": "x1",
         "y": [
          0.035776042995968635
         ],
         "yaxis": "y1"
        },
        {
         "marker": {
          "color": "rgb(23, 190, 207)",
          "size": 6
         },
         "mode": "markers",
         "name": "MOLISE",
         "showlegend": false,
         "type": "scatter",
         "x": [
          0.054182763147039244
         ],
         "xaxis": "x1",
         "y": [
          0.054182763147039244
         ],
         "yaxis": "y1"
        },
        {
         "marker": {
          "color": "rgb(31, 119, 180)",
          "size": 6
         },
         "mode": "markers",
         "name": "PIEMONTE",
         "showlegend": false,
         "type": "scatter",
         "x": [
          0.034279728132143555
         ],
         "xaxis": "x1",
         "y": [
          0.034279728132143555
         ],
         "yaxis": "y1"
        },
        {
         "marker": {
          "color": "rgb(255, 127, 14)",
          "size": 6
         },
         "mode": "markers",
         "name": "PUGLIA",
         "showlegend": false,
         "type": "scatter",
         "x": [
          0.043774703162461424
         ],
         "xaxis": "x1",
         "y": [
          0.043774703162461424
         ],
         "yaxis": "y1"
        },
        {
         "marker": {
          "color": "rgb(44, 160, 44)",
          "size": 6
         },
         "mode": "markers",
         "name": "TOSCANA",
         "showlegend": false,
         "type": "scatter",
         "x": [
          0.03503505189594829
         ],
         "xaxis": "x1",
         "y": [
          0.03503505189594829
         ],
         "yaxis": "y1"
        },
        {
         "marker": {
          "color": "rgb(214, 39, 40)",
          "size": 6
         },
         "mode": "markers",
         "name": "UMBRIA",
         "showlegend": false,
         "type": "scatter",
         "x": [
          0.03092976108621179
         ],
         "xaxis": "x1",
         "y": [
          0.03092976108621179
         ],
         "yaxis": "y1"
        },
        {
         "marker": {
          "color": "rgb(148, 103, 189)",
          "size": 6
         },
         "mode": "markers",
         "name": "VENETO",
         "showlegend": false,
         "type": "scatter",
         "x": [
          0.02840571139339139
         ],
         "xaxis": "x1",
         "y": [
          0.02840571139339139
         ],
         "yaxis": "y1"
        }
       ],
       "layout": {
        "height": 800,
        "showlegend": true,
        "title": "Distribuzione Riscossione Tributi per Regione",
        "width": 800,
        "xaxis1": {
         "anchor": "y1",
         "domain": [
          0,
          1
         ],
         "title": "riscossione tributi"
        },
        "yaxis1": {
         "anchor": "x1",
         "domain": [
          0,
          1
         ],
         "title": "riscossione tributi"
        }
       }
      },
      "text/html": [
       "<div id=\"b485ffa2-cf0f-4846-a06f-1a57823d194b\" style=\"height: 800px; width: 800px;\" class=\"plotly-graph-div\"></div><script type=\"text/javascript\">require([\"plotly\"], function(Plotly) { window.PLOTLYENV=window.PLOTLYENV || {};window.PLOTLYENV.BASE_URL=\"https://plot.ly\";Plotly.newPlot(\"b485ffa2-cf0f-4846-a06f-1a57823d194b\", [{\"type\": \"scatter\", \"x\": [0.035306685363058844], \"y\": [0.035306685363058844], \"mode\": \"markers\", \"name\": \"ABRUZZO\", \"marker\": {\"size\": 6, \"color\": \"rgb(31, 119, 180)\"}, \"showlegend\": false, \"xaxis\": \"x1\", \"yaxis\": \"y1\"}, {\"type\": \"scatter\", \"x\": [0.033347220693861486], \"y\": [0.033347220693861486], \"mode\": \"markers\", \"name\": \"BASILICATA\", \"marker\": {\"size\": 6, \"color\": \"rgb(255, 127, 14)\"}, \"showlegend\": false, \"xaxis\": \"x1\", \"yaxis\": \"y1\"}, {\"type\": \"scatter\", \"x\": [0.0490688904483862], \"y\": [0.0490688904483862], \"mode\": \"markers\", \"name\": \"CALABRIA\", \"marker\": {\"size\": 6, \"color\": \"rgb(44, 160, 44)\"}, \"showlegend\": false, \"xaxis\": \"x1\", \"yaxis\": \"y1\"}, {\"type\": \"scatter\", \"x\": [0.03631145120105714], \"y\": [0.03631145120105714], \"mode\": \"markers\", \"name\": \"CAMPANIA\", \"marker\": {\"size\": 6, \"color\": \"rgb(214, 39, 40)\"}, \"showlegend\": false, \"xaxis\": \"x1\", \"yaxis\": \"y1\"}, {\"type\": \"scatter\", \"x\": [0.031000132780460488], \"y\": [0.031000132780460488], \"mode\": \"markers\", \"name\": \"EMILIA-ROMAGNA\", \"marker\": {\"size\": 6, \"color\": \"rgb(148, 103, 189)\"}, \"showlegend\": false, \"xaxis\": \"x1\", \"yaxis\": \"y1\"}, {\"type\": \"scatter\", \"x\": [0.030251903357508613], \"y\": [0.030251903357508613], \"mode\": \"markers\", \"name\": \"LAZIO\", \"marker\": {\"size\": 6, \"color\": \"rgb(140, 86, 75)\"}, \"showlegend\": false, \"xaxis\": \"x1\", \"yaxis\": \"y1\"}, {\"type\": \"scatter\", \"x\": [0.03567453052183846], \"y\": [0.03567453052183846], \"mode\": \"markers\", \"name\": \"LIGURIA\", \"marker\": {\"size\": 6, \"color\": \"rgb(227, 119, 194)\"}, \"showlegend\": false, \"xaxis\": \"x1\", \"yaxis\": \"y1\"}, {\"type\": \"scatter\", \"x\": [0.033474060103526763], \"y\": [0.033474060103526763], \"mode\": \"markers\", \"name\": \"LOMBARDIA\", \"marker\": {\"size\": 6, \"color\": \"rgb(127, 127, 127)\"}, \"showlegend\": false, \"xaxis\": \"x1\", \"yaxis\": \"y1\"}, {\"type\": \"scatter\", \"x\": [0.035776042995968635], \"y\": [0.035776042995968635], \"mode\": \"markers\", \"name\": \"MARCHE\", \"marker\": {\"size\": 6, \"color\": \"rgb(188, 189, 34)\"}, \"showlegend\": false, \"xaxis\": \"x1\", \"yaxis\": \"y1\"}, {\"type\": \"scatter\", \"x\": [0.054182763147039244], \"y\": [0.054182763147039244], \"mode\": \"markers\", \"name\": \"MOLISE\", \"marker\": {\"size\": 6, \"color\": \"rgb(23, 190, 207)\"}, \"showlegend\": false, \"xaxis\": \"x1\", \"yaxis\": \"y1\"}, {\"type\": \"scatter\", \"x\": [0.034279728132143555], \"y\": [0.034279728132143555], \"mode\": \"markers\", \"name\": \"PIEMONTE\", \"marker\": {\"size\": 6, \"color\": \"rgb(31, 119, 180)\"}, \"showlegend\": false, \"xaxis\": \"x1\", \"yaxis\": \"y1\"}, {\"type\": \"scatter\", \"x\": [0.043774703162461424], \"y\": [0.043774703162461424], \"mode\": \"markers\", \"name\": \"PUGLIA\", \"marker\": {\"size\": 6, \"color\": \"rgb(255, 127, 14)\"}, \"showlegend\": false, \"xaxis\": \"x1\", \"yaxis\": \"y1\"}, {\"type\": \"scatter\", \"x\": [0.03503505189594829], \"y\": [0.03503505189594829], \"mode\": \"markers\", \"name\": \"TOSCANA\", \"marker\": {\"size\": 6, \"color\": \"rgb(44, 160, 44)\"}, \"showlegend\": false, \"xaxis\": \"x1\", \"yaxis\": \"y1\"}, {\"type\": \"scatter\", \"x\": [0.03092976108621179], \"y\": [0.03092976108621179], \"mode\": \"markers\", \"name\": \"UMBRIA\", \"marker\": {\"size\": 6, \"color\": \"rgb(214, 39, 40)\"}, \"showlegend\": false, \"xaxis\": \"x1\", \"yaxis\": \"y1\"}, {\"type\": \"scatter\", \"x\": [0.02840571139339139], \"y\": [0.02840571139339139], \"mode\": \"markers\", \"name\": \"VENETO\", \"marker\": {\"size\": 6, \"color\": \"rgb(148, 103, 189)\"}, \"showlegend\": false, \"xaxis\": \"x1\", \"yaxis\": \"y1\"}], {\"xaxis1\": {\"domain\": [0.0, 1.0], \"anchor\": \"y1\", \"title\": \"riscossione tributi\"}, \"yaxis1\": {\"domain\": [0.0, 1.0], \"anchor\": \"x1\", \"title\": \"riscossione tributi\"}, \"height\": 800, \"width\": 800, \"title\": \"Distribuzione Riscossione Tributi per Regione\", \"showlegend\": true}, {\"showLink\": true, \"linkText\": \"Export to plot.ly\"})});</script>"
      ],
      "text/vnd.plotly.v1+html": [
       "<div id=\"b485ffa2-cf0f-4846-a06f-1a57823d194b\" style=\"height: 800px; width: 800px;\" class=\"plotly-graph-div\"></div><script type=\"text/javascript\">require([\"plotly\"], function(Plotly) { window.PLOTLYENV=window.PLOTLYENV || {};window.PLOTLYENV.BASE_URL=\"https://plot.ly\";Plotly.newPlot(\"b485ffa2-cf0f-4846-a06f-1a57823d194b\", [{\"type\": \"scatter\", \"x\": [0.035306685363058844], \"y\": [0.035306685363058844], \"mode\": \"markers\", \"name\": \"ABRUZZO\", \"marker\": {\"size\": 6, \"color\": \"rgb(31, 119, 180)\"}, \"showlegend\": false, \"xaxis\": \"x1\", \"yaxis\": \"y1\"}, {\"type\": \"scatter\", \"x\": [0.033347220693861486], \"y\": [0.033347220693861486], \"mode\": \"markers\", \"name\": \"BASILICATA\", \"marker\": {\"size\": 6, \"color\": \"rgb(255, 127, 14)\"}, \"showlegend\": false, \"xaxis\": \"x1\", \"yaxis\": \"y1\"}, {\"type\": \"scatter\", \"x\": [0.0490688904483862], \"y\": [0.0490688904483862], \"mode\": \"markers\", \"name\": \"CALABRIA\", \"marker\": {\"size\": 6, \"color\": \"rgb(44, 160, 44)\"}, \"showlegend\": false, \"xaxis\": \"x1\", \"yaxis\": \"y1\"}, {\"type\": \"scatter\", \"x\": [0.03631145120105714], \"y\": [0.03631145120105714], \"mode\": \"markers\", \"name\": \"CAMPANIA\", \"marker\": {\"size\": 6, \"color\": \"rgb(214, 39, 40)\"}, \"showlegend\": false, \"xaxis\": \"x1\", \"yaxis\": \"y1\"}, {\"type\": \"scatter\", \"x\": [0.031000132780460488], \"y\": [0.031000132780460488], \"mode\": \"markers\", \"name\": \"EMILIA-ROMAGNA\", \"marker\": {\"size\": 6, \"color\": \"rgb(148, 103, 189)\"}, \"showlegend\": false, \"xaxis\": \"x1\", \"yaxis\": \"y1\"}, {\"type\": \"scatter\", \"x\": [0.030251903357508613], \"y\": [0.030251903357508613], \"mode\": \"markers\", \"name\": \"LAZIO\", \"marker\": {\"size\": 6, \"color\": \"rgb(140, 86, 75)\"}, \"showlegend\": false, \"xaxis\": \"x1\", \"yaxis\": \"y1\"}, {\"type\": \"scatter\", \"x\": [0.03567453052183846], \"y\": [0.03567453052183846], \"mode\": \"markers\", \"name\": \"LIGURIA\", \"marker\": {\"size\": 6, \"color\": \"rgb(227, 119, 194)\"}, \"showlegend\": false, \"xaxis\": \"x1\", \"yaxis\": \"y1\"}, {\"type\": \"scatter\", \"x\": [0.033474060103526763], \"y\": [0.033474060103526763], \"mode\": \"markers\", \"name\": \"LOMBARDIA\", \"marker\": {\"size\": 6, \"color\": \"rgb(127, 127, 127)\"}, \"showlegend\": false, \"xaxis\": \"x1\", \"yaxis\": \"y1\"}, {\"type\": \"scatter\", \"x\": [0.035776042995968635], \"y\": [0.035776042995968635], \"mode\": \"markers\", \"name\": \"MARCHE\", \"marker\": {\"size\": 6, \"color\": \"rgb(188, 189, 34)\"}, \"showlegend\": false, \"xaxis\": \"x1\", \"yaxis\": \"y1\"}, {\"type\": \"scatter\", \"x\": [0.054182763147039244], \"y\": [0.054182763147039244], \"mode\": \"markers\", \"name\": \"MOLISE\", \"marker\": {\"size\": 6, \"color\": \"rgb(23, 190, 207)\"}, \"showlegend\": false, \"xaxis\": \"x1\", \"yaxis\": \"y1\"}, {\"type\": \"scatter\", \"x\": [0.034279728132143555], \"y\": [0.034279728132143555], \"mode\": \"markers\", \"name\": \"PIEMONTE\", \"marker\": {\"size\": 6, \"color\": \"rgb(31, 119, 180)\"}, \"showlegend\": false, \"xaxis\": \"x1\", \"yaxis\": \"y1\"}, {\"type\": \"scatter\", \"x\": [0.043774703162461424], \"y\": [0.043774703162461424], \"mode\": \"markers\", \"name\": \"PUGLIA\", \"marker\": {\"size\": 6, \"color\": \"rgb(255, 127, 14)\"}, \"showlegend\": false, \"xaxis\": \"x1\", \"yaxis\": \"y1\"}, {\"type\": \"scatter\", \"x\": [0.03503505189594829], \"y\": [0.03503505189594829], \"mode\": \"markers\", \"name\": \"TOSCANA\", \"marker\": {\"size\": 6, \"color\": \"rgb(44, 160, 44)\"}, \"showlegend\": false, \"xaxis\": \"x1\", \"yaxis\": \"y1\"}, {\"type\": \"scatter\", \"x\": [0.03092976108621179], \"y\": [0.03092976108621179], \"mode\": \"markers\", \"name\": \"UMBRIA\", \"marker\": {\"size\": 6, \"color\": \"rgb(214, 39, 40)\"}, \"showlegend\": false, \"xaxis\": \"x1\", \"yaxis\": \"y1\"}, {\"type\": \"scatter\", \"x\": [0.02840571139339139], \"y\": [0.02840571139339139], \"mode\": \"markers\", \"name\": \"VENETO\", \"marker\": {\"size\": 6, \"color\": \"rgb(148, 103, 189)\"}, \"showlegend\": false, \"xaxis\": \"x1\", \"yaxis\": \"y1\"}], {\"xaxis1\": {\"domain\": [0.0, 1.0], \"anchor\": \"y1\", \"title\": \"riscossione tributi\"}, \"yaxis1\": {\"domain\": [0.0, 1.0], \"anchor\": \"x1\", \"title\": \"riscossione tributi\"}, \"height\": 800, \"width\": 800, \"title\": \"Distribuzione Riscossione Tributi per Regione\", \"showlegend\": true}, {\"showLink\": true, \"linkText\": \"Export to plot.ly\"})});</script>"
      ]
     },
     "metadata": {},
     "output_type": "display_data"
    }
   ],
   "source": [
    "fig = ff.create_scatterplotmatrix(\n",
    "    df_regione_spesa_perc_reset.iloc[:,0:2], \n",
    "    index='Regione',\n",
    "    height=800, width=800)\n",
    "fig.layout.title = 'Distribuzione Riscossione Tributi per Regione'\n",
    "py.iplot(fig)"
   ]
  },
  {
   "cell_type": "markdown",
   "metadata": {},
   "source": [
    "### Q-Q Plot"
   ]
  },
  {
   "cell_type": "code",
   "execution_count": 49,
   "metadata": {},
   "outputs": [
    {
     "data": {
      "application/vnd.plotly.v1+json": {
       "data": [
        {
         "name": "ABRUZZO",
         "type": "scatter",
         "x": [
          0.035306685363058844
         ],
         "y": [
          0.035306685363058844
         ]
        },
        {
         "name": "BASILICATA",
         "type": "scatter",
         "x": [
          0.033347220693861486
         ],
         "y": [
          0.033347220693861486
         ]
        },
        {
         "name": "CALABRIA",
         "type": "scatter",
         "x": [
          0.0490688904483862
         ],
         "y": [
          0.0490688904483862
         ]
        },
        {
         "name": "CAMPANIA",
         "type": "scatter",
         "x": [
          0.03631145120105714
         ],
         "y": [
          0.03631145120105714
         ]
        },
        {
         "name": "EMILIA-ROMAGNA",
         "type": "scatter",
         "x": [
          0.031000132780460488
         ],
         "y": [
          0.031000132780460488
         ]
        },
        {
         "name": "LAZIO",
         "type": "scatter",
         "x": [
          0.030251903357508613
         ],
         "y": [
          0.030251903357508613
         ]
        },
        {
         "name": "LIGURIA",
         "type": "scatter",
         "x": [
          0.03567453052183846
         ],
         "y": [
          0.03567453052183846
         ]
        },
        {
         "name": "LOMBARDIA",
         "type": "scatter",
         "x": [
          0.033474060103526763
         ],
         "y": [
          0.033474060103526763
         ]
        },
        {
         "name": "MARCHE",
         "type": "scatter",
         "x": [
          0.035776042995968635
         ],
         "y": [
          0.035776042995968635
         ]
        },
        {
         "name": "MOLISE",
         "type": "scatter",
         "x": [
          0.054182763147039244
         ],
         "y": [
          0.054182763147039244
         ]
        },
        {
         "name": "PIEMONTE",
         "type": "scatter",
         "x": [
          0.034279728132143555
         ],
         "y": [
          0.034279728132143555
         ]
        },
        {
         "name": "PUGLIA",
         "type": "scatter",
         "x": [
          0.043774703162461424
         ],
         "y": [
          0.043774703162461424
         ]
        },
        {
         "name": "TOSCANA",
         "type": "scatter",
         "x": [
          0.03503505189594829
         ],
         "y": [
          0.03503505189594829
         ]
        },
        {
         "name": "UMBRIA",
         "type": "scatter",
         "x": [
          0.03092976108621179
         ],
         "y": [
          0.03092976108621179
         ]
        },
        {
         "name": "VENETO",
         "type": "scatter",
         "x": [
          0.02840571139339139
         ],
         "y": [
          0.02840571139339139
         ]
        }
       ],
       "layout": {
        "title": "Percentuale Costi per Riscossione Tributi"
       }
      },
      "text/html": [
       "<div id=\"c73a3d12-e08a-42a6-8255-d44f842f746c\" style=\"height: 525px; width: 100%;\" class=\"plotly-graph-div\"></div><script type=\"text/javascript\">require([\"plotly\"], function(Plotly) { window.PLOTLYENV=window.PLOTLYENV || {};window.PLOTLYENV.BASE_URL=\"https://plot.ly\";Plotly.newPlot(\"c73a3d12-e08a-42a6-8255-d44f842f746c\", [{\"type\": \"scatter\", \"x\": [0.035306685363058844], \"y\": [0.035306685363058844], \"name\": \"ABRUZZO\"}, {\"type\": \"scatter\", \"x\": [0.033347220693861486], \"y\": [0.033347220693861486], \"name\": \"BASILICATA\"}, {\"type\": \"scatter\", \"x\": [0.0490688904483862], \"y\": [0.0490688904483862], \"name\": \"CALABRIA\"}, {\"type\": \"scatter\", \"x\": [0.03631145120105714], \"y\": [0.03631145120105714], \"name\": \"CAMPANIA\"}, {\"type\": \"scatter\", \"x\": [0.031000132780460488], \"y\": [0.031000132780460488], \"name\": \"EMILIA-ROMAGNA\"}, {\"type\": \"scatter\", \"x\": [0.030251903357508613], \"y\": [0.030251903357508613], \"name\": \"LAZIO\"}, {\"type\": \"scatter\", \"x\": [0.03567453052183846], \"y\": [0.03567453052183846], \"name\": \"LIGURIA\"}, {\"type\": \"scatter\", \"x\": [0.033474060103526763], \"y\": [0.033474060103526763], \"name\": \"LOMBARDIA\"}, {\"type\": \"scatter\", \"x\": [0.035776042995968635], \"y\": [0.035776042995968635], \"name\": \"MARCHE\"}, {\"type\": \"scatter\", \"x\": [0.054182763147039244], \"y\": [0.054182763147039244], \"name\": \"MOLISE\"}, {\"type\": \"scatter\", \"x\": [0.034279728132143555], \"y\": [0.034279728132143555], \"name\": \"PIEMONTE\"}, {\"type\": \"scatter\", \"x\": [0.043774703162461424], \"y\": [0.043774703162461424], \"name\": \"PUGLIA\"}, {\"type\": \"scatter\", \"x\": [0.03503505189594829], \"y\": [0.03503505189594829], \"name\": \"TOSCANA\"}, {\"type\": \"scatter\", \"x\": [0.03092976108621179], \"y\": [0.03092976108621179], \"name\": \"UMBRIA\"}, {\"type\": \"scatter\", \"x\": [0.02840571139339139], \"y\": [0.02840571139339139], \"name\": \"VENETO\"}], {\"title\": \"Percentuale Costi per Riscossione Tributi\"}, {\"showLink\": true, \"linkText\": \"Export to plot.ly\"})});</script>"
      ],
      "text/vnd.plotly.v1+html": [
       "<div id=\"c73a3d12-e08a-42a6-8255-d44f842f746c\" style=\"height: 525px; width: 100%;\" class=\"plotly-graph-div\"></div><script type=\"text/javascript\">require([\"plotly\"], function(Plotly) { window.PLOTLYENV=window.PLOTLYENV || {};window.PLOTLYENV.BASE_URL=\"https://plot.ly\";Plotly.newPlot(\"c73a3d12-e08a-42a6-8255-d44f842f746c\", [{\"type\": \"scatter\", \"x\": [0.035306685363058844], \"y\": [0.035306685363058844], \"name\": \"ABRUZZO\"}, {\"type\": \"scatter\", \"x\": [0.033347220693861486], \"y\": [0.033347220693861486], \"name\": \"BASILICATA\"}, {\"type\": \"scatter\", \"x\": [0.0490688904483862], \"y\": [0.0490688904483862], \"name\": \"CALABRIA\"}, {\"type\": \"scatter\", \"x\": [0.03631145120105714], \"y\": [0.03631145120105714], \"name\": \"CAMPANIA\"}, {\"type\": \"scatter\", \"x\": [0.031000132780460488], \"y\": [0.031000132780460488], \"name\": \"EMILIA-ROMAGNA\"}, {\"type\": \"scatter\", \"x\": [0.030251903357508613], \"y\": [0.030251903357508613], \"name\": \"LAZIO\"}, {\"type\": \"scatter\", \"x\": [0.03567453052183846], \"y\": [0.03567453052183846], \"name\": \"LIGURIA\"}, {\"type\": \"scatter\", \"x\": [0.033474060103526763], \"y\": [0.033474060103526763], \"name\": \"LOMBARDIA\"}, {\"type\": \"scatter\", \"x\": [0.035776042995968635], \"y\": [0.035776042995968635], \"name\": \"MARCHE\"}, {\"type\": \"scatter\", \"x\": [0.054182763147039244], \"y\": [0.054182763147039244], \"name\": \"MOLISE\"}, {\"type\": \"scatter\", \"x\": [0.034279728132143555], \"y\": [0.034279728132143555], \"name\": \"PIEMONTE\"}, {\"type\": \"scatter\", \"x\": [0.043774703162461424], \"y\": [0.043774703162461424], \"name\": \"PUGLIA\"}, {\"type\": \"scatter\", \"x\": [0.03503505189594829], \"y\": [0.03503505189594829], \"name\": \"TOSCANA\"}, {\"type\": \"scatter\", \"x\": [0.03092976108621179], \"y\": [0.03092976108621179], \"name\": \"UMBRIA\"}, {\"type\": \"scatter\", \"x\": [0.02840571139339139], \"y\": [0.02840571139339139], \"name\": \"VENETO\"}], {\"title\": \"Percentuale Costi per Riscossione Tributi\"}, {\"showLink\": true, \"linkText\": \"Export to plot.ly\"})});</script>"
      ]
     },
     "metadata": {},
     "output_type": "display_data"
    }
   ],
   "source": [
    "column = df_regione_spesa_perc['riscossione tributi']\n",
    "data = []\n",
    "for k,v in column.iteritems():\n",
    "    data.append(\n",
    "        go.Scatter(\n",
    "            x = [v],\n",
    "            y = [v],\n",
    "            name = k\n",
    "        )\n",
    "    )\n",
    "    \n",
    "layout = go.Layout(\n",
    "    title='Percentuale Costi per Riscossione Tributi',\n",
    ")\n",
    "    \n",
    "fig = go.Figure(layout=layout, data=data)\n",
    "py.iplot(fig)"
   ]
  },
  {
   "cell_type": "code",
   "execution_count": null,
   "metadata": {},
   "outputs": [],
   "source": []
  },
  {
   "cell_type": "code",
   "execution_count": null,
   "metadata": {},
   "outputs": [],
   "source": []
  }
 ],
 "metadata": {
  "kernelspec": {
   "display_name": "Python 3",
   "language": "python",
   "name": "python3"
  },
  "language_info": {
   "codemirror_mode": {
    "name": "ipython",
    "version": 3
   },
   "file_extension": ".py",
   "mimetype": "text/x-python",
   "name": "python",
   "nbconvert_exporter": "python",
   "pygments_lexer": "ipython3",
   "version": "3.6.4"
  }
 },
 "nbformat": 4,
 "nbformat_minor": 2
}
