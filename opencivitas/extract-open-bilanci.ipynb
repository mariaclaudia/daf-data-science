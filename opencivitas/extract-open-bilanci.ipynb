{
 "cells": [
  {
   "cell_type": "code",
   "execution_count": 360,
   "metadata": {},
   "outputs": [],
   "source": [
    "import urllib.request, json\n",
    "import numpy as np\n",
    "import pandas as pd\n",
    "import logging\n",
    "\n",
    "from random import randint\n",
    "from time import sleep"
   ]
  },
  {
   "cell_type": "code",
   "execution_count": 361,
   "metadata": {},
   "outputs": [],
   "source": [
    "# create logger\n",
    "logger = logging.getLogger('openbilanci-extractor')\n",
    "logger.setLevel(logging.DEBUG)\n",
    "\n",
    "# create console handler and set level to debug\n",
    "ch = logging.StreamHandler()\n",
    "ch.setLevel(logging.DEBUG)\n",
    "\n",
    "# create formatter\n",
    "formatter = logging.Formatter('%(asctime)s - %(name)s - %(levelname)s - %(message)s')\n",
    "\n",
    "# add formatter to ch\n",
    "ch.setFormatter(formatter)\n",
    "\n",
    "# add ch to logger\n",
    "logger.addHandler(ch)"
   ]
  },
  {
   "cell_type": "code",
   "execution_count": 418,
   "metadata": {},
   "outputs": [],
   "source": [
    "df_sose = pd.read_csv('./data/opencivitas-spesa-storica+dati-irpef.csv')"
   ]
  },
  {
   "cell_type": "code",
   "execution_count": 419,
   "metadata": {},
   "outputs": [
    {
     "data": {
      "text/plain": [
       "(26702, 98)"
      ]
     },
     "execution_count": 419,
     "metadata": {},
     "output_type": "execute_result"
    }
   ],
   "source": [
    "df_sose.shape"
   ]
  },
  {
   "cell_type": "code",
   "execution_count": 421,
   "metadata": {},
   "outputs": [
    {
     "data": {
      "text/plain": [
       "True"
      ]
     },
     "execution_count": 421,
     "metadata": {},
     "output_type": "execute_result"
    }
   ],
   "source": [
    "type('i') == str"
   ]
  },
  {
   "cell_type": "code",
   "execution_count": 336,
   "metadata": {},
   "outputs": [],
   "source": [
    "columns = ['COMUNE_CAT_COD','Denominazione Comune', 'ANNO', 'Sigla Provincia_y']"
   ]
  },
  {
   "cell_type": "code",
   "execution_count": 351,
   "metadata": {},
   "outputs": [],
   "source": [
    "d_types = ['entrate', 'spese']\n",
    "base_url = 'https://www.openbilanci.it/armonizzati/bilanci/%s-comune-%s/%s/dettaglio.json?year=2016&type=preventivo'"
   ]
  },
  {
   "cell_type": "code",
   "execution_count": 411,
   "metadata": {},
   "outputs": [
    {
     "name": "stdout",
     "output_type": "stream",
     "text": [
      "Automatic pdb calling has been turned OFF\n"
     ]
    }
   ],
   "source": [
    "i = 0"
   ]
  },
  {
   "cell_type": "code",
   "execution_count": 410,
   "metadata": {
    "scrolled": true
   },
   "outputs": [
    {
     "name": "stderr",
     "output_type": "stream",
     "text": [
      "2018-01-11 18:35:38,008 - openbilanci-extractor - INFO - extracting 26702 from opencivitas dataset\n",
      "2018-01-11 18:35:38,012 - openbilanci-extractor - INFO - processing url https://www.openbilanci.it/armonizzati/bilanci/abano-terme-comune-pd/entrate/dettaglio.json?year=2016&type=preventivo\n",
      "2018-01-11 18:35:38,641 - openbilanci-extractor - INFO - saved data into ./data/bilanci/A001_abano-terme.json\n"
     ]
    }
   ],
   "source": [
    "df_filter = df_sose[columns]\n",
    "\n",
    "logger.info('extracting %d from opencivitas dataset' % df_sose.shape[0])\n",
    "for r in df_filter.values:\n",
    "    cod, city, year, province = r\n",
    "    if city is not 'Nan':\n",
    "        city = city.lower().replace(' ', '-')\n",
    "        province = province.lower()\n",
    "        city_url = base_url  % (city, province, d_types[0])\n",
    "        \n",
    "        filename = './data/bilanci/%s_%s.json' % (cod, city)\n",
    "        \n",
    "        try:\n",
    "            sleep(randint(1,20))\n",
    "            i +=1\n",
    "            logger.info('processing url %s', city_url)\n",
    "            with urllib.request.urlopen(city_url) as url:\n",
    "                data = json.loads(url.read().decode())\n",
    "                \n",
    "                with open(filename, 'w') as o:\n",
    "                    json.dump(data, o)\n",
    "                    \n",
    "                    logger.info('saved data into %s' % filename)\n",
    "                \n",
    "        except Exception as ex:\n",
    "            logger.error('error %s for url %s' % (ex, city_url))"
   ]
  },
  {
   "cell_type": "code",
   "execution_count": null,
   "metadata": {},
   "outputs": [],
   "source": [
    "logger.info(\"finished extraction for %d urls\" % i)"
   ]
  }
 ],
 "metadata": {
  "kernelspec": {
   "display_name": "Python 3",
   "language": "python",
   "name": "python3"
  },
  "language_info": {
   "codemirror_mode": {
    "name": "ipython",
    "version": 3
   },
   "file_extension": ".py",
   "mimetype": "text/x-python",
   "name": "python",
   "nbconvert_exporter": "python",
   "pygments_lexer": "ipython3",
   "version": "3.6.4"
  }
 },
 "nbformat": 4,
 "nbformat_minor": 2
}
